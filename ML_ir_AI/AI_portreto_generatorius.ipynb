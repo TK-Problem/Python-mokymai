{
  "nbformat": 4,
  "nbformat_minor": 0,
  "metadata": {
    "colab": {
      "provenance": [],
      "include_colab_link": true
    },
    "kernelspec": {
      "name": "python3",
      "display_name": "Python 3"
    },
    "language_info": {
      "name": "python"
    },
    "accelerator": "GPU",
    "gpuClass": "standard"
  },
  "cells": [
    {
      "cell_type": "markdown",
      "metadata": {
        "id": "view-in-github",
        "colab_type": "text"
      },
      "source": [
        "<a href=\"https://colab.research.google.com/github/TK-Problem/Python-mokymai/blob/master/ML_ir_AI/AI_portreto_generatorius.ipynb\" target=\"_parent\"><img src=\"https://colab.research.google.com/assets/colab-badge.svg\" alt=\"Open In Colab\"/></a>"
      ]
    },
    {
      "cell_type": "markdown",
      "source": [
        "# Dreambooth AI sugeneruoto portreto projektas\n",
        "\n",
        "Šis projektas buvo adaptuotas pagal buildspace [AI Avatar project](https://buildspace.so/builds/ai-avatar) . Rekomenduoju užsiregistruoti ir savarankiškai pereiti per šį projektą. Tai padaryti galite nukeliavę į šią [nuorodą](https://buildspace.so/p/build-ai-avatars).\n",
        "\n",
        "Builspace sugeneravo šį google colab norebook'ą iš kito projekto [Dreambooth diffusers by Shivam Shrirao](https://github.com/ShivamShrirao/diffusers/tree/main/examples/dreambooth).  Apache-2.0 license observed."
      ],
      "metadata": {
        "id": "T0Jm_ptTzpi1"
      }
    },
    {
      "cell_type": "markdown",
      "source": [
        "# I. žingsnis - Prisijungti prie virtulios mašinos\n",
        "\n",
        "Šis projektas skirtas leisti ant google nemokamai prieinamų grafinių kortų (GPU). Pasitikrinkite per `Edit` -> `Notebook settings`, kad yra pasirinkta GPU.\n",
        "\n",
        "\n",
        "![image info](https://media.springernature.com/lw685/springer-static/image/chp%3A10.1007%2F978-1-4842-4470-8_7/MediaObjects/463852_1_En_7_Fig4_HTML.jpg)\n",
        "\n"
      ],
      "metadata": {
        "id": "vvJfGNtp0YYI"
      }
    },
    {
      "cell_type": "code",
      "execution_count": null,
      "metadata": {
        "cellView": "form",
        "id": "C4NhIiScyC9G"
      },
      "outputs": [],
      "source": [
        "#@markdown Ši kodo eilutė yra skirta paordyti, kokią grafinę kortą ir kiek laisvų RAM skyrė google\n",
        "!nvidia-smi --query-gpu=name,memory.total,memory.free --format=csv,noheader"
      ]
    },
    {
      "cell_type": "markdown",
      "source": [
        "# II. žingsnis - Įrašyti bibliotekas\n",
        "Žemiau esantis kodo blokas yra skirtas įrašyti Python bibliotekoms į virtualią aplinką."
      ],
      "metadata": {
        "id": "9o9SIPfU5XOQ"
      }
    },
    {
      "cell_type": "code",
      "source": [
        "!wget -q https://raw.githubusercontent.com/buildspace/diffusers/main/examples/dreambooth/train_dreambooth.py\n",
        "!wget -q https://github.com/ShivamShrirao/diffusers/raw/main/scripts/convert_diffusers_to_original_stable_diffusion.py\n",
        "%pip install -qq git+https://github.com/ShivamShrirao/diffusers\n",
        "%pip install -q -U --pre triton\n",
        "%pip install -q accelerate==0.15.0 transformers ftfy bitsandbytes==0.35.0 gradio natsort"
      ],
      "metadata": {
        "id": "SrjRheQo6nRr"
      },
      "execution_count": null,
      "outputs": []
    },
    {
      "cell_type": "markdown",
      "source": [
        "# III. žingsnis - Prisijungti prie HuggingFace 🤗\n",
        "\n",
        "Reikia susikurti paskyrą HuggingFace, kad galima būtų iš atsisiųsti `Stable Diffusion` paruoštą modelį. Nueikit į [HuggingFace](huggingface.co?ref=buildspace) ir susikurkite nemokamą paskyrą.\n",
        "\n",
        "Kai susikurtsite paskyrą, reikia susigeneruoti `write` žetoną [tokens](https://huggingface.co/settings/tokens) puslapį.\n",
        "\n",
        "![token create](https://hackmd.io/_uploads/BJ1wdTNqi.png)\n",
        "\n",
        "Šiam projekte naudojame `Stable Diffusion v1.5` sukurtą `Runway`, jo licenziją galite peržiūrėti čia [modelio aprašymas](https://huggingface.co/runwayml/stable-diffusion-v1-5)."
      ],
      "metadata": {
        "id": "R9fqlqdQ-C51"
      }
    },
    {
      "cell_type": "code",
      "source": [
        "!mkdir -p ~/.huggingface\n",
        "HUGGINGFACE_TOKEN = \"hf_xxxxxxxxxxxxxxxxxxxxxxxxxxxxxxxxxxxxxxxxxxxxxxxxx\" #@param {type:\"string\"}\n",
        "!echo -n \"{HUGGINGFACE_TOKEN}\" > ~/.huggingface/token"
      ],
      "metadata": {
        "cellView": "form",
        "id": "uzAOe_B7-IIz"
      },
      "execution_count": null,
      "outputs": []
    },
    {
      "cell_type": "markdown",
      "source": [
        "# IV. žingsnis - įsirašyti xformers sukompiliuota biblioteka\n",
        "xformers yra papildoma biblioteka, kurios reikia dirbant su kalbos interpretavimu ir teksto clasifikavimu."
      ],
      "metadata": {
        "id": "pAwWY7-yEale"
      }
    },
    {
      "cell_type": "code",
      "source": [
        "%pip install -q https://github.com/brian6091/xformers-wheels/releases/download/0.0.15.dev0%2B4c06c79/xformers-0.0.15.dev0+4c06c79.d20221205-cp38-cp38-linux_x86_64.whl\n",
        "# šis kodas buvo sukompiliuotas ant Tesla T4.\n",
        "\n",
        "# jei Jums kodas neveikia, tuomet nuimkite komentarus nuo žemiau esančios eilutės\n",
        "# (CTRL + /) ir įrašykite nekompiliuotą modelį modelį (gali užtrukti kokias 40 min)\n",
        "# %pip install git+https://github.com/facebookresearch/xformers@4c06c79#egg=xformers"
      ],
      "metadata": {
        "id": "Ub3wPFASEl_5"
      },
      "execution_count": null,
      "outputs": []
    }
  ]
}