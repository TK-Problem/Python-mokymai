{
  "nbformat": 4,
  "nbformat_minor": 0,
  "metadata": {
    "colab": {
      "provenance": [],
      "include_colab_link": true
    },
    "kernelspec": {
      "name": "python3",
      "display_name": "Python 3"
    },
    "language_info": {
      "name": "python"
    }
  },
  "cells": [
    {
      "cell_type": "markdown",
      "metadata": {
        "id": "view-in-github",
        "colab_type": "text"
      },
      "source": [
        "<a href=\"https://colab.research.google.com/github/TK-Problem/Python-mokymai/blob/master/Python-pagrindai/atsakymai_00.ipynb\" target=\"_parent\"><img src=\"https://colab.research.google.com/assets/colab-badge.svg\" alt=\"Open In Colab\"/></a>"
      ]
    },
    {
      "cell_type": "markdown",
      "source": [
        "# **Pamoka 1**"
      ],
      "metadata": {
        "id": "Dm-mlXSolHnN"
      }
    },
    {
      "cell_type": "markdown",
      "source": [
        "## Užduotis 2.1\n",
        "\n",
        "Sukurti tekstinį kintamąjį/kintamuosius panaudojant Jūsų vardą ir pavardę.\n",
        "\n",
        "*Pateikiu du atsakymo variantus.*"
      ],
      "metadata": {
        "id": "hnBedyZ6lOgS"
      }
    },
    {
      "cell_type": "code",
      "execution_count": 1,
      "metadata": {
        "id": "S_aLDbtpxwBR"
      },
      "outputs": [],
      "source": [
        "# variantas 1\n",
        "vardas = \"Vardas\"\n",
        "pavarde = \"Pavardė\""
      ]
    },
    {
      "cell_type": "code",
      "source": [
        "# variantas 2\n",
        "name = \"Vardas Pavardė\""
      ],
      "metadata": {
        "id": "frEYmOsJlfAX"
      },
      "execution_count": 2,
      "outputs": []
    },
    {
      "cell_type": "markdown",
      "source": [
        "## Užduotis 2.2\n",
        "\n",
        "Naudojant `print()` funkciją atspausdinti paskutines 5 kintamojo `txt` simbolius."
      ],
      "metadata": {
        "id": "zdHfDXR2llvJ"
      }
    },
    {
      "cell_type": "code",
      "source": [
        "# atspausdinti šito kintamojo paskutinias 5 raides\n",
        "txt = \"ABCD 1234 EDCBA\"\n",
        "\n",
        "# variantas 1\n",
        "txt = txt[-5:]\n",
        "print(txt)"
      ],
      "metadata": {
        "colab": {
          "base_uri": "https://localhost:8080/"
        },
        "id": "rN_ze6itljc_",
        "outputId": "9ed93359-3230-4146-db32-c9de29002279"
      },
      "execution_count": 3,
      "outputs": [
        {
          "output_type": "stream",
          "name": "stdout",
          "text": [
            "EDCBA\n"
          ]
        }
      ]
    },
    {
      "cell_type": "code",
      "source": [
        "# atspausdinti šito kintamojo paskutinias 5 raides\n",
        "txt = \"ABCD 1234 EDCBA\"\n",
        "\n",
        "# variantas 2\n",
        "print(txt[-5:])"
      ],
      "metadata": {
        "colab": {
          "base_uri": "https://localhost:8080/"
        },
        "id": "g0FaUkW3ltam",
        "outputId": "dcfaf2ec-1eba-4bd4-a2f4-9716d621ac21"
      },
      "execution_count": 4,
      "outputs": [
        {
          "output_type": "stream",
          "name": "stdout",
          "text": [
            "EDCBA\n"
          ]
        }
      ]
    },
    {
      "cell_type": "markdown",
      "source": [
        "## Užduotis 2.3\n",
        "\n",
        "Naudojant `print()` funkciją atspausdinti abu kintamuosius. Pirmas kintamasis turi būti tik iš mažųjų raidžių, o antras iš didžiųjų.\n",
        "\n",
        "Atsakymo pavyzdys:\n",
        "\n",
        "`\"petras PETRAITIS\"`"
      ],
      "metadata": {
        "id": "DUSMgwzhlzg4"
      }
    },
    {
      "cell_type": "code",
      "source": [
        "t_1 = 'pEtras'\n",
        "t_2 = 'PETraTIs'\n",
        "\n",
        "# variantas 1\n",
        "print(t_1.lower(), t_2.upper())"
      ],
      "metadata": {
        "colab": {
          "base_uri": "https://localhost:8080/"
        },
        "id": "rIzPx8FglxXA",
        "outputId": "6afacb4e-5b8f-4010-b7b7-fb3d6ab17291"
      },
      "execution_count": 5,
      "outputs": [
        {
          "output_type": "stream",
          "name": "stdout",
          "text": [
            "petras PETRATIS\n"
          ]
        }
      ]
    },
    {
      "cell_type": "code",
      "source": [
        "t_1 = 'pEtras'\n",
        "t_2 = 'PETraTIs'\n",
        "\n",
        "# variantas 2\n",
        "ans = t_1.lower() + \" \" + t_2.upper()\n",
        "print(ans)"
      ],
      "metadata": {
        "colab": {
          "base_uri": "https://localhost:8080/"
        },
        "id": "HZcUt-E3l_PA",
        "outputId": "ec00ad7a-81ef-49c1-f06c-c35dc37e5072"
      },
      "execution_count": 6,
      "outputs": [
        {
          "output_type": "stream",
          "name": "stdout",
          "text": [
            "petras PETRATIS\n"
          ]
        }
      ]
    },
    {
      "cell_type": "markdown",
      "source": [
        "## Užduotis 2.4\n",
        "\n",
        "**(sudėtingesnė)** rasti internete metodą, kuris žodžių pirmas raides paverstų didžiosiomis. Pritaikyti rastą metodą ant `txt` kintamojo.\n",
        "\n",
        "Atsakymo pavyzdys:\n",
        "\n",
        "`\"Jonas Jonaitas\"`"
      ],
      "metadata": {
        "id": "rgZQBUV6mH6-"
      }
    },
    {
      "cell_type": "code",
      "source": [
        "txt = \"JONAS jonaitis\"\n",
        "# variantas 1\n",
        "print(txt.title())"
      ],
      "metadata": {
        "colab": {
          "base_uri": "https://localhost:8080/"
        },
        "id": "sDRxO45jlxZp",
        "outputId": "1eaf399d-020a-470b-9703-903b55ab7f0b"
      },
      "execution_count": 7,
      "outputs": [
        {
          "output_type": "stream",
          "name": "stdout",
          "text": [
            "Jonas Jonaitis\n"
          ]
        }
      ]
    },
    {
      "cell_type": "code",
      "source": [
        "txt = \"JONAS jonaitis\"\n",
        "# variantas 2\n",
        "print(txt[0] + txt[1:6].lower() + txt[6].upper() + txt[7:])"
      ],
      "metadata": {
        "colab": {
          "base_uri": "https://localhost:8080/"
        },
        "id": "TfwneVTzmQ53",
        "outputId": "5a971638-6052-428e-e146-1a83b349e747"
      },
      "execution_count": 8,
      "outputs": [
        {
          "output_type": "stream",
          "name": "stdout",
          "text": [
            "Jonas Jonaitis\n"
          ]
        }
      ]
    },
    {
      "cell_type": "markdown",
      "source": [
        "## Užduotis 3.1\n",
        "\n",
        "Lietuvoje 2021 buvo suskaičiuoti 2784279 gyventojai. Lietuvos Respublikos plotas yra 65300 km^2.\n",
        "\n",
        "Kiek vidutiniškai yra gyventojų vienam kvadratiniame kilometre?"
      ],
      "metadata": {
        "id": "YRNRTui7o-5y"
      }
    },
    {
      "cell_type": "code",
      "source": [
        "# duomenys (nekeisti)\n",
        "gyv_skaicius = 2784279\n",
        "plotas = 65300\n",
        "\n",
        "# įvesti savo formulę, vieta Jūsų kodui\n",
        "tankis = gyv_skaicius / plotas\n",
        "\n",
        "# suapvalinkite savo rezutaltą iki šimtųjų\n",
        "tankis = round(tankis, 2)\n",
        "\n",
        "# atspausdina atsakymą (šitos eilutės nekeisti)\n",
        "print(f'Lietuvoje yra {tankis} žm./km^2')"
      ],
      "metadata": {
        "colab": {
          "base_uri": "https://localhost:8080/"
        },
        "id": "PabXdAlTmYYf",
        "outputId": "2acec3fc-306c-4483-a4c7-e92ea4df3e02"
      },
      "execution_count": 9,
      "outputs": [
        {
          "output_type": "stream",
          "name": "stdout",
          "text": [
            "Lietuvoje yra 42.64 žm./km^2\n"
          ]
        }
      ]
    },
    {
      "cell_type": "code",
      "source": [
        "# duomenys (nekeisti)\n",
        "gyv_skaicius = 2784279\n",
        "plotas = 65300\n",
        "\n",
        "# variantas 2 tik trumpiau\n",
        "\n",
        "# atspausdina atsakymą (šitos eilutės nekeisti)\n",
        "print(f'Lietuvoje yra {round(gyv_skaicius / plotas, 2)} žm./km^2')"
      ],
      "metadata": {
        "colab": {
          "base_uri": "https://localhost:8080/"
        },
        "id": "e3TdKD2ipG2C",
        "outputId": "44402ba7-7902-41ea-8168-88429a2a7e34"
      },
      "execution_count": 10,
      "outputs": [
        {
          "output_type": "stream",
          "name": "stdout",
          "text": [
            "Lietuvoje yra 42.64 žm./km^2\n"
          ]
        }
      ]
    },
    {
      "cell_type": "markdown",
      "source": [
        "## Užduotis 3.2\n",
        "\n",
        "Autobuse telpa 87 žmonės. Tačiau važiuoti norinčių yra 93. Naudodami liekanos operatorių, apskaičiuokite, kiek žmonių netilps?"
      ],
      "metadata": {
        "id": "Qak5bvqipUzA"
      }
    },
    {
      "cell_type": "code",
      "source": [
        "# vieta Jūsų kodui, su ALT + ENTER galite daugiau eilučių susikurti\n",
        "ans = 93 % 87\n",
        "ans"
      ],
      "metadata": {
        "colab": {
          "base_uri": "https://localhost:8080/"
        },
        "id": "aW5iJeNCpVlC",
        "outputId": "115528d5-ecac-465d-cb62-6e52b21bf6b4"
      },
      "execution_count": 11,
      "outputs": [
        {
          "output_type": "execute_result",
          "data": {
            "text/plain": [
              "6"
            ]
          },
          "metadata": {},
          "execution_count": 11
        }
      ]
    },
    {
      "cell_type": "markdown",
      "source": [
        "## Užduotis 3.3\n",
        "\n",
        "Bėgimas truko 12345 sekundes. Kiek šis bėgimas truko minutėmis, valandomis ir dienomis? Atsakymus suapvalinkite iki dešimčių."
      ],
      "metadata": {
        "id": "FoRxF2hTqSfv"
      }
    },
    {
      "cell_type": "code",
      "source": [
        "begimo_trukme_sec = 12345\n",
        "\n",
        "# vieta Jūsų kodui\n",
        "begimo_trukme_minutemis = begimo_trukme_sec / 60\n",
        "begimo_trukme_valandomis = begimo_trukme_minutemis / 60\n",
        "begimo_trukme_dienomis = begimo_trukme_valandomis / 24\n",
        "\n",
        "# suapvalinkite atsakimus iki 10-tųjų\n",
        "begimo_trukme_minutemis = round(begimo_trukme_minutemis, 1)\n",
        "begimo_trukme_valandomis = round(begimo_trukme_valandomis, 1)\n",
        "begimo_trukme_dienomis = round(begimo_trukme_dienomis, 1)\n",
        "\n",
        "# nekeisti žemiau esančio kodo\n",
        "print('Bėgimas truko:')\n",
        "print(f\"{begimo_trukme_minutemis} minutes.\")\n",
        "print(f\"{begimo_trukme_valandomis} valandas\")\n",
        "print(f\"{begimo_trukme_dienomis} dienos\")"
      ],
      "metadata": {
        "colab": {
          "base_uri": "https://localhost:8080/"
        },
        "id": "rBdadmMbqTbw",
        "outputId": "4210a03e-0fe5-4608-8d20-9f74f753869f"
      },
      "execution_count": 12,
      "outputs": [
        {
          "output_type": "stream",
          "name": "stdout",
          "text": [
            "Bėgimas truko:\n",
            "205.8 minutes.\n",
            "3.4 valandas\n",
            "0.1 dienos\n"
          ]
        }
      ]
    },
    {
      "cell_type": "code",
      "source": [
        "begimo_trukme_sec = 12345\n",
        "\n",
        "# vieta Jūsų kodui\n",
        "begimo_trukme_minutemis = begimo_trukme_sec / 60\n",
        "begimo_trukme_valandomis = begimo_trukme_minutemis / 60\n",
        "begimo_trukme_dienomis = begimo_trukme_valandomis / 24\n",
        "\n",
        "# alternatyvus atsakymas naudojant teoriją iš pirmos pamokos galo\n",
        "print('Bėgimas truko:')\n",
        "print(f\"{begimo_trukme_minutemis:.1f} minutes.\")\n",
        "print(f\"{begimo_trukme_valandomis:.1f} valandas\")\n",
        "print(f\"{begimo_trukme_dienomis:.1f} dienos\")"
      ],
      "metadata": {
        "colab": {
          "base_uri": "https://localhost:8080/"
        },
        "id": "HV4_8TUSAfvD",
        "outputId": "85d54206-ea47-4e35-c337-33b30d022e62"
      },
      "execution_count": 13,
      "outputs": [
        {
          "output_type": "stream",
          "name": "stdout",
          "text": [
            "Bėgimas truko:\n",
            "205.8 minutes.\n",
            "3.4 valandas\n",
            "0.1 dienos\n"
          ]
        }
      ]
    },
    {
      "cell_type": "markdown",
      "source": [
        "## Užduotis 4.1\n",
        "\n",
        "Atsakykite į klausimą naudodamiesi `boolean` operatoriumi - ar sakinyje `Meška paslydo` yra žodis `meška`?"
      ],
      "metadata": {
        "id": "bfy9VrH60QEP"
      }
    },
    {
      "cell_type": "code",
      "source": [
        "# nekeist kintamojo vertės\n",
        "sakinys = \"Meška paslydo\"\n",
        "\n",
        "# vieta Jūsų kodui\n",
        "atsakymas = 'meška' in sakinys\n",
        "\n",
        "# atspausdina atsakymą\n",
        "print(atsakymas)"
      ],
      "metadata": {
        "colab": {
          "base_uri": "https://localhost:8080/"
        },
        "id": "z4CQR6tpqR8n",
        "outputId": "0ebe7c6f-feff-4424-d05c-2feaf54aac94"
      },
      "execution_count": 14,
      "outputs": [
        {
          "output_type": "stream",
          "name": "stdout",
          "text": [
            "False\n"
          ]
        }
      ]
    },
    {
      "cell_type": "markdown",
      "source": [
        "## Užduotis 4.2\n",
        "\n",
        "Atsakykite į klausimą naudodamiesi `boolean` operatoriumi - ar `Onutės` yra lygus `onutė`?"
      ],
      "metadata": {
        "id": "4HNFtSrB0Y8g"
      }
    },
    {
      "cell_type": "code",
      "source": [
        "# nekeist kintamųjų verčių\n",
        "vardas_1 = 'Onutė'\n",
        "vardas_2 = 'onuTė'\n",
        "\n",
        "# Jūsų atsakymas su boolean operatoriumi\n",
        "vardas_1 == vardas_2"
      ],
      "metadata": {
        "colab": {
          "base_uri": "https://localhost:8080/"
        },
        "id": "BxjNeG_w0c7f",
        "outputId": "b395f7ad-f412-4a6f-ffed-9ec2d899e493"
      },
      "execution_count": 15,
      "outputs": [
        {
          "output_type": "execute_result",
          "data": {
            "text/plain": [
              "False"
            ]
          },
          "metadata": {},
          "execution_count": 15
        }
      ]
    },
    {
      "cell_type": "markdown",
      "source": [
        "## Užduotis 5.1\n",
        "\n",
        "Sukurkite 3 kintamuosius:\n",
        "\n",
        "* `vardas`\n",
        "* `pavarde`\n",
        "* `sakinys`, šis kintamasis turi panaudoti auksčiau esančius kintamuosius.\n",
        "\n",
        "Atspausdinkite `sakinys` kintamąjį tokio tipo:\n",
        "\n",
        "`\"Mano vardas X, o pavardė Y. Manolu susipažinti!\"`, kur `X` ir `Y` turi būti panaudoti kintamieji `vardas` ir `pavarde`."
      ],
      "metadata": {
        "id": "GWees15w0iF5"
      }
    },
    {
      "cell_type": "code",
      "source": [
        "# vieta Jūsų kodui\n",
        "X = \"Jonas\"\n",
        "Y = \"Jonaitis\"\n",
        "sakinys = f\"Mano vardas {X}, o pavardė {Y}. Manolu susipažinti!\"\n",
        "\n",
        "print(sakinys)"
      ],
      "metadata": {
        "colab": {
          "base_uri": "https://localhost:8080/"
        },
        "id": "KlNtblLdpVnu",
        "outputId": "f514e5da-8e78-428f-f116-8548f05a0881"
      },
      "execution_count": 16,
      "outputs": [
        {
          "output_type": "stream",
          "name": "stdout",
          "text": [
            "Mano vardas Jonas, o pavardė Jonaitis. Manolu susipažinti!\n"
          ]
        }
      ]
    },
    {
      "cell_type": "markdown",
      "source": [
        "## Užduotis 5.2\n",
        "\n",
        "Atvaizduokite matematines funkcijas.\n",
        "\n",
        "Atsakymo pavyzdys:\n",
        "\n",
        "```\n",
        "a = 15\n",
        "b = -3.5\n",
        "\n",
        "# vieta Jūsų kodui\n",
        "\n",
        "print(sandauga)\n",
        ">> a x b = -52.5 \n",
        "print(dalyba)\n",
        ">> a / b = -4.29 \n",
        "```"
      ],
      "metadata": {
        "id": "EzYqsiTK08W5"
      }
    },
    {
      "cell_type": "code",
      "source": [
        "# kintamieji (galite keisti)\n",
        "a = 15\n",
        "b = -3.5\n",
        "\n",
        "# pirmas variantas\n",
        "\n",
        "# pakeisti, kad atsapusdintų atsakymą a x b = atsakymas\n",
        "sandauga = f\"a x b = {a * b}\"\n",
        "# pakeisti, kad atsapusdintų atsakymą a / b = atsakymas\n",
        "dalyba = f'a / b = {a / b}'\n",
        "\n",
        "# atspaudinti atsakymus\n",
        "print(sandauga)\n",
        "print(dalyba)"
      ],
      "metadata": {
        "colab": {
          "base_uri": "https://localhost:8080/"
        },
        "id": "W8_EuFpE055-",
        "outputId": "e928e5a9-73f7-4b83-9af0-aebd61f46f5e"
      },
      "execution_count": 17,
      "outputs": [
        {
          "output_type": "stream",
          "name": "stdout",
          "text": [
            "a x b = -52.5\n",
            "a / b = -4.285714285714286\n"
          ]
        }
      ]
    },
    {
      "cell_type": "code",
      "source": [
        "# kintamieji (galite keisti)\n",
        "a = 15\n",
        "b = -3.5\n",
        "\n",
        "# variantas 2, suapvalina rezultatą iki šimtųjų\n",
        "\n",
        "# pakeisti, kad atsapusdintų atsakymą a x b = atsakymas\n",
        "sandauga = f\"a x b = {a * b:.2f}\"\n",
        "# pakeisti, kad atsapusdintų atsakymą a / b = atsakymas\n",
        "dalyba = f'a / b = {a / b:.2f}'\n",
        "\n",
        "# atspaudinti atsakymus\n",
        "print(sandauga)\n",
        "print(dalyba)"
      ],
      "metadata": {
        "colab": {
          "base_uri": "https://localhost:8080/"
        },
        "id": "CX8N0VgN1IhG",
        "outputId": "03eff49c-2236-4bc3-9ddd-86220288ae3e"
      },
      "execution_count": 18,
      "outputs": [
        {
          "output_type": "stream",
          "name": "stdout",
          "text": [
            "a x b = -52.50\n",
            "a / b = -4.29\n"
          ]
        }
      ]
    },
    {
      "cell_type": "markdown",
      "source": [
        "# **Pamoka 2**"
      ],
      "metadata": {
        "id": "qgQ2gS8Vp7t_"
      }
    },
    {
      "cell_type": "code",
      "source": [],
      "metadata": {
        "id": "kdhRIkG81VcA"
      },
      "execution_count": 18,
      "outputs": []
    },
    {
      "cell_type": "markdown",
      "source": [
        "# **Pamoka 3**"
      ],
      "metadata": {
        "id": "zNL5XLd3HW0a"
      }
    },
    {
      "cell_type": "markdown",
      "source": [
        "## Užduotis 1.1\n",
        "\n",
        "Sukurti loginį testą, kuris atspausdintų atsakymą:\n",
        "\n",
        "* `žaidėjas 1 rastas sąraše`\n",
        "* `žaidėjas 2 nerastas sąraše`"
      ],
      "metadata": {
        "id": "-f2CAkUlJw2l"
      }
    },
    {
      "cell_type": "code",
      "source": [
        "# sąrašas žaidėjų, nekeisti\n",
        "zaidejai = [\"žaidėjas 1\", \"žaidėjas 3\", \"žaidėjas 5\", \"žaidėjas 1\"]\n",
        "\n",
        "# vieta Jūsų kodui\n",
        "zaidejas = \"žaidėjas 1\"\n",
        "\n",
        "if zaidejas in zaidejai:\n",
        "  print(f\"{zaidejas} rastas sąrašė\")\n",
        "else:\n",
        "  print(f\"{zaidejas} nerastas sąrašė\")"
      ],
      "metadata": {
        "id": "Qn-ULDWZHYR2",
        "outputId": "23894ddf-c02f-4c40-f7ab-8f0d29fcab0b",
        "colab": {
          "base_uri": "https://localhost:8080/"
        }
      },
      "execution_count": 19,
      "outputs": [
        {
          "output_type": "stream",
          "name": "stdout",
          "text": [
            "žaidėjas 1 rastas sąrašė\n"
          ]
        }
      ]
    },
    {
      "cell_type": "markdown",
      "source": [
        "## Užduotis 1.2\n",
        "\n",
        "Pridėti logines sąlygas, kurios leistų atsakyti atsakytų gavusios:\n",
        "\n",
        "`a = 1`, tuomet atspausdins:\n",
        "\n",
        "* `Daugiau už -5`\n",
        "* `Bet mažiau už 10`\n",
        "\n",
        "`a = 15`, tuomet atspausdins:\n",
        "\n",
        "* `Daugiau už -5`\n",
        "* `Ir daugiau už 10`\n",
        "\n",
        "`a = 10`, tuomet atspausdins:\n",
        "\n",
        "* `Daugiau už -5`\n",
        "* `Ir lygu 10`\n",
        "\n",
        "`a = -2`, tuomet atspausdins:\n",
        "\n",
        "* `Mažiau arba lygu už -5 ir daugiau arba lygu už -20`\n",
        "\n",
        "`a = -25`, tuomet atspausdins:\n",
        "\n",
        "* `Mažiau arba lygu -20`"
      ],
      "metadata": {
        "id": "htLSSUBUJ1xi"
      }
    },
    {
      "cell_type": "code",
      "source": [
        "# galima pakeisti kinamojo vertę\n",
        "a = -20\n",
        "\n",
        "# tarp print funcijų pridėti if else sąlygas\n",
        "if a > -5:\n",
        "  print(\"Daugiau už -5\")\n",
        "  if a < 10:\n",
        "    print(\"Bet mažiau už 10\")\n",
        "  elif a > 10:\n",
        "    print(\"Ir daugiau už 10\")\n",
        "  else:\n",
        "    print('Ir lygu 10')\n",
        "elif a >= -20:\n",
        "  print(\"Mažiau arba lygu už -5 ir daugiau arba lygu už -20\")\n",
        "else:\n",
        "  print(\"Mažiau už -20\")"
      ],
      "metadata": {
        "id": "e7nJvrkZJ2MM",
        "outputId": "376e61fd-b065-4f69-c6df-fc580e03d8d2",
        "colab": {
          "base_uri": "https://localhost:8080/"
        }
      },
      "execution_count": 20,
      "outputs": [
        {
          "output_type": "stream",
          "name": "stdout",
          "text": [
            "Mažiau arba lygu už -5 ir daugiau arba lygu už -20\n"
          ]
        }
      ]
    },
    {
      "cell_type": "code",
      "source": [],
      "metadata": {
        "id": "mSvQ4-YfLWXQ"
      },
      "execution_count": 20,
      "outputs": []
    }
  ]
}