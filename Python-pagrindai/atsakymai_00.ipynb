{
  "nbformat": 4,
  "nbformat_minor": 0,
  "metadata": {
    "colab": {
      "provenance": [],
      "include_colab_link": true
    },
    "kernelspec": {
      "name": "python3",
      "display_name": "Python 3"
    },
    "language_info": {
      "name": "python"
    }
  },
  "cells": [
    {
      "cell_type": "markdown",
      "metadata": {
        "id": "view-in-github",
        "colab_type": "text"
      },
      "source": [
        "<a href=\"https://colab.research.google.com/github/TK-Problem/Python-mokymai/blob/master/Python-pagrindai/atsakymai_00.ipynb\" target=\"_parent\"><img src=\"https://colab.research.google.com/assets/colab-badge.svg\" alt=\"Open In Colab\"/></a>"
      ]
    },
    {
      "cell_type": "markdown",
      "source": [
        "# **Pamoka 1**"
      ],
      "metadata": {
        "id": "Dm-mlXSolHnN"
      }
    },
    {
      "cell_type": "markdown",
      "source": [
        "## Užduotis 2.1\n",
        "\n",
        "Sukurti tekstinį kintamąjį Jūsų vardas ir pavardė"
      ],
      "metadata": {
        "id": "hnBedyZ6lOgS"
      }
    },
    {
      "cell_type": "code",
      "execution_count": 1,
      "metadata": {
        "id": "S_aLDbtpxwBR"
      },
      "outputs": [],
      "source": [
        "# variantas 1\n",
        "vardas = \"Vardas\"\n",
        "pavarde = \"Pavardė\""
      ]
    },
    {
      "cell_type": "code",
      "source": [
        "# variantas 2\n",
        "name = \"Vardas Pavardė\""
      ],
      "metadata": {
        "id": "frEYmOsJlfAX"
      },
      "execution_count": 2,
      "outputs": []
    },
    {
      "cell_type": "markdown",
      "source": [
        "## Užduotis 2.2\n",
        "\n",
        "Atspausdinti (nautoti print() funkciją) paskutinias 5 raides"
      ],
      "metadata": {
        "id": "zdHfDXR2llvJ"
      }
    },
    {
      "cell_type": "code",
      "source": [
        "# atspausdinti šito kintamojo paskutinias 5 raides\n",
        "txt = \"ABCD 1234 EDCBA\"\n",
        "\n",
        "# variantas 1\n",
        "txt = txt[-5:]\n",
        "print(txt)"
      ],
      "metadata": {
        "colab": {
          "base_uri": "https://localhost:8080/"
        },
        "id": "rN_ze6itljc_",
        "outputId": "a2e2f865-477b-413a-c387-9c496f56f60f"
      },
      "execution_count": 3,
      "outputs": [
        {
          "output_type": "stream",
          "name": "stdout",
          "text": [
            "EDCBA\n"
          ]
        }
      ]
    },
    {
      "cell_type": "code",
      "source": [
        "# atspausdinti šito kintamojo paskutinias 5 raides\n",
        "txt = \"ABCD 1234 EDCBA\"\n",
        "\n",
        "# variantas 2\n",
        "print(txt[-5:])"
      ],
      "metadata": {
        "colab": {
          "base_uri": "https://localhost:8080/"
        },
        "id": "g0FaUkW3ltam",
        "outputId": "1395e8d4-08c1-4b22-a8c1-5a75c5e0ce6a"
      },
      "execution_count": 4,
      "outputs": [
        {
          "output_type": "stream",
          "name": "stdout",
          "text": [
            "EDCBA\n"
          ]
        }
      ]
    },
    {
      "cell_type": "markdown",
      "source": [
        "## Užduotis 2.3\n",
        "\n",
        "Atspausdinti abu kintamuosius su `print()` funciją. Pirmas kintamasis turi būti tik iš mažųjų raidžių, o antras iš didžiųjų. Atsakymas:\n",
        "\n",
        "`\"petras PETRAITIS\"`"
      ],
      "metadata": {
        "id": "DUSMgwzhlzg4"
      }
    },
    {
      "cell_type": "code",
      "source": [
        "t_1 = 'pEtras'\n",
        "t_2 = 'PETraTIs'\n",
        "\n",
        "# variantas 1\n",
        "print(t_1.lower(), t_2.upper())"
      ],
      "metadata": {
        "colab": {
          "base_uri": "https://localhost:8080/"
        },
        "id": "rIzPx8FglxXA",
        "outputId": "230679be-dcfb-409b-f10d-6f04e7bb5505"
      },
      "execution_count": 5,
      "outputs": [
        {
          "output_type": "stream",
          "name": "stdout",
          "text": [
            "petras PETRATIS\n"
          ]
        }
      ]
    },
    {
      "cell_type": "code",
      "source": [
        "t_1 = 'pEtras'\n",
        "t_2 = 'PETraTIs'\n",
        "\n",
        "# variantas 2\n",
        "ans = t_1.lower() + \" \" + t_2.upper()\n",
        "print(ans)"
      ],
      "metadata": {
        "colab": {
          "base_uri": "https://localhost:8080/"
        },
        "id": "HZcUt-E3l_PA",
        "outputId": "d4076a31-8b00-4586-8b80-d0649ae0c087"
      },
      "execution_count": 6,
      "outputs": [
        {
          "output_type": "stream",
          "name": "stdout",
          "text": [
            "petras PETRATIS\n"
          ]
        }
      ]
    },
    {
      "cell_type": "markdown",
      "source": [
        "## Užduotis 2.4\n",
        "\n",
        "**(sudėtingesnė)** rasti internete metodą, kuris žodžių pirmas raides paverstų didžiosionis. Atsakymas turi būti toks:\n",
        "\n",
        "`\"Jonas Jonaitas\"`"
      ],
      "metadata": {
        "id": "rgZQBUV6mH6-"
      }
    },
    {
      "cell_type": "code",
      "source": [
        "txt = \"JONAS jonaitis\"\n",
        "# variantas 1\n",
        "print(txt.title())"
      ],
      "metadata": {
        "colab": {
          "base_uri": "https://localhost:8080/"
        },
        "id": "sDRxO45jlxZp",
        "outputId": "751ade76-2ae2-4912-fde6-25c28f693e09"
      },
      "execution_count": 7,
      "outputs": [
        {
          "output_type": "stream",
          "name": "stdout",
          "text": [
            "Jonas Jonaitis\n"
          ]
        }
      ]
    },
    {
      "cell_type": "code",
      "source": [
        "txt = \"JONAS jonaitis\"\n",
        "# variantas 2\n",
        "print(txt[0] + txt[1:6].lower() + txt[6].upper() + txt[7:])"
      ],
      "metadata": {
        "colab": {
          "base_uri": "https://localhost:8080/"
        },
        "id": "TfwneVTzmQ53",
        "outputId": "8d90d2fa-c61c-4006-e71e-bc06288dddb5"
      },
      "execution_count": 8,
      "outputs": [
        {
          "output_type": "stream",
          "name": "stdout",
          "text": [
            "Jonas Jonaitis\n"
          ]
        }
      ]
    },
    {
      "cell_type": "markdown",
      "source": [
        "## Užduotis 3.1\n",
        "\n",
        "Lietuvoje 2021 buvo suskaičiuoti 2784279 gyventojai. Lietuvos plotas 65300 km^2.\n",
        "\n",
        "Kiek gyventojų yra vienam kvadratiniame kilometre?"
      ],
      "metadata": {
        "id": "YRNRTui7o-5y"
      }
    },
    {
      "cell_type": "code",
      "source": [
        "# duomenys (nekeisti)\n",
        "gyv_skaicius = 2784279\n",
        "plotas = 65300\n",
        "\n",
        "# įvesti savo formulę, vieta Jūsų kodui\n",
        "tankis = gyv_skaicius / plotas\n",
        "\n",
        "# suapvalinkite savo rezutaltą iki šimtųjų\n",
        "tankis = round(tankis, 2)\n",
        "\n",
        "# atspausdina atsakymą (šitos eilutės nekeisti)\n",
        "print(f'Lietuvoje yra {tankis} žm./km^2')"
      ],
      "metadata": {
        "colab": {
          "base_uri": "https://localhost:8080/"
        },
        "id": "PabXdAlTmYYf",
        "outputId": "144d0109-3adc-42eb-8130-cfde57388395"
      },
      "execution_count": 9,
      "outputs": [
        {
          "output_type": "stream",
          "name": "stdout",
          "text": [
            "Lietuvoje yra 42.64 žm./km^2\n"
          ]
        }
      ]
    },
    {
      "cell_type": "code",
      "source": [
        "# duomenys (nekeisti)\n",
        "gyv_skaicius = 2784279\n",
        "plotas = 65300\n",
        "\n",
        "# variantas 2 tik trumpiau\n",
        "\n",
        "# atspausdina atsakymą (šitos eilutės nekeisti)\n",
        "print(f'Lietuvoje yra {round(gyv_skaicius / plotas, 2)} žm./km^2')"
      ],
      "metadata": {
        "colab": {
          "base_uri": "https://localhost:8080/"
        },
        "id": "e3TdKD2ipG2C",
        "outputId": "6decb143-1beb-432f-a407-82bfb03ed7c9"
      },
      "execution_count": 10,
      "outputs": [
        {
          "output_type": "stream",
          "name": "stdout",
          "text": [
            "Lietuvoje yra 42.64 žm./km^2\n"
          ]
        }
      ]
    },
    {
      "cell_type": "markdown",
      "source": [
        "## Užduotis 3.2\n",
        "\n",
        "Autobuse telpa 87 žmonės. Tačiau važiuoti norinčių yra 93. Naudodami liekana, apskaičiuokite, kiek žmonių netilps?"
      ],
      "metadata": {
        "id": "Qak5bvqipUzA"
      }
    },
    {
      "cell_type": "code",
      "source": [
        "# pvz. ieškoti aukščiau\n",
        "# vieta Jūsų kodui, su ALT + ENTER galite daugiau eilučių susikurti\n",
        "ans = 93 % 87\n",
        "ans"
      ],
      "metadata": {
        "colab": {
          "base_uri": "https://localhost:8080/"
        },
        "id": "aW5iJeNCpVlC",
        "outputId": "9fb88b8a-34be-4e16-cd11-4aab91ffe2b4"
      },
      "execution_count": 11,
      "outputs": [
        {
          "output_type": "execute_result",
          "data": {
            "text/plain": [
              "6"
            ]
          },
          "metadata": {},
          "execution_count": 11
        }
      ]
    },
    {
      "cell_type": "markdown",
      "source": [
        "## Užduotis 3.3\n",
        "\n",
        "Bėgimas truko 12345 sec. Kiek šis bėgimas truko minutėmis, valandomis ir dienomis? Atsakymus suapvalinkite iki dešimčių."
      ],
      "metadata": {
        "id": "FoRxF2hTqSfv"
      }
    },
    {
      "cell_type": "code",
      "source": [
        "begimo_trukme_sec = 12345\n",
        "\n",
        "# vieta Jūsų kodui\n",
        "begimo_trukme_minutemis = begimo_trukme_sec / 60\n",
        "begimo_trukme_valandomis = begimo_trukme_minutemis / 60\n",
        "begimo_trukme_dienomis = begimo_trukme_valandomis / 24\n",
        "\n",
        "# suapvalinkite atsakimus iki 10-tųjų\n",
        "begimo_trukme_minutemis = round(begimo_trukme_minutemis, 1)\n",
        "begimo_trukme_valandomis = round(begimo_trukme_valandomis, 1)\n",
        "begimo_trukme_dienomis = round(begimo_trukme_dienomis, 1)\n",
        "\n",
        "# nekeisti žemiau esančio kodo\n",
        "print('Bėgimas truko:')\n",
        "print(f\"{begimo_trukme_minutemis} minutes.\")\n",
        "print(f\"{begimo_trukme_valandomis} valandas\")\n",
        "print(f\"{begimo_trukme_dienomis} dienos\")"
      ],
      "metadata": {
        "colab": {
          "base_uri": "https://localhost:8080/"
        },
        "id": "rBdadmMbqTbw",
        "outputId": "e5e71e54-c1b4-49c1-a4d3-cbe984d063d0"
      },
      "execution_count": 12,
      "outputs": [
        {
          "output_type": "stream",
          "name": "stdout",
          "text": [
            "Bėgimas truko:\n",
            "205.8 minutes.\n",
            "3.4 valandas\n",
            "0.1 dienos\n"
          ]
        }
      ]
    },
    {
      "cell_type": "code",
      "source": [
        "begimo_trukme_sec = 12345\n",
        "\n",
        "# vieta Jūsų kodui\n",
        "begimo_trukme_minutemis = begimo_trukme_sec / 60\n",
        "begimo_trukme_valandomis = begimo_trukme_minutemis / 60\n",
        "begimo_trukme_dienomis = begimo_trukme_valandomis / 24\n",
        "\n",
        "# alternatyvus atsakymas naudojant teoriją iš pamokos galo\n",
        "print('Bėgimas truko:')\n",
        "print(f\"{begimo_trukme_minutemis:.1f} minutes.\")\n",
        "print(f\"{begimo_trukme_valandomis:.1f} valandas\")\n",
        "print(f\"{begimo_trukme_dienomis:.1f} dienos\")"
      ],
      "metadata": {
        "colab": {
          "base_uri": "https://localhost:8080/"
        },
        "id": "HV4_8TUSAfvD",
        "outputId": "d5a64706-078b-4024-cd8a-b07f0a0e2023"
      },
      "execution_count": 13,
      "outputs": [
        {
          "output_type": "stream",
          "name": "stdout",
          "text": [
            "Bėgimas truko:\n",
            "205.8 minutes.\n",
            "3.4 valandas\n",
            "0.1 dienos\n"
          ]
        }
      ]
    },
    {
      "cell_type": "markdown",
      "source": [
        "## Užduotis 4.1\n",
        "\n",
        "Atsakykite su boolean operatoriumi į klausimą, ar sakinyje 'Meška paslydo' yra žmodis 'meška'?"
      ],
      "metadata": {
        "id": "bfy9VrH60QEP"
      }
    },
    {
      "cell_type": "code",
      "source": [
        "# nekeist kintamojo vertės\n",
        "sakinys = \"Meška paslydo\"\n",
        "\n",
        "# vieta Jūsų kodui\n",
        "atsakymas = 'meška' in sakinys\n",
        "\n",
        "# atspausdina atsakymą\n",
        "print(atsakymas)"
      ],
      "metadata": {
        "colab": {
          "base_uri": "https://localhost:8080/"
        },
        "id": "z4CQR6tpqR8n",
        "outputId": "8441e65c-8dfa-4159-dd57-7f731a00de71"
      },
      "execution_count": 14,
      "outputs": [
        {
          "output_type": "stream",
          "name": "stdout",
          "text": [
            "False\n"
          ]
        }
      ]
    },
    {
      "cell_type": "markdown",
      "source": [
        "## Užduotis 4.2\n",
        "\n",
        "Ar `Onutė`s vardas yra `onuTė`?"
      ],
      "metadata": {
        "id": "4HNFtSrB0Y8g"
      }
    },
    {
      "cell_type": "code",
      "source": [
        "# nekeist kintamųjų verčių\n",
        "vardas_1 = 'Onutė'\n",
        "vardas_2 = 'onuTė'\n",
        "\n",
        "# Jūsų atsakymas su boolean operatoriumi\n",
        "vardas_1 == vardas_2"
      ],
      "metadata": {
        "colab": {
          "base_uri": "https://localhost:8080/"
        },
        "id": "BxjNeG_w0c7f",
        "outputId": "b5c4e14e-552a-4148-89c5-3ebfeab20730"
      },
      "execution_count": 15,
      "outputs": [
        {
          "output_type": "execute_result",
          "data": {
            "text/plain": [
              "False"
            ]
          },
          "metadata": {},
          "execution_count": 15
        }
      ]
    },
    {
      "cell_type": "markdown",
      "source": [
        "## Užduotis 5.1\n",
        "\n",
        "Sukurkite 3 kintauosius:\n",
        "\n",
        "* `vardas`\n",
        "* `pavarde`\n",
        "* `sakinys`, šis kintamasis turi panaudoti auksčiau esančius kintamuosius.\n",
        "\n",
        "Atspausdinkite `sakinys` kintamąjį tokio tipo:\n",
        "\n",
        "`\"Mano vardas X, o pavardė Y. Manolu susipažinti!\"`, kur `X` ir `Y` turi būti panaudoti kintamieji `vardas` ir `pavarde`."
      ],
      "metadata": {
        "id": "GWees15w0iF5"
      }
    },
    {
      "cell_type": "code",
      "source": [
        "# vieta Jūsų kodui\n",
        "X = \"Jonas\"\n",
        "Y = \"Jonaitis\"\n",
        "sakinys = f\"Mano vardas {X}, o pavardė {Y}. Manolu susipažinti!\"\n",
        "\n",
        "print(sakinys)"
      ],
      "metadata": {
        "colab": {
          "base_uri": "https://localhost:8080/"
        },
        "id": "KlNtblLdpVnu",
        "outputId": "f594cf9f-bfd8-4a1c-d642-b803e4395750"
      },
      "execution_count": 16,
      "outputs": [
        {
          "output_type": "stream",
          "name": "stdout",
          "text": [
            "Mano vardas Jonas, o pavardė Jonaitis. Manolu susipažinti!\n"
          ]
        }
      ]
    },
    {
      "cell_type": "markdown",
      "source": [
        "## Užduotis 5.2\n",
        "\n",
        "Suformatuokite daugybos ir dalybos operacijas."
      ],
      "metadata": {
        "id": "EzYqsiTK08W5"
      }
    },
    {
      "cell_type": "code",
      "source": [
        "# kintamieji (galite keisti)\n",
        "a = 15\n",
        "b = -3.5\n",
        "\n",
        "# pakeisti, kad atsapusdintų atsakymą a x b = atsakymas\n",
        "sandauga = f\"a x b = {a * b}\"\n",
        "# pakeisti, kad atsapusdintų atsakymą a / b = atsakymas\n",
        "dalyba = f'a / b = {a / b}'\n",
        "\n",
        "# atspaudinti atsakymus\n",
        "print(sandauga)\n",
        "print(dalyba)"
      ],
      "metadata": {
        "colab": {
          "base_uri": "https://localhost:8080/"
        },
        "id": "W8_EuFpE055-",
        "outputId": "b2c73a92-3083-4526-e2c7-f436ba3529f4"
      },
      "execution_count": 17,
      "outputs": [
        {
          "output_type": "stream",
          "name": "stdout",
          "text": [
            "a x b = -52.5\n",
            "a / b = -4.285714285714286\n"
          ]
        }
      ]
    },
    {
      "cell_type": "code",
      "source": [
        "# kintamieji (galite keisti)\n",
        "a = 15\n",
        "b = -3.5\n",
        "\n",
        "# variantas 2, suapvalina rezultatą iki šimtųjų\n",
        "\n",
        "# pakeisti, kad atsapusdintų atsakymą a x b = atsakymas\n",
        "sandauga = f\"a x b = {a * b:.2f}\"\n",
        "# pakeisti, kad atsapusdintų atsakymą a / b = atsakymas\n",
        "dalyba = f'a / b = {a / b:.2f}'\n",
        "\n",
        "# atspaudinti atsakymus\n",
        "print(sandauga)\n",
        "print(dalyba)"
      ],
      "metadata": {
        "colab": {
          "base_uri": "https://localhost:8080/"
        },
        "id": "CX8N0VgN1IhG",
        "outputId": "4c76b127-aaae-41d7-c312-acafadc8cdc4"
      },
      "execution_count": 18,
      "outputs": [
        {
          "output_type": "stream",
          "name": "stdout",
          "text": [
            "a x b = -52.50\n",
            "a / b = -4.29\n"
          ]
        }
      ]
    },
    {
      "cell_type": "markdown",
      "source": [
        "# **Pamoka 2**"
      ],
      "metadata": {
        "id": "qgQ2gS8Vp7t_"
      }
    },
    {
      "cell_type": "code",
      "source": [],
      "metadata": {
        "id": "kdhRIkG81VcA"
      },
      "execution_count": 18,
      "outputs": []
    },
    {
      "cell_type": "markdown",
      "source": [
        "# **Pamoka 3**"
      ],
      "metadata": {
        "id": "zNL5XLd3HW0a"
      }
    },
    {
      "cell_type": "markdown",
      "source": [
        "## Užduotis 1.1\n",
        "\n",
        "Sukurti loginį testą, kuris atspausdintų atsakymą:\n",
        "\n",
        "* `žaidėjas 1 rastas sąraše`\n",
        "* `žaidėjas 2 nerastas sąraše`"
      ],
      "metadata": {
        "id": "-f2CAkUlJw2l"
      }
    },
    {
      "cell_type": "code",
      "source": [
        "# sąrašas žaidėjų, nekeisti\n",
        "zaidejai = [\"žaidėjas 1\", \"žaidėjas 3\", \"žaidėjas 5\", \"žaidėjas 1\"]\n",
        "\n",
        "# vieta Jūsų kodui\n",
        "zaidejas = \"žaidėjas 1\"\n",
        "\n",
        "if zaidejas in zaidejai:\n",
        "  print(f\"{zaidejas} rastas sąrašė\")\n",
        "else:\n",
        "  print(f\"{zaidejas} nerastas sąrašė\")"
      ],
      "metadata": {
        "id": "Qn-ULDWZHYR2",
        "outputId": "4bde1781-9196-454d-d2f4-7dcce63403f8",
        "colab": {
          "base_uri": "https://localhost:8080/"
        }
      },
      "execution_count": 19,
      "outputs": [
        {
          "output_type": "stream",
          "name": "stdout",
          "text": [
            "žaidėjas 1 rastas sąrašė\n"
          ]
        }
      ]
    },
    {
      "cell_type": "markdown",
      "source": [
        "## Užduotis 1.2\n",
        "\n",
        "Pridėti logines sąlygas, kurios leistų atsakyti atsakytų gavusios:\n",
        "\n",
        "`a = 1`, tuomet atspausdins:\n",
        "\n",
        "* `Daugiau už -5`\n",
        "* `Bet mažiau už 10`\n",
        "\n",
        "`a = 15`, tuomet atspausdins:\n",
        "\n",
        "* `Daugiau už -5`\n",
        "* `Ir daugiau už 10`\n",
        "\n",
        "`a = 10`, tuomet atspausdins:\n",
        "\n",
        "* `Daugiau už -5`\n",
        "* `Ir lygu 10`\n",
        "\n",
        "`a = -2`, tuomet atspausdins:\n",
        "\n",
        "* `Mažiau arba lygu už -5 ir daugiau arba lygu už -20`\n",
        "\n",
        "`a = -25`, tuomet atspausdins:\n",
        "\n",
        "* `Mažiau arba lygu -20`"
      ],
      "metadata": {
        "id": "htLSSUBUJ1xi"
      }
    },
    {
      "cell_type": "code",
      "source": [
        "# galima pakeisti kinamojo vertę\n",
        "a = -20\n",
        "\n",
        "# tarp print funcijų pridėti if else sąlygas\n",
        "if a > -5:\n",
        "  print(\"Daugiau už -5\")\n",
        "  if a < 10:\n",
        "    print(\"Bet mažiau už 10\")\n",
        "  elif a > 10:\n",
        "    print(\"Ir daugiau už 10\")\n",
        "  else:\n",
        "    print('Ir lygu 10')\n",
        "elif a >= -20:\n",
        "  print(\"Mažiau arba lygu už -5 ir daugiau arba lygu už -20\")\n",
        "else:\n",
        "  print(\"Mažiau už -20\")"
      ],
      "metadata": {
        "id": "e7nJvrkZJ2MM",
        "outputId": "afc50296-1f4c-4ec4-a2b3-52001ee7c154",
        "colab": {
          "base_uri": "https://localhost:8080/"
        }
      },
      "execution_count": 20,
      "outputs": [
        {
          "output_type": "stream",
          "name": "stdout",
          "text": [
            "Mažiau arba lygu už -5 ir daugiau arba lygu už -20\n"
          ]
        }
      ]
    },
    {
      "cell_type": "code",
      "source": [],
      "metadata": {
        "id": "mSvQ4-YfLWXQ"
      },
      "execution_count": 20,
      "outputs": []
    }
  ]
}