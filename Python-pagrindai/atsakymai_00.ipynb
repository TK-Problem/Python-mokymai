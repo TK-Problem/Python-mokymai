{
  "nbformat": 4,
  "nbformat_minor": 0,
  "metadata": {
    "colab": {
      "provenance": [],
      "include_colab_link": true
    },
    "kernelspec": {
      "name": "python3",
      "display_name": "Python 3"
    },
    "language_info": {
      "name": "python"
    }
  },
  "cells": [
    {
      "cell_type": "markdown",
      "metadata": {
        "id": "view-in-github",
        "colab_type": "text"
      },
      "source": [
        "<a href=\"https://colab.research.google.com/github/TK-Problem/Python-mokymai/blob/master/Python-pagrindai/atsakymai_00.ipynb\" target=\"_parent\"><img src=\"https://colab.research.google.com/assets/colab-badge.svg\" alt=\"Open In Colab\"/></a>"
      ]
    },
    {
      "cell_type": "markdown",
      "source": [
        "# **Pamoka 1**"
      ],
      "metadata": {
        "id": "Dm-mlXSolHnN"
      }
    },
    {
      "cell_type": "markdown",
      "source": [
        "## Užduotis 2.1\n",
        "\n",
        "Sukurti tekstinį kintamąjį Jūsų vardas ir pavardė"
      ],
      "metadata": {
        "id": "hnBedyZ6lOgS"
      }
    },
    {
      "cell_type": "code",
      "execution_count": null,
      "metadata": {
        "id": "S_aLDbtpxwBR"
      },
      "outputs": [],
      "source": [
        "# variantas 1\n",
        "vardas = \"Vardas\"\n",
        "pavarde = \"Pavardė\""
      ]
    },
    {
      "cell_type": "code",
      "source": [
        "# variantas 2\n",
        "name = \"Vardas Pavardė\""
      ],
      "metadata": {
        "id": "frEYmOsJlfAX"
      },
      "execution_count": null,
      "outputs": []
    },
    {
      "cell_type": "markdown",
      "source": [
        "## Užduotis 2.2\n",
        "\n",
        "Atspausdinti (nautoti print() funkciją) paskutinias 5 raides"
      ],
      "metadata": {
        "id": "zdHfDXR2llvJ"
      }
    },
    {
      "cell_type": "code",
      "source": [
        "# atspausdinti šito kintamojo paskutinias 5 raides\n",
        "txt = \"ABCD 1234 EDCBA\"\n",
        "\n",
        "# variantas 1\n",
        "txt = txt[-5:]\n",
        "print(txt)"
      ],
      "metadata": {
        "colab": {
          "base_uri": "https://localhost:8080/"
        },
        "id": "rN_ze6itljc_",
        "outputId": "37f54445-1751-408e-ba00-daa3f6b4ac9f"
      },
      "execution_count": null,
      "outputs": [
        {
          "output_type": "stream",
          "name": "stdout",
          "text": [
            "EDCBA\n"
          ]
        }
      ]
    },
    {
      "cell_type": "code",
      "source": [
        "# atspausdinti šito kintamojo paskutinias 5 raides\n",
        "txt = \"ABCD 1234 EDCBA\"\n",
        "\n",
        "# variantas 2\n",
        "print(txt[-5:])"
      ],
      "metadata": {
        "colab": {
          "base_uri": "https://localhost:8080/"
        },
        "id": "g0FaUkW3ltam",
        "outputId": "6b2f1eb6-02ae-4925-ffcc-66a9baba2354"
      },
      "execution_count": null,
      "outputs": [
        {
          "output_type": "stream",
          "name": "stdout",
          "text": [
            "EDCBA\n"
          ]
        }
      ]
    },
    {
      "cell_type": "markdown",
      "source": [
        "## Užduotis 2.3\n",
        "\n",
        "Atspausdinti abu kintamuosius su `print()` funciją. Pirmas kintamasis turi būti tik iš mažųjų raidžių, o antras iš didžiųjų. Atsakymas:\n",
        "\n",
        "`\"petras PETRAITIS\"`"
      ],
      "metadata": {
        "id": "DUSMgwzhlzg4"
      }
    },
    {
      "cell_type": "code",
      "source": [
        "t_1 = 'pEtras'\n",
        "t_2 = 'PETraTIs'\n",
        "\n",
        "# variantas 1\n",
        "print(t_1.lower(), t_2.upper())"
      ],
      "metadata": {
        "colab": {
          "base_uri": "https://localhost:8080/"
        },
        "id": "rIzPx8FglxXA",
        "outputId": "d7575cc3-3768-43e3-bd05-76bef875cc81"
      },
      "execution_count": null,
      "outputs": [
        {
          "output_type": "stream",
          "name": "stdout",
          "text": [
            "petras PETRATIS\n"
          ]
        }
      ]
    },
    {
      "cell_type": "code",
      "source": [
        "t_1 = 'pEtras'\n",
        "t_2 = 'PETraTIs'\n",
        "\n",
        "# variantas 2\n",
        "ans = t_1.lower() + \" \" + t_2.upper()\n",
        "print(ans)"
      ],
      "metadata": {
        "colab": {
          "base_uri": "https://localhost:8080/"
        },
        "id": "HZcUt-E3l_PA",
        "outputId": "96a8dd45-61b7-43fc-d840-0083d25f1ad3"
      },
      "execution_count": null,
      "outputs": [
        {
          "output_type": "stream",
          "name": "stdout",
          "text": [
            "petras PETRATIS\n"
          ]
        }
      ]
    },
    {
      "cell_type": "markdown",
      "source": [
        "## Užduotis 2.4\n",
        "\n",
        "**(sudėtingesnė)** rasti internete metodą, kuris žodžių pirmas raides paverstų didžiosionis. Atsakymas turi būti toks:\n",
        "\n",
        "`\"Jonas Jonaitas\"`"
      ],
      "metadata": {
        "id": "rgZQBUV6mH6-"
      }
    },
    {
      "cell_type": "code",
      "source": [
        "txt = \"JONAS jonaitis\"\n",
        "# variantas 1\n",
        "print(txt.title())"
      ],
      "metadata": {
        "colab": {
          "base_uri": "https://localhost:8080/"
        },
        "id": "sDRxO45jlxZp",
        "outputId": "866f4257-c4b3-4aba-f183-ccc35053bda2"
      },
      "execution_count": null,
      "outputs": [
        {
          "output_type": "stream",
          "name": "stdout",
          "text": [
            "Jonas Jonaitis\n"
          ]
        }
      ]
    },
    {
      "cell_type": "code",
      "source": [
        "txt = \"JONAS jonaitis\"\n",
        "# variantas 2\n",
        "print(txt[0] + txt[1:6].lower() + txt[6].upper() + txt[7:])"
      ],
      "metadata": {
        "colab": {
          "base_uri": "https://localhost:8080/"
        },
        "id": "TfwneVTzmQ53",
        "outputId": "338c7bc9-63ad-4d1e-969e-53a7ab4b6da6"
      },
      "execution_count": null,
      "outputs": [
        {
          "output_type": "stream",
          "name": "stdout",
          "text": [
            "Jonas Jonaitis\n"
          ]
        }
      ]
    },
    {
      "cell_type": "markdown",
      "source": [
        "## Užduotis 3.1\n",
        "\n",
        "Lietuvoje 2021 buvo suskaičiuoti 2784279 gyventojai. Lietuvos plotas 65300 km^2.\n",
        "\n",
        "Kiek gyventojų yra vienam kvadratiniame kilometre?"
      ],
      "metadata": {
        "id": "YRNRTui7o-5y"
      }
    },
    {
      "cell_type": "code",
      "source": [
        "# duomenys (nekeisti)\n",
        "gyv_skaicius = 2784279\n",
        "plotas = 65300\n",
        "\n",
        "# įvesti savo formulę, vieta Jūsų kodui\n",
        "tankis = gyv_skaicius / plotas\n",
        "\n",
        "# suapvalinkite savo rezutaltą iki šimtųjų\n",
        "tankis = round(tankis, 2)\n",
        "\n",
        "# atspausdina atsakymą (šitos eilutės nekeisti)\n",
        "print(f'Lietuvoje yra {tankis} žm./km^2')"
      ],
      "metadata": {
        "colab": {
          "base_uri": "https://localhost:8080/"
        },
        "id": "PabXdAlTmYYf",
        "outputId": "1e6abcfa-11a0-4e7d-cbbe-09e29daff082"
      },
      "execution_count": null,
      "outputs": [
        {
          "output_type": "stream",
          "name": "stdout",
          "text": [
            "Lietuvoje yra 42.64 žm./km^2\n"
          ]
        }
      ]
    },
    {
      "cell_type": "code",
      "source": [
        "# duomenys (nekeisti)\n",
        "gyv_skaicius = 2784279\n",
        "plotas = 65300\n",
        "\n",
        "# variantas 2 tik trumpiau\n",
        "\n",
        "# atspausdina atsakymą (šitos eilutės nekeisti)\n",
        "print(f'Lietuvoje yra {round(gyv_skaicius / plotas, 2)} žm./km^2')"
      ],
      "metadata": {
        "colab": {
          "base_uri": "https://localhost:8080/"
        },
        "id": "e3TdKD2ipG2C",
        "outputId": "efa39432-fede-4549-b039-e1d39b4dafe7"
      },
      "execution_count": null,
      "outputs": [
        {
          "output_type": "stream",
          "name": "stdout",
          "text": [
            "Lietuvoje yra 42.64 žm./km^2\n"
          ]
        }
      ]
    },
    {
      "cell_type": "markdown",
      "source": [
        "## Užduotis 3.2\n",
        "\n",
        "Autobuse telpa 87 žmonės. Tačiau važiuoti norinčių yra 93. Naudodami liekana, apskaičiuokite, kiek žmonių netilps?"
      ],
      "metadata": {
        "id": "Qak5bvqipUzA"
      }
    },
    {
      "cell_type": "code",
      "source": [
        "# pvz. ieškoti aukščiau\n",
        "# vieta Jūsų kodui, su ALT + ENTER galite daugiau eilučių susikurti\n",
        "ans = 93 % 87\n",
        "ans"
      ],
      "metadata": {
        "colab": {
          "base_uri": "https://localhost:8080/"
        },
        "id": "aW5iJeNCpVlC",
        "outputId": "605818c0-5999-4913-a228-a0f700814ae6"
      },
      "execution_count": null,
      "outputs": [
        {
          "output_type": "execute_result",
          "data": {
            "text/plain": [
              "6"
            ]
          },
          "metadata": {},
          "execution_count": 11
        }
      ]
    },
    {
      "cell_type": "markdown",
      "source": [
        "## Užduotis 3.3\n",
        "\n",
        "Bėgimas truko 12345 sec. Kiek šis bėgimas truko minutėmis, valandomis ir dienomis? Atsakymus suapvalinkite iki dešimčių."
      ],
      "metadata": {
        "id": "FoRxF2hTqSfv"
      }
    },
    {
      "cell_type": "code",
      "source": [
        "begimo_trukme_sec = 12345\n",
        "\n",
        "# vieta Jūsų kodui\n",
        "begimo_trukme_minutemis = begimo_trukme_sec / 60\n",
        "begimo_trukme_valandomis = begimo_trukme_minutemis / 60\n",
        "begimo_trukme_dienomis = begimo_trukme_valandomis / 24\n",
        "\n",
        "# suapvalinkite atsakimus iki 10-tųjų\n",
        "begimo_trukme_minutemis = round(begimo_trukme_minutemis, 2)\n",
        "begimo_trukme_valandomis = round(begimo_trukme_valandomis, 2)\n",
        "begimo_trukme_dienomis = round(begimo_trukme_dienomis, 2)\n",
        "\n",
        "# nekeisti žemiau esančio kodo\n",
        "print('Bėgimas truko:')\n",
        "print(f\"{begimo_trukme_minutemis} minutes.\")\n",
        "print(f\"{begimo_trukme_valandomis} valandas\")\n",
        "print(f\"{begimo_trukme_dienomis} dienos\")"
      ],
      "metadata": {
        "colab": {
          "base_uri": "https://localhost:8080/"
        },
        "id": "rBdadmMbqTbw",
        "outputId": "f7c59398-9953-4961-bc94-e610d1fe6ab5"
      },
      "execution_count": null,
      "outputs": [
        {
          "output_type": "stream",
          "name": "stdout",
          "text": [
            "Bėgimas truko:\n",
            "205.75 minutes.\n",
            "3.43 valandas\n",
            "0.14 dienos\n"
          ]
        }
      ]
    },
    {
      "cell_type": "markdown",
      "source": [
        "## Užduotis 4.1\n",
        "\n",
        "Atsakykite su boolean operatoriumi į klausimą, ar sakinyje 'Meška paslydo' yra žmodis 'meška'?"
      ],
      "metadata": {
        "id": "bfy9VrH60QEP"
      }
    },
    {
      "cell_type": "code",
      "source": [
        "# nekeist kintamojo vertės\n",
        "sakinys = \"Meška paslydo\"\n",
        "\n",
        "# vieta Jūsų kodui\n",
        "atsakymas = 'meška' in sakinys\n",
        "\n",
        "# atspausdina atsakymą\n",
        "print(atsakymas)"
      ],
      "metadata": {
        "colab": {
          "base_uri": "https://localhost:8080/"
        },
        "id": "z4CQR6tpqR8n",
        "outputId": "e73e7b13-8397-43f3-eba0-5c6564a422a1"
      },
      "execution_count": null,
      "outputs": [
        {
          "output_type": "stream",
          "name": "stdout",
          "text": [
            "False\n"
          ]
        }
      ]
    },
    {
      "cell_type": "markdown",
      "source": [
        "## Užduotis 4.2\n",
        "\n",
        "Ar `Onutė`s vardas yra `onuTė`?"
      ],
      "metadata": {
        "id": "4HNFtSrB0Y8g"
      }
    },
    {
      "cell_type": "code",
      "source": [
        "# nekeist kintamųjų verčių\n",
        "vardas_1 = 'Onutė'\n",
        "vardas_2 = 'onuTė'\n",
        "\n",
        "# Jūsų atsakymas su boolean operatoriumi\n",
        "vardas_1 == vardas_2"
      ],
      "metadata": {
        "colab": {
          "base_uri": "https://localhost:8080/"
        },
        "id": "BxjNeG_w0c7f",
        "outputId": "09c179fe-3505-44bb-d306-538bca0548bf"
      },
      "execution_count": null,
      "outputs": [
        {
          "output_type": "execute_result",
          "data": {
            "text/plain": [
              "False"
            ]
          },
          "metadata": {},
          "execution_count": 14
        }
      ]
    },
    {
      "cell_type": "markdown",
      "source": [
        "## Užduotis 5.1\n",
        "\n",
        "Sukurkite 3 kintauosius:\n",
        "\n",
        "* `vardas`\n",
        "* `pavarde`\n",
        "* `sakinys`, šis kintamasis turi panaudoti auksčiau esančius kintamuosius.\n",
        "\n",
        "Atspausdinkite `sakinys` kintamąjį tokio tipo:\n",
        "\n",
        "`\"Mano vardas X, o pavardė Y. Manolu susipažinti!\"`, kur `X` ir `Y` turi būti panaudoti kintamieji `vardas` ir `pavarde`."
      ],
      "metadata": {
        "id": "GWees15w0iF5"
      }
    },
    {
      "cell_type": "code",
      "source": [
        "# vieta Jūsų kodui\n",
        "X = \"Jonas\"\n",
        "Y = \"Jonaitis\"\n",
        "sakinys = f\"Mano vardas {X}, o pavardė {Y}. Manolu susipažinti!\"\n",
        "\n",
        "print(sakinys)"
      ],
      "metadata": {
        "colab": {
          "base_uri": "https://localhost:8080/"
        },
        "id": "KlNtblLdpVnu",
        "outputId": "6e3fa126-631f-4330-f059-aefe11f362d2"
      },
      "execution_count": null,
      "outputs": [
        {
          "output_type": "stream",
          "name": "stdout",
          "text": [
            "Mano vardas Jonas, o pavardė Jonaitis. Manolu susipažinti!\n"
          ]
        }
      ]
    },
    {
      "cell_type": "markdown",
      "source": [
        "## Užduotis 5.2\n",
        "\n",
        "Suformatuokite daugybos ir dalybos operacijas."
      ],
      "metadata": {
        "id": "EzYqsiTK08W5"
      }
    },
    {
      "cell_type": "code",
      "source": [
        "# kintamieji (galite keisti)\n",
        "a = 15\n",
        "b = -3.5\n",
        "\n",
        "# pakeisti, kad atsapusdintų atsakymą a x b = atsakymas\n",
        "sandauga = f\"a x b = {a * b}\"\n",
        "# pakeisti, kad atsapusdintų atsakymą a / b = atsakymas\n",
        "dalyba = f'a x b = {a / b}'\n",
        "\n",
        "# atspaudinti atsakymus\n",
        "print(sandauga)\n",
        "print(dalyba)"
      ],
      "metadata": {
        "colab": {
          "base_uri": "https://localhost:8080/"
        },
        "id": "W8_EuFpE055-",
        "outputId": "52259a1a-1934-49f1-edcb-a20528b07fb4"
      },
      "execution_count": null,
      "outputs": [
        {
          "output_type": "stream",
          "name": "stdout",
          "text": [
            "a x b = -52.5\n",
            "a x b = -4.285714285714286\n"
          ]
        }
      ]
    },
    {
      "cell_type": "code",
      "source": [
        "# kintamieji (galite keisti)\n",
        "a = 15\n",
        "b = -3.5\n",
        "\n",
        "# variantas 2, suapvalina rezultatą iki šimtųjų\n",
        "\n",
        "# pakeisti, kad atsapusdintų atsakymą a x b = atsakymas\n",
        "sandauga = f\"a x b = {a * b:.2f}\"\n",
        "# pakeisti, kad atsapusdintų atsakymą a / b = atsakymas\n",
        "dalyba = f'a x b = {a / b:.2f}'\n",
        "\n",
        "# atspaudinti atsakymus\n",
        "print(sandauga)\n",
        "print(dalyba)"
      ],
      "metadata": {
        "colab": {
          "base_uri": "https://localhost:8080/"
        },
        "id": "CX8N0VgN1IhG",
        "outputId": "31c7707b-413e-4d4d-eea4-88e071dbeb79"
      },
      "execution_count": null,
      "outputs": [
        {
          "output_type": "stream",
          "name": "stdout",
          "text": [
            "a x b = -52.50\n",
            "a x b = -4.29\n"
          ]
        }
      ]
    },
    {
      "cell_type": "markdown",
      "source": [
        "# **Pamoka 2**"
      ],
      "metadata": {
        "id": "qgQ2gS8Vp7t_"
      }
    },
    {
      "cell_type": "code",
      "source": [],
      "metadata": {
        "id": "kdhRIkG81VcA"
      },
      "execution_count": null,
      "outputs": []
    }
  ]
}