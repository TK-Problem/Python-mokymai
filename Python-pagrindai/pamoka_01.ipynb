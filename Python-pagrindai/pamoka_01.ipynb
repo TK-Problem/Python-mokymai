{
  "nbformat": 4,
  "nbformat_minor": 0,
  "metadata": {
    "colab": {
      "provenance": [],
      "include_colab_link": true
    },
    "kernelspec": {
      "name": "python3",
      "display_name": "Python 3"
    },
    "language_info": {
      "name": "python"
    }
  },
  "cells": [
    {
      "cell_type": "markdown",
      "metadata": {
        "id": "view-in-github",
        "colab_type": "text"
      },
      "source": [
        "<a href=\"https://colab.research.google.com/github/TK-Problem/Python-mokymai/blob/master/Python-pagrindai/pamoka_01.ipynb\" target=\"_parent\"><img src=\"https://colab.research.google.com/assets/colab-badge.svg\" alt=\"Open In Colab\"/></a>"
      ]
    },
    {
      "cell_type": "markdown",
      "source": [
        "# **Pamoka 1**\n",
        "\n",
        "Šioje pamokoje supažinu su pagrindinėmis [Python](https://www.python.org/) funcijomis, [Jupyter Notebook](https://jupyter.org/)/[Google colab](https://colab.research.google.com/) darbo aplinkomis bei primityviais kintamaisiais.\n",
        "\n",
        "### **Programavimo aplinka**\n",
        "\n",
        "Šis kodas yra parašytas `.ipynb` (interactive Python notebook) formatu. Yra daug skirtingų pragramų bei internetinių sprendimų, kurie gali paleisti `.ipynb` failus. Keletas pavyzdžių:\n",
        "\n",
        "* [Anaconda](https://www.anaconda.com/products/distribution) - reikia lokaliai atsisiųsti ir įsirašyti į savo kompiuterį. Ji automatiškai įrašo **Jupyter Notebook**, bet taip pat galite per Anaconda Navigator įsirašyti **Jupyter Lab** (suteikia daugiau funkcionalumo).\n",
        "* [Visual Studio Code](https://code.visualstudio.com/) - įsirašius lokaliai į savo kompiuteri, papildomai reiks atlikti papildomų [žingsnių](https://code.visualstudio.com/docs/datascience/jupyter-notebooks), kad leistų redaguoti `.ipynb` failus.\n",
        "* [Kaggle](https://www.kaggle.com/) - socialinis tinklas duomenų analitikams ir mokslininkas dalintis žiniomis, kodu (`.ipynb` formatu) bei dalyvauti įvairiuose konkursuose.\n",
        "* [Datalore](https://datalore.jetbrains.com/) - yra nemokama ir mokama versija.\n",
        "* [Google colab](https://colab.research.google.com/) - būtent šioje aplinkoje rekomenduoju leisti konspekto kodą.\n",
        "* ir daug kitų variantų.\n",
        "\n",
        "Pagrindinės sparčiosios kombinacijos (keybord shortcuts):\n",
        "\n",
        "* `SHIFT` + `ENTER` paleisti kodo bloką nesukuriant naujo kodo bloko.\n",
        "* `ALT` + `ENTER` paleisti kodo bloką sukuriant naują kodo bloką.\n",
        "* `A` sukurti kodo bloką auksčiau.\n",
        "* `B` sukurti kodo bloką žemiau.\n",
        "\n",
        "Visos šios kombinacijos veikia daugelyje prgramų, kurios dirba `.ipynb` failais. Google colab taip pat leidžia susikurti daugiau sparčiųjų kombinacijų `Tools -> Keyboard shortcuts` arba `CTRL` + `M` + `H`. Geriau standartinių neredaguoti, tačiau savo patogumui gali susikurti naujų kodo kombinacijų.\n",
        "\n",
        "`.ipynb` dokumentuose yra dviejų tipų celės (kodo blokai):\n",
        "\n",
        "* `code`, kur rašome Python kodą. ;\n",
        "* `markdown` paprastas tekstas su nuorodomis, paveiksliukais, teksto paryšikinimais ir t.t."
      ],
      "metadata": {
        "id": "RfcExizOFOLN"
      }
    },
    {
      "cell_type": "code",
      "execution_count": 1,
      "metadata": {
        "colab": {
          "base_uri": "https://localhost:8080/"
        },
        "id": "Bbp8_VAkyTr1",
        "outputId": "ea9b8399-b1f3-4aac-956c-2ab0ab77130f"
      },
      "outputs": [
        {
          "output_type": "stream",
          "name": "stdout",
          "text": [
            "Python version:\n",
            "3.10.12 (main, Jun 11 2023, 05:26:28) [GCC 11.4.0]\n"
          ]
        }
      ],
      "source": [
        "# paspausti SHIFT + ENTER pele pažymėją šį kodo bloką\n",
        "import sys  # https://docs.python.org/3/library/sys.html\n",
        "\n",
        "# pasižiūrėti, kurią Python versiją naudoja\n",
        "# konspektas buvo parašytas su 3.7.15 versija\n",
        "print('Python version:')\n",
        "print(sys.version)"
      ]
    },
    {
      "cell_type": "markdown",
      "source": [
        "# I. Pagrindinės funkcijos"
      ],
      "metadata": {
        "id": "TnYY2ywvOlgN"
      }
    },
    {
      "cell_type": "markdown",
      "source": [
        "## Kintamųjų atspausdinimas\n",
        "Yra du būdai atvaizduoti kodo rezultatams: (i) funkcija `print()` arba (ii) parašyti kintamojo pavadinimą. Sukuriame kintamąjį `kint`, kurio vertė yra \"Vardas\"."
      ],
      "metadata": {
        "id": "wk91lH1YZJNE"
      }
    },
    {
      "cell_type": "code",
      "source": [
        "# sukuriame kimtamąjį\n",
        "kintamasis = \"Vardas\""
      ],
      "metadata": {
        "id": "XKhTBviMSR-B"
      },
      "execution_count": 2,
      "outputs": []
    },
    {
      "cell_type": "code",
      "source": [
        "# kintamąjį galime atspaudinti (i) būdu\n",
        "print(kintamasis)"
      ],
      "metadata": {
        "colab": {
          "base_uri": "https://localhost:8080/"
        },
        "id": "oIw2xLAdSVs-",
        "outputId": "d5b12ea2-43a6-46ef-9889-c7631805c488"
      },
      "execution_count": 3,
      "outputs": [
        {
          "output_type": "stream",
          "name": "stdout",
          "text": [
            "Vardas\n"
          ]
        }
      ]
    },
    {
      "cell_type": "code",
      "source": [
        "# (ii) variantas\n",
        "kintamasis"
      ],
      "metadata": {
        "colab": {
          "base_uri": "https://localhost:8080/",
          "height": 35
        },
        "id": "-_-13anYIgX7",
        "outputId": "b6a78f63-382c-4d47-d680-f705d22967a7"
      },
      "execution_count": 4,
      "outputs": [
        {
          "output_type": "execute_result",
          "data": {
            "text/plain": [
              "'Vardas'"
            ],
            "application/vnd.google.colaboratory.intrinsic+json": {
              "type": "string"
            }
          },
          "metadata": {},
          "execution_count": 4
        }
      ]
    },
    {
      "cell_type": "markdown",
      "source": [
        "Antrasis variantas atspausdins tik paskutinėje kodo eilutėje esanti kintamąjį. Tad jei reikia atspausdinti keletą kartų kintamąjį, reiktų naudoti (i) metodą."
      ],
      "metadata": {
        "id": "lypxW-j1Shoj"
      }
    },
    {
      "cell_type": "code",
      "source": [
        "# du kartus atspausdina kintamojo reikšmę\n",
        "print(kintamasis)\n",
        "print(kintamasis)"
      ],
      "metadata": {
        "colab": {
          "base_uri": "https://localhost:8080/"
        },
        "id": "SE-VKaVLStbC",
        "outputId": "0b088fe4-1f31-4855-9942-2f7cc025dd5a"
      },
      "execution_count": 5,
      "outputs": [
        {
          "output_type": "stream",
          "name": "stdout",
          "text": [
            "Vardas\n",
            "Vardas\n"
          ]
        }
      ]
    },
    {
      "cell_type": "code",
      "source": [
        "# atspausdina tik paskutinį kintamąjį\n",
        "kintamasis\n",
        "kintamasis"
      ],
      "metadata": {
        "colab": {
          "base_uri": "https://localhost:8080/",
          "height": 35
        },
        "id": "Um5ZVY55Sgwk",
        "outputId": "5f0bf262-7bbe-40a3-9d78-3f54b795b9e4"
      },
      "execution_count": 6,
      "outputs": [
        {
          "output_type": "execute_result",
          "data": {
            "text/plain": [
              "'Vardas'"
            ],
            "application/vnd.google.colaboratory.intrinsic+json": {
              "type": "string"
            }
          },
          "metadata": {},
          "execution_count": 6
        }
      ]
    },
    {
      "cell_type": "markdown",
      "source": [
        "Pateikiu du kodo pavyzdžius, kuomet sukuriami du skirtingi kintamieji su skirtingomis reikšmėmis. Abiem atvejais atspausdina tik paskutinio kintamojo reikšmę."
      ],
      "metadata": {
        "id": "wMGIVCV9S_Zq"
      }
    },
    {
      "cell_type": "code",
      "source": [
        "# sukurti kintamuosius\n",
        "var_1 = \"Pirmas\"\n",
        "var_2 = \"Antras\"\n",
        "\n",
        "# grąžinti (atspausdinti) kintamuosius\n",
        "var_1\n",
        "var_2"
      ],
      "metadata": {
        "colab": {
          "base_uri": "https://localhost:8080/",
          "height": 35
        },
        "id": "Oz6AGn5KS-kK",
        "outputId": "381dd4dd-f0e0-496c-9ad4-870e4c166cb8"
      },
      "execution_count": 7,
      "outputs": [
        {
          "output_type": "execute_result",
          "data": {
            "text/plain": [
              "'Antras'"
            ],
            "application/vnd.google.colaboratory.intrinsic+json": {
              "type": "string"
            }
          },
          "metadata": {},
          "execution_count": 7
        }
      ]
    },
    {
      "cell_type": "code",
      "source": [
        "# sukurti kintamuosius\n",
        "var_1 = \"Pirmas\"\n",
        "var_2 = \"Antras\"\n",
        "\n",
        "# tas pats kaip auksčiau tik apkeičiau vietomis var_2 ir var_1\n",
        "var_2\n",
        "var_1"
      ],
      "metadata": {
        "colab": {
          "base_uri": "https://localhost:8080/",
          "height": 35
        },
        "id": "P1lrwiGTOGnV",
        "outputId": "37cef625-0a17-4792-ddb5-fb4f596f643c"
      },
      "execution_count": 8,
      "outputs": [
        {
          "output_type": "execute_result",
          "data": {
            "text/plain": [
              "'Pirmas'"
            ],
            "application/vnd.google.colaboratory.intrinsic+json": {
              "type": "string"
            }
          },
          "metadata": {},
          "execution_count": 8
        }
      ]
    },
    {
      "cell_type": "markdown",
      "source": [
        "Jei norite, kad atspausdintų daugiau nei vieną kintamąjį, naudokite `print()` funkciją."
      ],
      "metadata": {
        "id": "f2YS32soTfAc"
      }
    },
    {
      "cell_type": "code",
      "source": [
        "# sukurti kintamuosius\n",
        "var_1 = \"Pirmas\"\n",
        "var_2 = \"Antras\"\n",
        "\n",
        "# atspausdinti abu kintamuosius\n",
        "print(var_2)\n",
        "print(var_1)"
      ],
      "metadata": {
        "colab": {
          "base_uri": "https://localhost:8080/"
        },
        "id": "wtcm9fAMTeic",
        "outputId": "00f91c35-ef7a-4e20-e119-051022c5b1cf"
      },
      "execution_count": 9,
      "outputs": [
        {
          "output_type": "stream",
          "name": "stdout",
          "text": [
            "Antras\n",
            "Pirmas\n"
          ]
        }
      ]
    },
    {
      "cell_type": "markdown",
      "source": [
        "Kodo pavyzdžiai dažnu atveju bus trumpi, tad (ii) variantas bus sutinkamas dažniau nei (i).\n",
        "\n",
        "`print()` funkcija taip pat leidžia atspausdinti daugiau nei vieną kintamąjį per eilutę (automatiškai įdeda po tarpą tarp kintamųjų reikšmių)."
      ],
      "metadata": {
        "id": "XS4JewaCVt1j"
      }
    },
    {
      "cell_type": "code",
      "source": [
        "# sukurti kintamuosius\n",
        "var_1 = \"Pirmas\"\n",
        "var_2 = \"Antras\"\n",
        "\n",
        "# tas pats kaip auksčiau tik apkeičiau vietomis var_2 ir var_1\n",
        "print(var_1, var_2)"
      ],
      "metadata": {
        "colab": {
          "base_uri": "https://localhost:8080/"
        },
        "id": "UyBMlPseWgPP",
        "outputId": "55c29ccf-2de7-47f9-bad1-6e3c4e646eab"
      },
      "execution_count": 10,
      "outputs": [
        {
          "output_type": "stream",
          "name": "stdout",
          "text": [
            "Pirmas Antras\n"
          ]
        }
      ]
    },
    {
      "cell_type": "markdown",
      "source": [
        "## Objekto tipas\n",
        "\n",
        "Kinamjų tipų nereikia deklaruoti tiesiogiai, Python automatiškai atpažįsta, kad:\n",
        "\n",
        "* jei prasideda `\"` arba `'` tuomet bus simbolių eilutė/tekstas (string),\n",
        "* jei skaičius be taško, tuomet bus sveikas (integer) skaičius,\n",
        "* jei skaičius su tašku, tuomet racionalus (float),\n",
        "* žodiai `True` arba `False` yra rezervuoti loginiams kintamiesiems.\n",
        "\n",
        "Funcija `type()` leidžia pažiūrėti kintamojo tipą."
      ],
      "metadata": {
        "id": "xPqofak9X_eN"
      }
    },
    {
      "cell_type": "code",
      "source": [
        "# sukurto kintamojo vertė tekstas\n",
        "a = '1'\n",
        "# atspausdinti kintamojo a vertę\n",
        "type(a)"
      ],
      "metadata": {
        "colab": {
          "base_uri": "https://localhost:8080/"
        },
        "id": "WsgbssQdYj6d",
        "outputId": "8d33a7bc-a604-4411-876b-71f9c2c18996"
      },
      "execution_count": 11,
      "outputs": [
        {
          "output_type": "execute_result",
          "data": {
            "text/plain": [
              "str"
            ]
          },
          "metadata": {},
          "execution_count": 11
        }
      ]
    },
    {
      "cell_type": "code",
      "source": [
        "# tas pats, tik atspausdina kintamojo reikšmę bei tipą\n",
        "a = '1'\n",
        "print(a, type(a))"
      ],
      "metadata": {
        "colab": {
          "base_uri": "https://localhost:8080/"
        },
        "id": "94MOwYjNY2zK",
        "outputId": "384fe7c6-fdd0-4f72-d2ed-1c8fbdda003e"
      },
      "execution_count": 12,
      "outputs": [
        {
          "output_type": "stream",
          "name": "stdout",
          "text": [
            "1 <class 'str'>\n"
          ]
        }
      ]
    },
    {
      "cell_type": "code",
      "source": [
        "# sveikas skaičius\n",
        "b = 1\n",
        "print(b, type(b))"
      ],
      "metadata": {
        "colab": {
          "base_uri": "https://localhost:8080/"
        },
        "id": "fR6CyrY6X__U",
        "outputId": "4d7e97ca-5bd2-4b34-c766-fe728b3d1527"
      },
      "execution_count": 13,
      "outputs": [
        {
          "output_type": "stream",
          "name": "stdout",
          "text": [
            "1 <class 'int'>\n"
          ]
        }
      ]
    },
    {
      "cell_type": "code",
      "source": [
        "# racionalus skaičius\n",
        "c = 1.0\n",
        "print(c, type(c))"
      ],
      "metadata": {
        "colab": {
          "base_uri": "https://localhost:8080/"
        },
        "id": "hWaz6jWJY-64",
        "outputId": "a814a211-d383-497f-c686-f205b65a04d9"
      },
      "execution_count": 14,
      "outputs": [
        {
          "output_type": "stream",
          "name": "stdout",
          "text": [
            "1.0 <class 'float'>\n"
          ]
        }
      ]
    },
    {
      "cell_type": "code",
      "source": [
        "# loginis kintamasis\n",
        "d = True\n",
        "print(d, type(d))"
      ],
      "metadata": {
        "colab": {
          "base_uri": "https://localhost:8080/"
        },
        "id": "U3Ozu-hCZCXU",
        "outputId": "fc4862b0-9eb4-450b-81c7-dc2fe6190cb3"
      },
      "execution_count": 15,
      "outputs": [
        {
          "output_type": "stream",
          "name": "stdout",
          "text": [
            "True <class 'bool'>\n"
          ]
        }
      ]
    },
    {
      "cell_type": "markdown",
      "source": [
        "## Kintamųjų pavadinimai\n",
        "\n",
        "Kintamųjų pavadinimai gali būti kuriami naudojanat:\n",
        "\n",
        "* raides `abcd` ir t.t.,\n",
        "* skaičus (negali kintamasis prasidėti skaičiumi),\n",
        "* simbolis `_`.\n",
        "\n",
        "Kintamieji dažniausiai rašomi iš mažosios raidės. Neleistini kintamųjų pavadinimai (išmestų klaidą):\n",
        "\n",
        "* `1abc`,\n",
        "* `abs/abc`,\n",
        "* `pirmas.elementas`."
      ],
      "metadata": {
        "id": "DLHNKpSlMvvo"
      }
    },
    {
      "cell_type": "code",
      "source": [
        "# kintamųjų pvadinimai turi būti intuityvūs\n",
        "vardas = \"Jonas\""
      ],
      "metadata": {
        "id": "0SVSRHHINbPO"
      },
      "execution_count": 16,
      "outputs": []
    },
    {
      "cell_type": "code",
      "source": [
        "# gali būti parašyti cammel\n",
        "pirmasElementas = '1'"
      ],
      "metadata": {
        "id": "_KGBZH2VNgmM"
      },
      "execution_count": 17,
      "outputs": []
    },
    {
      "cell_type": "code",
      "source": [
        "# galima naudoti skaičius, jei tai ne pirmas simbolis\n",
        "kintamasis_1 = \"Vienas\""
      ],
      "metadata": {
        "id": "astsvNfVNsMY"
      },
      "execution_count": 18,
      "outputs": []
    },
    {
      "cell_type": "code",
      "source": [
        "# galima pradėti kintamąjį rašyti su simboliu _ (tokie kintamieji pagal nutylėjimą laikomi privačiais)\n",
        "_namo_numeris = \"Pirmas\""
      ],
      "metadata": {
        "id": "i3xV992INxM3"
      },
      "execution_count": 19,
      "outputs": []
    },
    {
      "cell_type": "markdown",
      "source": [
        "# II. Simbolių eilutė (`stings`)\n",
        "\n",
        "Tekstines vertes galima sukurti tiek su viengubomis `'` tiek su dvigubomis `kabutėmis`. Python tekstą koduoja UTF-8 formatu, tad galite tiesiai rašyti lietuviškais simboliais. **Bet paties kintamojo negalima pavadinti naudojant lietuviškas raides!**"
      ],
      "metadata": {
        "id": "b7BiKFk8Oy0E"
      }
    },
    {
      "cell_type": "code",
      "source": [
        "# sukurti kintamuosius\n",
        "vardas = \"Vardas\"\n",
        "pavarde = 'Pavardė'\n",
        "\n",
        "# atspausdinti rezultatą\n",
        "print(vardas, pavarde)"
      ],
      "metadata": {
        "colab": {
          "base_uri": "https://localhost:8080/"
        },
        "id": "H5lJE8unX7JK",
        "outputId": "ff1b48ab-c688-45fe-bf97-371b353c6c4b"
      },
      "execution_count": 20,
      "outputs": [
        {
          "output_type": "stream",
          "name": "stdout",
          "text": [
            "Vardas Pavardė\n"
          ]
        }
      ]
    },
    {
      "cell_type": "code",
      "source": [
        "# kartais reikia naudoti skirtingas kabutes dėl citatų (tekste naudojamos '' arba \"\")\n",
        "\n",
        "sakinys_1 = 'Yra sakoma \"Kas nerizikuoja, negeria šampano\"'\n",
        "sakinys_2 = \"Yra sakoma 'Kas nerizikuoja, negeria šampano'\"\n",
        "\n",
        "# priklausomai kokios kabutės panaudotos, skirtingai atspausdins tekstą\n",
        "print('Variantas #1', sakinys_1)\n",
        "print('Variantas #2', sakinys_2)"
      ],
      "metadata": {
        "colab": {
          "base_uri": "https://localhost:8080/"
        },
        "id": "7T8wUYwLaoJy",
        "outputId": "f2f557d9-9bf0-4d8b-a1c9-2f0bdc735330"
      },
      "execution_count": 21,
      "outputs": [
        {
          "output_type": "stream",
          "name": "stdout",
          "text": [
            "Variantas #1 Yra sakoma \"Kas nerizikuoja, negeria šampano\"\n",
            "Variantas #2 Yra sakoma 'Kas nerizikuoja, negeria šampano'\n"
          ]
        }
      ]
    },
    {
      "cell_type": "markdown",
      "source": [
        "Yra ilgas sąrašas metodų (funkcijų), kurios leidžia greitai apdoroti tekstinį kintamąjį. Pateikiu tris pavyzdžius:\n",
        "\n",
        "* `.lower()` visi simboliai paverčiaimi mažosiomis raidėmis.\n",
        "* `.upper()` visi simboliai didžiosiomis raidėmis.\n",
        "* `.replace()` pakeisti tekstą kitu tekstu.\n",
        "\n",
        "**Svarbu** atsiminti, kad ne visi metodai sukuria naują vertę, kai kurie modifikuoja vertę. Oficiali `string` objekto [dokumentacija](https://docs.python.org/3/library/stdtypes.html#text-sequence-type-str) bei trumpa visų metodų apžvalga [w3school](https://www.w3schools.com/python/python_ref_string.asp).\n",
        "\n",
        "Dažniausiai `string` funkcijos/metodai grąžina naują kintamąjį, tad reikia nepamiršti parašyti lygybės ženklo."
      ],
      "metadata": {
        "id": "W_EvnSLYcSSh"
      }
    },
    {
      "cell_type": "code",
      "source": [
        "# sukurti kintamąjį su sakiniu\n",
        "var = \"Vardas Pavarde 123\"\n",
        "\n",
        "# paversti mažosiomis raidėmis\n",
        "var.lower()"
      ],
      "metadata": {
        "colab": {
          "base_uri": "https://localhost:8080/",
          "height": 35
        },
        "id": "tS_6-70WdonR",
        "outputId": "bbfb68b5-4342-483a-814a-4e60f5f29033"
      },
      "execution_count": 22,
      "outputs": [
        {
          "output_type": "execute_result",
          "data": {
            "text/plain": [
              "'vardas pavarde 123'"
            ],
            "application/vnd.google.colaboratory.intrinsic+json": {
              "type": "string"
            }
          },
          "metadata": {},
          "execution_count": 22
        }
      ]
    },
    {
      "cell_type": "code",
      "source": [
        "# sukurti kintamąjį su sakiniu\n",
        "var = \"Vardas Pavarde 123\"\n",
        "\n",
        "# paversti mažosiomis raidėmis, tačiau mes neišsaugome kitnamojo\n",
        "var.lower()\n",
        "\n",
        "# grąžiname nemodifikuotą vertę\n",
        "var"
      ],
      "metadata": {
        "colab": {
          "base_uri": "https://localhost:8080/",
          "height": 35
        },
        "id": "B-KkXR1kmPs_",
        "outputId": "5f3e3cee-1f61-48bc-faf8-2a836171ed1f"
      },
      "execution_count": 23,
      "outputs": [
        {
          "output_type": "execute_result",
          "data": {
            "text/plain": [
              "'Vardas Pavarde 123'"
            ],
            "application/vnd.google.colaboratory.intrinsic+json": {
              "type": "string"
            }
          },
          "metadata": {},
          "execution_count": 23
        }
      ]
    },
    {
      "cell_type": "code",
      "source": [
        "# sukurti kintamąjį su sakiniu\n",
        "var = \"Vardas Pavarde 123\"\n",
        "\n",
        "# paversti mažosiomis raidėmis ir išsauguti\n",
        "var = var.lower()\n",
        "\n",
        "# grąžiname modifikuotą vertę\n",
        "var"
      ],
      "metadata": {
        "colab": {
          "base_uri": "https://localhost:8080/",
          "height": 35
        },
        "id": "h_w4GGaNmb12",
        "outputId": "296e9496-b153-4b63-ac68-b1fdcdaf843d"
      },
      "execution_count": 24,
      "outputs": [
        {
          "output_type": "execute_result",
          "data": {
            "text/plain": [
              "'vardas pavarde 123'"
            ],
            "application/vnd.google.colaboratory.intrinsic+json": {
              "type": "string"
            }
          },
          "metadata": {},
          "execution_count": 24
        }
      ]
    },
    {
      "cell_type": "code",
      "source": [
        "# sukurti kintamąjį su sakiniu\n",
        "var = \"Vardas Pavarde 123\"\n",
        "\n",
        "# paversti didžiosiomis raidėmis ir išsauguti\n",
        "var = var.upper()\n",
        "\n",
        "# grąžiname modifikuotą vertę\n",
        "var"
      ],
      "metadata": {
        "colab": {
          "base_uri": "https://localhost:8080/",
          "height": 35
        },
        "id": "rQl3JuXGmqvy",
        "outputId": "0ec43ab7-bd0e-497c-d0d7-fcb08f735098"
      },
      "execution_count": 25,
      "outputs": [
        {
          "output_type": "execute_result",
          "data": {
            "text/plain": [
              "'VARDAS PAVARDE 123'"
            ],
            "application/vnd.google.colaboratory.intrinsic+json": {
              "type": "string"
            }
          },
          "metadata": {},
          "execution_count": 25
        }
      ]
    },
    {
      "cell_type": "code",
      "source": [
        "# sukurti kintamąjį su sakiniu\n",
        "var = \"Vardas Vardenis vaidino 123\"\n",
        "\n",
        "# pakeisti visas V didžiasias raides į X\n",
        "var = var.replace('V', 'X')\n",
        "\n",
        "# grąžiname modifikuotą vertę\n",
        "var"
      ],
      "metadata": {
        "colab": {
          "base_uri": "https://localhost:8080/",
          "height": 35
        },
        "id": "AcfkmtKRmqsm",
        "outputId": "3f39fead-1ce5-44e5-aca4-b555fac03c47"
      },
      "execution_count": 26,
      "outputs": [
        {
          "output_type": "execute_result",
          "data": {
            "text/plain": [
              "'Xardas Xardenis vaidino 123'"
            ],
            "application/vnd.google.colaboratory.intrinsic+json": {
              "type": "string"
            }
          },
          "metadata": {},
          "execution_count": 26
        }
      ]
    },
    {
      "cell_type": "code",
      "source": [
        "# sukurti kintamąjį su sakiniu\n",
        "var = \"Vardas Vardenis vaidino 123\"\n",
        "\n",
        "# pakeisti visas V mažasias raides į K didžiąją\n",
        "var = var.replace('v', 'K')\n",
        "\n",
        "# grąžiname modifikuotą vertę\n",
        "var"
      ],
      "metadata": {
        "colab": {
          "base_uri": "https://localhost:8080/",
          "height": 35
        },
        "id": "eyBwX3lcnMuQ",
        "outputId": "b15f0ede-4670-4b53-d650-e77cbb98e764"
      },
      "execution_count": 27,
      "outputs": [
        {
          "output_type": "execute_result",
          "data": {
            "text/plain": [
              "'Vardas Vardenis Kaidino 123'"
            ],
            "application/vnd.google.colaboratory.intrinsic+json": {
              "type": "string"
            }
          },
          "metadata": {},
          "execution_count": 27
        }
      ]
    },
    {
      "cell_type": "code",
      "source": [
        "# sukurti kintamąjį su sakiniu\n",
        "var = \"Vardas Vardenis vaidino 123\"\n",
        "\n",
        "# pakeisti skaičių seką 123 į  XYZ\n",
        "var = var.replace('123', 'XYZ')\n",
        "\n",
        "# grąžiname modifikuotą vertę\n",
        "var"
      ],
      "metadata": {
        "colab": {
          "base_uri": "https://localhost:8080/",
          "height": 35
        },
        "id": "Elg1tNI-mqp-",
        "outputId": "32e400ff-f67d-475b-9983-e8e7f5e1bc2d"
      },
      "execution_count": 28,
      "outputs": [
        {
          "output_type": "execute_result",
          "data": {
            "text/plain": [
              "'Vardas Vardenis vaidino XYZ'"
            ],
            "application/vnd.google.colaboratory.intrinsic+json": {
              "type": "string"
            }
          },
          "metadata": {},
          "execution_count": 28
        }
      ]
    },
    {
      "cell_type": "code",
      "source": [
        "# sukurti kintamąjį su sakiniu\n",
        "var = \"Vardas vardas\"\n",
        "\n",
        "# kintamasis prieš pakeitimą\n",
        "print(\"Prieš pakeitimą:\", var)\n",
        "\n",
        "# pakeisti žodį \"Vard\" į nieką (tusčią simbolį)\n",
        "var = var.replace('Vard', '')\n",
        "\n",
        "# atspausdinti po pakeitimo\n",
        "print(\"Po pakeitimo:\", var)"
      ],
      "metadata": {
        "colab": {
          "base_uri": "https://localhost:8080/"
        },
        "id": "Y5koqjq-mqji",
        "outputId": "06bf7630-5db3-48b9-d555-86aa93c40bea"
      },
      "execution_count": 29,
      "outputs": [
        {
          "output_type": "stream",
          "name": "stdout",
          "text": [
            "Prieš pakeitimą: Vardas vardas\n",
            "Po pakeitimo: as vardas\n"
          ]
        }
      ]
    },
    {
      "cell_type": "markdown",
      "source": [
        "Teskto pjaustymas (angl. string slicing).\n",
        "\n",
        "![Pjaustymo iliustracija](https://prepinsta.com/wp-content/uploads/2020/07/Slicing-in-python.webp \"Pjaustymo iliustracija\")\n",
        "\n"
      ],
      "metadata": {
        "id": "gsFt9qRFii5X"
      }
    },
    {
      "cell_type": "code",
      "source": [
        "# tekstinio kintamojo pvz.\n",
        "text = 'Sakinys Antras Zodis'\n",
        "\n",
        "# pirmas elementas/simbolis\n",
        "text[0]"
      ],
      "metadata": {
        "id": "iY8wws19invq",
        "outputId": "b341050e-fd90-4b74-a597-7f04819dcc20",
        "colab": {
          "base_uri": "https://localhost:8080/",
          "height": 35
        }
      },
      "execution_count": 30,
      "outputs": [
        {
          "output_type": "execute_result",
          "data": {
            "text/plain": [
              "'S'"
            ],
            "application/vnd.google.colaboratory.intrinsic+json": {
              "type": "string"
            }
          },
          "metadata": {},
          "execution_count": 30
        }
      ]
    },
    {
      "cell_type": "code",
      "source": [
        "# paskutinis elementas\n",
        "text[-1]"
      ],
      "metadata": {
        "id": "rXbPgBpPEfLo",
        "outputId": "3358360b-e667-488a-c545-5e8542770199",
        "colab": {
          "base_uri": "https://localhost:8080/",
          "height": 35
        }
      },
      "execution_count": 31,
      "outputs": [
        {
          "output_type": "execute_result",
          "data": {
            "text/plain": [
              "'s'"
            ],
            "application/vnd.google.colaboratory.intrinsic+json": {
              "type": "string"
            }
          },
          "metadata": {},
          "execution_count": 31
        }
      ]
    },
    {
      "cell_type": "code",
      "source": [
        "# pirmas zodis/ pirmi 7 simboliai\n",
        "text[0:7]"
      ],
      "metadata": {
        "id": "DSQB8rcJFRn-",
        "outputId": "5a09b3fe-5dbc-43bc-dd7e-cf0f934cc601",
        "colab": {
          "base_uri": "https://localhost:8080/",
          "height": 35
        }
      },
      "execution_count": 32,
      "outputs": [
        {
          "output_type": "execute_result",
          "data": {
            "text/plain": [
              "'Sakinys'"
            ],
            "application/vnd.google.colaboratory.intrinsic+json": {
              "type": "string"
            }
          },
          "metadata": {},
          "execution_count": 32
        }
      ]
    },
    {
      "cell_type": "code",
      "source": [
        "# tas pat, tik nerašant nuo nulio\n",
        "text[:7]"
      ],
      "metadata": {
        "id": "-VozOLUIFVBJ",
        "outputId": "ceae3552-be5d-4202-f401-11d1d04636a5",
        "colab": {
          "base_uri": "https://localhost:8080/",
          "height": 35
        }
      },
      "execution_count": 33,
      "outputs": [
        {
          "output_type": "execute_result",
          "data": {
            "text/plain": [
              "'Sakinys'"
            ],
            "application/vnd.google.colaboratory.intrinsic+json": {
              "type": "string"
            }
          },
          "metadata": {},
          "execution_count": 33
        }
      ]
    },
    {
      "cell_type": "code",
      "source": [
        "# antras zodis\n",
        "text[8:14]"
      ],
      "metadata": {
        "id": "M-WswBjXFbTf",
        "outputId": "37164eae-8dfa-42ee-cbc2-e83b677712e9",
        "colab": {
          "base_uri": "https://localhost:8080/",
          "height": 35
        }
      },
      "execution_count": 34,
      "outputs": [
        {
          "output_type": "execute_result",
          "data": {
            "text/plain": [
              "'Antras'"
            ],
            "application/vnd.google.colaboratory.intrinsic+json": {
              "type": "string"
            }
          },
          "metadata": {},
          "execution_count": 34
        }
      ]
    },
    {
      "cell_type": "code",
      "source": [
        "# tekstinio kintamojo pvz.\n",
        "text = 'Vardenis Pavardenis'\n",
        "\n",
        "# paiimti simbolius nuo galo (4 nuo galo)\n",
        "text[-4:]"
      ],
      "metadata": {
        "id": "chuCO3ljLT7u",
        "outputId": "d639177c-0d62-43d1-98f8-82bb30b6a74d",
        "colab": {
          "base_uri": "https://localhost:8080/",
          "height": 35
        }
      },
      "execution_count": 35,
      "outputs": [
        {
          "output_type": "execute_result",
          "data": {
            "text/plain": [
              "'enis'"
            ],
            "application/vnd.google.colaboratory.intrinsic+json": {
              "type": "string"
            }
          },
          "metadata": {},
          "execution_count": 35
        }
      ]
    },
    {
      "cell_type": "code",
      "source": [
        "# paiimti simbolius nuo 2 iki 2 nuo galo (neįskaitant)\n",
        "text[2:-2]"
      ],
      "metadata": {
        "id": "_jRJBXEiLlkj",
        "outputId": "e85ab5da-de7b-48de-c3fb-8ba4071a1932",
        "colab": {
          "base_uri": "https://localhost:8080/",
          "height": 35
        }
      },
      "execution_count": 36,
      "outputs": [
        {
          "output_type": "execute_result",
          "data": {
            "text/plain": [
              "'rdenis Pavarden'"
            ],
            "application/vnd.google.colaboratory.intrinsic+json": {
              "type": "string"
            }
          },
          "metadata": {},
          "execution_count": 36
        }
      ]
    },
    {
      "cell_type": "markdown",
      "source": [
        "### Užduotis 2.1\n",
        "\n",
        "Sukurti tekstinį kintamąjį/kintamuosius panaudojant Jūsų vardą ir pavardę."
      ],
      "metadata": {
        "id": "xUHQCU6ZG5Zk"
      }
    },
    {
      "cell_type": "code",
      "source": [
        "# vieta Jūsų kodui"
      ],
      "metadata": {
        "id": "JCyGCWcgFdvv"
      },
      "execution_count": 37,
      "outputs": []
    },
    {
      "cell_type": "markdown",
      "source": [
        "### Užduotis 2.2\n",
        "\n",
        "Naudojant `print()` funkciją atspausdinti paskutines 5 kintamojo `txt` simbolius."
      ],
      "metadata": {
        "id": "UH4QG5AdHSaH"
      }
    },
    {
      "cell_type": "code",
      "source": [
        "# atspausdinti šito kintamojo paskutines 5 raides\n",
        "txt = \"ABCD 1234 EDCBA\"\n",
        "\n",
        "# vieta Jūsų kodui"
      ],
      "metadata": {
        "id": "pj-qXD3oHTQp"
      },
      "execution_count": 38,
      "outputs": []
    },
    {
      "cell_type": "markdown",
      "source": [
        "### Užduotis 2.3\n",
        "\n",
        "Naudojant `print()` funkciją atspausdinti abu kintamuosius. Pirmas kintamasis turi būti tik iš mažųjų raidžių, o antras iš didžiųjų.\n",
        "\n",
        "Atsakymo pavyzdys:\n",
        "\n",
        "`\"petras PETRAITIS\"`"
      ],
      "metadata": {
        "id": "KSMVDMOnHT6y"
      }
    },
    {
      "cell_type": "code",
      "source": [
        "t_1 = 'pEtras'\n",
        "t_2 = 'PETraTIs'\n",
        "\n",
        "# vieta Jūsų kodui"
      ],
      "metadata": {
        "id": "xADUvcJdFaR3"
      },
      "execution_count": 39,
      "outputs": []
    },
    {
      "cell_type": "markdown",
      "source": [
        "### Užduotis 2.4\n",
        "\n",
        "**(sudėtingesnė)** rasti internete metodą, kuris žodžių pirmas raides paverstų didžiosiomis. Pritaikyti rastą metodą ant `txt` kintamojo.\n",
        "\n",
        "Atsakymo pavyzdys:\n",
        "\n",
        "`\"Jonas Jonaitas\"`\n",
        "\n"
      ],
      "metadata": {
        "id": "OKzsbatkHVk3"
      }
    },
    {
      "cell_type": "code",
      "source": [
        "txt = \"JONAS jonaitis\"\n",
        "# vieta Jūsų kodui"
      ],
      "metadata": {
        "id": "8Zz_XMLpc_Om"
      },
      "execution_count": 40,
      "outputs": []
    },
    {
      "cell_type": "markdown",
      "source": [
        "# III. Skaičiai\n",
        "\n",
        "Yra dviejų tipų skaičiai:\n",
        "\n",
        "* sveikieji (int) - sukuriant juos nenaudoti taško,\n",
        "* racionalūs (float) - sukuriant skaičių naudojam tašką."
      ],
      "metadata": {
        "id": "wssdFESiOytm"
      }
    },
    {
      "cell_type": "code",
      "source": [
        "# pvz. dviejų skirtingų tipų skaičių\n",
        "\n",
        "var_1 = 1\n",
        "var_2 = 1.0\n",
        "\n",
        "print(f\"Sveikas skaičius:\", var_1)\n",
        "print(f\"Racionalus skaičius:\", var_2)"
      ],
      "metadata": {
        "id": "_eijoDxCglVs",
        "colab": {
          "base_uri": "https://localhost:8080/"
        },
        "outputId": "6ae1ce24-543f-4c5c-9f59-e484e2ba7f10"
      },
      "execution_count": 41,
      "outputs": [
        {
          "output_type": "stream",
          "name": "stdout",
          "text": [
            "Sveikas skaičius: 1\n",
            "Racionalus skaičius: 1.0\n"
          ]
        }
      ]
    },
    {
      "cell_type": "markdown",
      "source": [
        "## Sveikieji (`integers`)"
      ],
      "metadata": {
        "id": "vO_VsweTPZtP"
      }
    },
    {
      "cell_type": "code",
      "source": [
        "# aritmetinės operacijos\n",
        "var_1 = 1\n",
        "var_2 = 7\n",
        "\n",
        "# suma\n",
        "var_1 + var_2"
      ],
      "metadata": {
        "id": "qJX-3iu5GvXA",
        "colab": {
          "base_uri": "https://localhost:8080/"
        },
        "outputId": "b9e8d81d-0086-4323-9f17-d813ec682c40"
      },
      "execution_count": 42,
      "outputs": [
        {
          "output_type": "execute_result",
          "data": {
            "text/plain": [
              "8"
            ]
          },
          "metadata": {},
          "execution_count": 42
        }
      ]
    },
    {
      "cell_type": "code",
      "source": [
        "# aritmetinės operacijos\n",
        "var_1 = 1\n",
        "var_2 = 7\n",
        "\n",
        "# atimtis\n",
        "var_1 - var_2"
      ],
      "metadata": {
        "colab": {
          "base_uri": "https://localhost:8080/"
        },
        "id": "IvGaOaswrjm1",
        "outputId": "12d8000d-537b-449d-d84a-88773cab74a8"
      },
      "execution_count": 43,
      "outputs": [
        {
          "output_type": "execute_result",
          "data": {
            "text/plain": [
              "-6"
            ]
          },
          "metadata": {},
          "execution_count": 43
        }
      ]
    },
    {
      "cell_type": "code",
      "source": [
        "# aritmetinės operacijos\n",
        "var_1 = 1\n",
        "var_2 = 7\n",
        "\n",
        "# daugyba\n",
        "ans = var_1 * var_2\n",
        "print(ans, type(ans))"
      ],
      "metadata": {
        "colab": {
          "base_uri": "https://localhost:8080/"
        },
        "id": "zsCR230ZrnLf",
        "outputId": "229f2d4a-fdec-4992-e0c9-7c32d63d9b98"
      },
      "execution_count": 44,
      "outputs": [
        {
          "output_type": "stream",
          "name": "stdout",
          "text": [
            "7 <class 'int'>\n"
          ]
        }
      ]
    },
    {
      "cell_type": "code",
      "source": [
        "# aritmetinės operacijos\n",
        "var_1 = 10\n",
        "var_2 = 2\n",
        "\n",
        "# dalyba\n",
        "ans = var_1 / var_2\n",
        "print(ans, type(ans))"
      ],
      "metadata": {
        "colab": {
          "base_uri": "https://localhost:8080/"
        },
        "id": "-6S6iTpSrrMc",
        "outputId": "c3a3f542-285d-4d81-bf49-71c3d8008c48"
      },
      "execution_count": 45,
      "outputs": [
        {
          "output_type": "stream",
          "name": "stdout",
          "text": [
            "5.0 <class 'float'>\n"
          ]
        }
      ]
    },
    {
      "cell_type": "code",
      "source": [
        "# aritmetinės operacijos\n",
        "var_1 = 10\n",
        "var_2 = 6\n",
        "\n",
        "# liekana dalis\n",
        "ans = var_1 % var_2\n",
        "print(ans, type(ans))"
      ],
      "metadata": {
        "colab": {
          "base_uri": "https://localhost:8080/"
        },
        "id": "SIhZk_mkrrOc",
        "outputId": "fab02f6f-8e44-4534-a47c-6682ef393fea"
      },
      "execution_count": 46,
      "outputs": [
        {
          "output_type": "stream",
          "name": "stdout",
          "text": [
            "4 <class 'int'>\n"
          ]
        }
      ]
    },
    {
      "cell_type": "code",
      "source": [
        "# aritmetinės operacijos\n",
        "var_1 = 10\n",
        "var_2 = 6\n",
        "\n",
        "# sveikoji dalis\n",
        "ans = var_1 // var_2\n",
        "print(ans, type(ans))"
      ],
      "metadata": {
        "colab": {
          "base_uri": "https://localhost:8080/"
        },
        "id": "2PRA5ZKErrQr",
        "outputId": "19dac95d-4ddb-4b37-d1f4-1982530ea036"
      },
      "execution_count": 47,
      "outputs": [
        {
          "output_type": "stream",
          "name": "stdout",
          "text": [
            "1 <class 'int'>\n"
          ]
        }
      ]
    },
    {
      "cell_type": "code",
      "source": [
        "# aritmetinės operacijos\n",
        "var_1 = 4\n",
        "var_2 = 2\n",
        "\n",
        "# kelimas laipsniu\n",
        "ans = var_1 ** var_2\n",
        "print(ans, type(ans))"
      ],
      "metadata": {
        "colab": {
          "base_uri": "https://localhost:8080/"
        },
        "id": "qebsvjXVsEzh",
        "outputId": "8955150b-6ac8-4c65-e5dc-1551117dbf69"
      },
      "execution_count": 48,
      "outputs": [
        {
          "output_type": "stream",
          "name": "stdout",
          "text": [
            "16 <class 'int'>\n"
          ]
        }
      ]
    },
    {
      "cell_type": "code",
      "source": [
        "# aritmetinės operacijos\n",
        "var_1 = 4\n",
        "var_2 = 1/2\n",
        "\n",
        "# ištraukti šaknį\n",
        "ans = var_1 ** var_2\n",
        "print(ans, type)"
      ],
      "metadata": {
        "colab": {
          "base_uri": "https://localhost:8080/"
        },
        "id": "OiwxUHtrsHL0",
        "outputId": "e0d70050-324f-4f3a-f998-e8a2a4d65681"
      },
      "execution_count": 49,
      "outputs": [
        {
          "output_type": "stream",
          "name": "stdout",
          "text": [
            "2.0 <class 'type'>\n"
          ]
        }
      ]
    },
    {
      "cell_type": "markdown",
      "source": [
        "## Racionalieji (`floats`)\n"
      ],
      "metadata": {
        "id": "iBO205G4PDUc"
      }
    },
    {
      "cell_type": "code",
      "source": [
        "# aritmetinės operacijos\n",
        "var_1 = 1.5\n",
        "var_2 = 5.37\n",
        "\n",
        "# suma\n",
        "var_1 + var_2"
      ],
      "metadata": {
        "id": "huUljl9bPCyZ",
        "colab": {
          "base_uri": "https://localhost:8080/"
        },
        "outputId": "e7eb6833-cb44-436e-bd2a-d4981a2ae065"
      },
      "execution_count": 50,
      "outputs": [
        {
          "output_type": "execute_result",
          "data": {
            "text/plain": [
              "6.87"
            ]
          },
          "metadata": {},
          "execution_count": 50
        }
      ]
    },
    {
      "cell_type": "code",
      "source": [
        "# aritmetinės operacijos\n",
        "var_1 = 14.1\n",
        "var_2 = 2.77\n",
        "\n",
        "# atimtis\n",
        "var_1 - var_2"
      ],
      "metadata": {
        "colab": {
          "base_uri": "https://localhost:8080/"
        },
        "id": "8h2ugxyTNkOq",
        "outputId": "cf05bc91-4b88-4982-a564-d7933f818117"
      },
      "execution_count": 51,
      "outputs": [
        {
          "output_type": "execute_result",
          "data": {
            "text/plain": [
              "11.33"
            ]
          },
          "metadata": {},
          "execution_count": 51
        }
      ]
    },
    {
      "cell_type": "code",
      "source": [
        "# aritmetinės operacijos\n",
        "var_1 = 11.1\n",
        "var_2 = 0.5\n",
        "\n",
        "# daugyba\n",
        "ans = var_1 * var_2\n",
        "print(ans, type(ans))"
      ],
      "metadata": {
        "colab": {
          "base_uri": "https://localhost:8080/"
        },
        "id": "imdMvbLnNkRl",
        "outputId": "9ecf2b61-9d21-4b1e-cfb5-3196245f09b7"
      },
      "execution_count": 52,
      "outputs": [
        {
          "output_type": "stream",
          "name": "stdout",
          "text": [
            "5.55 <class 'float'>\n"
          ]
        }
      ]
    },
    {
      "cell_type": "code",
      "source": [
        "# aritmetinės operacijos\n",
        "var_1 = 7.5\n",
        "var_2 = 1.5\n",
        "\n",
        "# dalyba\n",
        "ans = var_1 / var_2\n",
        "print(ans, type(ans))"
      ],
      "metadata": {
        "colab": {
          "base_uri": "https://localhost:8080/"
        },
        "id": "veUPMa10M8T7",
        "outputId": "196de036-d885-4bbc-ef84-7180db13051c"
      },
      "execution_count": 53,
      "outputs": [
        {
          "output_type": "stream",
          "name": "stdout",
          "text": [
            "5.0 <class 'float'>\n"
          ]
        }
      ]
    },
    {
      "cell_type": "code",
      "source": [
        "# aritmetinės operacijos\n",
        "var_1 = 2\n",
        "var_2 = 2.5\n",
        "\n",
        "# kelimas laipsniu\n",
        "ans = var_1 ** var_2\n",
        "print(ans, type(ans))"
      ],
      "metadata": {
        "colab": {
          "base_uri": "https://localhost:8080/"
        },
        "id": "kJW4cpoDNn9M",
        "outputId": "3ed95ac3-b698-491c-f14e-a5bac5c2ebab"
      },
      "execution_count": 54,
      "outputs": [
        {
          "output_type": "stream",
          "name": "stdout",
          "text": [
            "5.656854249492381 <class 'float'>\n"
          ]
        }
      ]
    },
    {
      "cell_type": "code",
      "source": [
        "# apvalinti skaičių iki šimtųjų\n",
        "round(123.123, 2)"
      ],
      "metadata": {
        "colab": {
          "base_uri": "https://localhost:8080/"
        },
        "id": "5TVjtXuZN0Kx",
        "outputId": "38432d9a-358f-4e81-88e4-ad424d695475"
      },
      "execution_count": 55,
      "outputs": [
        {
          "output_type": "execute_result",
          "data": {
            "text/plain": [
              "123.12"
            ]
          },
          "metadata": {},
          "execution_count": 55
        }
      ]
    },
    {
      "cell_type": "code",
      "source": [
        "# apvalinti skaičių iki dešimtųjų\n",
        "round(123.123, 1)"
      ],
      "metadata": {
        "colab": {
          "base_uri": "https://localhost:8080/"
        },
        "id": "OC35CJ4iN4hu",
        "outputId": "b680e29c-71ea-41ba-c702-b88380327039"
      },
      "execution_count": 56,
      "outputs": [
        {
          "output_type": "execute_result",
          "data": {
            "text/plain": [
              "123.1"
            ]
          },
          "metadata": {},
          "execution_count": 56
        }
      ]
    },
    {
      "cell_type": "markdown",
      "source": [
        "## Užduotys"
      ],
      "metadata": {
        "id": "I8i05GRwG-GH"
      }
    },
    {
      "cell_type": "markdown",
      "source": [
        "### Užduotis 3.1\n",
        "\n",
        "Lietuvoje 2021 buvo suskaičiuoti 2784279 gyventojai. Lietuvos Respublikos plotas yra 65300 km^2.\n",
        "\n",
        "Kiek vidutiniškai yra gyventojų vienam kvadratiniame kilometre?"
      ],
      "metadata": {
        "id": "6XrhCYwaOWNt"
      }
    },
    {
      "cell_type": "code",
      "source": [
        "# duomenys (nekeisti)\n",
        "gyv_skaicius = 2784279\n",
        "plotas = 65300\n",
        "\n",
        "# įvesti savo formulę, vieta Jūsų kodui\n",
        "tankis = 0\n",
        "\n",
        "# suapvalinkite savo rezutaltą iki šimtųjų\n",
        "\n",
        "# atspausdina atsakymą (šitos eilutės nekeisti)\n",
        "print(f'Lietuvoje yra {tankis} žm./km^2')"
      ],
      "metadata": {
        "id": "sggl0zvSG9jZ",
        "colab": {
          "base_uri": "https://localhost:8080/"
        },
        "outputId": "1f655eed-abc3-43eb-e674-1bd66be38f0d"
      },
      "execution_count": 57,
      "outputs": [
        {
          "output_type": "stream",
          "name": "stdout",
          "text": [
            "Lietuvoje yra 0 žm./km^2\n"
          ]
        }
      ]
    },
    {
      "cell_type": "markdown",
      "source": [
        "### Užduotis 3.2\n",
        "\n",
        "Autobuse telpa 87 žmonės. Tačiau važiuoti norinčių yra 93. Naudodami liekanos operatorių, apskaičiuokite, kiek žmonių netilps?"
      ],
      "metadata": {
        "id": "z8SxmQJIOf5P"
      }
    },
    {
      "cell_type": "code",
      "source": [
        "# kodo pvz. ieškoti aukščiau\n",
        "# vieta Jūsų kodui, su ALT + ENTER galite daugiau eilučių susikurti\n"
      ],
      "metadata": {
        "id": "CIhCa-B4OS86"
      },
      "execution_count": 58,
      "outputs": []
    },
    {
      "cell_type": "markdown",
      "source": [
        "### Užduotis 3.3\n",
        "\n",
        "Bėgimas truko 12345 sekundes. Kiek šis bėgimas truko minutėmis, valandomis ir dienomis? Atsakymus suapvalinkite iki dešimčių."
      ],
      "metadata": {
        "id": "gs8W-aHjOrva"
      }
    },
    {
      "cell_type": "code",
      "source": [
        "begimo_trukme_sec = 12345\n",
        "\n",
        "# vieta Jūsų kodui\n",
        "begimo_trukme_minutemis = 0\n",
        "begimo_trukme_valandomis = 0\n",
        "begimo_trukme_dienomis = 0\n",
        "\n",
        "# suapvalinkite atsakimus iki 10-tųjų\n",
        "\n",
        "# nekeisti žemiau esančio kodo\n",
        "print('Bėgimas truko:')\n",
        "print(f\"{begimo_trukme_minutemis} minutes.\")\n",
        "print(f\"{begimo_trukme_valandomis} valandos\")\n",
        "print(f\"{begimo_trukme_dienomis} dienos\")"
      ],
      "metadata": {
        "colab": {
          "base_uri": "https://localhost:8080/"
        },
        "id": "2O0HnPuGOTAG",
        "outputId": "e8a9ed46-f75b-460e-dd89-e37fc2a6ff54"
      },
      "execution_count": 59,
      "outputs": [
        {
          "output_type": "stream",
          "name": "stdout",
          "text": [
            "Bėgimas truko:\n",
            "0 minutes.\n",
            "0 valandos\n",
            "0 dienos\n"
          ]
        }
      ]
    },
    {
      "cell_type": "markdown",
      "source": [
        "# IV. Loginiai (`booleans`)\n",
        "\n",
        "`Boolean` loginės sąlygos:\n",
        "\n",
        "* `==` patikrinti ar lygu (vienodi),\n",
        "* `!=` patikrinti ar nelygu (pvz. skirtingi kintamieji),\n",
        "* `>` daugiau,\n",
        "* `>=` daugiau arba lygu,\n",
        "* `<` mažiau,\n",
        "* `<=` mažiau arba lygu,\n",
        "* `in` yra sąraše/masyve,\n",
        "* `not in` nėra sąraše/masyve."
      ],
      "metadata": {
        "id": "dPAw95VhPIp2"
      }
    },
    {
      "cell_type": "code",
      "source": [
        "# ar 30 daugiau už 5\n",
        "a = 30 > 5\n",
        "print(a)"
      ],
      "metadata": {
        "id": "cEohfBJ_gqm3",
        "colab": {
          "base_uri": "https://localhost:8080/"
        },
        "outputId": "c1bb1341-6364-4068-c183-d951e52932ba"
      },
      "execution_count": 60,
      "outputs": [
        {
          "output_type": "stream",
          "name": "stdout",
          "text": [
            "True\n"
          ]
        }
      ]
    },
    {
      "cell_type": "code",
      "source": [
        "# ar žodis \"Hello\" yra sakinyje \"Hello World!\"\n",
        "b = \"Hello World!\"\n",
        "c = 'Hello' in b\n",
        "print(c)"
      ],
      "metadata": {
        "id": "aPPPwVqDPHWr",
        "outputId": "cf24f272-3e5d-4a27-f6ce-fc4b9cc6575a",
        "colab": {
          "base_uri": "https://localhost:8080/"
        }
      },
      "execution_count": 61,
      "outputs": [
        {
          "output_type": "stream",
          "name": "stdout",
          "text": [
            "True\n"
          ]
        }
      ]
    },
    {
      "cell_type": "code",
      "source": [
        "# lygybės pvz.\n",
        "a = 2\n",
        "b = 5\n",
        "c = 2\n",
        "\n",
        "print(\"a = b\", a == b)\n",
        "print(\"a = c\", a == c)"
      ],
      "metadata": {
        "id": "pb2VUA_aPRUj",
        "outputId": "f6ee1487-2522-40c4-9d31-4704fd0b9d73",
        "colab": {
          "base_uri": "https://localhost:8080/"
        }
      },
      "execution_count": 62,
      "outputs": [
        {
          "output_type": "stream",
          "name": "stdout",
          "text": [
            "a = b False\n",
            "a = c True\n"
          ]
        }
      ]
    },
    {
      "cell_type": "code",
      "source": [
        "# nelygybės pvz.\n",
        "print(a != b)\n",
        "print(a != c)"
      ],
      "metadata": {
        "id": "O5yBKSBoP79N",
        "outputId": "63051155-5ae3-4c21-ce30-9590a7c81b42",
        "colab": {
          "base_uri": "https://localhost:8080/"
        }
      },
      "execution_count": 63,
      "outputs": [
        {
          "output_type": "stream",
          "name": "stdout",
          "text": [
            "True\n",
            "False\n"
          ]
        }
      ]
    },
    {
      "cell_type": "code",
      "source": [
        "# daugiau/mažiau arba lygu\n",
        "print(a >= b)\n",
        "print(a <= c)"
      ],
      "metadata": {
        "id": "Kiy9atfjQEhL",
        "outputId": "112c1f7d-0268-4e12-d26b-8abf37faace6",
        "colab": {
          "base_uri": "https://localhost:8080/"
        }
      },
      "execution_count": 64,
      "outputs": [
        {
          "output_type": "stream",
          "name": "stdout",
          "text": [
            "False\n",
            "True\n"
          ]
        }
      ]
    },
    {
      "cell_type": "code",
      "source": [
        "# daugiau/mažiau\n",
        "print(a > b)\n",
        "print(a < c)"
      ],
      "metadata": {
        "id": "21c-0dN9QGNX",
        "outputId": "dc9e8da4-38e0-4106-f171-c64354a788f7",
        "colab": {
          "base_uri": "https://localhost:8080/"
        }
      },
      "execution_count": 65,
      "outputs": [
        {
          "output_type": "stream",
          "name": "stdout",
          "text": [
            "False\n",
            "False\n"
          ]
        }
      ]
    },
    {
      "cell_type": "markdown",
      "source": [
        "### Užduotis 4.1\n",
        "\n",
        "Atsakykite į klausimą naudodamiesi `boolean` operatoriumi - ar sakinyje `Meška paslydo` yra žodis `meška`?"
      ],
      "metadata": {
        "id": "xR7jVe-MHAPu"
      }
    },
    {
      "cell_type": "code",
      "source": [
        "# nekeist kintamojo vertės\n",
        "sakinys = \"Meška paslydo\"\n",
        "\n",
        "# vieta Jūsų kodui\n",
        "atsakymas = 0\n",
        "\n",
        "# atspausdina atsakymą\n",
        "print(atsakymas)"
      ],
      "metadata": {
        "id": "DuFuPnhoPUs0",
        "outputId": "bde56f4b-9b23-43cf-cf89-ca25496e2fb9",
        "colab": {
          "base_uri": "https://localhost:8080/"
        }
      },
      "execution_count": 66,
      "outputs": [
        {
          "output_type": "stream",
          "name": "stdout",
          "text": [
            "0\n"
          ]
        }
      ]
    },
    {
      "cell_type": "markdown",
      "source": [
        "### Užduotis 4.2\n",
        "\n",
        "Atsakykite į klausimą naudodamiesi `boolean` operatoriumi - ar `Onutės` yra lygus `onutė`?"
      ],
      "metadata": {
        "id": "cZAE4OGjPWno"
      }
    },
    {
      "cell_type": "code",
      "source": [
        "# nekeist kintamųjų verčių\n",
        "vardas_1 = 'Onutė'\n",
        "vardas_2 = 'onuTė'\n",
        "\n",
        "# Jūsų atsakymas su boolean operatoriumi\n"
      ],
      "metadata": {
        "id": "342cyjcxG_9i"
      },
      "execution_count": 67,
      "outputs": []
    },
    {
      "cell_type": "markdown",
      "source": [
        "# V. Kintamųjų atvaizdavimas"
      ],
      "metadata": {
        "id": "R0NU-DPigt1v"
      }
    },
    {
      "cell_type": "markdown",
      "source": [
        "## Senovinis būdas"
      ],
      "metadata": {
        "id": "jEeXV7OV-rVU"
      }
    },
    {
      "cell_type": "code",
      "source": [
        "# deklaruoti du kintamuosius\n",
        "skaicius = 861\n",
        "tekstas = 'Vardas'\n",
        "\n",
        "# senovinis atvaizdavimas\n",
        "'Labas, %s' % tekstas"
      ],
      "metadata": {
        "id": "dlBB8s6ZgwiE",
        "outputId": "3d1c836f-4a4b-4196-a4fd-6cbc427defc7",
        "colab": {
          "base_uri": "https://localhost:8080/",
          "height": 35
        }
      },
      "execution_count": 68,
      "outputs": [
        {
          "output_type": "execute_result",
          "data": {
            "text/plain": [
              "'Labas, Vardas'"
            ],
            "application/vnd.google.colaboratory.intrinsic+json": {
              "type": "string"
            }
          },
          "metadata": {},
          "execution_count": 68
        }
      ]
    },
    {
      "cell_type": "code",
      "source": [
        "# senovinis atvaizdavimas\n",
        "print('Namo numeris: %s' % skaicius)"
      ],
      "metadata": {
        "id": "AYQZRqE-8f60",
        "outputId": "fb22b45f-d9be-4fbe-fd9d-38e43b9b2a73",
        "colab": {
          "base_uri": "https://localhost:8080/"
        }
      },
      "execution_count": 69,
      "outputs": [
        {
          "output_type": "stream",
          "name": "stdout",
          "text": [
            "Namo numeris: 861\n"
          ]
        }
      ]
    },
    {
      "cell_type": "code",
      "source": [
        "# senovinis atvaizdavimas (kaip skaičius)\n",
        "print('Namo numeris: %f' % skaicius)"
      ],
      "metadata": {
        "id": "Zws3lZca8tV0",
        "outputId": "dc3ccbb8-413b-400b-bad7-4763289cbbb2",
        "colab": {
          "base_uri": "https://localhost:8080/"
        }
      },
      "execution_count": 70,
      "outputs": [
        {
          "output_type": "stream",
          "name": "stdout",
          "text": [
            "Namo numeris: 861.000000\n"
          ]
        }
      ]
    },
    {
      "cell_type": "code",
      "source": [
        "# atvaizduoti abu kintamuosius\n",
        "'Labas %s, tau skolingas %.2f eurus!' % (tekstas, skaicius)"
      ],
      "metadata": {
        "id": "8IvvdO1b9iEM",
        "outputId": "ea929e49-928a-495f-efaa-43da70ffb935",
        "colab": {
          "base_uri": "https://localhost:8080/",
          "height": 35
        }
      },
      "execution_count": 71,
      "outputs": [
        {
          "output_type": "execute_result",
          "data": {
            "text/plain": [
              "'Labas Vardas, tau skolingas 861.00 eurus!'"
            ],
            "application/vnd.google.colaboratory.intrinsic+json": {
              "type": "string"
            }
          },
          "metadata": {},
          "execution_count": 71
        }
      ]
    },
    {
      "cell_type": "code",
      "source": [
        "# kaip auksčiau tik naudojant žodyną\n",
        "'Labas %(tekstas)s, tau skolingas %(skaicius)f eurus!' % {\"tekstas\": tekstas, \"skaicius\": skaicius}"
      ],
      "metadata": {
        "id": "F_gdVUdK937d",
        "outputId": "b49a85fa-048f-41a1-fb75-c799233a6f4a",
        "colab": {
          "base_uri": "https://localhost:8080/",
          "height": 35
        }
      },
      "execution_count": 72,
      "outputs": [
        {
          "output_type": "execute_result",
          "data": {
            "text/plain": [
              "'Labas Vardas, tau skolingas 861.000000 eurus!'"
            ],
            "application/vnd.google.colaboratory.intrinsic+json": {
              "type": "string"
            }
          },
          "metadata": {},
          "execution_count": 72
        }
      ]
    },
    {
      "cell_type": "markdown",
      "source": [
        "## Dabartinis"
      ],
      "metadata": {
        "id": "Y94N92ncDbJ-"
      }
    },
    {
      "cell_type": "code",
      "source": [
        "# .format() metodas\n",
        "vardas = \"Jonai\"\n",
        "'Labas, {}!'.format(vardas)"
      ],
      "metadata": {
        "id": "7JkEtN-h-Ors",
        "outputId": "02751f5b-c74e-4e38-9889-0d62249177bd",
        "colab": {
          "base_uri": "https://localhost:8080/",
          "height": 35
        }
      },
      "execution_count": 73,
      "outputs": [
        {
          "output_type": "execute_result",
          "data": {
            "text/plain": [
              "'Labas, Jonai!'"
            ],
            "application/vnd.google.colaboratory.intrinsic+json": {
              "type": "string"
            }
          },
          "metadata": {},
          "execution_count": 73
        }
      ]
    },
    {
      "cell_type": "code",
      "source": [
        "# šiek tiek kitaip\n",
        "vardas = \"Jonai\"\n",
        "pasisveikinimas = 'Labas, {}!'.format(vardas)\n",
        "print(pasisveikinimas)"
      ],
      "metadata": {
        "id": "pcXuL1rFDov1",
        "outputId": "27fad2ed-031e-4b3f-e6c3-e9d7b3119e4c",
        "colab": {
          "base_uri": "https://localhost:8080/"
        }
      },
      "execution_count": 74,
      "outputs": [
        {
          "output_type": "stream",
          "name": "stdout",
          "text": [
            "Labas, Jonai!\n"
          ]
        }
      ]
    },
    {
      "cell_type": "code",
      "source": [
        "# deklaruoti du kintamuosius\n",
        "skaicius = 861\n",
        "tekstas = 'Vardas'\n",
        "# kaip auksčiau tik naudojant žodyną\n",
        "'Labas {tekstas}, tau skolingas {skaicius} eurus!'.format(tekstas= tekstas, skaicius= skaicius)"
      ],
      "metadata": {
        "id": "ZiRprJjQDwl8",
        "outputId": "bf1de2c1-7928-4448-d767-55b810acd8cf",
        "colab": {
          "base_uri": "https://localhost:8080/",
          "height": 35
        }
      },
      "execution_count": 75,
      "outputs": [
        {
          "output_type": "execute_result",
          "data": {
            "text/plain": [
              "'Labas Vardas, tau skolingas 861 eurus!'"
            ],
            "application/vnd.google.colaboratory.intrinsic+json": {
              "type": "string"
            }
          },
          "metadata": {},
          "execution_count": 75
        }
      ]
    },
    {
      "cell_type": "code",
      "source": [
        "# nenaudojant .format\n",
        "vardas = \"Jonai\"\n",
        "f'Sveikas, {vardas}!'"
      ],
      "metadata": {
        "id": "olF3-43b93_L",
        "outputId": "a57b7a85-b4c3-42e4-a766-516a5dd62cd6",
        "colab": {
          "base_uri": "https://localhost:8080/",
          "height": 35
        }
      },
      "execution_count": 76,
      "outputs": [
        {
          "output_type": "execute_result",
          "data": {
            "text/plain": [
              "'Sveikas, Jonai!'"
            ],
            "application/vnd.google.colaboratory.intrinsic+json": {
              "type": "string"
            }
          },
          "metadata": {},
          "execution_count": 76
        }
      ]
    },
    {
      "cell_type": "code",
      "source": [
        "# matematinės operacijos\n",
        "a = 5\n",
        "b = 10\n",
        "f'Penki plius dešimti yra {a + b}.'"
      ],
      "metadata": {
        "id": "hWOl3a6KET50",
        "outputId": "25f77351-4164-49ea-ba64-d415648f1a74",
        "colab": {
          "base_uri": "https://localhost:8080/",
          "height": 35
        }
      },
      "execution_count": 77,
      "outputs": [
        {
          "output_type": "execute_result",
          "data": {
            "text/plain": [
              "'Penki plius dešimti yra 15.'"
            ],
            "application/vnd.google.colaboratory.intrinsic+json": {
              "type": "string"
            }
          },
          "metadata": {},
          "execution_count": 77
        }
      ]
    },
    {
      "cell_type": "code",
      "source": [
        "# tas pats tik kitaip\n",
        "f\"{a} - {b} = {a-b}\""
      ],
      "metadata": {
        "id": "H3bVt7JEEd-M",
        "outputId": "346c5511-aa0a-4f4a-ac48-b7651da372cf",
        "colab": {
          "base_uri": "https://localhost:8080/",
          "height": 35
        }
      },
      "execution_count": 78,
      "outputs": [
        {
          "output_type": "execute_result",
          "data": {
            "text/plain": [
              "'5 - 10 = -5'"
            ],
            "application/vnd.google.colaboratory.intrinsic+json": {
              "type": "string"
            }
          },
          "metadata": {},
          "execution_count": 78
        }
      ]
    },
    {
      "cell_type": "code",
      "source": [
        "# galima \"sumuoti\" tekstus\n",
        "vardas = \"Vardenis\"\n",
        "pavarde = \"Pavardenis\"\n",
        "zinute = vardas + \" \" + pavarde"
      ],
      "metadata": {
        "id": "2AKwuESZEmHy"
      },
      "execution_count": 79,
      "outputs": []
    },
    {
      "cell_type": "code",
      "source": [
        "# skaičių apvalinimas po kablelio\n",
        "skaicius = 1.2345\n",
        "\n",
        "# suapvalinti iki 2 skaičių po kablelio\n",
        "f\"{skaicius:.2f}\""
      ],
      "metadata": {
        "id": "wMnTWSANHO-s",
        "outputId": "d7f19376-b3ad-4ee5-d86c-374bbb50573f",
        "colab": {
          "base_uri": "https://localhost:8080/",
          "height": 35
        }
      },
      "execution_count": 80,
      "outputs": [
        {
          "output_type": "execute_result",
          "data": {
            "text/plain": [
              "'1.23'"
            ],
            "application/vnd.google.colaboratory.intrinsic+json": {
              "type": "string"
            }
          },
          "metadata": {},
          "execution_count": 80
        }
      ]
    },
    {
      "cell_type": "code",
      "source": [
        "# riboti maksimalų simbolių skaičių\n",
        "vardas = \"Antanas\"\n",
        "\n",
        "print(f\"Daugiausiai atvaizduojame 3 simbolius todėl {vardas} patampa {vardas:.3s}\")"
      ],
      "metadata": {
        "id": "tgQqMC8-Ha6z",
        "outputId": "db9508fd-ae98-4ee2-fcce-197a3212a903",
        "colab": {
          "base_uri": "https://localhost:8080/"
        }
      },
      "execution_count": 81,
      "outputs": [
        {
          "output_type": "stream",
          "name": "stdout",
          "text": [
            "Daugiausiai atvaizduojame 3 simbolius todėl Antanas patampa Ant\n"
          ]
        }
      ]
    },
    {
      "cell_type": "markdown",
      "source": [
        "## Užduotys"
      ],
      "metadata": {
        "id": "u-dokx38HF0i"
      }
    },
    {
      "cell_type": "markdown",
      "source": [
        "### Užduotis 5.1\n",
        "\n",
        "Sukurkite 3 kintamuosius:\n",
        "\n",
        "* `vardas`\n",
        "* `pavarde`\n",
        "* `sakinys`, šis kintamasis turi panaudoti auksčiau esančius kintamuosius.\n",
        "\n",
        "Atspausdinkite `sakinys` kintamąjį tokio tipo:\n",
        "\n",
        "`\"Mano vardas X, o pavardė Y. Manolu susipažinti!\"`, kur `X` ir `Y` turi būti panaudoti kintamieji `vardas` ir `pavarde`."
      ],
      "metadata": {
        "id": "4cVni8FoE__R"
      }
    },
    {
      "cell_type": "code",
      "source": [
        "# vieta Jūsų kodui\n"
      ],
      "metadata": {
        "id": "8VnYwxh5FCuL"
      },
      "execution_count": 82,
      "outputs": []
    },
    {
      "cell_type": "markdown",
      "source": [
        "### Užduotis 5.2\n",
        "\n",
        "Atvaizduokite matematines funkcijas.\n",
        "\n",
        "Atsakymo pavyzdys:\n",
        "\n",
        "```\n",
        "a = 15\n",
        "b = -3.5\n",
        "\n",
        "# vieta Jūsų kodui\n",
        "\n",
        "print(sandauga)\n",
        ">> a x b = -52.5\n",
        "print(dalyba)\n",
        ">> a / b = -4.29\n",
        "```"
      ],
      "metadata": {
        "id": "ZfPF--xZFDZb"
      }
    },
    {
      "cell_type": "code",
      "source": [
        "# kintamieji (galite keisti)\n",
        "a = 15\n",
        "b = -3.5\n",
        "\n",
        "# pakeisti, kad atsapusdintų atsakymą a x b = atsakymas\n",
        "sandauga = \"\"\n",
        "# pakeisti, kad atsapusdintų atsakymą a / b = atsakymas\n",
        "dalyba = ''\n",
        "\n",
        "# atspaudinti atsakymus\n",
        "print(sandauga)\n",
        "print(dalyba)"
      ],
      "metadata": {
        "id": "3aL6-_xJH2B1",
        "outputId": "73c044a0-beb4-46be-ae8b-25df23d072fd",
        "colab": {
          "base_uri": "https://localhost:8080/"
        }
      },
      "execution_count": 83,
      "outputs": [
        {
          "output_type": "stream",
          "name": "stdout",
          "text": [
            "\n",
            "\n"
          ]
        }
      ]
    },
    {
      "cell_type": "code",
      "source": [],
      "metadata": {
        "id": "9rD4b6ltFCyk"
      },
      "execution_count": 83,
      "outputs": []
    }
  ]
}