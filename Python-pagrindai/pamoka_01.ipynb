{
  "nbformat": 4,
  "nbformat_minor": 0,
  "metadata": {
    "colab": {
      "provenance": [],
      "include_colab_link": true
    },
    "kernelspec": {
      "name": "python3",
      "display_name": "Python 3"
    },
    "language_info": {
      "name": "python"
    }
  },
  "cells": [
    {
      "cell_type": "markdown",
      "metadata": {
        "id": "view-in-github",
        "colab_type": "text"
      },
      "source": [
        "<a href=\"https://colab.research.google.com/github/TK-Problem/Python-mokymai/blob/master/Python-pagrindai/pamoka_01.ipynb\" target=\"_parent\"><img src=\"https://colab.research.google.com/assets/colab-badge.svg\" alt=\"Open In Colab\"/></a>"
      ]
    },
    {
      "cell_type": "markdown",
      "source": [
        "# **Pamoka 1**\n",
        "\n",
        "Šioje pamokoje supažinu su pagrindinėmis [Python](https://www.python.org/) funcijomis, [Jupyter Notebook](https://jupyter.org/)/[Google colab](https://colab.research.google.com/) darbo aplinkomis bei primityviais kintamaisiais.\n",
        "\n",
        "### **Programavimo aplinka**\n",
        "\n",
        "Šis kodas yra parašytas `.ipynb` (interactive Python notebook) formatu. Yra daug skirtingų pragramų bei internetinių sprendimų, kurie gali paleisti `.ipynb` failus. Keletas pavyzdžių:\n",
        "\n",
        "* [Anaconda](https://www.anaconda.com/products/distribution) - reikia lokaliai atsisiųsti ir įsirašyti ant savo kompiuterio. Ji automatiškai įrašo **Jupyter Notebook** bet taip pat galite per Anaconda Navigator įsirašyti **Jupyter Lab** (suteikia daugiau funkcionalumo).\n",
        "* [Visual Studio Code](https://code.visualstudio.com/) - įsirašius loakliai į savo kompiuteri papildomai reiks atlikti papildomų [žingsnių](https://code.visualstudio.com/docs/datascience/jupyter-notebooks), kad leistų redaguoti `.ipynb` failus. \n",
        "* [Kaggle](https://www.kaggle.com/) - socialinis tinklas duomenų analitikams ir mokslininkas dalintis žiniomis, kodu (`.ipynb` formatu) bei dalyvauti įvairiuose konkursuose.\n",
        "* [Datalore](https://datalore.jetbrains.com/) - yra nemokama ir mokama versija.\n",
        "* [Google colab](https://colab.research.google.com/) - būtent šioje aplinkoje rekomenduoju leisti konspekto kodą.\n",
        "* ir daug kitų variantų.\n",
        "\n",
        "Pagrindinės sparčiosios kombinacijos (keybord shortcuts):\n",
        "\n",
        "* `SHIFT` + `ENTER` paleisti kodo bloką nesukuriant naujo kodo bloko.\n",
        "* `ALT` + `ENTER` paleisti kodo bloką sukuriant naują kodo bloką.\n",
        "* `ALT` + `A` sucukurti kodo bloką auksčiau.\n",
        "* `ALT` + `B` sucukurti kodo bloką žemiau.\n",
        "\n",
        "Visos šios kombinacijos veikia daugelyje prgramų, kuriso dirba `.ipynb` failais. Google colab taip pat leidžia susikurti daugiau sparčiųjų kobinacijų `Tools -> Keyboard shortcuts` arba `CTRL` + `M` + `H`. Geriau standartinių neredaguoti, tačiau savo patogumui gali susikurti naujų kodo kombinacijų."
      ],
      "metadata": {
        "id": "RfcExizOFOLN"
      }
    },
    {
      "cell_type": "code",
      "execution_count": 1,
      "metadata": {
        "colab": {
          "base_uri": "https://localhost:8080/"
        },
        "id": "Bbp8_VAkyTr1",
        "outputId": "ab903a00-46e2-463f-fb81-60be10d3b71d"
      },
      "outputs": [
        {
          "output_type": "stream",
          "name": "stdout",
          "text": [
            "Python version:\n",
            "3.8.16 (default, Dec  7 2022, 01:12:13) \n",
            "[GCC 7.5.0]\n"
          ]
        }
      ],
      "source": [
        "# paspausti SHIFT + ENTER pele pažymėją šį kodo bloką\n",
        "import sys  # https://docs.python.org/3/library/sys.html\n",
        "\n",
        "# pasižiūrėti, kurią Python versiją naudoja\n",
        "# konspektas buvo parašytas su 3.7.15 versija\n",
        "print('Python version:')\n",
        "print(sys.version)"
      ]
    },
    {
      "cell_type": "markdown",
      "source": [
        "# I. Pagrindinės funkcijos"
      ],
      "metadata": {
        "id": "TnYY2ywvOlgN"
      }
    },
    {
      "cell_type": "markdown",
      "source": [
        "## Kintamųjų atspausdinimas\n",
        "Yra du būdai atvaizduoti kodo rezultatams: (i) funcija `print()` arba (ii) parašyti kintamojo pavadinimą. Sukuriame kintamąjį `kint`, kurio vertė yra \"Vardas\"."
      ],
      "metadata": {
        "id": "wk91lH1YZJNE"
      }
    },
    {
      "cell_type": "code",
      "source": [
        "kintamasis = \"Vardas\""
      ],
      "metadata": {
        "id": "XKhTBviMSR-B"
      },
      "execution_count": 2,
      "outputs": []
    },
    {
      "cell_type": "code",
      "source": [
        "# kintamąjį galime atspaudinti (i) būdų\n",
        "print(kintamasis)"
      ],
      "metadata": {
        "colab": {
          "base_uri": "https://localhost:8080/"
        },
        "id": "oIw2xLAdSVs-",
        "outputId": "4e71a998-5309-4aea-ebc2-899d45eef4ab"
      },
      "execution_count": 3,
      "outputs": [
        {
          "output_type": "stream",
          "name": "stdout",
          "text": [
            "Vardas\n"
          ]
        }
      ]
    },
    {
      "cell_type": "code",
      "source": [
        "# (ii) variantas\n",
        "kintamasis"
      ],
      "metadata": {
        "colab": {
          "base_uri": "https://localhost:8080/",
          "height": 35
        },
        "id": "-_-13anYIgX7",
        "outputId": "87ad2656-1bbf-4988-f3c4-3dfa06940d9c"
      },
      "execution_count": 4,
      "outputs": [
        {
          "output_type": "execute_result",
          "data": {
            "text/plain": [
              "'Vardas'"
            ],
            "application/vnd.google.colaboratory.intrinsic+json": {
              "type": "string"
            }
          },
          "metadata": {},
          "execution_count": 4
        }
      ]
    },
    {
      "cell_type": "markdown",
      "source": [
        "Antrasis variantas atspausdins tik paskutinėje kodo eilutėje esanti kintamąjį. Tad jei reikia atspausdinti keletą kartų kintamąjį, reiktų naudotį (i) metodą."
      ],
      "metadata": {
        "id": "lypxW-j1Shoj"
      }
    },
    {
      "cell_type": "code",
      "source": [
        "# du kartus atspausdina kintamojo reikšmę\n",
        "print(kintamasis)\n",
        "print(kintamasis)"
      ],
      "metadata": {
        "colab": {
          "base_uri": "https://localhost:8080/"
        },
        "id": "SE-VKaVLStbC",
        "outputId": "96e94d3f-6510-4131-8740-9cc8cdee243a"
      },
      "execution_count": 5,
      "outputs": [
        {
          "output_type": "stream",
          "name": "stdout",
          "text": [
            "Vardas\n",
            "Vardas\n"
          ]
        }
      ]
    },
    {
      "cell_type": "code",
      "source": [
        "# atspausdina tik paskutinį kintamąjį\n",
        "kintamasis\n",
        "kintamasis"
      ],
      "metadata": {
        "colab": {
          "base_uri": "https://localhost:8080/",
          "height": 35
        },
        "id": "Um5ZVY55Sgwk",
        "outputId": "e0736dcf-7426-4777-b201-797e4602b74b"
      },
      "execution_count": 6,
      "outputs": [
        {
          "output_type": "execute_result",
          "data": {
            "text/plain": [
              "'Vardas'"
            ],
            "application/vnd.google.colaboratory.intrinsic+json": {
              "type": "string"
            }
          },
          "metadata": {},
          "execution_count": 6
        }
      ]
    },
    {
      "cell_type": "markdown",
      "source": [
        "Pateikiu du kodo pavyzdžius, kuomet sukūriami du skirtingi kintamieji su skirtingomis reikšmėmis. Abiem atvejais atspausdina tik paskutinio kintamojo reikšmę."
      ],
      "metadata": {
        "id": "wMGIVCV9S_Zq"
      }
    },
    {
      "cell_type": "code",
      "source": [
        "# sukurti kintamuosius\n",
        "var_1 = \"Pirmas\"\n",
        "var_2 = \"Antras\"\n",
        "\n",
        "# grąžinti (atspausdinti) kintamuosius\n",
        "var_1\n",
        "var_2"
      ],
      "metadata": {
        "colab": {
          "base_uri": "https://localhost:8080/",
          "height": 35
        },
        "id": "Oz6AGn5KS-kK",
        "outputId": "9880bc80-6b69-46ca-8627-afc925dd1c6a"
      },
      "execution_count": 7,
      "outputs": [
        {
          "output_type": "execute_result",
          "data": {
            "text/plain": [
              "'Antras'"
            ],
            "application/vnd.google.colaboratory.intrinsic+json": {
              "type": "string"
            }
          },
          "metadata": {},
          "execution_count": 7
        }
      ]
    },
    {
      "cell_type": "code",
      "source": [
        "# sukurti kintamuosius\n",
        "var_1 = \"Pirmas\"\n",
        "var_2 = \"Antras\"\n",
        "\n",
        "# tas pats kaip auksčiau tik apkeičiau vietomis var_2 ir var_1\n",
        "var_2\n",
        "var_1"
      ],
      "metadata": {
        "colab": {
          "base_uri": "https://localhost:8080/",
          "height": 35
        },
        "id": "P1lrwiGTOGnV",
        "outputId": "02d1014a-3397-4ab7-d762-1e0c34497873"
      },
      "execution_count": 8,
      "outputs": [
        {
          "output_type": "execute_result",
          "data": {
            "text/plain": [
              "'Pirmas'"
            ],
            "application/vnd.google.colaboratory.intrinsic+json": {
              "type": "string"
            }
          },
          "metadata": {},
          "execution_count": 8
        }
      ]
    },
    {
      "cell_type": "markdown",
      "source": [
        "Jei norite, kad atspausdintų daugiau nei vieną kintamąjį, naudokite `print()` funkciją."
      ],
      "metadata": {
        "id": "f2YS32soTfAc"
      }
    },
    {
      "cell_type": "code",
      "source": [
        "# sukurti kintamuosius\n",
        "var_1 = \"Pirmas\"\n",
        "var_2 = \"Antras\"\n",
        "\n",
        "# atspausdinti abu kintamuosius\n",
        "print(var_2)\n",
        "print(var_1)"
      ],
      "metadata": {
        "colab": {
          "base_uri": "https://localhost:8080/"
        },
        "id": "wtcm9fAMTeic",
        "outputId": "a35b1ec2-3320-407f-8d4d-037af6b595ce"
      },
      "execution_count": 9,
      "outputs": [
        {
          "output_type": "stream",
          "name": "stdout",
          "text": [
            "Antras\n",
            "Pirmas\n"
          ]
        }
      ]
    },
    {
      "cell_type": "markdown",
      "source": [
        "Kodo pavyzdžiai dažnu atveju bus trumpi, tad (ii) variantas bus sutinkamas dažniau nei (i). \n",
        "\n",
        "`print()` funkcija taip pat leidžia atspausdinti daugiau nei vieną kintamąjį per eilutę (automatiškai įdeda po tarpą tarp kintamųjų reikšmių)."
      ],
      "metadata": {
        "id": "XS4JewaCVt1j"
      }
    },
    {
      "cell_type": "code",
      "source": [
        "# sukurti kintamuosius\n",
        "var_1 = \"Pirmas\"\n",
        "var_2 = \"Antras\"\n",
        "\n",
        "# tas pats kaip auksčiau tik apkeičiau vietomis var_2 ir var_1\n",
        "print(var_1, var_2)"
      ],
      "metadata": {
        "colab": {
          "base_uri": "https://localhost:8080/"
        },
        "id": "UyBMlPseWgPP",
        "outputId": "58988500-31c4-4420-8ce4-d1d504ce2a4d"
      },
      "execution_count": 10,
      "outputs": [
        {
          "output_type": "stream",
          "name": "stdout",
          "text": [
            "Pirmas Antras\n"
          ]
        }
      ]
    },
    {
      "cell_type": "markdown",
      "source": [
        "## Objekto tipas\n",
        "\n",
        "Kinamjų tipų nereikia deklaruoti tiesiogiai, Python automatiškai atpažįsta, kad:\n",
        "\n",
        "* jei prasideda `\"` arba `'` tuomet bus simbolių eilutė/tekstas (string),\n",
        "* jei skaičius be taško, tuomet bus sveikas (integer) skaičius,\n",
        "* jei skaičius su tašku, tuomet racionalus (float),\n",
        "* žodiai `True` arba `False` yra rezervuoti loginiams kintamiesiems.\n",
        "\n",
        "Funcija `type()` leidžia pažiūrėti kintamojo tipą."
      ],
      "metadata": {
        "id": "xPqofak9X_eN"
      }
    },
    {
      "cell_type": "code",
      "source": [
        "# sukurto kintamojo vertė tekstas\n",
        "a = '1'\n",
        "# atspausdinti kintamojo a vertę\n",
        "type(a)"
      ],
      "metadata": {
        "colab": {
          "base_uri": "https://localhost:8080/"
        },
        "id": "WsgbssQdYj6d",
        "outputId": "d5805646-7527-4e04-bf48-9e96ca27970e"
      },
      "execution_count": 11,
      "outputs": [
        {
          "output_type": "execute_result",
          "data": {
            "text/plain": [
              "str"
            ]
          },
          "metadata": {},
          "execution_count": 11
        }
      ]
    },
    {
      "cell_type": "code",
      "source": [
        "# tas pats, tik atspausdina kintamojo reikšmę bei tipą\n",
        "a = '1'\n",
        "print(a, type(a))"
      ],
      "metadata": {
        "colab": {
          "base_uri": "https://localhost:8080/"
        },
        "id": "94MOwYjNY2zK",
        "outputId": "6339b84e-dc4d-46b1-80ae-e92baee8cf0e"
      },
      "execution_count": 12,
      "outputs": [
        {
          "output_type": "stream",
          "name": "stdout",
          "text": [
            "1 <class 'str'>\n"
          ]
        }
      ]
    },
    {
      "cell_type": "code",
      "source": [
        "# sveikas skaičius\n",
        "b = 1\n",
        "print(b, type(b))"
      ],
      "metadata": {
        "colab": {
          "base_uri": "https://localhost:8080/"
        },
        "id": "fR6CyrY6X__U",
        "outputId": "8c323805-9a33-4eed-ccd0-bfa8af3ad742"
      },
      "execution_count": 13,
      "outputs": [
        {
          "output_type": "stream",
          "name": "stdout",
          "text": [
            "1 <class 'int'>\n"
          ]
        }
      ]
    },
    {
      "cell_type": "code",
      "source": [
        "# racionalus skaičius\n",
        "c = 1.0\n",
        "print(c, type(c))"
      ],
      "metadata": {
        "colab": {
          "base_uri": "https://localhost:8080/"
        },
        "id": "hWaz6jWJY-64",
        "outputId": "9bef2ff0-f20c-46fe-9ab8-07280e8b0325"
      },
      "execution_count": 14,
      "outputs": [
        {
          "output_type": "stream",
          "name": "stdout",
          "text": [
            "1.0 <class 'float'>\n"
          ]
        }
      ]
    },
    {
      "cell_type": "code",
      "source": [
        "# loginis kintamasis\n",
        "d = True\n",
        "print(d, type(d))"
      ],
      "metadata": {
        "colab": {
          "base_uri": "https://localhost:8080/"
        },
        "id": "U3Ozu-hCZCXU",
        "outputId": "52bc3a94-2a7b-4ff2-8965-8ecf7f91ccab"
      },
      "execution_count": 15,
      "outputs": [
        {
          "output_type": "stream",
          "name": "stdout",
          "text": [
            "True <class 'bool'>\n"
          ]
        }
      ]
    },
    {
      "cell_type": "markdown",
      "source": [
        "## Kintamųjų pavadinimai\n",
        "\n",
        "Kintamųjų pavadinimai gali būti kūriamis naudojanat:\n",
        "\n",
        "* raides `abcd` ir t.t.,\n",
        "* skaičus (negali kintamasis prasidėti skaičiumi),\n",
        "* simbolis `_`.\n",
        "\n",
        "Kintamieji dažniausiai rašomi iš mažosios raidės. Neleistini kintamųjų pavadinimai (išmestų klaidą):\n",
        "\n",
        "* `1abc`,\n",
        "* `abs/abc`,\n",
        "* `pirmas.elementas`."
      ],
      "metadata": {
        "id": "DLHNKpSlMvvo"
      }
    },
    {
      "cell_type": "code",
      "source": [
        "# kintamųjų pvadinimai turi būti intuityvūs\n",
        "vardas = \"Jonas\""
      ],
      "metadata": {
        "id": "0SVSRHHINbPO"
      },
      "execution_count": 16,
      "outputs": []
    },
    {
      "cell_type": "code",
      "source": [
        "# gali būti parašyti cammel\n",
        "pirmasElementas = '1'"
      ],
      "metadata": {
        "id": "_KGBZH2VNgmM"
      },
      "execution_count": 17,
      "outputs": []
    },
    {
      "cell_type": "code",
      "source": [
        "# galima naudoti skaičius, jei tai ne pirmas simbolis\n",
        "kintamasis_1 = \"Vienas\""
      ],
      "metadata": {
        "id": "astsvNfVNsMY"
      },
      "execution_count": 18,
      "outputs": []
    },
    {
      "cell_type": "code",
      "source": [
        "# galima prad4ti kintamąjį rašyti su simboliu _ (tokie kintamieji pagal nutylėjimą laikomi privačiais)\n",
        "_namo_numeris = \"Pirmas\""
      ],
      "metadata": {
        "id": "i3xV992INxM3"
      },
      "execution_count": 19,
      "outputs": []
    },
    {
      "cell_type": "markdown",
      "source": [
        "# II. Simbolių eilutė (`stings`)\n",
        "\n",
        "Tekstines vertes galima sukurti tiek su viengubomis `'` tiek su dvigubomis `kabutėmis`. Python tekstą koduoja UTF-8 formatu, tad galite tiesiai rašyti lietuviškais simboliais. **Bet pačio kintamojo negalima pavadinti naudojant lietuviškas raides!**"
      ],
      "metadata": {
        "id": "b7BiKFk8Oy0E"
      }
    },
    {
      "cell_type": "code",
      "source": [
        "# sukurti kintamuosius\n",
        "vardas = \"Vardas\"\n",
        "pavarde = 'Pavardė'\n",
        "\n",
        "# atspausdinti rezultatą\n",
        "print(vardas, pavarde)"
      ],
      "metadata": {
        "colab": {
          "base_uri": "https://localhost:8080/"
        },
        "id": "H5lJE8unX7JK",
        "outputId": "a4ef3a47-5b1e-488a-f25e-3e1bb7425ebf"
      },
      "execution_count": 20,
      "outputs": [
        {
          "output_type": "stream",
          "name": "stdout",
          "text": [
            "Vardas Pavardė\n"
          ]
        }
      ]
    },
    {
      "cell_type": "code",
      "source": [
        "# kartais reikia naudoti skirtingas kabutes dėl citatų (tekste naudojamos '' arba \"\")\n",
        "\n",
        "sakinys_1 = 'Yra sakoma \"Kas nerizikuoja, negeria šampano\"'\n",
        "sakinys_2 = \"Yra sakoma 'Kas nerizikuoja, negeria šampano'\"\n",
        "\n",
        "# priklausomai kokios kabutės panaudotos, skirtingai atspausdins tekstą\n",
        "print('Variantas #1', sakinys_1)\n",
        "print('Variantas #2', sakinys_2)"
      ],
      "metadata": {
        "colab": {
          "base_uri": "https://localhost:8080/"
        },
        "id": "7T8wUYwLaoJy",
        "outputId": "4ea576b7-4caa-4cc9-c7fd-cf803fe40d61"
      },
      "execution_count": 21,
      "outputs": [
        {
          "output_type": "stream",
          "name": "stdout",
          "text": [
            "Variantas #1 Yra sakoma \"Kas nerizikuoja, negeria šampano\"\n",
            "Variantas #2 Yra sakoma 'Kas nerizikuoja, negeria šampano'\n"
          ]
        }
      ]
    },
    {
      "cell_type": "markdown",
      "source": [
        "Yra ilgas sąrašas metodų (funkcijų), kurios leidžia greitai apdoroti tekstinį kintamąjį. Pateikiu tris pavyzdžius:\n",
        "\n",
        "* `.lower()` visi simboliai paverčiaimi mažosiomis raidėmis.\n",
        "* `.upper()` visi simboliai didžiosiomis raidėmis.\n",
        "* `.replace()` pakeisti tekstą kitu tekstu.\n",
        "\n",
        "**Svarbu** atsiminti, kad ne visi metodai sukuria naują vertę, kai kurie modifikuoja vertę. Oficiali `string` objekto [dokumentacija](https://docs.python.org/3/library/stdtypes.html#text-sequence-type-str) bei trumpa visų metodų apžvalga [w3school](https://www.w3schools.com/python/python_ref_string.asp).\n",
        "\n",
        "Dažniausiai `string` funkcijos/metodai grąžina naują kintamąjį, tad reikia nepamiršti parašyti lygybės ženklo."
      ],
      "metadata": {
        "id": "W_EvnSLYcSSh"
      }
    },
    {
      "cell_type": "code",
      "source": [
        "# sukurti kintamąjį su sakiniu\n",
        "var = \"Vardas Pavarde 123\"\n",
        "\n",
        "# paversti mažosiomis raidėmis\n",
        "var.lower()"
      ],
      "metadata": {
        "colab": {
          "base_uri": "https://localhost:8080/",
          "height": 35
        },
        "id": "tS_6-70WdonR",
        "outputId": "cd30c908-3c42-4b28-8971-90f965767174"
      },
      "execution_count": 22,
      "outputs": [
        {
          "output_type": "execute_result",
          "data": {
            "text/plain": [
              "'vardas pavarde 123'"
            ],
            "application/vnd.google.colaboratory.intrinsic+json": {
              "type": "string"
            }
          },
          "metadata": {},
          "execution_count": 22
        }
      ]
    },
    {
      "cell_type": "code",
      "source": [
        "# sukurti kintamąjį su sakiniu\n",
        "var = \"Vardas Pavarde 123\"\n",
        "\n",
        "# paversti mažosiomis raidėmis, tačiau mes neišsaugome kitnamojo\n",
        "var.lower()\n",
        "\n",
        "# grąžiname nemodifikuotą vertę\n",
        "var"
      ],
      "metadata": {
        "colab": {
          "base_uri": "https://localhost:8080/",
          "height": 35
        },
        "id": "B-KkXR1kmPs_",
        "outputId": "4249bdfc-aa7c-4699-a3e3-f948c9df128b"
      },
      "execution_count": 23,
      "outputs": [
        {
          "output_type": "execute_result",
          "data": {
            "text/plain": [
              "'Vardas Pavarde 123'"
            ],
            "application/vnd.google.colaboratory.intrinsic+json": {
              "type": "string"
            }
          },
          "metadata": {},
          "execution_count": 23
        }
      ]
    },
    {
      "cell_type": "code",
      "source": [
        "# sukurti kintamąjį su sakiniu\n",
        "var = \"Vardas Pavarde 123\"\n",
        "\n",
        "# paversti mažosiomis raidėmis ir išsauguti\n",
        "var = var.lower()\n",
        "\n",
        "# grąžiname modifikuotą vertę\n",
        "var"
      ],
      "metadata": {
        "colab": {
          "base_uri": "https://localhost:8080/",
          "height": 35
        },
        "id": "h_w4GGaNmb12",
        "outputId": "14c6ce7e-9c4b-4bf7-8fcf-469aaf1f31b5"
      },
      "execution_count": 24,
      "outputs": [
        {
          "output_type": "execute_result",
          "data": {
            "text/plain": [
              "'vardas pavarde 123'"
            ],
            "application/vnd.google.colaboratory.intrinsic+json": {
              "type": "string"
            }
          },
          "metadata": {},
          "execution_count": 24
        }
      ]
    },
    {
      "cell_type": "code",
      "source": [
        "# sukurti kintamąjį su sakiniu\n",
        "var = \"Vardas Pavarde 123\"\n",
        "\n",
        "# paversti didžiosiomis raidėmis ir išsauguti\n",
        "var = var.upper()\n",
        "\n",
        "# grąžiname modifikuotą vertę\n",
        "var"
      ],
      "metadata": {
        "colab": {
          "base_uri": "https://localhost:8080/",
          "height": 35
        },
        "id": "rQl3JuXGmqvy",
        "outputId": "98145186-9454-4012-c41e-f15fdbaf102a"
      },
      "execution_count": 25,
      "outputs": [
        {
          "output_type": "execute_result",
          "data": {
            "text/plain": [
              "'VARDAS PAVARDE 123'"
            ],
            "application/vnd.google.colaboratory.intrinsic+json": {
              "type": "string"
            }
          },
          "metadata": {},
          "execution_count": 25
        }
      ]
    },
    {
      "cell_type": "code",
      "source": [
        "# sukurti kintamąjį su sakiniu\n",
        "var = \"Vardas Vardenis vaidino 123\"\n",
        "\n",
        "# pakeisti visas V didžiasias raides į X\n",
        "var = var.replace('V', 'X')\n",
        "\n",
        "# grąžiname modifikuotą vertę\n",
        "var"
      ],
      "metadata": {
        "colab": {
          "base_uri": "https://localhost:8080/",
          "height": 35
        },
        "id": "AcfkmtKRmqsm",
        "outputId": "b6ee505d-7fd9-4214-eee2-2bd3514a4106"
      },
      "execution_count": 26,
      "outputs": [
        {
          "output_type": "execute_result",
          "data": {
            "text/plain": [
              "'Xardas Xardenis vaidino 123'"
            ],
            "application/vnd.google.colaboratory.intrinsic+json": {
              "type": "string"
            }
          },
          "metadata": {},
          "execution_count": 26
        }
      ]
    },
    {
      "cell_type": "code",
      "source": [
        "# sukurti kintamąjį su sakiniu\n",
        "var = \"Vardas Vardenis vaidino 123\"\n",
        "\n",
        "# pakeisti visas V mažasias raides į K didžiąją\n",
        "var = var.replace('v', 'K')\n",
        "\n",
        "# grąžiname modifikuotą vertę\n",
        "var"
      ],
      "metadata": {
        "colab": {
          "base_uri": "https://localhost:8080/",
          "height": 35
        },
        "id": "eyBwX3lcnMuQ",
        "outputId": "9c28e610-b9e5-444c-acbd-a74ebe5999f2"
      },
      "execution_count": 27,
      "outputs": [
        {
          "output_type": "execute_result",
          "data": {
            "text/plain": [
              "'Vardas Vardenis Kaidino 123'"
            ],
            "application/vnd.google.colaboratory.intrinsic+json": {
              "type": "string"
            }
          },
          "metadata": {},
          "execution_count": 27
        }
      ]
    },
    {
      "cell_type": "code",
      "source": [
        "# sukurti kintamąjį su sakiniu\n",
        "var = \"Vardas Vardenis vaidino 123\"\n",
        "\n",
        "# pakeisti skaičių seką 123 į  XYZ\n",
        "var = var.replace('123', 'XYZ')\n",
        "\n",
        "# grąžiname modifikuotą vertę\n",
        "var"
      ],
      "metadata": {
        "colab": {
          "base_uri": "https://localhost:8080/",
          "height": 35
        },
        "id": "Elg1tNI-mqp-",
        "outputId": "7b13b009-7ed8-4b7c-868c-3cae1317d53e"
      },
      "execution_count": 28,
      "outputs": [
        {
          "output_type": "execute_result",
          "data": {
            "text/plain": [
              "'Vardas Vardenis vaidino XYZ'"
            ],
            "application/vnd.google.colaboratory.intrinsic+json": {
              "type": "string"
            }
          },
          "metadata": {},
          "execution_count": 28
        }
      ]
    },
    {
      "cell_type": "code",
      "source": [
        "# sukurti kintamąjį su sakiniu\n",
        "var = \"Vardas vardas\"\n",
        "\n",
        "# kintamasis prieš pakeitimą\n",
        "print(\"Prieš pakeitimą:\", var)\n",
        "\n",
        "# pakeisti žodį \"Vard\" į nieką (tusčią simbolį)\n",
        "var = var.replace('Vard', '')\n",
        "\n",
        "# atspausdinti po pakeitimo\n",
        "print(\"Po pakeitimo:\", var)"
      ],
      "metadata": {
        "colab": {
          "base_uri": "https://localhost:8080/"
        },
        "id": "Y5koqjq-mqji",
        "outputId": "1fb976f4-9050-4fee-9ecf-32ec17ecf93b"
      },
      "execution_count": 29,
      "outputs": [
        {
          "output_type": "stream",
          "name": "stdout",
          "text": [
            "Prieš pakeitimą: Vardas vardas\n",
            "Po pakeitimo: as vardas\n"
          ]
        }
      ]
    },
    {
      "cell_type": "markdown",
      "source": [
        "Teskto pjaustymas (angl. string slicing).\n",
        "![Pjaustymo iliustracija](https://prepinsta.com/wp-content/uploads/2020/07/Slicing-in-python.webp \"Pjaustymo iliustracija\")\n",
        "\n"
      ],
      "metadata": {
        "id": "gsFt9qRFii5X"
      }
    },
    {
      "cell_type": "code",
      "source": [
        "# tekstinio kintamojo pvz.\n",
        "text = 'Sakinys Antras Zodis'\n",
        "\n",
        "# pirmas elementas/simbolis\n",
        "text[0]"
      ],
      "metadata": {
        "id": "iY8wws19invq",
        "outputId": "e6532215-6ad3-4c4f-b0f3-758c30593bf4",
        "colab": {
          "base_uri": "https://localhost:8080/",
          "height": 35
        }
      },
      "execution_count": 30,
      "outputs": [
        {
          "output_type": "execute_result",
          "data": {
            "text/plain": [
              "'S'"
            ],
            "application/vnd.google.colaboratory.intrinsic+json": {
              "type": "string"
            }
          },
          "metadata": {},
          "execution_count": 30
        }
      ]
    },
    {
      "cell_type": "code",
      "source": [
        "# paskutinis elementas\n",
        "text[-1]"
      ],
      "metadata": {
        "id": "rXbPgBpPEfLo",
        "outputId": "0e995cab-2ac0-40c3-fd24-5dca7162646a",
        "colab": {
          "base_uri": "https://localhost:8080/",
          "height": 35
        }
      },
      "execution_count": 31,
      "outputs": [
        {
          "output_type": "execute_result",
          "data": {
            "text/plain": [
              "'s'"
            ],
            "application/vnd.google.colaboratory.intrinsic+json": {
              "type": "string"
            }
          },
          "metadata": {},
          "execution_count": 31
        }
      ]
    },
    {
      "cell_type": "code",
      "source": [
        "# pirmas zodis/ pirmi 7 simboliai\n",
        "text[0:7]"
      ],
      "metadata": {
        "id": "DSQB8rcJFRn-",
        "outputId": "d53fa369-0a97-42c7-bf81-3a97ce549417",
        "colab": {
          "base_uri": "https://localhost:8080/",
          "height": 35
        }
      },
      "execution_count": 32,
      "outputs": [
        {
          "output_type": "execute_result",
          "data": {
            "text/plain": [
              "'Sakinys'"
            ],
            "application/vnd.google.colaboratory.intrinsic+json": {
              "type": "string"
            }
          },
          "metadata": {},
          "execution_count": 32
        }
      ]
    },
    {
      "cell_type": "code",
      "source": [
        "# tas pat, tik nerašant nuo nulio\n",
        "text[:7]"
      ],
      "metadata": {
        "id": "-VozOLUIFVBJ",
        "outputId": "811a3138-d945-4117-942c-f8b401580e8b",
        "colab": {
          "base_uri": "https://localhost:8080/",
          "height": 35
        }
      },
      "execution_count": 33,
      "outputs": [
        {
          "output_type": "execute_result",
          "data": {
            "text/plain": [
              "'Sakinys'"
            ],
            "application/vnd.google.colaboratory.intrinsic+json": {
              "type": "string"
            }
          },
          "metadata": {},
          "execution_count": 33
        }
      ]
    },
    {
      "cell_type": "code",
      "source": [
        "# antras zodis\n",
        "text[8:14]"
      ],
      "metadata": {
        "id": "M-WswBjXFbTf",
        "outputId": "7cf80bf6-1dde-485d-e50e-8bfff33aebdf",
        "colab": {
          "base_uri": "https://localhost:8080/",
          "height": 35
        }
      },
      "execution_count": 34,
      "outputs": [
        {
          "output_type": "execute_result",
          "data": {
            "text/plain": [
              "'Antras'"
            ],
            "application/vnd.google.colaboratory.intrinsic+json": {
              "type": "string"
            }
          },
          "metadata": {},
          "execution_count": 34
        }
      ]
    },
    {
      "cell_type": "code",
      "source": [
        "# tekstinio kintamojo pvz.\n",
        "text = 'Vardenis Pavardenis'\n",
        "\n",
        "# paiimti simbolius nuo galo (4 nuo galo)\n",
        "text[-4:]"
      ],
      "metadata": {
        "id": "chuCO3ljLT7u",
        "outputId": "003ec6a4-6625-4b65-ce11-771352615234",
        "colab": {
          "base_uri": "https://localhost:8080/",
          "height": 35
        }
      },
      "execution_count": 35,
      "outputs": [
        {
          "output_type": "execute_result",
          "data": {
            "text/plain": [
              "'enis'"
            ],
            "application/vnd.google.colaboratory.intrinsic+json": {
              "type": "string"
            }
          },
          "metadata": {},
          "execution_count": 35
        }
      ]
    },
    {
      "cell_type": "code",
      "source": [
        "# paiimti simbolius nuo 2 iki 2 nuo galo (neįskaitant)\n",
        "text[2:-2]"
      ],
      "metadata": {
        "id": "_jRJBXEiLlkj",
        "outputId": "8bcf48bd-4040-48aa-a8f1-e803783cbe19",
        "colab": {
          "base_uri": "https://localhost:8080/",
          "height": 35
        }
      },
      "execution_count": 36,
      "outputs": [
        {
          "output_type": "execute_result",
          "data": {
            "text/plain": [
              "'rdenis Pavarden'"
            ],
            "application/vnd.google.colaboratory.intrinsic+json": {
              "type": "string"
            }
          },
          "metadata": {},
          "execution_count": 36
        }
      ]
    },
    {
      "cell_type": "markdown",
      "source": [
        "### Užduotis 2.1\n",
        "\n",
        "Sukurti tekstinį kintamąjį Jūsų vardas ir pavardė"
      ],
      "metadata": {
        "id": "xUHQCU6ZG5Zk"
      }
    },
    {
      "cell_type": "code",
      "source": [
        "# vieta Jūsų kodui"
      ],
      "metadata": {
        "id": "JCyGCWcgFdvv"
      },
      "execution_count": 37,
      "outputs": []
    },
    {
      "cell_type": "markdown",
      "source": [
        "### Užduotis 2.2\n",
        "\n",
        "Atspausdinti (nautoti print() funkciją) paskutinias 5 raides"
      ],
      "metadata": {
        "id": "UH4QG5AdHSaH"
      }
    },
    {
      "cell_type": "code",
      "source": [
        "# atspausdinti šito kintamojo paskutinias 5 raides\n",
        "txt = \"ABCD 1234 EDCBA\"\n",
        "\n",
        "# vieta Jūsų kodui"
      ],
      "metadata": {
        "id": "pj-qXD3oHTQp"
      },
      "execution_count": 38,
      "outputs": []
    },
    {
      "cell_type": "markdown",
      "source": [
        "### Užduotis 2.3\n",
        "\n",
        "Atspausdinti abu kintamuosius su `print()` funciją. Pirmas kintamasis turi būti tik iš mažųjų raidžių, o antras iš didžiųjų. Atsakymas:\n",
        "\n",
        "`\"PETRAS petraitis\"`"
      ],
      "metadata": {
        "id": "KSMVDMOnHT6y"
      }
    },
    {
      "cell_type": "code",
      "source": [
        "t_1 = 'pEtras'\n",
        "t_2 = 'PETraTIs'\n",
        "\n",
        "# vieta Jūsų kodui"
      ],
      "metadata": {
        "id": "xADUvcJdFaR3"
      },
      "execution_count": 39,
      "outputs": []
    },
    {
      "cell_type": "markdown",
      "source": [
        "### Užduotis 2.4\n",
        "\n",
        "**(sudėtingesnė)** rasti internete metodą, kuris žodžių pirmas raides paverstų didžiosionis. Atsakymas turi būti toks:\n",
        "\n",
        "`\"Jonas Jonaitas\"`"
      ],
      "metadata": {
        "id": "OKzsbatkHVk3"
      }
    },
    {
      "cell_type": "code",
      "source": [
        "txt = \"JONAS jonaitis\"\n",
        "# vieta Jūsų kodui"
      ],
      "metadata": {
        "id": "8Zz_XMLpc_Om"
      },
      "execution_count": 40,
      "outputs": []
    },
    {
      "cell_type": "markdown",
      "source": [
        "# III. Skaičiai\n",
        "\n",
        "Yra dviejų tipų skaičiai:\n",
        "\n",
        "* sveikieji (int) - sukūriant juos nenaudoti taško,\n",
        "* racionalūs (float) - sukūriant skaičių naudojam tašką."
      ],
      "metadata": {
        "id": "wssdFESiOytm"
      }
    },
    {
      "cell_type": "code",
      "source": [
        "# pvz. dviejų skirtingų tipų skaičių\n",
        "\n",
        "var_1 = 1\n",
        "var_2 = 1.0\n",
        "\n",
        "print(f\"Sveikas skaičius:\", var_1)\n",
        "print(f\"Racionalus skaičius:\", var_2)"
      ],
      "metadata": {
        "id": "_eijoDxCglVs",
        "colab": {
          "base_uri": "https://localhost:8080/"
        },
        "outputId": "b64f4c1c-d792-4fc7-ac72-14de83663198"
      },
      "execution_count": 41,
      "outputs": [
        {
          "output_type": "stream",
          "name": "stdout",
          "text": [
            "Sveikas skaičius: 1\n",
            "Racionalus skaičius: 1.0\n"
          ]
        }
      ]
    },
    {
      "cell_type": "markdown",
      "source": [
        "## Sveikieji (`integers`)"
      ],
      "metadata": {
        "id": "vO_VsweTPZtP"
      }
    },
    {
      "cell_type": "code",
      "source": [
        "# aritmetinės operacijos\n",
        "var_1 = 1\n",
        "var_2 = 7\n",
        "\n",
        "# suma\n",
        "var_1 + var_2"
      ],
      "metadata": {
        "id": "qJX-3iu5GvXA",
        "colab": {
          "base_uri": "https://localhost:8080/"
        },
        "outputId": "8874a8e8-6b33-4737-c392-e61a07220e46"
      },
      "execution_count": 42,
      "outputs": [
        {
          "output_type": "execute_result",
          "data": {
            "text/plain": [
              "8"
            ]
          },
          "metadata": {},
          "execution_count": 42
        }
      ]
    },
    {
      "cell_type": "code",
      "source": [
        "# aritmetinės operacijos\n",
        "var_1 = 1\n",
        "var_2 = 7\n",
        "\n",
        "# atimtis\n",
        "var_1 - var_2"
      ],
      "metadata": {
        "colab": {
          "base_uri": "https://localhost:8080/"
        },
        "id": "IvGaOaswrjm1",
        "outputId": "d5e57f23-ca46-4bc7-f482-66f1956c13f3"
      },
      "execution_count": 43,
      "outputs": [
        {
          "output_type": "execute_result",
          "data": {
            "text/plain": [
              "-6"
            ]
          },
          "metadata": {},
          "execution_count": 43
        }
      ]
    },
    {
      "cell_type": "code",
      "source": [
        "# aritmetinės operacijos\n",
        "var_1 = 1\n",
        "var_2 = 7\n",
        "\n",
        "# daugyba\n",
        "ans = var_1 * var_2\n",
        "print(ans, type(ans))"
      ],
      "metadata": {
        "colab": {
          "base_uri": "https://localhost:8080/"
        },
        "id": "zsCR230ZrnLf",
        "outputId": "24a9d566-e391-40bb-de10-08894095dbdc"
      },
      "execution_count": 44,
      "outputs": [
        {
          "output_type": "stream",
          "name": "stdout",
          "text": [
            "7 <class 'int'>\n"
          ]
        }
      ]
    },
    {
      "cell_type": "code",
      "source": [
        "# aritmetinės operacijos\n",
        "var_1 = 10\n",
        "var_2 = 2\n",
        "\n",
        "# dalyba\n",
        "ans = var_1 / var_2\n",
        "print(ans, type(ans))"
      ],
      "metadata": {
        "colab": {
          "base_uri": "https://localhost:8080/"
        },
        "id": "-6S6iTpSrrMc",
        "outputId": "8c5726b3-ac5d-43f1-b780-a389f0bf1b22"
      },
      "execution_count": 45,
      "outputs": [
        {
          "output_type": "stream",
          "name": "stdout",
          "text": [
            "5.0 <class 'float'>\n"
          ]
        }
      ]
    },
    {
      "cell_type": "code",
      "source": [
        "# aritmetinės operacijos\n",
        "var_1 = 10\n",
        "var_2 = 6\n",
        "\n",
        "# liekana dalis\n",
        "ans = var_1 % var_2\n",
        "print(ans, type(ans))"
      ],
      "metadata": {
        "colab": {
          "base_uri": "https://localhost:8080/"
        },
        "id": "SIhZk_mkrrOc",
        "outputId": "eea19346-c348-4489-a93d-b3b19701df93"
      },
      "execution_count": 46,
      "outputs": [
        {
          "output_type": "stream",
          "name": "stdout",
          "text": [
            "4 <class 'int'>\n"
          ]
        }
      ]
    },
    {
      "cell_type": "code",
      "source": [
        "# aritmetinės operacijos\n",
        "var_1 = 10\n",
        "var_2 = 6\n",
        "\n",
        "# sveikoji dalis\n",
        "ans = var_1 // var_2\n",
        "print(ans, type(ans))"
      ],
      "metadata": {
        "colab": {
          "base_uri": "https://localhost:8080/"
        },
        "id": "2PRA5ZKErrQr",
        "outputId": "1d405a9c-3b41-4683-c6e8-b6e3dae06100"
      },
      "execution_count": 47,
      "outputs": [
        {
          "output_type": "stream",
          "name": "stdout",
          "text": [
            "1 <class 'int'>\n"
          ]
        }
      ]
    },
    {
      "cell_type": "code",
      "source": [
        "# aritmetinės operacijos\n",
        "var_1 = 4\n",
        "var_2 = 2\n",
        "\n",
        "# kelimas laipsniu\n",
        "ans = var_1 ** var_2\n",
        "print(ans, type(ans))"
      ],
      "metadata": {
        "colab": {
          "base_uri": "https://localhost:8080/"
        },
        "id": "qebsvjXVsEzh",
        "outputId": "79a6ad77-a3b6-460b-8330-82ea3e3c0054"
      },
      "execution_count": 48,
      "outputs": [
        {
          "output_type": "stream",
          "name": "stdout",
          "text": [
            "16 <class 'int'>\n"
          ]
        }
      ]
    },
    {
      "cell_type": "code",
      "source": [
        "# aritmetinės operacijos\n",
        "var_1 = 4\n",
        "var_2 = 1/2\n",
        "\n",
        "# ištraukti šaknį\n",
        "ans = var_1 ** var_2\n",
        "print(ans, type)"
      ],
      "metadata": {
        "colab": {
          "base_uri": "https://localhost:8080/"
        },
        "id": "OiwxUHtrsHL0",
        "outputId": "33d487d9-021a-4bfa-ff6c-73c71b1f0f04"
      },
      "execution_count": 49,
      "outputs": [
        {
          "output_type": "stream",
          "name": "stdout",
          "text": [
            "2.0 <class 'type'>\n"
          ]
        }
      ]
    },
    {
      "cell_type": "markdown",
      "source": [
        "## Racionalieji (`floats`)\n"
      ],
      "metadata": {
        "id": "iBO205G4PDUc"
      }
    },
    {
      "cell_type": "code",
      "source": [
        "# aritmetinės operacijos\n",
        "var_1 = 1.5\n",
        "var_2 = 5.37\n",
        "\n",
        "# suma\n",
        "var_1 + var_2"
      ],
      "metadata": {
        "id": "huUljl9bPCyZ",
        "colab": {
          "base_uri": "https://localhost:8080/"
        },
        "outputId": "0f026533-4c61-4535-ccdc-b6af57b0ec93"
      },
      "execution_count": 50,
      "outputs": [
        {
          "output_type": "execute_result",
          "data": {
            "text/plain": [
              "6.87"
            ]
          },
          "metadata": {},
          "execution_count": 50
        }
      ]
    },
    {
      "cell_type": "code",
      "source": [
        "# aritmetinės operacijos\n",
        "var_1 = 14.1\n",
        "var_2 = 2.77\n",
        "\n",
        "# atimtis\n",
        "var_1 - var_2"
      ],
      "metadata": {
        "colab": {
          "base_uri": "https://localhost:8080/"
        },
        "id": "8h2ugxyTNkOq",
        "outputId": "d43078c8-6b54-41c8-d278-4d0e8e26f4a2"
      },
      "execution_count": 51,
      "outputs": [
        {
          "output_type": "execute_result",
          "data": {
            "text/plain": [
              "11.33"
            ]
          },
          "metadata": {},
          "execution_count": 51
        }
      ]
    },
    {
      "cell_type": "code",
      "source": [
        "# aritmetinės operacijos\n",
        "var_1 = 11.1\n",
        "var_2 = 0.5\n",
        "\n",
        "# daugyba\n",
        "ans = var_1 * var_2\n",
        "print(ans, type(ans))"
      ],
      "metadata": {
        "colab": {
          "base_uri": "https://localhost:8080/"
        },
        "id": "imdMvbLnNkRl",
        "outputId": "e43bdea7-4c0d-49a8-9677-9f76392096ba"
      },
      "execution_count": 52,
      "outputs": [
        {
          "output_type": "stream",
          "name": "stdout",
          "text": [
            "5.55 <class 'float'>\n"
          ]
        }
      ]
    },
    {
      "cell_type": "code",
      "source": [
        "# aritmetinės operacijos\n",
        "var_1 = 7.5\n",
        "var_2 = 1.5\n",
        "\n",
        "# dalyba\n",
        "ans = var_1 / var_2\n",
        "print(ans, type(ans))"
      ],
      "metadata": {
        "colab": {
          "base_uri": "https://localhost:8080/"
        },
        "id": "veUPMa10M8T7",
        "outputId": "5554714d-04ff-4051-f891-3c1b16a06023"
      },
      "execution_count": 53,
      "outputs": [
        {
          "output_type": "stream",
          "name": "stdout",
          "text": [
            "5.0 <class 'float'>\n"
          ]
        }
      ]
    },
    {
      "cell_type": "code",
      "source": [
        "# aritmetinės operacijos\n",
        "var_1 = 2\n",
        "var_2 = 2.5\n",
        "\n",
        "# kelimas laipsniu\n",
        "ans = var_1 ** var_2\n",
        "print(ans, type(ans))"
      ],
      "metadata": {
        "colab": {
          "base_uri": "https://localhost:8080/"
        },
        "id": "kJW4cpoDNn9M",
        "outputId": "ea3f5aac-7242-47fb-8fe6-97cfa99acbcf"
      },
      "execution_count": 54,
      "outputs": [
        {
          "output_type": "stream",
          "name": "stdout",
          "text": [
            "5.656854249492381 <class 'float'>\n"
          ]
        }
      ]
    },
    {
      "cell_type": "code",
      "source": [
        "# apvalinti skaičių iki šimtųjų\n",
        "round(123.123, 2)"
      ],
      "metadata": {
        "colab": {
          "base_uri": "https://localhost:8080/"
        },
        "id": "5TVjtXuZN0Kx",
        "outputId": "93b75c3a-0c26-44d8-c382-0c033082a9f3"
      },
      "execution_count": 55,
      "outputs": [
        {
          "output_type": "execute_result",
          "data": {
            "text/plain": [
              "123.12"
            ]
          },
          "metadata": {},
          "execution_count": 55
        }
      ]
    },
    {
      "cell_type": "code",
      "source": [
        "# apvalinti skaičių iki dešimtųjų\n",
        "round(123.123, 1)"
      ],
      "metadata": {
        "colab": {
          "base_uri": "https://localhost:8080/"
        },
        "id": "OC35CJ4iN4hu",
        "outputId": "6212905d-ff74-4229-ee99-5738256ac6e5"
      },
      "execution_count": 56,
      "outputs": [
        {
          "output_type": "execute_result",
          "data": {
            "text/plain": [
              "123.1"
            ]
          },
          "metadata": {},
          "execution_count": 56
        }
      ]
    },
    {
      "cell_type": "markdown",
      "source": [
        "## Užduotys"
      ],
      "metadata": {
        "id": "I8i05GRwG-GH"
      }
    },
    {
      "cell_type": "markdown",
      "source": [
        "### Užduotis 3.1\n",
        "\n",
        "Lietuvoje 2021 buvo suskaičiuoti 2784279 gyventojai. Lietuvos plotas 65300 km^2.\n",
        "\n",
        "Kiek gyventojų yra vienam kvadratiniame kilometre?"
      ],
      "metadata": {
        "id": "6XrhCYwaOWNt"
      }
    },
    {
      "cell_type": "code",
      "source": [
        "# duomenys (nekeisti)\n",
        "gyv_skaicius = 2784279\n",
        "plotas = 65300\n",
        "\n",
        "# įvesti savo formulę, vieta Jūsų kodui\n",
        "tankis = 0\n",
        "\n",
        "# suapvalinkite savo rezutaltą iki šimtųjų\n",
        "\n",
        "# atspausdina atsakymą (šitos eilutės nekeisti)\n",
        "print(f'Lietuvoje yra {tankis} žm./km^2')"
      ],
      "metadata": {
        "id": "sggl0zvSG9jZ",
        "colab": {
          "base_uri": "https://localhost:8080/"
        },
        "outputId": "86ecb33e-ef4f-4cb4-ad3c-ec09a2f32ce9"
      },
      "execution_count": 57,
      "outputs": [
        {
          "output_type": "stream",
          "name": "stdout",
          "text": [
            "Lietuvoje yra 0 žm./km^2\n"
          ]
        }
      ]
    },
    {
      "cell_type": "markdown",
      "source": [
        "### Užduotis 3.2\n",
        "\n",
        "Autobuse telpa 87 žmonės. Tačiau važiuoti norinčių yra 93. Naudodami liekana, apskaičiuokite, kiek žmonių netilps?"
      ],
      "metadata": {
        "id": "z8SxmQJIOf5P"
      }
    },
    {
      "cell_type": "code",
      "source": [
        "# pvz. ieškoti aukščiau\n",
        "# vieta Jūsų kodui, su ALT + ENTER galite daugiau eilučių susikurti\n"
      ],
      "metadata": {
        "id": "CIhCa-B4OS86"
      },
      "execution_count": 58,
      "outputs": []
    },
    {
      "cell_type": "markdown",
      "source": [
        "### Užduotis 3.3\n",
        "\n",
        "Bėgimas truko 12345 sec. Kiek šis bėgimas truko minutėmis, valandomis ir dienomis? Atsakymus suapvalinkite iki dešimčių."
      ],
      "metadata": {
        "id": "gs8W-aHjOrva"
      }
    },
    {
      "cell_type": "code",
      "source": [
        "begimo_trukme_sec = 12345\n",
        "\n",
        "# vieta Jūsų kodui\n",
        "begimo_trukme_minutemis = 0\n",
        "begimo_trukme_valandomis = 0\n",
        "begimo_trukme_dienomis = 0\n",
        "\n",
        "# suapvalinkite atsakimus iki 10-tųjų\n",
        "\n",
        "# nekeisti žemiau esančio kodo\n",
        "print('Bėgimas truko:')\n",
        "print(f\"{begimo_trukme_minutemis} minutes.\")\n",
        "print(f\"{begimo_trukme_valandomis} valandos\")\n",
        "print(f\"{begimo_trukme_dienomis} dienos\")"
      ],
      "metadata": {
        "colab": {
          "base_uri": "https://localhost:8080/"
        },
        "id": "2O0HnPuGOTAG",
        "outputId": "1e611af2-2b5d-4f1a-b13e-2a1eedaefd45"
      },
      "execution_count": 59,
      "outputs": [
        {
          "output_type": "stream",
          "name": "stdout",
          "text": [
            "Bėgimas truko:\n",
            "0 minutes.\n",
            "0 valandos\n",
            "0 dienos\n"
          ]
        }
      ]
    },
    {
      "cell_type": "markdown",
      "source": [
        "# IV. Loginiai (`booleans`)\n",
        "\n",
        "`Boolean` loginės sąlygos:\n",
        "\n",
        "* `==` patikrinti ar lygu (vienodi),\n",
        "* `!=` patikrinti ar nelygu (pvz. skirtingi kintamieji),\n",
        "* `>` daugiau,\n",
        "* `>=` daugiau arba lygu,\n",
        "* `<` mažiau,\n",
        "* `<=` mažiau arba lygu,\n",
        "* `in` yra sąraše/masyve,\n",
        "* `not in` nėra sąraše/masyve."
      ],
      "metadata": {
        "id": "dPAw95VhPIp2"
      }
    },
    {
      "cell_type": "code",
      "source": [
        "# ar 30 daugiau už 5\n",
        "a = 30 > 5\n",
        "print(a)"
      ],
      "metadata": {
        "id": "cEohfBJ_gqm3",
        "colab": {
          "base_uri": "https://localhost:8080/"
        },
        "outputId": "fd2a56ef-caea-4b4b-aa11-6789292d978f"
      },
      "execution_count": 60,
      "outputs": [
        {
          "output_type": "stream",
          "name": "stdout",
          "text": [
            "True\n"
          ]
        }
      ]
    },
    {
      "cell_type": "code",
      "source": [
        "# ar žodis \"Hello\" yra sakinyje \"Hello World!\"\n",
        "b = \"Hello World!\"\n",
        "c = 'Hello' in b\n",
        "print(c)"
      ],
      "metadata": {
        "id": "aPPPwVqDPHWr",
        "outputId": "f364d39d-9a43-400b-af5a-9fef100c8621",
        "colab": {
          "base_uri": "https://localhost:8080/"
        }
      },
      "execution_count": 61,
      "outputs": [
        {
          "output_type": "stream",
          "name": "stdout",
          "text": [
            "True\n"
          ]
        }
      ]
    },
    {
      "cell_type": "code",
      "source": [
        "# lygybės pvz.\n",
        "a = 2\n",
        "b = 5\n",
        "c = 2\n",
        "\n",
        "print(\"a = b\", a == b)\n",
        "print(\"a = c\", a == c)"
      ],
      "metadata": {
        "id": "pb2VUA_aPRUj",
        "outputId": "faf6b46b-2489-42ac-b6b0-479607893ed5",
        "colab": {
          "base_uri": "https://localhost:8080/"
        }
      },
      "execution_count": 62,
      "outputs": [
        {
          "output_type": "stream",
          "name": "stdout",
          "text": [
            "a = b False\n",
            "a = c True\n"
          ]
        }
      ]
    },
    {
      "cell_type": "code",
      "source": [
        "# nelygybės pvz.\n",
        "print(a != b)\n",
        "print(a != c)"
      ],
      "metadata": {
        "id": "O5yBKSBoP79N",
        "outputId": "5349b2f7-7110-470e-fdb6-15e1f900b5e8",
        "colab": {
          "base_uri": "https://localhost:8080/"
        }
      },
      "execution_count": 63,
      "outputs": [
        {
          "output_type": "stream",
          "name": "stdout",
          "text": [
            "True\n",
            "False\n"
          ]
        }
      ]
    },
    {
      "cell_type": "code",
      "source": [
        "# daugiau/mažiau arba lygu\n",
        "print(a >= b)\n",
        "print(a <= c)"
      ],
      "metadata": {
        "id": "Kiy9atfjQEhL",
        "outputId": "991f62d1-84a0-4967-e337-e34d6e50eeba",
        "colab": {
          "base_uri": "https://localhost:8080/"
        }
      },
      "execution_count": 64,
      "outputs": [
        {
          "output_type": "stream",
          "name": "stdout",
          "text": [
            "False\n",
            "True\n"
          ]
        }
      ]
    },
    {
      "cell_type": "code",
      "source": [
        "# daugiau/mažiau\n",
        "print(a > b)\n",
        "print(a < c)"
      ],
      "metadata": {
        "id": "21c-0dN9QGNX",
        "outputId": "11367b45-5ddf-4ce5-c187-096cd5737bfc",
        "colab": {
          "base_uri": "https://localhost:8080/"
        }
      },
      "execution_count": 65,
      "outputs": [
        {
          "output_type": "stream",
          "name": "stdout",
          "text": [
            "False\n",
            "False\n"
          ]
        }
      ]
    },
    {
      "cell_type": "markdown",
      "source": [
        "### Užduotis 4.1\n",
        "\n",
        "Atsakykite su boolean operatoriumi į klausimą, ar sakinyje 'Meška paslydo' yra žmodis 'meška'?"
      ],
      "metadata": {
        "id": "xR7jVe-MHAPu"
      }
    },
    {
      "cell_type": "code",
      "source": [
        "# nekeist kintamojo vertės\n",
        "sakinys = \"Meška paslydo\"\n",
        "\n",
        "# vieta Jūsų kodui\n",
        "atsakymas = 0\n",
        "\n",
        "# atspausdina atsakymą\n",
        "print(atsakymas)"
      ],
      "metadata": {
        "id": "DuFuPnhoPUs0",
        "outputId": "838cbf04-e814-44ff-a33d-48d0577654e2",
        "colab": {
          "base_uri": "https://localhost:8080/"
        }
      },
      "execution_count": 66,
      "outputs": [
        {
          "output_type": "stream",
          "name": "stdout",
          "text": [
            "0\n"
          ]
        }
      ]
    },
    {
      "cell_type": "markdown",
      "source": [
        "### Užduotis 4.2\n",
        "\n",
        "Ar `Onutės` vardas yra `onutė`?"
      ],
      "metadata": {
        "id": "cZAE4OGjPWno"
      }
    },
    {
      "cell_type": "code",
      "source": [
        "# nekeist kintamųjų verčių\n",
        "vardas_1 = 'Onutė'\n",
        "vardas_2 = 'onuTė'\n",
        "\n",
        "# Jūsų atsakymas su boolean operatoriumi\n"
      ],
      "metadata": {
        "id": "342cyjcxG_9i"
      },
      "execution_count": 67,
      "outputs": []
    },
    {
      "cell_type": "markdown",
      "source": [
        "# V. Kintamųjų atvaizdavimas"
      ],
      "metadata": {
        "id": "R0NU-DPigt1v"
      }
    },
    {
      "cell_type": "markdown",
      "source": [
        "## Senovinis būdas"
      ],
      "metadata": {
        "id": "jEeXV7OV-rVU"
      }
    },
    {
      "cell_type": "code",
      "source": [
        "# deklaruoti du kintamuosius\n",
        "skaicius = 861\n",
        "tekstas = 'Vardas'\n",
        "\n",
        "# senovinis atvaizdavimas\n",
        "'Labas, %s' % tekstas"
      ],
      "metadata": {
        "id": "dlBB8s6ZgwiE",
        "outputId": "7fbac81a-582e-44ab-e2c5-ba8887f173ce",
        "colab": {
          "base_uri": "https://localhost:8080/",
          "height": 35
        }
      },
      "execution_count": 68,
      "outputs": [
        {
          "output_type": "execute_result",
          "data": {
            "text/plain": [
              "'Labas, Vardas'"
            ],
            "application/vnd.google.colaboratory.intrinsic+json": {
              "type": "string"
            }
          },
          "metadata": {},
          "execution_count": 68
        }
      ]
    },
    {
      "cell_type": "code",
      "source": [
        "# senovinis atvaizdavimas\n",
        "print('Namo numeris: %s' % skaicius)"
      ],
      "metadata": {
        "id": "AYQZRqE-8f60",
        "outputId": "e7066e4e-fa70-429d-9f0b-6f6a3d10aacf",
        "colab": {
          "base_uri": "https://localhost:8080/"
        }
      },
      "execution_count": 69,
      "outputs": [
        {
          "output_type": "stream",
          "name": "stdout",
          "text": [
            "Namo numeris: 861\n"
          ]
        }
      ]
    },
    {
      "cell_type": "code",
      "source": [
        "# senovinis atvaizdavimas (kaip skaičius)\n",
        "print('Namo numeris: %f' % skaicius)"
      ],
      "metadata": {
        "id": "Zws3lZca8tV0",
        "outputId": "2678f37d-c98d-4cec-9fe1-27089cfd50a0",
        "colab": {
          "base_uri": "https://localhost:8080/"
        }
      },
      "execution_count": 70,
      "outputs": [
        {
          "output_type": "stream",
          "name": "stdout",
          "text": [
            "Namo numeris: 861.000000\n"
          ]
        }
      ]
    },
    {
      "cell_type": "code",
      "source": [
        "# atvaizduoti abu kintamuosius\n",
        "'Labas %s, tau skolingas %.2f eurus!' % (tekstas, skaicius)"
      ],
      "metadata": {
        "id": "8IvvdO1b9iEM",
        "outputId": "c6c4349c-5274-4e25-fcbb-6e3c3c3a062b",
        "colab": {
          "base_uri": "https://localhost:8080/",
          "height": 35
        }
      },
      "execution_count": 71,
      "outputs": [
        {
          "output_type": "execute_result",
          "data": {
            "text/plain": [
              "'Labas Vardas, tau skolingas 861.00 eurus!'"
            ],
            "application/vnd.google.colaboratory.intrinsic+json": {
              "type": "string"
            }
          },
          "metadata": {},
          "execution_count": 71
        }
      ]
    },
    {
      "cell_type": "code",
      "source": [
        "# kaip auksčiau tik naudojant žodyną\n",
        "'Labas %(tekstas)s, tau skolingas %(skaicius)f eurus!' % {\"tekstas\": tekstas, \"skaicius\": skaicius}"
      ],
      "metadata": {
        "id": "F_gdVUdK937d",
        "outputId": "f5cad9dc-91ab-43b6-dccf-6d95916f0675",
        "colab": {
          "base_uri": "https://localhost:8080/",
          "height": 35
        }
      },
      "execution_count": 72,
      "outputs": [
        {
          "output_type": "execute_result",
          "data": {
            "text/plain": [
              "'Labas Vardas, tau skolingas 861.000000 eurus!'"
            ],
            "application/vnd.google.colaboratory.intrinsic+json": {
              "type": "string"
            }
          },
          "metadata": {},
          "execution_count": 72
        }
      ]
    },
    {
      "cell_type": "markdown",
      "source": [
        "## Dabartinis"
      ],
      "metadata": {
        "id": "Y94N92ncDbJ-"
      }
    },
    {
      "cell_type": "code",
      "source": [
        "# .format() metodas\n",
        "vardas = \"Jonai\"\n",
        "'Labas, {}!'.format(vardas)"
      ],
      "metadata": {
        "id": "7JkEtN-h-Ors",
        "outputId": "56fa313a-3174-4fae-a4b9-e2ea441b5507",
        "colab": {
          "base_uri": "https://localhost:8080/",
          "height": 35
        }
      },
      "execution_count": 73,
      "outputs": [
        {
          "output_type": "execute_result",
          "data": {
            "text/plain": [
              "'Labas, Jonai!'"
            ],
            "application/vnd.google.colaboratory.intrinsic+json": {
              "type": "string"
            }
          },
          "metadata": {},
          "execution_count": 73
        }
      ]
    },
    {
      "cell_type": "code",
      "source": [
        "# šiek tiek kitaip\n",
        "vardas = \"Jonai\"\n",
        "pasisveikinimas = 'Labas, {}!'.format(vardas)\n",
        "print(pasisveikinimas)"
      ],
      "metadata": {
        "id": "pcXuL1rFDov1",
        "outputId": "e4cd77d5-1dba-4d40-d818-fa9d2bf32a2d",
        "colab": {
          "base_uri": "https://localhost:8080/"
        }
      },
      "execution_count": 74,
      "outputs": [
        {
          "output_type": "stream",
          "name": "stdout",
          "text": [
            "Labas, Jonai!\n"
          ]
        }
      ]
    },
    {
      "cell_type": "code",
      "source": [
        "# deklaruoti du kintamuosius\n",
        "skaicius = 861\n",
        "tekstas = 'Vardas'\n",
        "# kaip auksčiau tik naudojant žodyną\n",
        "'Labas {tekstas}, tau skolingas {skaicius} eurus!'.format(tekstas= tekstas, skaicius= skaicius)"
      ],
      "metadata": {
        "id": "ZiRprJjQDwl8",
        "outputId": "832112ed-c0ca-471f-98c0-a5f563e8fe46",
        "colab": {
          "base_uri": "https://localhost:8080/",
          "height": 35
        }
      },
      "execution_count": 75,
      "outputs": [
        {
          "output_type": "execute_result",
          "data": {
            "text/plain": [
              "'Labas Vardas, tau skolingas 861 eurus!'"
            ],
            "application/vnd.google.colaboratory.intrinsic+json": {
              "type": "string"
            }
          },
          "metadata": {},
          "execution_count": 75
        }
      ]
    },
    {
      "cell_type": "code",
      "source": [
        "# nenaudojant .format\n",
        "vardas = \"Jonai\"\n",
        "f'Sveikas, {vardas}!'"
      ],
      "metadata": {
        "id": "olF3-43b93_L",
        "outputId": "a2301f27-a6f1-4c89-d695-311ff401a0f0",
        "colab": {
          "base_uri": "https://localhost:8080/",
          "height": 35
        }
      },
      "execution_count": 76,
      "outputs": [
        {
          "output_type": "execute_result",
          "data": {
            "text/plain": [
              "'Sveikas, Jonai!'"
            ],
            "application/vnd.google.colaboratory.intrinsic+json": {
              "type": "string"
            }
          },
          "metadata": {},
          "execution_count": 76
        }
      ]
    },
    {
      "cell_type": "code",
      "source": [
        "# matematinės operacijos\n",
        "a = 5\n",
        "b = 10\n",
        "f'Penki plius dešimti yra {a + b}.'"
      ],
      "metadata": {
        "id": "hWOl3a6KET50",
        "outputId": "922d2590-b389-4579-db31-55fea8c66e8e",
        "colab": {
          "base_uri": "https://localhost:8080/",
          "height": 35
        }
      },
      "execution_count": 77,
      "outputs": [
        {
          "output_type": "execute_result",
          "data": {
            "text/plain": [
              "'Penki plius dešimti yra 15.'"
            ],
            "application/vnd.google.colaboratory.intrinsic+json": {
              "type": "string"
            }
          },
          "metadata": {},
          "execution_count": 77
        }
      ]
    },
    {
      "cell_type": "code",
      "source": [
        "# tas pats tik kitaip\n",
        "f\"{a} - {b} = {a-b}\""
      ],
      "metadata": {
        "id": "H3bVt7JEEd-M",
        "outputId": "00bbe122-248d-4809-8d46-1528a5ab1137",
        "colab": {
          "base_uri": "https://localhost:8080/",
          "height": 35
        }
      },
      "execution_count": 78,
      "outputs": [
        {
          "output_type": "execute_result",
          "data": {
            "text/plain": [
              "'5 - 10 = -5'"
            ],
            "application/vnd.google.colaboratory.intrinsic+json": {
              "type": "string"
            }
          },
          "metadata": {},
          "execution_count": 78
        }
      ]
    },
    {
      "cell_type": "code",
      "source": [
        "# galima \"sumuoti\" tekstus\n",
        "vardas = \"Vardenis\"\n",
        "pavarde = \"Pavardenis\"\n",
        "zinute = vardas + \" \" + pavarde"
      ],
      "metadata": {
        "id": "2AKwuESZEmHy"
      },
      "execution_count": 79,
      "outputs": []
    },
    {
      "cell_type": "code",
      "source": [
        "# skaičių apvalinimas po kablelio\n",
        "skaicius = 1.2345\n",
        "\n",
        "# suapvalinti iki 2 skaičių po kablelio\n",
        "f\"{skaicius:.2f}\""
      ],
      "metadata": {
        "id": "wMnTWSANHO-s",
        "outputId": "61008b51-8415-4cd6-cd54-30670ee9a5ed",
        "colab": {
          "base_uri": "https://localhost:8080/",
          "height": 35
        }
      },
      "execution_count": 80,
      "outputs": [
        {
          "output_type": "execute_result",
          "data": {
            "text/plain": [
              "'1.23'"
            ],
            "application/vnd.google.colaboratory.intrinsic+json": {
              "type": "string"
            }
          },
          "metadata": {},
          "execution_count": 80
        }
      ]
    },
    {
      "cell_type": "code",
      "source": [
        "# riboti maksimalų simbolių skaičių\n",
        "vardas = \"Antanas\"\n",
        "\n",
        "print(f\"Daugiausiai atvaizduojame 3 simbolius todėl {vardas} patampa {vardas:.3s}\")"
      ],
      "metadata": {
        "id": "tgQqMC8-Ha6z",
        "outputId": "d834d916-03eb-4ace-b529-62f87520e3ee",
        "colab": {
          "base_uri": "https://localhost:8080/"
        }
      },
      "execution_count": 81,
      "outputs": [
        {
          "output_type": "stream",
          "name": "stdout",
          "text": [
            "Daugiausiai atvaizduojame 3 simbolius todėl Antanas patampa Ant\n"
          ]
        }
      ]
    },
    {
      "cell_type": "markdown",
      "source": [
        "## Užduotys"
      ],
      "metadata": {
        "id": "u-dokx38HF0i"
      }
    },
    {
      "cell_type": "markdown",
      "source": [
        "### Užduotis 5.1\n",
        "\n",
        "Sukurkite 3 kintauosius:\n",
        "\n",
        "* `vardas`\n",
        "* `pavarde`\n",
        "* `sakinys`, šis kintamasis turi panaudoti auksčiau esančius kintamuosius.\n",
        "\n",
        "Atspausdinkite `sakinys` kintamąjį tokio tipo:\n",
        "\n",
        "`\"Mano vardas X, o pavardė Y. Manolu susipažinti!\"`, kur `X` ir `Y` turi būti panaudoti kintamieji `vardas` ir `pavarde`."
      ],
      "metadata": {
        "id": "4cVni8FoE__R"
      }
    },
    {
      "cell_type": "code",
      "source": [
        "# vieta Jūsų kodui\n"
      ],
      "metadata": {
        "id": "8VnYwxh5FCuL"
      },
      "execution_count": 82,
      "outputs": []
    },
    {
      "cell_type": "markdown",
      "source": [
        "### Užduotis 5.2\n",
        "\n",
        "Sufomatuokite daugybos ir dalybos operacijas."
      ],
      "metadata": {
        "id": "ZfPF--xZFDZb"
      }
    },
    {
      "cell_type": "code",
      "source": [
        "# kintamieji (galite keisti)\n",
        "a = 15\n",
        "b = -3.5\n",
        "\n",
        "# pakeisti, kad atsapusdintų atsakymą a x b = atsakymas\n",
        "sandauga = \"\"\n",
        "# pakeisti, kad atsapusdintų atsakymą a / b = atsakymas\n",
        "dalyba = ''\n",
        "\n",
        "# atspaudinti atsakymus\n",
        "print(sandauga)\n",
        "print(dalyba)"
      ],
      "metadata": {
        "id": "3aL6-_xJH2B1",
        "outputId": "64abe7fb-7107-44fd-c8af-34e86e840456",
        "colab": {
          "base_uri": "https://localhost:8080/"
        }
      },
      "execution_count": 83,
      "outputs": [
        {
          "output_type": "stream",
          "name": "stdout",
          "text": [
            "\n",
            "\n"
          ]
        }
      ]
    },
    {
      "cell_type": "code",
      "source": [],
      "metadata": {
        "id": "9rD4b6ltFCyk"
      },
      "execution_count": null,
      "outputs": []
    },
    {
      "cell_type": "code",
      "source": [],
      "metadata": {
        "id": "lRN7MZPIHFV0"
      },
      "execution_count": null,
      "outputs": []
    }
  ]
}