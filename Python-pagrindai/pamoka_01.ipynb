{
  "nbformat": 4,
  "nbformat_minor": 0,
  "metadata": {
    "colab": {
      "provenance": [],
      "include_colab_link": true
    },
    "kernelspec": {
      "name": "python3",
      "display_name": "Python 3"
    },
    "language_info": {
      "name": "python"
    }
  },
  "cells": [
    {
      "cell_type": "markdown",
      "metadata": {
        "id": "view-in-github",
        "colab_type": "text"
      },
      "source": [
        "<a href=\"https://colab.research.google.com/github/TK-Problem/Python-mokymai/blob/master/Python-pagrindai/pamoka_01.ipynb\" target=\"_parent\"><img src=\"https://colab.research.google.com/assets/colab-badge.svg\" alt=\"Open In Colab\"/></a>"
      ]
    },
    {
      "cell_type": "markdown",
      "source": [
        "# **Pamoka 1**\n",
        "\n",
        "Šioje pamokoje supažinu su pagrindinėmis [Python](https://www.python.org/) funcijomis, [Jupyter Notebook](https://jupyter.org/)/[Google colab](https://colab.research.google.com/) darbo aplinkomis bei primityviais kintamaisiais.\n",
        "\n",
        "### **Programavimo aplinka**\n",
        "\n",
        "Šis kodas yra parašytas `.ipynb` (interactive Python notebook) formatu. Yra daug skirtingų pragramų bei internetinių sprendimų, kurie gali paleisti `.ipynb` failus. Keletas pavyzdžių:\n",
        "\n",
        "* [Anaconda](https://www.anaconda.com/products/distribution) - reikia lokaliai atsisiųsti ir įsirašyti į savo kompiuterį. Ji automatiškai įrašo **Jupyter Notebook**, bet taip pat galite per Anaconda Navigator įsirašyti **Jupyter Lab** (suteikia daugiau funkcionalumo).\n",
        "* [Visual Studio Code](https://code.visualstudio.com/) - įsirašius lokaliai į savo kompiuteri, papildomai reiks atlikti papildomų [žingsnių](https://code.visualstudio.com/docs/datascience/jupyter-notebooks), kad leistų redaguoti `.ipynb` failus. \n",
        "* [Kaggle](https://www.kaggle.com/) - socialinis tinklas duomenų analitikams ir mokslininkas dalintis žiniomis, kodu (`.ipynb` formatu) bei dalyvauti įvairiuose konkursuose.\n",
        "* [Datalore](https://datalore.jetbrains.com/) - yra nemokama ir mokama versija.\n",
        "* [Google colab](https://colab.research.google.com/) - būtent šioje aplinkoje rekomenduoju leisti konspekto kodą.\n",
        "* ir daug kitų variantų.\n",
        "\n",
        "Pagrindinės sparčiosios kombinacijos (keybord shortcuts):\n",
        "\n",
        "* `SHIFT` + `ENTER` paleisti kodo bloką nesukuriant naujo kodo bloko.\n",
        "* `ALT` + `ENTER` paleisti kodo bloką sukuriant naują kodo bloką.\n",
        "* `A` sukurti kodo bloką auksčiau.\n",
        "* `B` sukurti kodo bloką žemiau.\n",
        "\n",
        "Visos šios kombinacijos veikia daugelyje prgramų, kurios dirba `.ipynb` failais. Google colab taip pat leidžia susikurti daugiau sparčiųjų kombinacijų `Tools -> Keyboard shortcuts` arba `CTRL` + `M` + `H`. Geriau standartinių neredaguoti, tačiau savo patogumui gali susikurti naujų kodo kombinacijų."
      ],
      "metadata": {
        "id": "RfcExizOFOLN"
      }
    },
    {
      "cell_type": "code",
      "execution_count": 1,
      "metadata": {
        "colab": {
          "base_uri": "https://localhost:8080/"
        },
        "id": "Bbp8_VAkyTr1",
        "outputId": "5ebfa9a9-9c53-48d2-f79e-94ecade68936"
      },
      "outputs": [
        {
          "output_type": "stream",
          "name": "stdout",
          "text": [
            "Python version:\n",
            "3.9.16 (main, Dec  7 2022, 01:11:51) \n",
            "[GCC 9.4.0]\n"
          ]
        }
      ],
      "source": [
        "# paspausti SHIFT + ENTER pele pažymėją šį kodo bloką\n",
        "import sys  # https://docs.python.org/3/library/sys.html\n",
        "\n",
        "# pasižiūrėti, kurią Python versiją naudoja\n",
        "# konspektas buvo parašytas su 3.7.15 versija\n",
        "print('Python version:')\n",
        "print(sys.version)"
      ]
    },
    {
      "cell_type": "markdown",
      "source": [
        "# I. Pagrindinės funkcijos"
      ],
      "metadata": {
        "id": "TnYY2ywvOlgN"
      }
    },
    {
      "cell_type": "markdown",
      "source": [
        "## Kintamųjų atspausdinimas\n",
        "Yra du būdai atvaizduoti kodo rezultatams: (i) funkcija `print()` arba (ii) parašyti kintamojo pavadinimą. Sukuriame kintamąjį `kint`, kurio vertė yra \"Vardas\"."
      ],
      "metadata": {
        "id": "wk91lH1YZJNE"
      }
    },
    {
      "cell_type": "code",
      "source": [
        "kintamasis = \"Vardas\""
      ],
      "metadata": {
        "id": "XKhTBviMSR-B"
      },
      "execution_count": 2,
      "outputs": []
    },
    {
      "cell_type": "code",
      "source": [
        "# kintamąjį galime atspaudinti (i) būdų\n",
        "print(kintamasis)"
      ],
      "metadata": {
        "colab": {
          "base_uri": "https://localhost:8080/"
        },
        "id": "oIw2xLAdSVs-",
        "outputId": "ab299f27-6b2e-43fb-9017-7190db1276a6"
      },
      "execution_count": 3,
      "outputs": [
        {
          "output_type": "stream",
          "name": "stdout",
          "text": [
            "Vardas\n"
          ]
        }
      ]
    },
    {
      "cell_type": "code",
      "source": [
        "# (ii) variantas\n",
        "kintamasis"
      ],
      "metadata": {
        "colab": {
          "base_uri": "https://localhost:8080/",
          "height": 35
        },
        "id": "-_-13anYIgX7",
        "outputId": "fa626612-196f-4d33-ab12-c45704ad4c33"
      },
      "execution_count": 4,
      "outputs": [
        {
          "output_type": "execute_result",
          "data": {
            "text/plain": [
              "'Vardas'"
            ],
            "application/vnd.google.colaboratory.intrinsic+json": {
              "type": "string"
            }
          },
          "metadata": {},
          "execution_count": 4
        }
      ]
    },
    {
      "cell_type": "markdown",
      "source": [
        "Antrasis variantas atspausdins tik paskutinėje kodo eilutėje esanti kintamąjį. Tad jei reikia atspausdinti keletą kartų kintamąjį, reiktų naudoti (i) metodą."
      ],
      "metadata": {
        "id": "lypxW-j1Shoj"
      }
    },
    {
      "cell_type": "code",
      "source": [
        "# du kartus atspausdina kintamojo reikšmę\n",
        "print(kintamasis)\n",
        "print(kintamasis)"
      ],
      "metadata": {
        "colab": {
          "base_uri": "https://localhost:8080/"
        },
        "id": "SE-VKaVLStbC",
        "outputId": "61525c6a-dd37-4158-b237-8215e3d3a097"
      },
      "execution_count": 5,
      "outputs": [
        {
          "output_type": "stream",
          "name": "stdout",
          "text": [
            "Vardas\n",
            "Vardas\n"
          ]
        }
      ]
    },
    {
      "cell_type": "code",
      "source": [
        "# atspausdina tik paskutinį kintamąjį\n",
        "kintamasis\n",
        "kintamasis"
      ],
      "metadata": {
        "colab": {
          "base_uri": "https://localhost:8080/",
          "height": 35
        },
        "id": "Um5ZVY55Sgwk",
        "outputId": "4e828783-bd6b-4098-8183-0476add1059a"
      },
      "execution_count": 6,
      "outputs": [
        {
          "output_type": "execute_result",
          "data": {
            "text/plain": [
              "'Vardas'"
            ],
            "application/vnd.google.colaboratory.intrinsic+json": {
              "type": "string"
            }
          },
          "metadata": {},
          "execution_count": 6
        }
      ]
    },
    {
      "cell_type": "markdown",
      "source": [
        "Pateikiu du kodo pavyzdžius, kuomet sukuriami du skirtingi kintamieji su skirtingomis reikšmėmis. Abiem atvejais atspausdina tik paskutinio kintamojo reikšmę."
      ],
      "metadata": {
        "id": "wMGIVCV9S_Zq"
      }
    },
    {
      "cell_type": "code",
      "source": [
        "# sukurti kintamuosius\n",
        "var_1 = \"Pirmas\"\n",
        "var_2 = \"Antras\"\n",
        "\n",
        "# grąžinti (atspausdinti) kintamuosius\n",
        "var_1\n",
        "var_2"
      ],
      "metadata": {
        "colab": {
          "base_uri": "https://localhost:8080/",
          "height": 35
        },
        "id": "Oz6AGn5KS-kK",
        "outputId": "f8d1b9e6-de2c-4ea2-9d46-28b95d520293"
      },
      "execution_count": 7,
      "outputs": [
        {
          "output_type": "execute_result",
          "data": {
            "text/plain": [
              "'Antras'"
            ],
            "application/vnd.google.colaboratory.intrinsic+json": {
              "type": "string"
            }
          },
          "metadata": {},
          "execution_count": 7
        }
      ]
    },
    {
      "cell_type": "code",
      "source": [
        "# sukurti kintamuosius\n",
        "var_1 = \"Pirmas\"\n",
        "var_2 = \"Antras\"\n",
        "\n",
        "# tas pats kaip auksčiau tik apkeičiau vietomis var_2 ir var_1\n",
        "var_2\n",
        "var_1"
      ],
      "metadata": {
        "colab": {
          "base_uri": "https://localhost:8080/",
          "height": 35
        },
        "id": "P1lrwiGTOGnV",
        "outputId": "b7319774-b0b0-4242-c891-36e0e738cb6f"
      },
      "execution_count": 8,
      "outputs": [
        {
          "output_type": "execute_result",
          "data": {
            "text/plain": [
              "'Pirmas'"
            ],
            "application/vnd.google.colaboratory.intrinsic+json": {
              "type": "string"
            }
          },
          "metadata": {},
          "execution_count": 8
        }
      ]
    },
    {
      "cell_type": "markdown",
      "source": [
        "Jei norite, kad atspausdintų daugiau nei vieną kintamąjį, naudokite `print()` funkciją."
      ],
      "metadata": {
        "id": "f2YS32soTfAc"
      }
    },
    {
      "cell_type": "code",
      "source": [
        "# sukurti kintamuosius\n",
        "var_1 = \"Pirmas\"\n",
        "var_2 = \"Antras\"\n",
        "\n",
        "# atspausdinti abu kintamuosius\n",
        "print(var_2)\n",
        "print(var_1)"
      ],
      "metadata": {
        "colab": {
          "base_uri": "https://localhost:8080/"
        },
        "id": "wtcm9fAMTeic",
        "outputId": "61aae029-4cac-4f64-ae57-3470da175003"
      },
      "execution_count": 9,
      "outputs": [
        {
          "output_type": "stream",
          "name": "stdout",
          "text": [
            "Antras\n",
            "Pirmas\n"
          ]
        }
      ]
    },
    {
      "cell_type": "markdown",
      "source": [
        "Kodo pavyzdžiai dažnu atveju bus trumpi, tad (ii) variantas bus sutinkamas dažniau nei (i). \n",
        "\n",
        "`print()` funkcija taip pat leidžia atspausdinti daugiau nei vieną kintamąjį per eilutę (automatiškai įdeda po tarpą tarp kintamųjų reikšmių)."
      ],
      "metadata": {
        "id": "XS4JewaCVt1j"
      }
    },
    {
      "cell_type": "code",
      "source": [
        "# sukurti kintamuosius\n",
        "var_1 = \"Pirmas\"\n",
        "var_2 = \"Antras\"\n",
        "\n",
        "# tas pats kaip auksčiau tik apkeičiau vietomis var_2 ir var_1\n",
        "print(var_1, var_2)"
      ],
      "metadata": {
        "colab": {
          "base_uri": "https://localhost:8080/"
        },
        "id": "UyBMlPseWgPP",
        "outputId": "9c48e449-a5c3-42fb-9de1-4e27041a3519"
      },
      "execution_count": 10,
      "outputs": [
        {
          "output_type": "stream",
          "name": "stdout",
          "text": [
            "Pirmas Antras\n"
          ]
        }
      ]
    },
    {
      "cell_type": "markdown",
      "source": [
        "## Objekto tipas\n",
        "\n",
        "Kinamjų tipų nereikia deklaruoti tiesiogiai, Python automatiškai atpažįsta, kad:\n",
        "\n",
        "* jei prasideda `\"` arba `'` tuomet bus simbolių eilutė/tekstas (string),\n",
        "* jei skaičius be taško, tuomet bus sveikas (integer) skaičius,\n",
        "* jei skaičius su tašku, tuomet racionalus (float),\n",
        "* žodiai `True` arba `False` yra rezervuoti loginiams kintamiesiems.\n",
        "\n",
        "Funcija `type()` leidžia pažiūrėti kintamojo tipą."
      ],
      "metadata": {
        "id": "xPqofak9X_eN"
      }
    },
    {
      "cell_type": "code",
      "source": [
        "# sukurto kintamojo vertė tekstas\n",
        "a = '1'\n",
        "# atspausdinti kintamojo a vertę\n",
        "type(a)"
      ],
      "metadata": {
        "colab": {
          "base_uri": "https://localhost:8080/"
        },
        "id": "WsgbssQdYj6d",
        "outputId": "c0e1f08f-2468-4173-8e9a-4ca731169892"
      },
      "execution_count": 11,
      "outputs": [
        {
          "output_type": "execute_result",
          "data": {
            "text/plain": [
              "str"
            ]
          },
          "metadata": {},
          "execution_count": 11
        }
      ]
    },
    {
      "cell_type": "code",
      "source": [
        "# tas pats, tik atspausdina kintamojo reikšmę bei tipą\n",
        "a = '1'\n",
        "print(a, type(a))"
      ],
      "metadata": {
        "colab": {
          "base_uri": "https://localhost:8080/"
        },
        "id": "94MOwYjNY2zK",
        "outputId": "98e8b3d8-1670-44c9-cb1e-7384e9c63b9d"
      },
      "execution_count": 12,
      "outputs": [
        {
          "output_type": "stream",
          "name": "stdout",
          "text": [
            "1 <class 'str'>\n"
          ]
        }
      ]
    },
    {
      "cell_type": "code",
      "source": [
        "# sveikas skaičius\n",
        "b = 1\n",
        "print(b, type(b))"
      ],
      "metadata": {
        "colab": {
          "base_uri": "https://localhost:8080/"
        },
        "id": "fR6CyrY6X__U",
        "outputId": "90221b8e-cb78-4bdd-b877-ab1e5c62194b"
      },
      "execution_count": 13,
      "outputs": [
        {
          "output_type": "stream",
          "name": "stdout",
          "text": [
            "1 <class 'int'>\n"
          ]
        }
      ]
    },
    {
      "cell_type": "code",
      "source": [
        "# racionalus skaičius\n",
        "c = 1.0\n",
        "print(c, type(c))"
      ],
      "metadata": {
        "colab": {
          "base_uri": "https://localhost:8080/"
        },
        "id": "hWaz6jWJY-64",
        "outputId": "869efd64-13e7-42ba-e58c-ce5feb1871f3"
      },
      "execution_count": 14,
      "outputs": [
        {
          "output_type": "stream",
          "name": "stdout",
          "text": [
            "1.0 <class 'float'>\n"
          ]
        }
      ]
    },
    {
      "cell_type": "code",
      "source": [
        "# loginis kintamasis\n",
        "d = True\n",
        "print(d, type(d))"
      ],
      "metadata": {
        "colab": {
          "base_uri": "https://localhost:8080/"
        },
        "id": "U3Ozu-hCZCXU",
        "outputId": "2cb1497b-0f50-41a0-ea22-5d405e26c3d2"
      },
      "execution_count": 15,
      "outputs": [
        {
          "output_type": "stream",
          "name": "stdout",
          "text": [
            "True <class 'bool'>\n"
          ]
        }
      ]
    },
    {
      "cell_type": "markdown",
      "source": [
        "## Kintamųjų pavadinimai\n",
        "\n",
        "Kintamųjų pavadinimai gali būti kuriami naudojanat:\n",
        "\n",
        "* raides `abcd` ir t.t.,\n",
        "* skaičus (negali kintamasis prasidėti skaičiumi),\n",
        "* simbolis `_`.\n",
        "\n",
        "Kintamieji dažniausiai rašomi iš mažosios raidės. Neleistini kintamųjų pavadinimai (išmestų klaidą):\n",
        "\n",
        "* `1abc`,\n",
        "* `abs/abc`,\n",
        "* `pirmas.elementas`."
      ],
      "metadata": {
        "id": "DLHNKpSlMvvo"
      }
    },
    {
      "cell_type": "code",
      "source": [
        "# kintamųjų pvadinimai turi būti intuityvūs\n",
        "vardas = \"Jonas\""
      ],
      "metadata": {
        "id": "0SVSRHHINbPO"
      },
      "execution_count": 16,
      "outputs": []
    },
    {
      "cell_type": "code",
      "source": [
        "# gali būti parašyti cammel\n",
        "pirmasElementas = '1'"
      ],
      "metadata": {
        "id": "_KGBZH2VNgmM"
      },
      "execution_count": 17,
      "outputs": []
    },
    {
      "cell_type": "code",
      "source": [
        "# galima naudoti skaičius, jei tai ne pirmas simbolis\n",
        "kintamasis_1 = \"Vienas\""
      ],
      "metadata": {
        "id": "astsvNfVNsMY"
      },
      "execution_count": 18,
      "outputs": []
    },
    {
      "cell_type": "code",
      "source": [
        "# galima pradėti kintamąjį rašyti su simboliu _ (tokie kintamieji pagal nutylėjimą laikomi privačiais)\n",
        "_namo_numeris = \"Pirmas\""
      ],
      "metadata": {
        "id": "i3xV992INxM3"
      },
      "execution_count": 19,
      "outputs": []
    },
    {
      "cell_type": "markdown",
      "source": [
        "# II. Simbolių eilutė (`stings`)\n",
        "\n",
        "Tekstines vertes galima sukurti tiek su viengubomis `'` tiek su dvigubomis `kabutėmis`. Python tekstą koduoja UTF-8 formatu, tad galite tiesiai rašyti lietuviškais simboliais. **Bet paties kintamojo negalima pavadinti naudojant lietuviškas raides!**"
      ],
      "metadata": {
        "id": "b7BiKFk8Oy0E"
      }
    },
    {
      "cell_type": "code",
      "source": [
        "# sukurti kintamuosius\n",
        "vardas = \"Vardas\"\n",
        "pavarde = 'Pavardė'\n",
        "\n",
        "# atspausdinti rezultatą\n",
        "print(vardas, pavarde)"
      ],
      "metadata": {
        "colab": {
          "base_uri": "https://localhost:8080/"
        },
        "id": "H5lJE8unX7JK",
        "outputId": "c766b322-39a2-4847-ec12-e935ecd03ef8"
      },
      "execution_count": 20,
      "outputs": [
        {
          "output_type": "stream",
          "name": "stdout",
          "text": [
            "Vardas Pavardė\n"
          ]
        }
      ]
    },
    {
      "cell_type": "code",
      "source": [
        "# kartais reikia naudoti skirtingas kabutes dėl citatų (tekste naudojamos '' arba \"\")\n",
        "\n",
        "sakinys_1 = 'Yra sakoma \"Kas nerizikuoja, negeria šampano\"'\n",
        "sakinys_2 = \"Yra sakoma 'Kas nerizikuoja, negeria šampano'\"\n",
        "\n",
        "# priklausomai kokios kabutės panaudotos, skirtingai atspausdins tekstą\n",
        "print('Variantas #1', sakinys_1)\n",
        "print('Variantas #2', sakinys_2)"
      ],
      "metadata": {
        "colab": {
          "base_uri": "https://localhost:8080/"
        },
        "id": "7T8wUYwLaoJy",
        "outputId": "d4323322-17cc-41ca-831c-922208941dd3"
      },
      "execution_count": 21,
      "outputs": [
        {
          "output_type": "stream",
          "name": "stdout",
          "text": [
            "Variantas #1 Yra sakoma \"Kas nerizikuoja, negeria šampano\"\n",
            "Variantas #2 Yra sakoma 'Kas nerizikuoja, negeria šampano'\n"
          ]
        }
      ]
    },
    {
      "cell_type": "markdown",
      "source": [
        "Yra ilgas sąrašas metodų (funkcijų), kurios leidžia greitai apdoroti tekstinį kintamąjį. Pateikiu tris pavyzdžius:\n",
        "\n",
        "* `.lower()` visi simboliai paverčiaimi mažosiomis raidėmis.\n",
        "* `.upper()` visi simboliai didžiosiomis raidėmis.\n",
        "* `.replace()` pakeisti tekstą kitu tekstu.\n",
        "\n",
        "**Svarbu** atsiminti, kad ne visi metodai sukuria naują vertę, kai kurie modifikuoja vertę. Oficiali `string` objekto [dokumentacija](https://docs.python.org/3/library/stdtypes.html#text-sequence-type-str) bei trumpa visų metodų apžvalga [w3school](https://www.w3schools.com/python/python_ref_string.asp).\n",
        "\n",
        "Dažniausiai `string` funkcijos/metodai grąžina naują kintamąjį, tad reikia nepamiršti parašyti lygybės ženklo."
      ],
      "metadata": {
        "id": "W_EvnSLYcSSh"
      }
    },
    {
      "cell_type": "code",
      "source": [
        "# sukurti kintamąjį su sakiniu\n",
        "var = \"Vardas Pavarde 123\"\n",
        "\n",
        "# paversti mažosiomis raidėmis\n",
        "var.lower()"
      ],
      "metadata": {
        "colab": {
          "base_uri": "https://localhost:8080/",
          "height": 35
        },
        "id": "tS_6-70WdonR",
        "outputId": "d1b1c38b-61c6-4685-b742-bd1cd4c0edaa"
      },
      "execution_count": 22,
      "outputs": [
        {
          "output_type": "execute_result",
          "data": {
            "text/plain": [
              "'vardas pavarde 123'"
            ],
            "application/vnd.google.colaboratory.intrinsic+json": {
              "type": "string"
            }
          },
          "metadata": {},
          "execution_count": 22
        }
      ]
    },
    {
      "cell_type": "code",
      "source": [
        "# sukurti kintamąjį su sakiniu\n",
        "var = \"Vardas Pavarde 123\"\n",
        "\n",
        "# paversti mažosiomis raidėmis, tačiau mes neišsaugome kitnamojo\n",
        "var.lower()\n",
        "\n",
        "# grąžiname nemodifikuotą vertę\n",
        "var"
      ],
      "metadata": {
        "colab": {
          "base_uri": "https://localhost:8080/",
          "height": 35
        },
        "id": "B-KkXR1kmPs_",
        "outputId": "b7c78a6f-85b7-4716-acd6-398a3087523f"
      },
      "execution_count": 23,
      "outputs": [
        {
          "output_type": "execute_result",
          "data": {
            "text/plain": [
              "'Vardas Pavarde 123'"
            ],
            "application/vnd.google.colaboratory.intrinsic+json": {
              "type": "string"
            }
          },
          "metadata": {},
          "execution_count": 23
        }
      ]
    },
    {
      "cell_type": "code",
      "source": [
        "# sukurti kintamąjį su sakiniu\n",
        "var = \"Vardas Pavarde 123\"\n",
        "\n",
        "# paversti mažosiomis raidėmis ir išsauguti\n",
        "var = var.lower()\n",
        "\n",
        "# grąžiname modifikuotą vertę\n",
        "var"
      ],
      "metadata": {
        "colab": {
          "base_uri": "https://localhost:8080/",
          "height": 35
        },
        "id": "h_w4GGaNmb12",
        "outputId": "58188c4f-75dd-4b3d-aefb-6fb51b75811c"
      },
      "execution_count": 24,
      "outputs": [
        {
          "output_type": "execute_result",
          "data": {
            "text/plain": [
              "'vardas pavarde 123'"
            ],
            "application/vnd.google.colaboratory.intrinsic+json": {
              "type": "string"
            }
          },
          "metadata": {},
          "execution_count": 24
        }
      ]
    },
    {
      "cell_type": "code",
      "source": [
        "# sukurti kintamąjį su sakiniu\n",
        "var = \"Vardas Pavarde 123\"\n",
        "\n",
        "# paversti didžiosiomis raidėmis ir išsauguti\n",
        "var = var.upper()\n",
        "\n",
        "# grąžiname modifikuotą vertę\n",
        "var"
      ],
      "metadata": {
        "colab": {
          "base_uri": "https://localhost:8080/",
          "height": 35
        },
        "id": "rQl3JuXGmqvy",
        "outputId": "8076ffe2-716f-4df5-a0c1-55fdfbd2b200"
      },
      "execution_count": 25,
      "outputs": [
        {
          "output_type": "execute_result",
          "data": {
            "text/plain": [
              "'VARDAS PAVARDE 123'"
            ],
            "application/vnd.google.colaboratory.intrinsic+json": {
              "type": "string"
            }
          },
          "metadata": {},
          "execution_count": 25
        }
      ]
    },
    {
      "cell_type": "code",
      "source": [
        "# sukurti kintamąjį su sakiniu\n",
        "var = \"Vardas Vardenis vaidino 123\"\n",
        "\n",
        "# pakeisti visas V didžiasias raides į X\n",
        "var = var.replace('V', 'X')\n",
        "\n",
        "# grąžiname modifikuotą vertę\n",
        "var"
      ],
      "metadata": {
        "colab": {
          "base_uri": "https://localhost:8080/",
          "height": 35
        },
        "id": "AcfkmtKRmqsm",
        "outputId": "81ef9912-6146-4a56-fc56-24a1c0c7bcfc"
      },
      "execution_count": 26,
      "outputs": [
        {
          "output_type": "execute_result",
          "data": {
            "text/plain": [
              "'Xardas Xardenis vaidino 123'"
            ],
            "application/vnd.google.colaboratory.intrinsic+json": {
              "type": "string"
            }
          },
          "metadata": {},
          "execution_count": 26
        }
      ]
    },
    {
      "cell_type": "code",
      "source": [
        "# sukurti kintamąjį su sakiniu\n",
        "var = \"Vardas Vardenis vaidino 123\"\n",
        "\n",
        "# pakeisti visas V mažasias raides į K didžiąją\n",
        "var = var.replace('v', 'K')\n",
        "\n",
        "# grąžiname modifikuotą vertę\n",
        "var"
      ],
      "metadata": {
        "colab": {
          "base_uri": "https://localhost:8080/",
          "height": 35
        },
        "id": "eyBwX3lcnMuQ",
        "outputId": "c966502f-91a8-493d-975a-297fec86858d"
      },
      "execution_count": 27,
      "outputs": [
        {
          "output_type": "execute_result",
          "data": {
            "text/plain": [
              "'Vardas Vardenis Kaidino 123'"
            ],
            "application/vnd.google.colaboratory.intrinsic+json": {
              "type": "string"
            }
          },
          "metadata": {},
          "execution_count": 27
        }
      ]
    },
    {
      "cell_type": "code",
      "source": [
        "# sukurti kintamąjį su sakiniu\n",
        "var = \"Vardas Vardenis vaidino 123\"\n",
        "\n",
        "# pakeisti skaičių seką 123 į  XYZ\n",
        "var = var.replace('123', 'XYZ')\n",
        "\n",
        "# grąžiname modifikuotą vertę\n",
        "var"
      ],
      "metadata": {
        "colab": {
          "base_uri": "https://localhost:8080/",
          "height": 35
        },
        "id": "Elg1tNI-mqp-",
        "outputId": "5d48e6a1-10f7-4aad-e57c-24507dc3b41d"
      },
      "execution_count": 28,
      "outputs": [
        {
          "output_type": "execute_result",
          "data": {
            "text/plain": [
              "'Vardas Vardenis vaidino XYZ'"
            ],
            "application/vnd.google.colaboratory.intrinsic+json": {
              "type": "string"
            }
          },
          "metadata": {},
          "execution_count": 28
        }
      ]
    },
    {
      "cell_type": "code",
      "source": [
        "# sukurti kintamąjį su sakiniu\n",
        "var = \"Vardas vardas\"\n",
        "\n",
        "# kintamasis prieš pakeitimą\n",
        "print(\"Prieš pakeitimą:\", var)\n",
        "\n",
        "# pakeisti žodį \"Vard\" į nieką (tusčią simbolį)\n",
        "var = var.replace('Vard', '')\n",
        "\n",
        "# atspausdinti po pakeitimo\n",
        "print(\"Po pakeitimo:\", var)"
      ],
      "metadata": {
        "colab": {
          "base_uri": "https://localhost:8080/"
        },
        "id": "Y5koqjq-mqji",
        "outputId": "4318fa81-446f-4bc7-f457-9b36215a4242"
      },
      "execution_count": 29,
      "outputs": [
        {
          "output_type": "stream",
          "name": "stdout",
          "text": [
            "Prieš pakeitimą: Vardas vardas\n",
            "Po pakeitimo: as vardas\n"
          ]
        }
      ]
    },
    {
      "cell_type": "markdown",
      "source": [
        "Teskto pjaustymas (angl. string slicing).\n",
        "\n",
        "![Pjaustymo iliustracija](https://prepinsta.com/wp-content/uploads/2020/07/Slicing-in-python.webp \"Pjaustymo iliustracija\")\n",
        "\n"
      ],
      "metadata": {
        "id": "gsFt9qRFii5X"
      }
    },
    {
      "cell_type": "code",
      "source": [
        "# tekstinio kintamojo pvz.\n",
        "text = 'Sakinys Antras Zodis'\n",
        "\n",
        "# pirmas elementas/simbolis\n",
        "text[0]"
      ],
      "metadata": {
        "id": "iY8wws19invq",
        "outputId": "9cbaef83-6ca0-412a-a91c-df07e9e7af25",
        "colab": {
          "base_uri": "https://localhost:8080/",
          "height": 35
        }
      },
      "execution_count": 30,
      "outputs": [
        {
          "output_type": "execute_result",
          "data": {
            "text/plain": [
              "'S'"
            ],
            "application/vnd.google.colaboratory.intrinsic+json": {
              "type": "string"
            }
          },
          "metadata": {},
          "execution_count": 30
        }
      ]
    },
    {
      "cell_type": "code",
      "source": [
        "# paskutinis elementas\n",
        "text[-1]"
      ],
      "metadata": {
        "id": "rXbPgBpPEfLo",
        "outputId": "9c58292b-57dd-4eb8-94ea-a2abc4a1902f",
        "colab": {
          "base_uri": "https://localhost:8080/",
          "height": 35
        }
      },
      "execution_count": 31,
      "outputs": [
        {
          "output_type": "execute_result",
          "data": {
            "text/plain": [
              "'s'"
            ],
            "application/vnd.google.colaboratory.intrinsic+json": {
              "type": "string"
            }
          },
          "metadata": {},
          "execution_count": 31
        }
      ]
    },
    {
      "cell_type": "code",
      "source": [
        "# pirmas zodis/ pirmi 7 simboliai\n",
        "text[0:7]"
      ],
      "metadata": {
        "id": "DSQB8rcJFRn-",
        "outputId": "898f769a-aabe-4111-9b90-bf4225769bec",
        "colab": {
          "base_uri": "https://localhost:8080/",
          "height": 35
        }
      },
      "execution_count": 32,
      "outputs": [
        {
          "output_type": "execute_result",
          "data": {
            "text/plain": [
              "'Sakinys'"
            ],
            "application/vnd.google.colaboratory.intrinsic+json": {
              "type": "string"
            }
          },
          "metadata": {},
          "execution_count": 32
        }
      ]
    },
    {
      "cell_type": "code",
      "source": [
        "# tas pat, tik nerašant nuo nulio\n",
        "text[:7]"
      ],
      "metadata": {
        "id": "-VozOLUIFVBJ",
        "outputId": "1fb51d2a-0808-47b6-d55a-6b88ee16f8b8",
        "colab": {
          "base_uri": "https://localhost:8080/",
          "height": 35
        }
      },
      "execution_count": 33,
      "outputs": [
        {
          "output_type": "execute_result",
          "data": {
            "text/plain": [
              "'Sakinys'"
            ],
            "application/vnd.google.colaboratory.intrinsic+json": {
              "type": "string"
            }
          },
          "metadata": {},
          "execution_count": 33
        }
      ]
    },
    {
      "cell_type": "code",
      "source": [
        "# antras zodis\n",
        "text[8:14]"
      ],
      "metadata": {
        "id": "M-WswBjXFbTf",
        "outputId": "dc236fc4-56e6-43c9-eb31-601aab5d7955",
        "colab": {
          "base_uri": "https://localhost:8080/",
          "height": 35
        }
      },
      "execution_count": 34,
      "outputs": [
        {
          "output_type": "execute_result",
          "data": {
            "text/plain": [
              "'Antras'"
            ],
            "application/vnd.google.colaboratory.intrinsic+json": {
              "type": "string"
            }
          },
          "metadata": {},
          "execution_count": 34
        }
      ]
    },
    {
      "cell_type": "code",
      "source": [
        "# tekstinio kintamojo pvz.\n",
        "text = 'Vardenis Pavardenis'\n",
        "\n",
        "# paiimti simbolius nuo galo (4 nuo galo)\n",
        "text[-4:]"
      ],
      "metadata": {
        "id": "chuCO3ljLT7u",
        "outputId": "30cfc721-3efd-4f67-9f73-c046fc60a5dc",
        "colab": {
          "base_uri": "https://localhost:8080/",
          "height": 35
        }
      },
      "execution_count": 35,
      "outputs": [
        {
          "output_type": "execute_result",
          "data": {
            "text/plain": [
              "'enis'"
            ],
            "application/vnd.google.colaboratory.intrinsic+json": {
              "type": "string"
            }
          },
          "metadata": {},
          "execution_count": 35
        }
      ]
    },
    {
      "cell_type": "code",
      "source": [
        "# paiimti simbolius nuo 2 iki 2 nuo galo (neįskaitant)\n",
        "text[2:-2]"
      ],
      "metadata": {
        "id": "_jRJBXEiLlkj",
        "outputId": "b5a60a19-8243-42bd-d6f0-814757abf76a",
        "colab": {
          "base_uri": "https://localhost:8080/",
          "height": 35
        }
      },
      "execution_count": 36,
      "outputs": [
        {
          "output_type": "execute_result",
          "data": {
            "text/plain": [
              "'rdenis Pavarden'"
            ],
            "application/vnd.google.colaboratory.intrinsic+json": {
              "type": "string"
            }
          },
          "metadata": {},
          "execution_count": 36
        }
      ]
    },
    {
      "cell_type": "markdown",
      "source": [
        "### Užduotis 2.1\n",
        "\n",
        "Sukurti tekstinį kintamąjį/kintamuosius panaudojant Jūsų vardą ir pavardę."
      ],
      "metadata": {
        "id": "xUHQCU6ZG5Zk"
      }
    },
    {
      "cell_type": "code",
      "source": [
        "# vieta Jūsų kodui"
      ],
      "metadata": {
        "id": "JCyGCWcgFdvv"
      },
      "execution_count": 37,
      "outputs": []
    },
    {
      "cell_type": "markdown",
      "source": [
        "### Užduotis 2.2\n",
        "\n",
        "Naudojant `print()` funkciją atspausdinti paskutines 5 kintamojo `txt` simbolius."
      ],
      "metadata": {
        "id": "UH4QG5AdHSaH"
      }
    },
    {
      "cell_type": "code",
      "source": [
        "# atspausdinti šito kintamojo paskutines 5 raides\n",
        "txt = \"ABCD 1234 EDCBA\"\n",
        "\n",
        "# vieta Jūsų kodui"
      ],
      "metadata": {
        "id": "pj-qXD3oHTQp"
      },
      "execution_count": 38,
      "outputs": []
    },
    {
      "cell_type": "markdown",
      "source": [
        "### Užduotis 2.3\n",
        "\n",
        "Naudojant `print()` funkciją atspausdinti abu kintamuosius. Pirmas kintamasis turi būti tik iš mažųjų raidžių, o antras iš didžiųjų.\n",
        "\n",
        "Atsakymo pavyzdys:\n",
        "\n",
        "`\"petras PETRAITIS\"`"
      ],
      "metadata": {
        "id": "KSMVDMOnHT6y"
      }
    },
    {
      "cell_type": "code",
      "source": [
        "t_1 = 'pEtras'\n",
        "t_2 = 'PETraTIs'\n",
        "\n",
        "# vieta Jūsų kodui"
      ],
      "metadata": {
        "id": "xADUvcJdFaR3"
      },
      "execution_count": 39,
      "outputs": []
    },
    {
      "cell_type": "markdown",
      "source": [
        "### Užduotis 2.4\n",
        "\n",
        "**(sudėtingesnė)** rasti internete metodą, kuris žodžių pirmas raides paverstų didžiosiomis. Pritaikyti rastą metodą ant `txt` kintamojo.\n",
        "\n",
        "Atsakymo pavyzdys:\n",
        "\n",
        "`\"Jonas Jonaitas\"`\n",
        "\n"
      ],
      "metadata": {
        "id": "OKzsbatkHVk3"
      }
    },
    {
      "cell_type": "code",
      "source": [
        "txt = \"JONAS jonaitis\"\n",
        "# vieta Jūsų kodui"
      ],
      "metadata": {
        "id": "8Zz_XMLpc_Om"
      },
      "execution_count": 40,
      "outputs": []
    },
    {
      "cell_type": "markdown",
      "source": [
        "# III. Skaičiai\n",
        "\n",
        "Yra dviejų tipų skaičiai:\n",
        "\n",
        "* sveikieji (int) - sukuriant juos nenaudoti taško,\n",
        "* racionalūs (float) - sukuriant skaičių naudojam tašką."
      ],
      "metadata": {
        "id": "wssdFESiOytm"
      }
    },
    {
      "cell_type": "code",
      "source": [
        "# pvz. dviejų skirtingų tipų skaičių\n",
        "\n",
        "var_1 = 1\n",
        "var_2 = 1.0\n",
        "\n",
        "print(f\"Sveikas skaičius:\", var_1)\n",
        "print(f\"Racionalus skaičius:\", var_2)"
      ],
      "metadata": {
        "id": "_eijoDxCglVs",
        "colab": {
          "base_uri": "https://localhost:8080/"
        },
        "outputId": "99b12f30-637f-4b42-b8b6-c5c6300c9b9d"
      },
      "execution_count": 41,
      "outputs": [
        {
          "output_type": "stream",
          "name": "stdout",
          "text": [
            "Sveikas skaičius: 1\n",
            "Racionalus skaičius: 1.0\n"
          ]
        }
      ]
    },
    {
      "cell_type": "markdown",
      "source": [
        "## Sveikieji (`integers`)"
      ],
      "metadata": {
        "id": "vO_VsweTPZtP"
      }
    },
    {
      "cell_type": "code",
      "source": [
        "# aritmetinės operacijos\n",
        "var_1 = 1\n",
        "var_2 = 7\n",
        "\n",
        "# suma\n",
        "var_1 + var_2"
      ],
      "metadata": {
        "id": "qJX-3iu5GvXA",
        "colab": {
          "base_uri": "https://localhost:8080/"
        },
        "outputId": "b8819ef6-3ef6-4111-9938-15099aee0949"
      },
      "execution_count": 42,
      "outputs": [
        {
          "output_type": "execute_result",
          "data": {
            "text/plain": [
              "8"
            ]
          },
          "metadata": {},
          "execution_count": 42
        }
      ]
    },
    {
      "cell_type": "code",
      "source": [
        "# aritmetinės operacijos\n",
        "var_1 = 1\n",
        "var_2 = 7\n",
        "\n",
        "# atimtis\n",
        "var_1 - var_2"
      ],
      "metadata": {
        "colab": {
          "base_uri": "https://localhost:8080/"
        },
        "id": "IvGaOaswrjm1",
        "outputId": "4e78407e-4ad0-4bb2-b20f-bb43fcd795d3"
      },
      "execution_count": 43,
      "outputs": [
        {
          "output_type": "execute_result",
          "data": {
            "text/plain": [
              "-6"
            ]
          },
          "metadata": {},
          "execution_count": 43
        }
      ]
    },
    {
      "cell_type": "code",
      "source": [
        "# aritmetinės operacijos\n",
        "var_1 = 1\n",
        "var_2 = 7\n",
        "\n",
        "# daugyba\n",
        "ans = var_1 * var_2\n",
        "print(ans, type(ans))"
      ],
      "metadata": {
        "colab": {
          "base_uri": "https://localhost:8080/"
        },
        "id": "zsCR230ZrnLf",
        "outputId": "291d0ba0-a952-4d09-defb-b5c84ffecc21"
      },
      "execution_count": 44,
      "outputs": [
        {
          "output_type": "stream",
          "name": "stdout",
          "text": [
            "7 <class 'int'>\n"
          ]
        }
      ]
    },
    {
      "cell_type": "code",
      "source": [
        "# aritmetinės operacijos\n",
        "var_1 = 10\n",
        "var_2 = 2\n",
        "\n",
        "# dalyba\n",
        "ans = var_1 / var_2\n",
        "print(ans, type(ans))"
      ],
      "metadata": {
        "colab": {
          "base_uri": "https://localhost:8080/"
        },
        "id": "-6S6iTpSrrMc",
        "outputId": "e595269f-05ff-47c2-86f5-7b6db9a9963a"
      },
      "execution_count": 45,
      "outputs": [
        {
          "output_type": "stream",
          "name": "stdout",
          "text": [
            "5.0 <class 'float'>\n"
          ]
        }
      ]
    },
    {
      "cell_type": "code",
      "source": [
        "# aritmetinės operacijos\n",
        "var_1 = 10\n",
        "var_2 = 6\n",
        "\n",
        "# liekana dalis\n",
        "ans = var_1 % var_2\n",
        "print(ans, type(ans))"
      ],
      "metadata": {
        "colab": {
          "base_uri": "https://localhost:8080/"
        },
        "id": "SIhZk_mkrrOc",
        "outputId": "af3d740c-287f-4f81-c26a-340067527973"
      },
      "execution_count": 46,
      "outputs": [
        {
          "output_type": "stream",
          "name": "stdout",
          "text": [
            "4 <class 'int'>\n"
          ]
        }
      ]
    },
    {
      "cell_type": "code",
      "source": [
        "# aritmetinės operacijos\n",
        "var_1 = 10\n",
        "var_2 = 6\n",
        "\n",
        "# sveikoji dalis\n",
        "ans = var_1 // var_2\n",
        "print(ans, type(ans))"
      ],
      "metadata": {
        "colab": {
          "base_uri": "https://localhost:8080/"
        },
        "id": "2PRA5ZKErrQr",
        "outputId": "f12847f1-15ff-4c7c-fe1f-ca60a8eea10b"
      },
      "execution_count": 47,
      "outputs": [
        {
          "output_type": "stream",
          "name": "stdout",
          "text": [
            "1 <class 'int'>\n"
          ]
        }
      ]
    },
    {
      "cell_type": "code",
      "source": [
        "# aritmetinės operacijos\n",
        "var_1 = 4\n",
        "var_2 = 2\n",
        "\n",
        "# kelimas laipsniu\n",
        "ans = var_1 ** var_2\n",
        "print(ans, type(ans))"
      ],
      "metadata": {
        "colab": {
          "base_uri": "https://localhost:8080/"
        },
        "id": "qebsvjXVsEzh",
        "outputId": "57339ea6-67c9-4477-da51-4659d87593f7"
      },
      "execution_count": 48,
      "outputs": [
        {
          "output_type": "stream",
          "name": "stdout",
          "text": [
            "16 <class 'int'>\n"
          ]
        }
      ]
    },
    {
      "cell_type": "code",
      "source": [
        "# aritmetinės operacijos\n",
        "var_1 = 4\n",
        "var_2 = 1/2\n",
        "\n",
        "# ištraukti šaknį\n",
        "ans = var_1 ** var_2\n",
        "print(ans, type)"
      ],
      "metadata": {
        "colab": {
          "base_uri": "https://localhost:8080/"
        },
        "id": "OiwxUHtrsHL0",
        "outputId": "f404fd9e-0006-4d27-a23e-6c8ae9422e7b"
      },
      "execution_count": 49,
      "outputs": [
        {
          "output_type": "stream",
          "name": "stdout",
          "text": [
            "2.0 <class 'type'>\n"
          ]
        }
      ]
    },
    {
      "cell_type": "markdown",
      "source": [
        "## Racionalieji (`floats`)\n"
      ],
      "metadata": {
        "id": "iBO205G4PDUc"
      }
    },
    {
      "cell_type": "code",
      "source": [
        "# aritmetinės operacijos\n",
        "var_1 = 1.5\n",
        "var_2 = 5.37\n",
        "\n",
        "# suma\n",
        "var_1 + var_2"
      ],
      "metadata": {
        "id": "huUljl9bPCyZ",
        "colab": {
          "base_uri": "https://localhost:8080/"
        },
        "outputId": "fcf84c66-2d51-4e3b-f14a-4ad0bb986864"
      },
      "execution_count": 50,
      "outputs": [
        {
          "output_type": "execute_result",
          "data": {
            "text/plain": [
              "6.87"
            ]
          },
          "metadata": {},
          "execution_count": 50
        }
      ]
    },
    {
      "cell_type": "code",
      "source": [
        "# aritmetinės operacijos\n",
        "var_1 = 14.1\n",
        "var_2 = 2.77\n",
        "\n",
        "# atimtis\n",
        "var_1 - var_2"
      ],
      "metadata": {
        "colab": {
          "base_uri": "https://localhost:8080/"
        },
        "id": "8h2ugxyTNkOq",
        "outputId": "66dce206-2da2-44ce-989d-c71f013ad703"
      },
      "execution_count": 51,
      "outputs": [
        {
          "output_type": "execute_result",
          "data": {
            "text/plain": [
              "11.33"
            ]
          },
          "metadata": {},
          "execution_count": 51
        }
      ]
    },
    {
      "cell_type": "code",
      "source": [
        "# aritmetinės operacijos\n",
        "var_1 = 11.1\n",
        "var_2 = 0.5\n",
        "\n",
        "# daugyba\n",
        "ans = var_1 * var_2\n",
        "print(ans, type(ans))"
      ],
      "metadata": {
        "colab": {
          "base_uri": "https://localhost:8080/"
        },
        "id": "imdMvbLnNkRl",
        "outputId": "da2d00cd-9373-4f92-e023-21fe535e71db"
      },
      "execution_count": 52,
      "outputs": [
        {
          "output_type": "stream",
          "name": "stdout",
          "text": [
            "5.55 <class 'float'>\n"
          ]
        }
      ]
    },
    {
      "cell_type": "code",
      "source": [
        "# aritmetinės operacijos\n",
        "var_1 = 7.5\n",
        "var_2 = 1.5\n",
        "\n",
        "# dalyba\n",
        "ans = var_1 / var_2\n",
        "print(ans, type(ans))"
      ],
      "metadata": {
        "colab": {
          "base_uri": "https://localhost:8080/"
        },
        "id": "veUPMa10M8T7",
        "outputId": "ca5e6078-ace5-4209-93e5-594c7f3187aa"
      },
      "execution_count": 53,
      "outputs": [
        {
          "output_type": "stream",
          "name": "stdout",
          "text": [
            "5.0 <class 'float'>\n"
          ]
        }
      ]
    },
    {
      "cell_type": "code",
      "source": [
        "# aritmetinės operacijos\n",
        "var_1 = 2\n",
        "var_2 = 2.5\n",
        "\n",
        "# kelimas laipsniu\n",
        "ans = var_1 ** var_2\n",
        "print(ans, type(ans))"
      ],
      "metadata": {
        "colab": {
          "base_uri": "https://localhost:8080/"
        },
        "id": "kJW4cpoDNn9M",
        "outputId": "356e157c-701c-4e09-8fa6-5c4d99d52073"
      },
      "execution_count": 54,
      "outputs": [
        {
          "output_type": "stream",
          "name": "stdout",
          "text": [
            "5.656854249492381 <class 'float'>\n"
          ]
        }
      ]
    },
    {
      "cell_type": "code",
      "source": [
        "# apvalinti skaičių iki šimtųjų\n",
        "round(123.123, 2)"
      ],
      "metadata": {
        "colab": {
          "base_uri": "https://localhost:8080/"
        },
        "id": "5TVjtXuZN0Kx",
        "outputId": "5d470319-d694-4e5b-c6da-58097918a2b8"
      },
      "execution_count": 55,
      "outputs": [
        {
          "output_type": "execute_result",
          "data": {
            "text/plain": [
              "123.12"
            ]
          },
          "metadata": {},
          "execution_count": 55
        }
      ]
    },
    {
      "cell_type": "code",
      "source": [
        "# apvalinti skaičių iki dešimtųjų\n",
        "round(123.123, 1)"
      ],
      "metadata": {
        "colab": {
          "base_uri": "https://localhost:8080/"
        },
        "id": "OC35CJ4iN4hu",
        "outputId": "8294b181-df1a-4806-e6fc-3ffdda52d2ae"
      },
      "execution_count": 56,
      "outputs": [
        {
          "output_type": "execute_result",
          "data": {
            "text/plain": [
              "123.1"
            ]
          },
          "metadata": {},
          "execution_count": 56
        }
      ]
    },
    {
      "cell_type": "markdown",
      "source": [
        "## Užduotys"
      ],
      "metadata": {
        "id": "I8i05GRwG-GH"
      }
    },
    {
      "cell_type": "markdown",
      "source": [
        "### Užduotis 3.1\n",
        "\n",
        "Lietuvoje 2021 buvo suskaičiuoti 2784279 gyventojai. Lietuvos Respublikos plotas yra 65300 km^2.\n",
        "\n",
        "Kiek vidutiniškai yra gyventojų vienam kvadratiniame kilometre?"
      ],
      "metadata": {
        "id": "6XrhCYwaOWNt"
      }
    },
    {
      "cell_type": "code",
      "source": [
        "# duomenys (nekeisti)\n",
        "gyv_skaicius = 2784279\n",
        "plotas = 65300\n",
        "\n",
        "# įvesti savo formulę, vieta Jūsų kodui\n",
        "tankis = 0\n",
        "\n",
        "# suapvalinkite savo rezutaltą iki šimtųjų\n",
        "\n",
        "# atspausdina atsakymą (šitos eilutės nekeisti)\n",
        "print(f'Lietuvoje yra {tankis} žm./km^2')"
      ],
      "metadata": {
        "id": "sggl0zvSG9jZ",
        "colab": {
          "base_uri": "https://localhost:8080/"
        },
        "outputId": "05283ed1-715d-465a-b232-1f7a32ea9155"
      },
      "execution_count": 57,
      "outputs": [
        {
          "output_type": "stream",
          "name": "stdout",
          "text": [
            "Lietuvoje yra 0 žm./km^2\n"
          ]
        }
      ]
    },
    {
      "cell_type": "markdown",
      "source": [
        "### Užduotis 3.2\n",
        "\n",
        "Autobuse telpa 87 žmonės. Tačiau važiuoti norinčių yra 93. Naudodami liekanos operatorių, apskaičiuokite, kiek žmonių netilps?"
      ],
      "metadata": {
        "id": "z8SxmQJIOf5P"
      }
    },
    {
      "cell_type": "code",
      "source": [
        "# kodo pvz. ieškoti aukščiau\n",
        "# vieta Jūsų kodui, su ALT + ENTER galite daugiau eilučių susikurti\n"
      ],
      "metadata": {
        "id": "CIhCa-B4OS86"
      },
      "execution_count": 58,
      "outputs": []
    },
    {
      "cell_type": "markdown",
      "source": [
        "### Užduotis 3.3\n",
        "\n",
        "Bėgimas truko 12345 sekundes. Kiek šis bėgimas truko minutėmis, valandomis ir dienomis? Atsakymus suapvalinkite iki dešimčių."
      ],
      "metadata": {
        "id": "gs8W-aHjOrva"
      }
    },
    {
      "cell_type": "code",
      "source": [
        "begimo_trukme_sec = 12345\n",
        "\n",
        "# vieta Jūsų kodui\n",
        "begimo_trukme_minutemis = 0\n",
        "begimo_trukme_valandomis = 0\n",
        "begimo_trukme_dienomis = 0\n",
        "\n",
        "# suapvalinkite atsakimus iki 10-tųjų\n",
        "\n",
        "# nekeisti žemiau esančio kodo\n",
        "print('Bėgimas truko:')\n",
        "print(f\"{begimo_trukme_minutemis} minutes.\")\n",
        "print(f\"{begimo_trukme_valandomis} valandos\")\n",
        "print(f\"{begimo_trukme_dienomis} dienos\")"
      ],
      "metadata": {
        "colab": {
          "base_uri": "https://localhost:8080/"
        },
        "id": "2O0HnPuGOTAG",
        "outputId": "458faf2b-d8f3-43ce-9a48-1cc755d749ba"
      },
      "execution_count": 59,
      "outputs": [
        {
          "output_type": "stream",
          "name": "stdout",
          "text": [
            "Bėgimas truko:\n",
            "0 minutes.\n",
            "0 valandos\n",
            "0 dienos\n"
          ]
        }
      ]
    },
    {
      "cell_type": "markdown",
      "source": [
        "# IV. Loginiai (`booleans`)\n",
        "\n",
        "`Boolean` loginės sąlygos:\n",
        "\n",
        "* `==` patikrinti ar lygu (vienodi),\n",
        "* `!=` patikrinti ar nelygu (pvz. skirtingi kintamieji),\n",
        "* `>` daugiau,\n",
        "* `>=` daugiau arba lygu,\n",
        "* `<` mažiau,\n",
        "* `<=` mažiau arba lygu,\n",
        "* `in` yra sąraše/masyve,\n",
        "* `not in` nėra sąraše/masyve."
      ],
      "metadata": {
        "id": "dPAw95VhPIp2"
      }
    },
    {
      "cell_type": "code",
      "source": [
        "# ar 30 daugiau už 5\n",
        "a = 30 > 5\n",
        "print(a)"
      ],
      "metadata": {
        "id": "cEohfBJ_gqm3",
        "colab": {
          "base_uri": "https://localhost:8080/"
        },
        "outputId": "23a54c42-f8a6-40d4-aa41-75e508f4314c"
      },
      "execution_count": 60,
      "outputs": [
        {
          "output_type": "stream",
          "name": "stdout",
          "text": [
            "True\n"
          ]
        }
      ]
    },
    {
      "cell_type": "code",
      "source": [
        "# ar žodis \"Hello\" yra sakinyje \"Hello World!\"\n",
        "b = \"Hello World!\"\n",
        "c = 'Hello' in b\n",
        "print(c)"
      ],
      "metadata": {
        "id": "aPPPwVqDPHWr",
        "outputId": "02d9fa67-dca1-46b6-a1b9-2ad785bf995f",
        "colab": {
          "base_uri": "https://localhost:8080/"
        }
      },
      "execution_count": 61,
      "outputs": [
        {
          "output_type": "stream",
          "name": "stdout",
          "text": [
            "True\n"
          ]
        }
      ]
    },
    {
      "cell_type": "code",
      "source": [
        "# lygybės pvz.\n",
        "a = 2\n",
        "b = 5\n",
        "c = 2\n",
        "\n",
        "print(\"a = b\", a == b)\n",
        "print(\"a = c\", a == c)"
      ],
      "metadata": {
        "id": "pb2VUA_aPRUj",
        "outputId": "627767df-edc3-4703-be83-786a1091a612",
        "colab": {
          "base_uri": "https://localhost:8080/"
        }
      },
      "execution_count": 62,
      "outputs": [
        {
          "output_type": "stream",
          "name": "stdout",
          "text": [
            "a = b False\n",
            "a = c True\n"
          ]
        }
      ]
    },
    {
      "cell_type": "code",
      "source": [
        "# nelygybės pvz.\n",
        "print(a != b)\n",
        "print(a != c)"
      ],
      "metadata": {
        "id": "O5yBKSBoP79N",
        "outputId": "3a8c9cb8-6c94-45be-90c5-0cc893e7475d",
        "colab": {
          "base_uri": "https://localhost:8080/"
        }
      },
      "execution_count": 63,
      "outputs": [
        {
          "output_type": "stream",
          "name": "stdout",
          "text": [
            "True\n",
            "False\n"
          ]
        }
      ]
    },
    {
      "cell_type": "code",
      "source": [
        "# daugiau/mažiau arba lygu\n",
        "print(a >= b)\n",
        "print(a <= c)"
      ],
      "metadata": {
        "id": "Kiy9atfjQEhL",
        "outputId": "40754445-bfc0-47dc-f060-2dd3a535c04c",
        "colab": {
          "base_uri": "https://localhost:8080/"
        }
      },
      "execution_count": 64,
      "outputs": [
        {
          "output_type": "stream",
          "name": "stdout",
          "text": [
            "False\n",
            "True\n"
          ]
        }
      ]
    },
    {
      "cell_type": "code",
      "source": [
        "# daugiau/mažiau\n",
        "print(a > b)\n",
        "print(a < c)"
      ],
      "metadata": {
        "id": "21c-0dN9QGNX",
        "outputId": "506c392b-dbae-4a67-da8e-e563b111310c",
        "colab": {
          "base_uri": "https://localhost:8080/"
        }
      },
      "execution_count": 65,
      "outputs": [
        {
          "output_type": "stream",
          "name": "stdout",
          "text": [
            "False\n",
            "False\n"
          ]
        }
      ]
    },
    {
      "cell_type": "markdown",
      "source": [
        "### Užduotis 4.1\n",
        "\n",
        "Atsakykite į klausimą naudodamiesi `boolean` operatoriumi - ar sakinyje `Meška paslydo` yra žodis `meška`?"
      ],
      "metadata": {
        "id": "xR7jVe-MHAPu"
      }
    },
    {
      "cell_type": "code",
      "source": [
        "# nekeist kintamojo vertės\n",
        "sakinys = \"Meška paslydo\"\n",
        "\n",
        "# vieta Jūsų kodui\n",
        "atsakymas = 0\n",
        "\n",
        "# atspausdina atsakymą\n",
        "print(atsakymas)"
      ],
      "metadata": {
        "id": "DuFuPnhoPUs0",
        "outputId": "22f29e4e-aaaf-4127-f653-1e4f5056a220",
        "colab": {
          "base_uri": "https://localhost:8080/"
        }
      },
      "execution_count": 66,
      "outputs": [
        {
          "output_type": "stream",
          "name": "stdout",
          "text": [
            "0\n"
          ]
        }
      ]
    },
    {
      "cell_type": "markdown",
      "source": [
        "### Užduotis 4.2\n",
        "\n",
        "Atsakykite į klausimą naudodamiesi `boolean` operatoriumi - ar `Onutės` yra lygus `onutė`?"
      ],
      "metadata": {
        "id": "cZAE4OGjPWno"
      }
    },
    {
      "cell_type": "code",
      "source": [
        "# nekeist kintamųjų verčių\n",
        "vardas_1 = 'Onutė'\n",
        "vardas_2 = 'onuTė'\n",
        "\n",
        "# Jūsų atsakymas su boolean operatoriumi\n"
      ],
      "metadata": {
        "id": "342cyjcxG_9i"
      },
      "execution_count": 67,
      "outputs": []
    },
    {
      "cell_type": "markdown",
      "source": [
        "# V. Kintamųjų atvaizdavimas"
      ],
      "metadata": {
        "id": "R0NU-DPigt1v"
      }
    },
    {
      "cell_type": "markdown",
      "source": [
        "## Senovinis būdas"
      ],
      "metadata": {
        "id": "jEeXV7OV-rVU"
      }
    },
    {
      "cell_type": "code",
      "source": [
        "# deklaruoti du kintamuosius\n",
        "skaicius = 861\n",
        "tekstas = 'Vardas'\n",
        "\n",
        "# senovinis atvaizdavimas\n",
        "'Labas, %s' % tekstas"
      ],
      "metadata": {
        "id": "dlBB8s6ZgwiE",
        "outputId": "6b1b16cc-8257-4572-b68b-ae7e72fc4a34",
        "colab": {
          "base_uri": "https://localhost:8080/",
          "height": 35
        }
      },
      "execution_count": 68,
      "outputs": [
        {
          "output_type": "execute_result",
          "data": {
            "text/plain": [
              "'Labas, Vardas'"
            ],
            "application/vnd.google.colaboratory.intrinsic+json": {
              "type": "string"
            }
          },
          "metadata": {},
          "execution_count": 68
        }
      ]
    },
    {
      "cell_type": "code",
      "source": [
        "# senovinis atvaizdavimas\n",
        "print('Namo numeris: %s' % skaicius)"
      ],
      "metadata": {
        "id": "AYQZRqE-8f60",
        "outputId": "58856ce0-91b0-4c87-934d-c3498c71a65e",
        "colab": {
          "base_uri": "https://localhost:8080/"
        }
      },
      "execution_count": 69,
      "outputs": [
        {
          "output_type": "stream",
          "name": "stdout",
          "text": [
            "Namo numeris: 861\n"
          ]
        }
      ]
    },
    {
      "cell_type": "code",
      "source": [
        "# senovinis atvaizdavimas (kaip skaičius)\n",
        "print('Namo numeris: %f' % skaicius)"
      ],
      "metadata": {
        "id": "Zws3lZca8tV0",
        "outputId": "d8c04dea-093c-4e7f-fdc3-2b0dc3f0607c",
        "colab": {
          "base_uri": "https://localhost:8080/"
        }
      },
      "execution_count": 70,
      "outputs": [
        {
          "output_type": "stream",
          "name": "stdout",
          "text": [
            "Namo numeris: 861.000000\n"
          ]
        }
      ]
    },
    {
      "cell_type": "code",
      "source": [
        "# atvaizduoti abu kintamuosius\n",
        "'Labas %s, tau skolingas %.2f eurus!' % (tekstas, skaicius)"
      ],
      "metadata": {
        "id": "8IvvdO1b9iEM",
        "outputId": "194fd10d-7c82-4ac8-9ad8-703490c2b891",
        "colab": {
          "base_uri": "https://localhost:8080/",
          "height": 35
        }
      },
      "execution_count": 71,
      "outputs": [
        {
          "output_type": "execute_result",
          "data": {
            "text/plain": [
              "'Labas Vardas, tau skolingas 861.00 eurus!'"
            ],
            "application/vnd.google.colaboratory.intrinsic+json": {
              "type": "string"
            }
          },
          "metadata": {},
          "execution_count": 71
        }
      ]
    },
    {
      "cell_type": "code",
      "source": [
        "# kaip auksčiau tik naudojant žodyną\n",
        "'Labas %(tekstas)s, tau skolingas %(skaicius)f eurus!' % {\"tekstas\": tekstas, \"skaicius\": skaicius}"
      ],
      "metadata": {
        "id": "F_gdVUdK937d",
        "outputId": "8b5b5c6b-8fb0-4481-aa6e-f3b0a5647bf1",
        "colab": {
          "base_uri": "https://localhost:8080/",
          "height": 35
        }
      },
      "execution_count": 72,
      "outputs": [
        {
          "output_type": "execute_result",
          "data": {
            "text/plain": [
              "'Labas Vardas, tau skolingas 861.000000 eurus!'"
            ],
            "application/vnd.google.colaboratory.intrinsic+json": {
              "type": "string"
            }
          },
          "metadata": {},
          "execution_count": 72
        }
      ]
    },
    {
      "cell_type": "markdown",
      "source": [
        "## Dabartinis"
      ],
      "metadata": {
        "id": "Y94N92ncDbJ-"
      }
    },
    {
      "cell_type": "code",
      "source": [
        "# .format() metodas\n",
        "vardas = \"Jonai\"\n",
        "'Labas, {}!'.format(vardas)"
      ],
      "metadata": {
        "id": "7JkEtN-h-Ors",
        "outputId": "2d51eb7c-bdad-46c4-9262-e64158b2845e",
        "colab": {
          "base_uri": "https://localhost:8080/",
          "height": 35
        }
      },
      "execution_count": 73,
      "outputs": [
        {
          "output_type": "execute_result",
          "data": {
            "text/plain": [
              "'Labas, Jonai!'"
            ],
            "application/vnd.google.colaboratory.intrinsic+json": {
              "type": "string"
            }
          },
          "metadata": {},
          "execution_count": 73
        }
      ]
    },
    {
      "cell_type": "code",
      "source": [
        "# šiek tiek kitaip\n",
        "vardas = \"Jonai\"\n",
        "pasisveikinimas = 'Labas, {}!'.format(vardas)\n",
        "print(pasisveikinimas)"
      ],
      "metadata": {
        "id": "pcXuL1rFDov1",
        "outputId": "55ca7f0a-7c82-4353-e388-cb1e3ba54f67",
        "colab": {
          "base_uri": "https://localhost:8080/"
        }
      },
      "execution_count": 74,
      "outputs": [
        {
          "output_type": "stream",
          "name": "stdout",
          "text": [
            "Labas, Jonai!\n"
          ]
        }
      ]
    },
    {
      "cell_type": "code",
      "source": [
        "# deklaruoti du kintamuosius\n",
        "skaicius = 861\n",
        "tekstas = 'Vardas'\n",
        "# kaip auksčiau tik naudojant žodyną\n",
        "'Labas {tekstas}, tau skolingas {skaicius} eurus!'.format(tekstas= tekstas, skaicius= skaicius)"
      ],
      "metadata": {
        "id": "ZiRprJjQDwl8",
        "outputId": "ffb012fe-6bce-4080-b721-3087bb2fa9ed",
        "colab": {
          "base_uri": "https://localhost:8080/",
          "height": 35
        }
      },
      "execution_count": 75,
      "outputs": [
        {
          "output_type": "execute_result",
          "data": {
            "text/plain": [
              "'Labas Vardas, tau skolingas 861 eurus!'"
            ],
            "application/vnd.google.colaboratory.intrinsic+json": {
              "type": "string"
            }
          },
          "metadata": {},
          "execution_count": 75
        }
      ]
    },
    {
      "cell_type": "code",
      "source": [
        "# nenaudojant .format\n",
        "vardas = \"Jonai\"\n",
        "f'Sveikas, {vardas}!'"
      ],
      "metadata": {
        "id": "olF3-43b93_L",
        "outputId": "294146f9-6965-4502-a49b-6faff88d974c",
        "colab": {
          "base_uri": "https://localhost:8080/",
          "height": 35
        }
      },
      "execution_count": 76,
      "outputs": [
        {
          "output_type": "execute_result",
          "data": {
            "text/plain": [
              "'Sveikas, Jonai!'"
            ],
            "application/vnd.google.colaboratory.intrinsic+json": {
              "type": "string"
            }
          },
          "metadata": {},
          "execution_count": 76
        }
      ]
    },
    {
      "cell_type": "code",
      "source": [
        "# matematinės operacijos\n",
        "a = 5\n",
        "b = 10\n",
        "f'Penki plius dešimti yra {a + b}.'"
      ],
      "metadata": {
        "id": "hWOl3a6KET50",
        "outputId": "d244d465-f256-49c8-e01c-c2e1ad53ba3c",
        "colab": {
          "base_uri": "https://localhost:8080/",
          "height": 35
        }
      },
      "execution_count": 77,
      "outputs": [
        {
          "output_type": "execute_result",
          "data": {
            "text/plain": [
              "'Penki plius dešimti yra 15.'"
            ],
            "application/vnd.google.colaboratory.intrinsic+json": {
              "type": "string"
            }
          },
          "metadata": {},
          "execution_count": 77
        }
      ]
    },
    {
      "cell_type": "code",
      "source": [
        "# tas pats tik kitaip\n",
        "f\"{a} - {b} = {a-b}\""
      ],
      "metadata": {
        "id": "H3bVt7JEEd-M",
        "outputId": "131a03be-9239-4438-e8fa-e6a2c64720b6",
        "colab": {
          "base_uri": "https://localhost:8080/",
          "height": 35
        }
      },
      "execution_count": 78,
      "outputs": [
        {
          "output_type": "execute_result",
          "data": {
            "text/plain": [
              "'5 - 10 = -5'"
            ],
            "application/vnd.google.colaboratory.intrinsic+json": {
              "type": "string"
            }
          },
          "metadata": {},
          "execution_count": 78
        }
      ]
    },
    {
      "cell_type": "code",
      "source": [
        "# galima \"sumuoti\" tekstus\n",
        "vardas = \"Vardenis\"\n",
        "pavarde = \"Pavardenis\"\n",
        "zinute = vardas + \" \" + pavarde"
      ],
      "metadata": {
        "id": "2AKwuESZEmHy"
      },
      "execution_count": 79,
      "outputs": []
    },
    {
      "cell_type": "code",
      "source": [
        "# skaičių apvalinimas po kablelio\n",
        "skaicius = 1.2345\n",
        "\n",
        "# suapvalinti iki 2 skaičių po kablelio\n",
        "f\"{skaicius:.2f}\""
      ],
      "metadata": {
        "id": "wMnTWSANHO-s",
        "outputId": "84a3d665-473f-4d76-edd3-209999bed06d",
        "colab": {
          "base_uri": "https://localhost:8080/",
          "height": 35
        }
      },
      "execution_count": 80,
      "outputs": [
        {
          "output_type": "execute_result",
          "data": {
            "text/plain": [
              "'1.23'"
            ],
            "application/vnd.google.colaboratory.intrinsic+json": {
              "type": "string"
            }
          },
          "metadata": {},
          "execution_count": 80
        }
      ]
    },
    {
      "cell_type": "code",
      "source": [
        "# riboti maksimalų simbolių skaičių\n",
        "vardas = \"Antanas\"\n",
        "\n",
        "print(f\"Daugiausiai atvaizduojame 3 simbolius todėl {vardas} patampa {vardas:.3s}\")"
      ],
      "metadata": {
        "id": "tgQqMC8-Ha6z",
        "outputId": "ab4ecf95-3f21-4731-a774-72a3a1f45f31",
        "colab": {
          "base_uri": "https://localhost:8080/"
        }
      },
      "execution_count": 81,
      "outputs": [
        {
          "output_type": "stream",
          "name": "stdout",
          "text": [
            "Daugiausiai atvaizduojame 3 simbolius todėl Antanas patampa Ant\n"
          ]
        }
      ]
    },
    {
      "cell_type": "markdown",
      "source": [
        "## Užduotys"
      ],
      "metadata": {
        "id": "u-dokx38HF0i"
      }
    },
    {
      "cell_type": "markdown",
      "source": [
        "### Užduotis 5.1\n",
        "\n",
        "Sukurkite 3 kintamuosius:\n",
        "\n",
        "* `vardas`\n",
        "* `pavarde`\n",
        "* `sakinys`, šis kintamasis turi panaudoti auksčiau esančius kintamuosius.\n",
        "\n",
        "Atspausdinkite `sakinys` kintamąjį tokio tipo:\n",
        "\n",
        "`\"Mano vardas X, o pavardė Y. Manolu susipažinti!\"`, kur `X` ir `Y` turi būti panaudoti kintamieji `vardas` ir `pavarde`."
      ],
      "metadata": {
        "id": "4cVni8FoE__R"
      }
    },
    {
      "cell_type": "code",
      "source": [
        "# vieta Jūsų kodui\n"
      ],
      "metadata": {
        "id": "8VnYwxh5FCuL"
      },
      "execution_count": 82,
      "outputs": []
    },
    {
      "cell_type": "markdown",
      "source": [
        "### Užduotis 5.2\n",
        "\n",
        "Atvaizduokite matematines funkcijas.\n",
        "\n",
        "Atsakymo pavyzdys:\n",
        "\n",
        "```\n",
        "a = 15\n",
        "b = -3.5\n",
        "\n",
        "# vieta Jūsų kodui\n",
        "\n",
        "print(sandauga)\n",
        ">> a x b = -52.5 \n",
        "print(dalyba)\n",
        ">> a / b = -4.29 \n",
        "```"
      ],
      "metadata": {
        "id": "ZfPF--xZFDZb"
      }
    },
    {
      "cell_type": "code",
      "source": [
        "# kintamieji (galite keisti)\n",
        "a = 15\n",
        "b = -3.5\n",
        "\n",
        "# pakeisti, kad atsapusdintų atsakymą a x b = atsakymas\n",
        "sandauga = \"\"\n",
        "# pakeisti, kad atsapusdintų atsakymą a / b = atsakymas\n",
        "dalyba = ''\n",
        "\n",
        "# atspaudinti atsakymus\n",
        "print(sandauga)\n",
        "print(dalyba)"
      ],
      "metadata": {
        "id": "3aL6-_xJH2B1",
        "outputId": "e0d12e49-96ba-44ce-9c73-877d050858b5",
        "colab": {
          "base_uri": "https://localhost:8080/"
        }
      },
      "execution_count": 83,
      "outputs": [
        {
          "output_type": "stream",
          "name": "stdout",
          "text": [
            "\n",
            "\n"
          ]
        }
      ]
    },
    {
      "cell_type": "code",
      "source": [],
      "metadata": {
        "id": "9rD4b6ltFCyk"
      },
      "execution_count": 83,
      "outputs": []
    }
  ]
}