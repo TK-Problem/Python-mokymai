{
  "nbformat": 4,
  "nbformat_minor": 0,
  "metadata": {
    "colab": {
      "provenance": [],
      "authorship_tag": "ABX9TyMXb3HkU+I4z561QjQZf8/T",
      "include_colab_link": true
    },
    "kernelspec": {
      "name": "python3",
      "display_name": "Python 3"
    },
    "language_info": {
      "name": "python"
    }
  },
  "cells": [
    {
      "cell_type": "markdown",
      "metadata": {
        "id": "view-in-github",
        "colab_type": "text"
      },
      "source": [
        "<a href=\"https://colab.research.google.com/github/TK-Problem/Python-mokymai/blob/master/Python-pagrindai/pamoka_01.ipynb\" target=\"_parent\"><img src=\"https://colab.research.google.com/assets/colab-badge.svg\" alt=\"Open In Colab\"/></a>"
      ]
    },
    {
      "cell_type": "markdown",
      "source": [
        "# **Pamoka 1**\n",
        "\n",
        "Šioje pamokoje supažinu su pagrindinėmis [Python](https://www.python.org/) funcijomis, [Jupyter Notebook](https://jupyter.org/)/[Google colab](https://colab.research.google.com/) darbo aplinkomis bei primityviais kintamaisiais.\n",
        "\n",
        "### **Programavimo aplinka**\n",
        "\n",
        "Šis kodas yra parašytas `.ipynb` (interactive Python notebook) formatu. Yra daug skirtingų pragramų bei internetinių sprendimų, kurie gali paleisti `.ipynb` failus. Keletas pavyzdžių:\n",
        "\n",
        "* [Anaconda](https://www.anaconda.com/products/distribution) - reikia lokaliai atsisiųsti ir įsirašyti ant savo kompiuterio. Ji automatiškai įrašo **Jupyter Notebook** bet taip pat galite per Anaconda Navigator įsirašyti **Jupyter Lab** (suteikia daugiau funkcionalumo).\n",
        "* [Visual Studio Code](https://code.visualstudio.com/) - įsirašius loakliai į savo kompiuteri papildomai reiks atlikti papildomų [žingsnių](https://code.visualstudio.com/docs/datascience/jupyter-notebooks), kad leistų redaguoti `.ipynb` failus. \n",
        "* [Kaggle](https://www.kaggle.com/) - socialinis tinklas duomenų analitikams ir mokslininkas dalintis žiniomis, kodu (`.ipynb` formatu) bei dalyvauti įvairiuose konkursuose.\n",
        "* [Datalore](https://datalore.jetbrains.com/) - yra nemokama ir mokama versija.\n",
        "* [Google colab](https://colab.research.google.com/) - būtent šioje aplinkoje rekomenduoju leisti konspekto kodą.\n",
        "* ir daug kitų variantų.\n",
        "\n",
        "Pagrindinės sparčiosios kombinacijos (keybord shortcuts):\n",
        "\n",
        "* `SHIFT` + `ENTER` paleisti kodo bloką nesukuriant naujo kodo bloko.\n",
        "* `ALT` + `ENTER` paleisti kodo bloką sukuriant naują kodo bloką.\n",
        "* `ALT` + `A` sucukurti kodo bloką auksčiau.\n",
        "* `ALT` + `B` sucukurti kodo bloką žemiau.\n",
        "\n",
        "Visos šios kombinacijos veikia daugelyje prgramų, kuriso dirba `.ipynb` failais. Google colab taip pat leidžia susikurti daugiau sparčiųjų kobinacijų `Tools -> Keyboard shortcuts` arba `CTRL` + `M` + `H`. Geriau standartinių neredaguoti, tačiau savo patogumui gali susikurti naujų kodo kombinacijų."
      ],
      "metadata": {
        "id": "RfcExizOFOLN"
      }
    },
    {
      "cell_type": "code",
      "execution_count": 1,
      "metadata": {
        "colab": {
          "base_uri": "https://localhost:8080/"
        },
        "id": "Bbp8_VAkyTr1",
        "outputId": "f0ba8e98-ca0f-4ff2-e816-15140f5b4deb"
      },
      "outputs": [
        {
          "output_type": "stream",
          "name": "stdout",
          "text": [
            "Python version:\n",
            "3.7.15 (default, Oct 12 2022, 19:14:55) \n",
            "[GCC 7.5.0]\n"
          ]
        }
      ],
      "source": [
        "# paspausti SHIFT + ENTER pele pažymėją šį kodo bloką\n",
        "import sys  # https://docs.python.org/3/library/sys.html\n",
        "\n",
        "# pasižiūrėti, kurią Python versiją naudoja\n",
        "# konspektas buvo parašytas su 3.7.15 versija\n",
        "print('Python version:')\n",
        "print(sys.version)"
      ]
    },
    {
      "cell_type": "markdown",
      "source": [
        "# I. Pagrindinės funkcijos"
      ],
      "metadata": {
        "id": "TnYY2ywvOlgN"
      }
    },
    {
      "cell_type": "markdown",
      "source": [
        "## Kintamųjų atspausdinimas\n",
        "Yra du būdai atvaizduoti kodo rezultatams: (i) funcija `print()` arba (ii) parašyti kintamojo pavadinimą. Sukuriame kintamąjį `kint`, kurio vertė yra \"Vardas\"."
      ],
      "metadata": {
        "id": "wk91lH1YZJNE"
      }
    },
    {
      "cell_type": "code",
      "source": [
        "kintamasis = \"Vardas\""
      ],
      "metadata": {
        "id": "XKhTBviMSR-B"
      },
      "execution_count": 2,
      "outputs": []
    },
    {
      "cell_type": "code",
      "source": [
        "# kintamąjį galime atspaudinti (i) būdų\n",
        "print(kintamasis)"
      ],
      "metadata": {
        "colab": {
          "base_uri": "https://localhost:8080/"
        },
        "id": "oIw2xLAdSVs-",
        "outputId": "ef6ce2b8-4c74-4beb-fa94-442e25142810"
      },
      "execution_count": 3,
      "outputs": [
        {
          "output_type": "stream",
          "name": "stdout",
          "text": [
            "Vardas\n"
          ]
        }
      ]
    },
    {
      "cell_type": "code",
      "source": [
        "# (ii) variantas\n",
        "kintamasis"
      ],
      "metadata": {
        "colab": {
          "base_uri": "https://localhost:8080/",
          "height": 35
        },
        "id": "-_-13anYIgX7",
        "outputId": "e9314aee-4935-4388-ed36-32af394256f4"
      },
      "execution_count": 4,
      "outputs": [
        {
          "output_type": "execute_result",
          "data": {
            "text/plain": [
              "'Vardas'"
            ],
            "application/vnd.google.colaboratory.intrinsic+json": {
              "type": "string"
            }
          },
          "metadata": {},
          "execution_count": 4
        }
      ]
    },
    {
      "cell_type": "markdown",
      "source": [
        "Antrasis variantas atspausdins tik paskutinėje kodo eilutėje esanti kintamąjį. Tad jei reikia atspausdinti keletą kartų kintamąjį, reiktų naudotį (i) metodą."
      ],
      "metadata": {
        "id": "lypxW-j1Shoj"
      }
    },
    {
      "cell_type": "code",
      "source": [
        "# du kartus atspausdina kintamojo reikšmę\n",
        "print(kintamasis)\n",
        "print(kintamasis)"
      ],
      "metadata": {
        "colab": {
          "base_uri": "https://localhost:8080/"
        },
        "id": "SE-VKaVLStbC",
        "outputId": "e602894e-cc3d-468a-e3ea-90b35c00d195"
      },
      "execution_count": 5,
      "outputs": [
        {
          "output_type": "stream",
          "name": "stdout",
          "text": [
            "Vardas\n",
            "Vardas\n"
          ]
        }
      ]
    },
    {
      "cell_type": "code",
      "source": [
        "# atspausdina tik paskutinį kintamąjį\n",
        "kintamasis\n",
        "kintamasis"
      ],
      "metadata": {
        "colab": {
          "base_uri": "https://localhost:8080/",
          "height": 35
        },
        "id": "Um5ZVY55Sgwk",
        "outputId": "96ac74b6-f40a-4897-e867-84a77f5d4eae"
      },
      "execution_count": 6,
      "outputs": [
        {
          "output_type": "execute_result",
          "data": {
            "text/plain": [
              "'Vardas'"
            ],
            "application/vnd.google.colaboratory.intrinsic+json": {
              "type": "string"
            }
          },
          "metadata": {},
          "execution_count": 6
        }
      ]
    },
    {
      "cell_type": "markdown",
      "source": [
        "Pateikiu du kodo pavyzdžius, kuomet sukūriami du skirtingi kintamieji su skirtingomis reikšmėmis. Abiem atvejais atspausdina tik paskutinio kintamojo reikšmę."
      ],
      "metadata": {
        "id": "wMGIVCV9S_Zq"
      }
    },
    {
      "cell_type": "code",
      "source": [
        "# sukurti kintamuosius\n",
        "var_1 = \"Pirmas\"\n",
        "var_2 = \"Antras\"\n",
        "\n",
        "# grąžinti (atspausdinti) kintamuosius\n",
        "var_1\n",
        "var_2"
      ],
      "metadata": {
        "colab": {
          "base_uri": "https://localhost:8080/",
          "height": 35
        },
        "id": "Oz6AGn5KS-kK",
        "outputId": "1406503b-dcaf-469a-bdd8-58e643c52ebb"
      },
      "execution_count": 7,
      "outputs": [
        {
          "output_type": "execute_result",
          "data": {
            "text/plain": [
              "'Antras'"
            ],
            "application/vnd.google.colaboratory.intrinsic+json": {
              "type": "string"
            }
          },
          "metadata": {},
          "execution_count": 7
        }
      ]
    },
    {
      "cell_type": "code",
      "source": [
        "# sukurti kintamuosius\n",
        "var_1 = \"Pirmas\"\n",
        "var_2 = \"Antras\"\n",
        "\n",
        "# tas pats kaip auksčiau tik apkeičiau vietomis var_2 ir var_1\n",
        "var_2\n",
        "var_1"
      ],
      "metadata": {
        "colab": {
          "base_uri": "https://localhost:8080/",
          "height": 35
        },
        "id": "P1lrwiGTOGnV",
        "outputId": "e580a1cf-fcd0-4d0b-a497-eb5958b982d4"
      },
      "execution_count": 8,
      "outputs": [
        {
          "output_type": "execute_result",
          "data": {
            "text/plain": [
              "'Pirmas'"
            ],
            "application/vnd.google.colaboratory.intrinsic+json": {
              "type": "string"
            }
          },
          "metadata": {},
          "execution_count": 8
        }
      ]
    },
    {
      "cell_type": "markdown",
      "source": [
        "Jei norite, kad atspausdintų daugiau nei vieną kintamąjį, naudokite `print()` funkciją."
      ],
      "metadata": {
        "id": "f2YS32soTfAc"
      }
    },
    {
      "cell_type": "code",
      "source": [
        "# sukurti kintamuosius\n",
        "var_1 = \"Pirmas\"\n",
        "var_2 = \"Antras\"\n",
        "\n",
        "# atspausdinti abu kintamuosius\n",
        "print(var_2)\n",
        "print(var_1)"
      ],
      "metadata": {
        "colab": {
          "base_uri": "https://localhost:8080/"
        },
        "id": "wtcm9fAMTeic",
        "outputId": "bf1995d0-a700-46a3-9639-022ed177a0c8"
      },
      "execution_count": 9,
      "outputs": [
        {
          "output_type": "stream",
          "name": "stdout",
          "text": [
            "Antras\n",
            "Pirmas\n"
          ]
        }
      ]
    },
    {
      "cell_type": "markdown",
      "source": [
        "Kodo pavyzdžiai dažnu atveju bus trumpi, tad (ii) variantas bus sutinkamas dažniau nei (i). \n",
        "\n",
        "`print()` funkcija taip pat leidžia atspausdinti daugiau nei vieną kintamąjį per eilutę (automatiškai įdeda po tarpą tarp kintamųjų reikšmių)."
      ],
      "metadata": {
        "id": "XS4JewaCVt1j"
      }
    },
    {
      "cell_type": "code",
      "source": [
        "# sukurti kintamuosius\n",
        "var_1 = \"Pirmas\"\n",
        "var_2 = \"Antras\"\n",
        "\n",
        "# tas pats kaip auksčiau tik apkeičiau vietomis var_2 ir var_1\n",
        "print(var_1, var_2)"
      ],
      "metadata": {
        "colab": {
          "base_uri": "https://localhost:8080/"
        },
        "id": "UyBMlPseWgPP",
        "outputId": "8f2f5ecc-db34-46e2-d9fe-7243cd2ee816"
      },
      "execution_count": 10,
      "outputs": [
        {
          "output_type": "stream",
          "name": "stdout",
          "text": [
            "Pirmas Antras\n"
          ]
        }
      ]
    },
    {
      "cell_type": "markdown",
      "source": [
        "## Objekto tipas\n",
        "\n",
        "Kinamjų tipų nereikia deklaruoti tiesiogiai, Python automatiškai atpažįsta, kad:\n",
        "\n",
        "* jei prasideda `\"` arba `'` tuomet bus simbolių eilutė/tekstas (string),\n",
        "* jei skaičius be taško, tuomet bus sveikas (integer) skaičius,\n",
        "* jei skaičius su tašku, tuomet racionalus (float),\n",
        "* žodiai `True` arba `False` yra rezervuoti loginiams kintamiesiems.\n",
        "\n",
        "Funcija `type()` leidžia pažiūrėti kintamojo tipą."
      ],
      "metadata": {
        "id": "xPqofak9X_eN"
      }
    },
    {
      "cell_type": "code",
      "source": [
        "# sukurto kintamojo vertė tekstas\n",
        "a = '1'\n",
        "# atspausdinti kintamojo a vertę\n",
        "type(a)"
      ],
      "metadata": {
        "colab": {
          "base_uri": "https://localhost:8080/"
        },
        "id": "WsgbssQdYj6d",
        "outputId": "d8ef0ea3-8fee-4f6d-b95c-5c69c4dc3a41"
      },
      "execution_count": 11,
      "outputs": [
        {
          "output_type": "execute_result",
          "data": {
            "text/plain": [
              "str"
            ]
          },
          "metadata": {},
          "execution_count": 11
        }
      ]
    },
    {
      "cell_type": "code",
      "source": [
        "# tas pats, tik atspausdina kintamojo reikšmę bei tipą\n",
        "a = '1'\n",
        "print(a, type(a))"
      ],
      "metadata": {
        "colab": {
          "base_uri": "https://localhost:8080/"
        },
        "id": "94MOwYjNY2zK",
        "outputId": "c9c45814-5617-4242-fc64-a0d68e0358f9"
      },
      "execution_count": 12,
      "outputs": [
        {
          "output_type": "stream",
          "name": "stdout",
          "text": [
            "1 <class 'str'>\n"
          ]
        }
      ]
    },
    {
      "cell_type": "code",
      "source": [
        "b = 1\n",
        "print(b, type(b))"
      ],
      "metadata": {
        "colab": {
          "base_uri": "https://localhost:8080/"
        },
        "id": "fR6CyrY6X__U",
        "outputId": "dd94477f-fe5d-483f-ff7e-7e9082eee8fe"
      },
      "execution_count": 13,
      "outputs": [
        {
          "output_type": "stream",
          "name": "stdout",
          "text": [
            "1 <class 'int'>\n"
          ]
        }
      ]
    },
    {
      "cell_type": "code",
      "source": [
        "c = 1.0\n",
        "print(c, type(c))"
      ],
      "metadata": {
        "colab": {
          "base_uri": "https://localhost:8080/"
        },
        "id": "hWaz6jWJY-64",
        "outputId": "326f4288-8cba-4939-908c-c09175126756"
      },
      "execution_count": 14,
      "outputs": [
        {
          "output_type": "stream",
          "name": "stdout",
          "text": [
            "1.0 <class 'float'>\n"
          ]
        }
      ]
    },
    {
      "cell_type": "code",
      "source": [
        "d = True\n",
        "print(d, type(d))"
      ],
      "metadata": {
        "colab": {
          "base_uri": "https://localhost:8080/"
        },
        "id": "U3Ozu-hCZCXU",
        "outputId": "16a8c215-10a4-4a07-8102-d3e7a02901c2"
      },
      "execution_count": 15,
      "outputs": [
        {
          "output_type": "stream",
          "name": "stdout",
          "text": [
            "True <class 'bool'>\n"
          ]
        }
      ]
    },
    {
      "cell_type": "markdown",
      "source": [
        "# II. Simbolių eilutė (`stings`)\n",
        "\n",
        "Tekstines vertes galima sukurti tiek su viengubomis `'` tiek su dvigubomis `kabutėmis`. Python tekstą koduoja UTF-8 formatu, tad galite tiesiai rašyti lietuviškais simboliais. **Bet pačio kintamojo negalima pavadinti naudojant lietuviškas raides!**"
      ],
      "metadata": {
        "id": "b7BiKFk8Oy0E"
      }
    },
    {
      "cell_type": "code",
      "source": [
        "# sukurti kintamuosius\n",
        "vardas = \"Vardas\"\n",
        "pavarde = 'Pavardė'\n",
        "\n",
        "# atspausdinti rezultatą\n",
        "print(vardas, pavarde)"
      ],
      "metadata": {
        "colab": {
          "base_uri": "https://localhost:8080/"
        },
        "id": "H5lJE8unX7JK",
        "outputId": "0422a095-9ae4-48c0-a4f9-1d8be43eec1f"
      },
      "execution_count": 16,
      "outputs": [
        {
          "output_type": "stream",
          "name": "stdout",
          "text": [
            "Vardas Pavardė\n"
          ]
        }
      ]
    },
    {
      "cell_type": "code",
      "source": [
        "# kartais reikia naudoti skirtingas kabutes dėl citatų (tekste naudojamos '' arba \"\")\n",
        "\n",
        "sakinys_1 = 'Yra sakoma \"Kas nerizikuoja, negeria šampano\"'\n",
        "sakinys_2 = \"Yra sakoma 'Kas nerizikuoja, negeria šampano'\"\n",
        "\n",
        "# priklausomai kokios kabutės panaudotos, skirtingai atspausdins tekstą\n",
        "print('Variantas #1', sakinys_1)\n",
        "print('Variantas #2', sakinys_2)"
      ],
      "metadata": {
        "colab": {
          "base_uri": "https://localhost:8080/"
        },
        "id": "7T8wUYwLaoJy",
        "outputId": "363859a3-7353-4efb-c659-3b2119408b56"
      },
      "execution_count": 17,
      "outputs": [
        {
          "output_type": "stream",
          "name": "stdout",
          "text": [
            "Variantas #1 Yra sakoma \"Kas nerizikuoja, negeria šampano\"\n",
            "Variantas #2 Yra sakoma 'Kas nerizikuoja, negeria šampano'\n"
          ]
        }
      ]
    },
    {
      "cell_type": "markdown",
      "source": [
        "Yra ilgas sąrašas metodų (funkcijų), kurios leidžia greitai apdoroti tekstinį kintamąjį. Pateikiu tris pavyzdžius:\n",
        "\n",
        "* `.lower()` visi simboliai paverčiaimi mažosiomis raidėmis.\n",
        "* `.upper()` visi simboliai didžiosiomis raidėmis.\n",
        "* `.replace()` pakeisti tekstą kitu tekstu.\n",
        "\n",
        "**Svarbu** atsiminti, kad ne visi metodai sukuria naują vertę, kai kurie modifikuoja vertę. Oficiali `string` objekto [dokumentacija](https://docs.python.org/3/library/stdtypes.html#text-sequence-type-str) bei trumpa visų metodų apžvalga [w3school](https://www.w3schools.com/python/python_ref_string.asp).\n",
        "\n",
        "Dažniausiai `string` funkcijos/metodai grąžina naują kintamąjį, tad reikia nepamiršti parašyti lygybės ženklo."
      ],
      "metadata": {
        "id": "W_EvnSLYcSSh"
      }
    },
    {
      "cell_type": "code",
      "source": [
        "# sukurti kintamąjį su sakiniu\n",
        "var = \"Vardas Pavarde 123\"\n",
        "\n",
        "# paversti mažosiomis raidėmis\n",
        "var.lower()"
      ],
      "metadata": {
        "colab": {
          "base_uri": "https://localhost:8080/",
          "height": 35
        },
        "id": "tS_6-70WdonR",
        "outputId": "44290b44-f737-4916-8033-b418632bfaee"
      },
      "execution_count": 18,
      "outputs": [
        {
          "output_type": "execute_result",
          "data": {
            "text/plain": [
              "'vardas pavarde 123'"
            ],
            "application/vnd.google.colaboratory.intrinsic+json": {
              "type": "string"
            }
          },
          "metadata": {},
          "execution_count": 18
        }
      ]
    },
    {
      "cell_type": "code",
      "source": [
        "# sukurti kintamąjį su sakiniu\n",
        "var = \"Vardas Pavarde 123\"\n",
        "\n",
        "# paversti mažosiomis raidėmis, tačiau mes neišsaugome kitnamojo\n",
        "var.lower()\n",
        "\n",
        "# grąžiname nemodifikuotą vertę\n",
        "var"
      ],
      "metadata": {
        "colab": {
          "base_uri": "https://localhost:8080/",
          "height": 35
        },
        "id": "B-KkXR1kmPs_",
        "outputId": "2927fedb-475b-40ee-afa9-897005874afc"
      },
      "execution_count": 19,
      "outputs": [
        {
          "output_type": "execute_result",
          "data": {
            "text/plain": [
              "'Vardas Pavarde 123'"
            ],
            "application/vnd.google.colaboratory.intrinsic+json": {
              "type": "string"
            }
          },
          "metadata": {},
          "execution_count": 19
        }
      ]
    },
    {
      "cell_type": "code",
      "source": [
        "# sukurti kintamąjį su sakiniu\n",
        "var = \"Vardas Pavarde 123\"\n",
        "\n",
        "# paversti mažosiomis raidėmis ir išsauguti\n",
        "var = var.lower()\n",
        "\n",
        "# grąžiname modifikuotą vertę\n",
        "var"
      ],
      "metadata": {
        "colab": {
          "base_uri": "https://localhost:8080/",
          "height": 35
        },
        "id": "h_w4GGaNmb12",
        "outputId": "f057ad04-3740-4181-d637-0ed3faa174c6"
      },
      "execution_count": 20,
      "outputs": [
        {
          "output_type": "execute_result",
          "data": {
            "text/plain": [
              "'vardas pavarde 123'"
            ],
            "application/vnd.google.colaboratory.intrinsic+json": {
              "type": "string"
            }
          },
          "metadata": {},
          "execution_count": 20
        }
      ]
    },
    {
      "cell_type": "code",
      "source": [
        "# sukurti kintamąjį su sakiniu\n",
        "var = \"Vardas Pavarde 123\"\n",
        "\n",
        "# paversti didžiosiomis raidėmis ir išsauguti\n",
        "var = var.upper()\n",
        "\n",
        "# grąžiname modifikuotą vertę\n",
        "var"
      ],
      "metadata": {
        "colab": {
          "base_uri": "https://localhost:8080/",
          "height": 35
        },
        "id": "rQl3JuXGmqvy",
        "outputId": "574aa669-0ec0-4ccc-a401-1f40eeaba20a"
      },
      "execution_count": 21,
      "outputs": [
        {
          "output_type": "execute_result",
          "data": {
            "text/plain": [
              "'VARDAS PAVARDE 123'"
            ],
            "application/vnd.google.colaboratory.intrinsic+json": {
              "type": "string"
            }
          },
          "metadata": {},
          "execution_count": 21
        }
      ]
    },
    {
      "cell_type": "code",
      "source": [
        "# sukurti kintamąjį su sakiniu\n",
        "var = \"Vardas Vardenis vaidino 123\"\n",
        "\n",
        "# pakeisti visas V didžiasias raides į X\n",
        "var = var.replace('V', 'X')\n",
        "\n",
        "# grąžiname modifikuotą vertę\n",
        "var"
      ],
      "metadata": {
        "colab": {
          "base_uri": "https://localhost:8080/",
          "height": 35
        },
        "id": "AcfkmtKRmqsm",
        "outputId": "f430b224-6cc7-49c5-f4d9-8ed2375e5a67"
      },
      "execution_count": 22,
      "outputs": [
        {
          "output_type": "execute_result",
          "data": {
            "text/plain": [
              "'Xardas Xardenis vaidino 123'"
            ],
            "application/vnd.google.colaboratory.intrinsic+json": {
              "type": "string"
            }
          },
          "metadata": {},
          "execution_count": 22
        }
      ]
    },
    {
      "cell_type": "code",
      "source": [
        "# sukurti kintamąjį su sakiniu\n",
        "var = \"Vardas Vardenis vaidino 123\"\n",
        "\n",
        "# pakeisti visas V mažasias raides į K didžiąją\n",
        "var = var.replace('v', 'K')\n",
        "\n",
        "# grąžiname modifikuotą vertę\n",
        "var"
      ],
      "metadata": {
        "colab": {
          "base_uri": "https://localhost:8080/",
          "height": 35
        },
        "id": "eyBwX3lcnMuQ",
        "outputId": "75fd7c34-8691-44be-a444-6d88f1244e3d"
      },
      "execution_count": 23,
      "outputs": [
        {
          "output_type": "execute_result",
          "data": {
            "text/plain": [
              "'Vardas Vardenis Kaidino 123'"
            ],
            "application/vnd.google.colaboratory.intrinsic+json": {
              "type": "string"
            }
          },
          "metadata": {},
          "execution_count": 23
        }
      ]
    },
    {
      "cell_type": "code",
      "source": [
        "# sukurti kintamąjį su sakiniu\n",
        "var = \"Vardas Vardenis vaidino 123\"\n",
        "\n",
        "# pakeisti skaičių seką 123 į  XYZ\n",
        "var = var.replace('123', 'XYZ')\n",
        "\n",
        "# grąžiname modifikuotą vertę\n",
        "var"
      ],
      "metadata": {
        "colab": {
          "base_uri": "https://localhost:8080/",
          "height": 35
        },
        "id": "Elg1tNI-mqp-",
        "outputId": "159b704d-4c96-4668-83ed-df105db82540"
      },
      "execution_count": 24,
      "outputs": [
        {
          "output_type": "execute_result",
          "data": {
            "text/plain": [
              "'Vardas Vardenis vaidino XYZ'"
            ],
            "application/vnd.google.colaboratory.intrinsic+json": {
              "type": "string"
            }
          },
          "metadata": {},
          "execution_count": 24
        }
      ]
    },
    {
      "cell_type": "code",
      "source": [
        "# sukurti kintamąjį su sakiniu\n",
        "var = \"Vardas vardas\"\n",
        "\n",
        "# kintamasis prieš pakeitimą\n",
        "print(\"Prieš pakeitimą:\", var)\n",
        "\n",
        "# pakeisti žodį \"Vard\" į nieką (tusčią simbolį)\n",
        "var = var.replace('Vard', '')\n",
        "\n",
        "# atspausdinti po pakeitimo\n",
        "print(\"Po pakeitimo:\", var)"
      ],
      "metadata": {
        "colab": {
          "base_uri": "https://localhost:8080/"
        },
        "id": "Y5koqjq-mqji",
        "outputId": "69663e31-3a8a-4858-e2e1-548dbb8ea709"
      },
      "execution_count": 25,
      "outputs": [
        {
          "output_type": "stream",
          "name": "stdout",
          "text": [
            "Prieš pakeitimą: Vardas vardas\n",
            "Po pakeitimo: as vardas\n"
          ]
        }
      ]
    },
    {
      "cell_type": "markdown",
      "source": [
        "Teskto pjaustymas (angl. string slicing)."
      ],
      "metadata": {
        "id": "gsFt9qRFii5X"
      }
    },
    {
      "cell_type": "code",
      "source": [],
      "metadata": {
        "id": "iY8wws19invq"
      },
      "execution_count": 25,
      "outputs": []
    },
    {
      "cell_type": "code",
      "source": [],
      "metadata": {
        "id": "8Zz_XMLpc_Om"
      },
      "execution_count": 25,
      "outputs": []
    },
    {
      "cell_type": "markdown",
      "source": [
        "# III. Skaičiai"
      ],
      "metadata": {
        "id": "wssdFESiOytm"
      }
    },
    {
      "cell_type": "code",
      "source": [],
      "metadata": {
        "id": "_eijoDxCglVs"
      },
      "execution_count": 25,
      "outputs": []
    },
    {
      "cell_type": "markdown",
      "source": [
        "## Sveikieji (`integers`)"
      ],
      "metadata": {
        "id": "vO_VsweTPZtP"
      }
    },
    {
      "cell_type": "code",
      "source": [],
      "metadata": {
        "id": "RRL-4Vi4PBwk"
      },
      "execution_count": 25,
      "outputs": []
    },
    {
      "cell_type": "markdown",
      "source": [
        "## Racionalieji (`floats`)\n"
      ],
      "metadata": {
        "id": "iBO205G4PDUc"
      }
    },
    {
      "cell_type": "code",
      "source": [],
      "metadata": {
        "id": "huUljl9bPCyZ"
      },
      "execution_count": 25,
      "outputs": []
    },
    {
      "cell_type": "markdown",
      "source": [
        "# IV. Loginiai / `booleans`"
      ],
      "metadata": {
        "id": "dPAw95VhPIp2"
      }
    },
    {
      "cell_type": "code",
      "source": [],
      "metadata": {
        "id": "cEohfBJ_gqm3"
      },
      "execution_count": 25,
      "outputs": []
    },
    {
      "cell_type": "markdown",
      "source": [
        "# Kintamųjų atvaizdavimas"
      ],
      "metadata": {
        "id": "R0NU-DPigt1v"
      }
    },
    {
      "cell_type": "code",
      "source": [],
      "metadata": {
        "id": "dlBB8s6ZgwiE"
      },
      "execution_count": 25,
      "outputs": []
    }
  ]
}