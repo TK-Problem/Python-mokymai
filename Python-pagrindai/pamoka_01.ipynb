{
  "nbformat": 4,
  "nbformat_minor": 0,
  "metadata": {
    "colab": {
      "provenance": [],
      "include_colab_link": true
    },
    "kernelspec": {
      "name": "python3",
      "display_name": "Python 3"
    },
    "language_info": {
      "name": "python"
    }
  },
  "cells": [
    {
      "cell_type": "markdown",
      "metadata": {
        "id": "view-in-github",
        "colab_type": "text"
      },
      "source": [
        "<a href=\"https://colab.research.google.com/github/TK-Problem/Python-mokymai/blob/master/Python-pagrindai/pamoka_01.ipynb\" target=\"_parent\"><img src=\"https://colab.research.google.com/assets/colab-badge.svg\" alt=\"Open In Colab\"/></a>"
      ]
    },
    {
      "cell_type": "markdown",
      "source": [
        "# **Pamoka 1**\n",
        "\n",
        "Šioje pamokoje supažinu su pagrindinėmis [Python](https://www.python.org/) funcijomis, [Jupyter Notebook](https://jupyter.org/)/[Google colab](https://colab.research.google.com/) darbo aplinkomis bei primityviais kintamaisiais.\n",
        "\n",
        "### **Programavimo aplinka**\n",
        "\n",
        "Šis kodas yra parašytas `.ipynb` (interactive Python notebook) formatu. Yra daug skirtingų pragramų bei internetinių sprendimų, kurie gali paleisti `.ipynb` failus. Keletas pavyzdžių:\n",
        "\n",
        "* [Anaconda](https://www.anaconda.com/products/distribution) - reikia lokaliai atsisiųsti ir įsirašyti ant savo kompiuterio. Ji automatiškai įrašo **Jupyter Notebook** bet taip pat galite per Anaconda Navigator įsirašyti **Jupyter Lab** (suteikia daugiau funkcionalumo).\n",
        "* [Visual Studio Code](https://code.visualstudio.com/) - įsirašius loakliai į savo kompiuteri papildomai reiks atlikti papildomų [žingsnių](https://code.visualstudio.com/docs/datascience/jupyter-notebooks), kad leistų redaguoti `.ipynb` failus. \n",
        "* [Kaggle](https://www.kaggle.com/) - socialinis tinklas duomenų analitikams ir mokslininkas dalintis žiniomis, kodu (`.ipynb` formatu) bei dalyvauti įvairiuose konkursuose.\n",
        "* [Datalore](https://datalore.jetbrains.com/) - yra nemokama ir mokama versija.\n",
        "* [Google colab](https://colab.research.google.com/) - būtent šioje aplinkoje rekomenduoju leisti konspekto kodą.\n",
        "* ir daug kitų variantų.\n",
        "\n",
        "Pagrindinės sparčiosios kombinacijos (keybord shortcuts):\n",
        "\n",
        "* `SHIFT` + `ENTER` paleisti kodo bloką nesukuriant naujo kodo bloko.\n",
        "* `ALT` + `ENTER` paleisti kodo bloką sukuriant naują kodo bloką.\n",
        "* `ALT` + `A` sucukurti kodo bloką auksčiau.\n",
        "* `ALT` + `B` sucukurti kodo bloką žemiau.\n",
        "\n",
        "Visos šios kombinacijos veikia daugelyje prgramų, kuriso dirba `.ipynb` failais. Google colab taip pat leidžia susikurti daugiau sparčiųjų kobinacijų `Tools -> Keyboard shortcuts` arba `CTRL` + `M` + `H`. Geriau standartinių neredaguoti, tačiau savo patogumui gali susikurti naujų kodo kombinacijų."
      ],
      "metadata": {
        "id": "RfcExizOFOLN"
      }
    },
    {
      "cell_type": "code",
      "execution_count": 1,
      "metadata": {
        "colab": {
          "base_uri": "https://localhost:8080/"
        },
        "id": "Bbp8_VAkyTr1",
        "outputId": "be2d0a6b-f261-4543-d1f4-871bfdba57ec"
      },
      "outputs": [
        {
          "output_type": "stream",
          "name": "stdout",
          "text": [
            "Python version:\n",
            "3.8.16 (default, Dec  7 2022, 01:12:13) \n",
            "[GCC 7.5.0]\n"
          ]
        }
      ],
      "source": [
        "# paspausti SHIFT + ENTER pele pažymėją šį kodo bloką\n",
        "import sys  # https://docs.python.org/3/library/sys.html\n",
        "\n",
        "# pasižiūrėti, kurią Python versiją naudoja\n",
        "# konspektas buvo parašytas su 3.7.15 versija\n",
        "print('Python version:')\n",
        "print(sys.version)"
      ]
    },
    {
      "cell_type": "markdown",
      "source": [
        "# I. Pagrindinės funkcijos"
      ],
      "metadata": {
        "id": "TnYY2ywvOlgN"
      }
    },
    {
      "cell_type": "markdown",
      "source": [
        "## Kintamųjų atspausdinimas\n",
        "Yra du būdai atvaizduoti kodo rezultatams: (i) funcija `print()` arba (ii) parašyti kintamojo pavadinimą. Sukuriame kintamąjį `kint`, kurio vertė yra \"Vardas\"."
      ],
      "metadata": {
        "id": "wk91lH1YZJNE"
      }
    },
    {
      "cell_type": "code",
      "source": [
        "kintamasis = \"Vardas\""
      ],
      "metadata": {
        "id": "XKhTBviMSR-B"
      },
      "execution_count": 2,
      "outputs": []
    },
    {
      "cell_type": "code",
      "source": [
        "# kintamąjį galime atspaudinti (i) būdų\n",
        "print(kintamasis)"
      ],
      "metadata": {
        "colab": {
          "base_uri": "https://localhost:8080/"
        },
        "id": "oIw2xLAdSVs-",
        "outputId": "1c3d56b7-a40b-4edb-f63d-c4cd3543d863"
      },
      "execution_count": 3,
      "outputs": [
        {
          "output_type": "stream",
          "name": "stdout",
          "text": [
            "Vardas\n"
          ]
        }
      ]
    },
    {
      "cell_type": "code",
      "source": [
        "# (ii) variantas\n",
        "kintamasis"
      ],
      "metadata": {
        "colab": {
          "base_uri": "https://localhost:8080/",
          "height": 35
        },
        "id": "-_-13anYIgX7",
        "outputId": "7090b20f-f1af-4ba9-c8bc-6a63099ff2e3"
      },
      "execution_count": 4,
      "outputs": [
        {
          "output_type": "execute_result",
          "data": {
            "text/plain": [
              "'Vardas'"
            ],
            "application/vnd.google.colaboratory.intrinsic+json": {
              "type": "string"
            }
          },
          "metadata": {},
          "execution_count": 4
        }
      ]
    },
    {
      "cell_type": "markdown",
      "source": [
        "Antrasis variantas atspausdins tik paskutinėje kodo eilutėje esanti kintamąjį. Tad jei reikia atspausdinti keletą kartų kintamąjį, reiktų naudotį (i) metodą."
      ],
      "metadata": {
        "id": "lypxW-j1Shoj"
      }
    },
    {
      "cell_type": "code",
      "source": [
        "# du kartus atspausdina kintamojo reikšmę\n",
        "print(kintamasis)\n",
        "print(kintamasis)"
      ],
      "metadata": {
        "colab": {
          "base_uri": "https://localhost:8080/"
        },
        "id": "SE-VKaVLStbC",
        "outputId": "57c39aee-971e-4706-db67-58be73c72608"
      },
      "execution_count": 5,
      "outputs": [
        {
          "output_type": "stream",
          "name": "stdout",
          "text": [
            "Vardas\n",
            "Vardas\n"
          ]
        }
      ]
    },
    {
      "cell_type": "code",
      "source": [
        "# atspausdina tik paskutinį kintamąjį\n",
        "kintamasis\n",
        "kintamasis"
      ],
      "metadata": {
        "colab": {
          "base_uri": "https://localhost:8080/",
          "height": 35
        },
        "id": "Um5ZVY55Sgwk",
        "outputId": "f3c4195f-8772-4cc3-fb66-c6f793a61cea"
      },
      "execution_count": 6,
      "outputs": [
        {
          "output_type": "execute_result",
          "data": {
            "text/plain": [
              "'Vardas'"
            ],
            "application/vnd.google.colaboratory.intrinsic+json": {
              "type": "string"
            }
          },
          "metadata": {},
          "execution_count": 6
        }
      ]
    },
    {
      "cell_type": "markdown",
      "source": [
        "Pateikiu du kodo pavyzdžius, kuomet sukūriami du skirtingi kintamieji su skirtingomis reikšmėmis. Abiem atvejais atspausdina tik paskutinio kintamojo reikšmę."
      ],
      "metadata": {
        "id": "wMGIVCV9S_Zq"
      }
    },
    {
      "cell_type": "code",
      "source": [
        "# sukurti kintamuosius\n",
        "var_1 = \"Pirmas\"\n",
        "var_2 = \"Antras\"\n",
        "\n",
        "# grąžinti (atspausdinti) kintamuosius\n",
        "var_1\n",
        "var_2"
      ],
      "metadata": {
        "colab": {
          "base_uri": "https://localhost:8080/",
          "height": 35
        },
        "id": "Oz6AGn5KS-kK",
        "outputId": "4dce82d7-0af3-4b89-d7b3-dcd4144fc81a"
      },
      "execution_count": 7,
      "outputs": [
        {
          "output_type": "execute_result",
          "data": {
            "text/plain": [
              "'Antras'"
            ],
            "application/vnd.google.colaboratory.intrinsic+json": {
              "type": "string"
            }
          },
          "metadata": {},
          "execution_count": 7
        }
      ]
    },
    {
      "cell_type": "code",
      "source": [
        "# sukurti kintamuosius\n",
        "var_1 = \"Pirmas\"\n",
        "var_2 = \"Antras\"\n",
        "\n",
        "# tas pats kaip auksčiau tik apkeičiau vietomis var_2 ir var_1\n",
        "var_2\n",
        "var_1"
      ],
      "metadata": {
        "colab": {
          "base_uri": "https://localhost:8080/",
          "height": 35
        },
        "id": "P1lrwiGTOGnV",
        "outputId": "bfe91978-5666-4cf9-f0cb-a7af87be8966"
      },
      "execution_count": 8,
      "outputs": [
        {
          "output_type": "execute_result",
          "data": {
            "text/plain": [
              "'Pirmas'"
            ],
            "application/vnd.google.colaboratory.intrinsic+json": {
              "type": "string"
            }
          },
          "metadata": {},
          "execution_count": 8
        }
      ]
    },
    {
      "cell_type": "markdown",
      "source": [
        "Jei norite, kad atspausdintų daugiau nei vieną kintamąjį, naudokite `print()` funkciją."
      ],
      "metadata": {
        "id": "f2YS32soTfAc"
      }
    },
    {
      "cell_type": "code",
      "source": [
        "# sukurti kintamuosius\n",
        "var_1 = \"Pirmas\"\n",
        "var_2 = \"Antras\"\n",
        "\n",
        "# atspausdinti abu kintamuosius\n",
        "print(var_2)\n",
        "print(var_1)"
      ],
      "metadata": {
        "colab": {
          "base_uri": "https://localhost:8080/"
        },
        "id": "wtcm9fAMTeic",
        "outputId": "7bc1993d-5e2e-4d44-a778-926a967011a8"
      },
      "execution_count": 9,
      "outputs": [
        {
          "output_type": "stream",
          "name": "stdout",
          "text": [
            "Antras\n",
            "Pirmas\n"
          ]
        }
      ]
    },
    {
      "cell_type": "markdown",
      "source": [
        "Kodo pavyzdžiai dažnu atveju bus trumpi, tad (ii) variantas bus sutinkamas dažniau nei (i). \n",
        "\n",
        "`print()` funkcija taip pat leidžia atspausdinti daugiau nei vieną kintamąjį per eilutę (automatiškai įdeda po tarpą tarp kintamųjų reikšmių)."
      ],
      "metadata": {
        "id": "XS4JewaCVt1j"
      }
    },
    {
      "cell_type": "code",
      "source": [
        "# sukurti kintamuosius\n",
        "var_1 = \"Pirmas\"\n",
        "var_2 = \"Antras\"\n",
        "\n",
        "# tas pats kaip auksčiau tik apkeičiau vietomis var_2 ir var_1\n",
        "print(var_1, var_2)"
      ],
      "metadata": {
        "colab": {
          "base_uri": "https://localhost:8080/"
        },
        "id": "UyBMlPseWgPP",
        "outputId": "cc87df96-800c-430c-96d8-ce04bcd784dd"
      },
      "execution_count": 10,
      "outputs": [
        {
          "output_type": "stream",
          "name": "stdout",
          "text": [
            "Pirmas Antras\n"
          ]
        }
      ]
    },
    {
      "cell_type": "markdown",
      "source": [
        "## Objekto tipas\n",
        "\n",
        "Kinamjų tipų nereikia deklaruoti tiesiogiai, Python automatiškai atpažįsta, kad:\n",
        "\n",
        "* jei prasideda `\"` arba `'` tuomet bus simbolių eilutė/tekstas (string),\n",
        "* jei skaičius be taško, tuomet bus sveikas (integer) skaičius,\n",
        "* jei skaičius su tašku, tuomet racionalus (float),\n",
        "* žodiai `True` arba `False` yra rezervuoti loginiams kintamiesiems.\n",
        "\n",
        "Funcija `type()` leidžia pažiūrėti kintamojo tipą."
      ],
      "metadata": {
        "id": "xPqofak9X_eN"
      }
    },
    {
      "cell_type": "code",
      "source": [
        "# sukurto kintamojo vertė tekstas\n",
        "a = '1'\n",
        "# atspausdinti kintamojo a vertę\n",
        "type(a)"
      ],
      "metadata": {
        "colab": {
          "base_uri": "https://localhost:8080/"
        },
        "id": "WsgbssQdYj6d",
        "outputId": "a917018f-1a28-4b23-e434-ca9ed2f242ec"
      },
      "execution_count": 11,
      "outputs": [
        {
          "output_type": "execute_result",
          "data": {
            "text/plain": [
              "str"
            ]
          },
          "metadata": {},
          "execution_count": 11
        }
      ]
    },
    {
      "cell_type": "code",
      "source": [
        "# tas pats, tik atspausdina kintamojo reikšmę bei tipą\n",
        "a = '1'\n",
        "print(a, type(a))"
      ],
      "metadata": {
        "colab": {
          "base_uri": "https://localhost:8080/"
        },
        "id": "94MOwYjNY2zK",
        "outputId": "7f01fe0b-5c80-4201-8875-8c264a762e6c"
      },
      "execution_count": 12,
      "outputs": [
        {
          "output_type": "stream",
          "name": "stdout",
          "text": [
            "1 <class 'str'>\n"
          ]
        }
      ]
    },
    {
      "cell_type": "code",
      "source": [
        "# sveikas skaičius\n",
        "b = 1\n",
        "print(b, type(b))"
      ],
      "metadata": {
        "colab": {
          "base_uri": "https://localhost:8080/"
        },
        "id": "fR6CyrY6X__U",
        "outputId": "3a94ae27-e97e-4db5-c7b3-fb34e573a269"
      },
      "execution_count": 13,
      "outputs": [
        {
          "output_type": "stream",
          "name": "stdout",
          "text": [
            "1 <class 'int'>\n"
          ]
        }
      ]
    },
    {
      "cell_type": "code",
      "source": [
        "# racionalus skaičius\n",
        "c = 1.0\n",
        "print(c, type(c))"
      ],
      "metadata": {
        "colab": {
          "base_uri": "https://localhost:8080/"
        },
        "id": "hWaz6jWJY-64",
        "outputId": "89307f02-7668-4db9-ed55-3809edb9bbe9"
      },
      "execution_count": 14,
      "outputs": [
        {
          "output_type": "stream",
          "name": "stdout",
          "text": [
            "1.0 <class 'float'>\n"
          ]
        }
      ]
    },
    {
      "cell_type": "code",
      "source": [
        "# loginis kintamasis\n",
        "d = True\n",
        "print(d, type(d))"
      ],
      "metadata": {
        "colab": {
          "base_uri": "https://localhost:8080/"
        },
        "id": "U3Ozu-hCZCXU",
        "outputId": "d0b31126-2879-4f89-da2f-c37f5ade7103"
      },
      "execution_count": 15,
      "outputs": [
        {
          "output_type": "stream",
          "name": "stdout",
          "text": [
            "True <class 'bool'>\n"
          ]
        }
      ]
    },
    {
      "cell_type": "markdown",
      "source": [
        "## Kintamųjų pavadinimai\n",
        "\n",
        "Kintamųjų pavadinimai gali būti kūriamis naudojanat:\n",
        "\n",
        "* raides `abcd` ir t.t.,\n",
        "* skaičus (negali kintamasis prasidėti skaičiumi),\n",
        "* simbolis `_`.\n",
        "\n",
        "Kintamieji dažniausiai rašomi iš mažosios raidės. Neleistini kintamųjų pavadinimai (išmestų klaidą):\n",
        "\n",
        "* `1abc`,\n",
        "* `abs/abc`,\n",
        "* `pirmas.elementas`."
      ],
      "metadata": {
        "id": "DLHNKpSlMvvo"
      }
    },
    {
      "cell_type": "code",
      "source": [
        "# kintamųjų pvadinimai turi būti intuityvūs\n",
        "vardas = \"Jonas\""
      ],
      "metadata": {
        "id": "0SVSRHHINbPO"
      },
      "execution_count": 16,
      "outputs": []
    },
    {
      "cell_type": "code",
      "source": [
        "# gali būti parašyti cammel\n",
        "pirmasElementas = '1'"
      ],
      "metadata": {
        "id": "_KGBZH2VNgmM"
      },
      "execution_count": 17,
      "outputs": []
    },
    {
      "cell_type": "code",
      "source": [
        "# galima naudoti skaičius, jei tai ne pirmas simbolis\n",
        "kintamasis_1 = \"Vienas\""
      ],
      "metadata": {
        "id": "astsvNfVNsMY"
      },
      "execution_count": 18,
      "outputs": []
    },
    {
      "cell_type": "code",
      "source": [
        "# galima prad4ti kintamąjį rašyti su simboliu _ (tokie kintamieji pagal nutylėjimą laikomi privačiais)\n",
        "_namo_numeris = \"Pirmas\""
      ],
      "metadata": {
        "id": "i3xV992INxM3"
      },
      "execution_count": 19,
      "outputs": []
    },
    {
      "cell_type": "markdown",
      "source": [
        "# II. Simbolių eilutė (`stings`)\n",
        "\n",
        "Tekstines vertes galima sukurti tiek su viengubomis `'` tiek su dvigubomis `kabutėmis`. Python tekstą koduoja UTF-8 formatu, tad galite tiesiai rašyti lietuviškais simboliais. **Bet pačio kintamojo negalima pavadinti naudojant lietuviškas raides!**"
      ],
      "metadata": {
        "id": "b7BiKFk8Oy0E"
      }
    },
    {
      "cell_type": "code",
      "source": [
        "# sukurti kintamuosius\n",
        "vardas = \"Vardas\"\n",
        "pavarde = 'Pavardė'\n",
        "\n",
        "# atspausdinti rezultatą\n",
        "print(vardas, pavarde)"
      ],
      "metadata": {
        "colab": {
          "base_uri": "https://localhost:8080/"
        },
        "id": "H5lJE8unX7JK",
        "outputId": "ff8b4bcb-1deb-449e-a69b-04f10963b48a"
      },
      "execution_count": 20,
      "outputs": [
        {
          "output_type": "stream",
          "name": "stdout",
          "text": [
            "Vardas Pavardė\n"
          ]
        }
      ]
    },
    {
      "cell_type": "code",
      "source": [
        "# kartais reikia naudoti skirtingas kabutes dėl citatų (tekste naudojamos '' arba \"\")\n",
        "\n",
        "sakinys_1 = 'Yra sakoma \"Kas nerizikuoja, negeria šampano\"'\n",
        "sakinys_2 = \"Yra sakoma 'Kas nerizikuoja, negeria šampano'\"\n",
        "\n",
        "# priklausomai kokios kabutės panaudotos, skirtingai atspausdins tekstą\n",
        "print('Variantas #1', sakinys_1)\n",
        "print('Variantas #2', sakinys_2)"
      ],
      "metadata": {
        "colab": {
          "base_uri": "https://localhost:8080/"
        },
        "id": "7T8wUYwLaoJy",
        "outputId": "77378cb0-3224-4dff-b2c9-59607ba91951"
      },
      "execution_count": 21,
      "outputs": [
        {
          "output_type": "stream",
          "name": "stdout",
          "text": [
            "Variantas #1 Yra sakoma \"Kas nerizikuoja, negeria šampano\"\n",
            "Variantas #2 Yra sakoma 'Kas nerizikuoja, negeria šampano'\n"
          ]
        }
      ]
    },
    {
      "cell_type": "markdown",
      "source": [
        "Yra ilgas sąrašas metodų (funkcijų), kurios leidžia greitai apdoroti tekstinį kintamąjį. Pateikiu tris pavyzdžius:\n",
        "\n",
        "* `.lower()` visi simboliai paverčiaimi mažosiomis raidėmis.\n",
        "* `.upper()` visi simboliai didžiosiomis raidėmis.\n",
        "* `.replace()` pakeisti tekstą kitu tekstu.\n",
        "\n",
        "**Svarbu** atsiminti, kad ne visi metodai sukuria naują vertę, kai kurie modifikuoja vertę. Oficiali `string` objekto [dokumentacija](https://docs.python.org/3/library/stdtypes.html#text-sequence-type-str) bei trumpa visų metodų apžvalga [w3school](https://www.w3schools.com/python/python_ref_string.asp).\n",
        "\n",
        "Dažniausiai `string` funkcijos/metodai grąžina naują kintamąjį, tad reikia nepamiršti parašyti lygybės ženklo."
      ],
      "metadata": {
        "id": "W_EvnSLYcSSh"
      }
    },
    {
      "cell_type": "code",
      "source": [
        "# sukurti kintamąjį su sakiniu\n",
        "var = \"Vardas Pavarde 123\"\n",
        "\n",
        "# paversti mažosiomis raidėmis\n",
        "var.lower()"
      ],
      "metadata": {
        "colab": {
          "base_uri": "https://localhost:8080/",
          "height": 35
        },
        "id": "tS_6-70WdonR",
        "outputId": "b036f9ac-64d7-47a1-945b-10c72423f464"
      },
      "execution_count": 22,
      "outputs": [
        {
          "output_type": "execute_result",
          "data": {
            "text/plain": [
              "'vardas pavarde 123'"
            ],
            "application/vnd.google.colaboratory.intrinsic+json": {
              "type": "string"
            }
          },
          "metadata": {},
          "execution_count": 22
        }
      ]
    },
    {
      "cell_type": "code",
      "source": [
        "# sukurti kintamąjį su sakiniu\n",
        "var = \"Vardas Pavarde 123\"\n",
        "\n",
        "# paversti mažosiomis raidėmis, tačiau mes neišsaugome kitnamojo\n",
        "var.lower()\n",
        "\n",
        "# grąžiname nemodifikuotą vertę\n",
        "var"
      ],
      "metadata": {
        "colab": {
          "base_uri": "https://localhost:8080/",
          "height": 35
        },
        "id": "B-KkXR1kmPs_",
        "outputId": "6acca721-7214-4516-a0b0-c3af7af81b97"
      },
      "execution_count": 23,
      "outputs": [
        {
          "output_type": "execute_result",
          "data": {
            "text/plain": [
              "'Vardas Pavarde 123'"
            ],
            "application/vnd.google.colaboratory.intrinsic+json": {
              "type": "string"
            }
          },
          "metadata": {},
          "execution_count": 23
        }
      ]
    },
    {
      "cell_type": "code",
      "source": [
        "# sukurti kintamąjį su sakiniu\n",
        "var = \"Vardas Pavarde 123\"\n",
        "\n",
        "# paversti mažosiomis raidėmis ir išsauguti\n",
        "var = var.lower()\n",
        "\n",
        "# grąžiname modifikuotą vertę\n",
        "var"
      ],
      "metadata": {
        "colab": {
          "base_uri": "https://localhost:8080/",
          "height": 35
        },
        "id": "h_w4GGaNmb12",
        "outputId": "8cf6e020-a9e9-4f91-87da-1e2836b89cea"
      },
      "execution_count": 24,
      "outputs": [
        {
          "output_type": "execute_result",
          "data": {
            "text/plain": [
              "'vardas pavarde 123'"
            ],
            "application/vnd.google.colaboratory.intrinsic+json": {
              "type": "string"
            }
          },
          "metadata": {},
          "execution_count": 24
        }
      ]
    },
    {
      "cell_type": "code",
      "source": [
        "# sukurti kintamąjį su sakiniu\n",
        "var = \"Vardas Pavarde 123\"\n",
        "\n",
        "# paversti didžiosiomis raidėmis ir išsauguti\n",
        "var = var.upper()\n",
        "\n",
        "# grąžiname modifikuotą vertę\n",
        "var"
      ],
      "metadata": {
        "colab": {
          "base_uri": "https://localhost:8080/",
          "height": 35
        },
        "id": "rQl3JuXGmqvy",
        "outputId": "64779445-5b07-4615-99c7-e8cb2f08c254"
      },
      "execution_count": 25,
      "outputs": [
        {
          "output_type": "execute_result",
          "data": {
            "text/plain": [
              "'VARDAS PAVARDE 123'"
            ],
            "application/vnd.google.colaboratory.intrinsic+json": {
              "type": "string"
            }
          },
          "metadata": {},
          "execution_count": 25
        }
      ]
    },
    {
      "cell_type": "code",
      "source": [
        "# sukurti kintamąjį su sakiniu\n",
        "var = \"Vardas Vardenis vaidino 123\"\n",
        "\n",
        "# pakeisti visas V didžiasias raides į X\n",
        "var = var.replace('V', 'X')\n",
        "\n",
        "# grąžiname modifikuotą vertę\n",
        "var"
      ],
      "metadata": {
        "colab": {
          "base_uri": "https://localhost:8080/",
          "height": 35
        },
        "id": "AcfkmtKRmqsm",
        "outputId": "ce00f85d-b3ff-4cbe-f77c-b5b342a29921"
      },
      "execution_count": 26,
      "outputs": [
        {
          "output_type": "execute_result",
          "data": {
            "text/plain": [
              "'Xardas Xardenis vaidino 123'"
            ],
            "application/vnd.google.colaboratory.intrinsic+json": {
              "type": "string"
            }
          },
          "metadata": {},
          "execution_count": 26
        }
      ]
    },
    {
      "cell_type": "code",
      "source": [
        "# sukurti kintamąjį su sakiniu\n",
        "var = \"Vardas Vardenis vaidino 123\"\n",
        "\n",
        "# pakeisti visas V mažasias raides į K didžiąją\n",
        "var = var.replace('v', 'K')\n",
        "\n",
        "# grąžiname modifikuotą vertę\n",
        "var"
      ],
      "metadata": {
        "colab": {
          "base_uri": "https://localhost:8080/",
          "height": 35
        },
        "id": "eyBwX3lcnMuQ",
        "outputId": "460987b2-3ffd-4c83-8069-5b2c3042f426"
      },
      "execution_count": 27,
      "outputs": [
        {
          "output_type": "execute_result",
          "data": {
            "text/plain": [
              "'Vardas Vardenis Kaidino 123'"
            ],
            "application/vnd.google.colaboratory.intrinsic+json": {
              "type": "string"
            }
          },
          "metadata": {},
          "execution_count": 27
        }
      ]
    },
    {
      "cell_type": "code",
      "source": [
        "# sukurti kintamąjį su sakiniu\n",
        "var = \"Vardas Vardenis vaidino 123\"\n",
        "\n",
        "# pakeisti skaičių seką 123 į  XYZ\n",
        "var = var.replace('123', 'XYZ')\n",
        "\n",
        "# grąžiname modifikuotą vertę\n",
        "var"
      ],
      "metadata": {
        "colab": {
          "base_uri": "https://localhost:8080/",
          "height": 35
        },
        "id": "Elg1tNI-mqp-",
        "outputId": "799309d4-ccc2-46b4-f743-71a5012bc409"
      },
      "execution_count": 28,
      "outputs": [
        {
          "output_type": "execute_result",
          "data": {
            "text/plain": [
              "'Vardas Vardenis vaidino XYZ'"
            ],
            "application/vnd.google.colaboratory.intrinsic+json": {
              "type": "string"
            }
          },
          "metadata": {},
          "execution_count": 28
        }
      ]
    },
    {
      "cell_type": "code",
      "source": [
        "# sukurti kintamąjį su sakiniu\n",
        "var = \"Vardas vardas\"\n",
        "\n",
        "# kintamasis prieš pakeitimą\n",
        "print(\"Prieš pakeitimą:\", var)\n",
        "\n",
        "# pakeisti žodį \"Vard\" į nieką (tusčią simbolį)\n",
        "var = var.replace('Vard', '')\n",
        "\n",
        "# atspausdinti po pakeitimo\n",
        "print(\"Po pakeitimo:\", var)"
      ],
      "metadata": {
        "colab": {
          "base_uri": "https://localhost:8080/"
        },
        "id": "Y5koqjq-mqji",
        "outputId": "2f6c9aaa-d255-4e7f-9fb6-f166789b1658"
      },
      "execution_count": 29,
      "outputs": [
        {
          "output_type": "stream",
          "name": "stdout",
          "text": [
            "Prieš pakeitimą: Vardas vardas\n",
            "Po pakeitimo: as vardas\n"
          ]
        }
      ]
    },
    {
      "cell_type": "markdown",
      "source": [
        "Teskto pjaustymas (angl. string slicing).\n",
        "![Pjaustymo iliustracija](https://prepinsta.com/wp-content/uploads/2020/07/Slicing-in-python.webp \"Pjaustymo iliustracija\")\n",
        "\n"
      ],
      "metadata": {
        "id": "gsFt9qRFii5X"
      }
    },
    {
      "cell_type": "code",
      "source": [
        "# tekstinio kintamojo pvz.\n",
        "text = 'Sakinys Antras Zodis'\n",
        "\n",
        "# pirmas elementas/simbolis\n",
        "text[0]"
      ],
      "metadata": {
        "id": "iY8wws19invq",
        "outputId": "04147538-2658-4081-a431-0a930a23baa2",
        "colab": {
          "base_uri": "https://localhost:8080/",
          "height": 35
        }
      },
      "execution_count": 30,
      "outputs": [
        {
          "output_type": "execute_result",
          "data": {
            "text/plain": [
              "'S'"
            ],
            "application/vnd.google.colaboratory.intrinsic+json": {
              "type": "string"
            }
          },
          "metadata": {},
          "execution_count": 30
        }
      ]
    },
    {
      "cell_type": "code",
      "source": [
        "# paskutinis elementas\n",
        "text[-1]"
      ],
      "metadata": {
        "id": "rXbPgBpPEfLo",
        "outputId": "aac32300-c45a-41db-963b-3bdba816404e",
        "colab": {
          "base_uri": "https://localhost:8080/",
          "height": 35
        }
      },
      "execution_count": 31,
      "outputs": [
        {
          "output_type": "execute_result",
          "data": {
            "text/plain": [
              "'s'"
            ],
            "application/vnd.google.colaboratory.intrinsic+json": {
              "type": "string"
            }
          },
          "metadata": {},
          "execution_count": 31
        }
      ]
    },
    {
      "cell_type": "code",
      "source": [
        "# pirmas zodis/ pirmi 7 simboliai\n",
        "text[0:7]"
      ],
      "metadata": {
        "id": "DSQB8rcJFRn-",
        "outputId": "47fdd4ec-d46c-43d6-e4ed-92e22d776e38",
        "colab": {
          "base_uri": "https://localhost:8080/",
          "height": 35
        }
      },
      "execution_count": 32,
      "outputs": [
        {
          "output_type": "execute_result",
          "data": {
            "text/plain": [
              "'Sakinys'"
            ],
            "application/vnd.google.colaboratory.intrinsic+json": {
              "type": "string"
            }
          },
          "metadata": {},
          "execution_count": 32
        }
      ]
    },
    {
      "cell_type": "code",
      "source": [
        "# tas pat, tik nerašant nuo nulio\n",
        "text[:7]"
      ],
      "metadata": {
        "id": "-VozOLUIFVBJ",
        "outputId": "f2639d40-0601-4360-94bc-b42f2a3678e2",
        "colab": {
          "base_uri": "https://localhost:8080/",
          "height": 35
        }
      },
      "execution_count": 33,
      "outputs": [
        {
          "output_type": "execute_result",
          "data": {
            "text/plain": [
              "'Sakinys'"
            ],
            "application/vnd.google.colaboratory.intrinsic+json": {
              "type": "string"
            }
          },
          "metadata": {},
          "execution_count": 33
        }
      ]
    },
    {
      "cell_type": "code",
      "source": [
        "# antras zodis\n",
        "text[8:14]"
      ],
      "metadata": {
        "id": "M-WswBjXFbTf",
        "outputId": "508baf1f-ac4b-4dd4-bf08-052f97733d9e",
        "colab": {
          "base_uri": "https://localhost:8080/",
          "height": 35
        }
      },
      "execution_count": 34,
      "outputs": [
        {
          "output_type": "execute_result",
          "data": {
            "text/plain": [
              "'Antras'"
            ],
            "application/vnd.google.colaboratory.intrinsic+json": {
              "type": "string"
            }
          },
          "metadata": {},
          "execution_count": 34
        }
      ]
    },
    {
      "cell_type": "code",
      "source": [
        "# tekstinio kintamojo pvz.\n",
        "text = 'Vardenis Pavardenis'\n",
        "\n",
        "# paiimti simbolius nuo galo (4 nuo galo)\n",
        "text[-4:]"
      ],
      "metadata": {
        "id": "chuCO3ljLT7u",
        "outputId": "0108ca9a-dcd5-49ab-d677-f749aa572768",
        "colab": {
          "base_uri": "https://localhost:8080/",
          "height": 35
        }
      },
      "execution_count": 35,
      "outputs": [
        {
          "output_type": "execute_result",
          "data": {
            "text/plain": [
              "'enis'"
            ],
            "application/vnd.google.colaboratory.intrinsic+json": {
              "type": "string"
            }
          },
          "metadata": {},
          "execution_count": 35
        }
      ]
    },
    {
      "cell_type": "code",
      "source": [
        "# paiimti simbolius nuo 2 iki 2 nuo galo (neįskaitant)\n",
        "text[2:-2]"
      ],
      "metadata": {
        "id": "_jRJBXEiLlkj",
        "outputId": "4639a7d0-f23b-49db-92da-c125d8759014",
        "colab": {
          "base_uri": "https://localhost:8080/",
          "height": 35
        }
      },
      "execution_count": 36,
      "outputs": [
        {
          "output_type": "execute_result",
          "data": {
            "text/plain": [
              "'rdenis Pavarden'"
            ],
            "application/vnd.google.colaboratory.intrinsic+json": {
              "type": "string"
            }
          },
          "metadata": {},
          "execution_count": 36
        }
      ]
    },
    {
      "cell_type": "markdown",
      "source": [
        "### Užduotis 2.1\n",
        "\n",
        "Sukurti tekstinį kintamąjį Jūsų vardas ir pavardė"
      ],
      "metadata": {
        "id": "xUHQCU6ZG5Zk"
      }
    },
    {
      "cell_type": "code",
      "source": [
        "# vieta Jūsų kodui"
      ],
      "metadata": {
        "id": "JCyGCWcgFdvv"
      },
      "execution_count": 37,
      "outputs": []
    },
    {
      "cell_type": "markdown",
      "source": [
        "### Užduotis 2.2\n",
        "\n",
        "Atspausdinti (nautoti print() funkciją) paskutinias 5 raides"
      ],
      "metadata": {
        "id": "UH4QG5AdHSaH"
      }
    },
    {
      "cell_type": "code",
      "source": [
        "# atspausdinti šito kintamojo paskutinias 5 raides\n",
        "txt = \"ABCD 1234 EDCBA\"\n",
        "\n",
        "# vieta Jūsų kodui"
      ],
      "metadata": {
        "id": "pj-qXD3oHTQp"
      },
      "execution_count": 38,
      "outputs": []
    },
    {
      "cell_type": "markdown",
      "source": [
        "### Užduotis 2.3\n",
        "\n",
        "Atspausdinti abu kintamuosius su `print()` funciją. Pirmas kintamasis turi būti tik iš mažųjų raidžių, o antras iš didžiųjų. Atsakymas:\n",
        "\n",
        "`\"petras PETRAITIS\"`"
      ],
      "metadata": {
        "id": "KSMVDMOnHT6y"
      }
    },
    {
      "cell_type": "code",
      "source": [
        "t_1 = 'pEtras'\n",
        "t_2 = 'PETraTIs'\n",
        "\n",
        "# vieta Jūsų kodui"
      ],
      "metadata": {
        "id": "xADUvcJdFaR3"
      },
      "execution_count": 39,
      "outputs": []
    },
    {
      "cell_type": "markdown",
      "source": [
        "### Užduotis 2.4\n",
        "\n",
        "**(sudėtingesnė)** rasti internete metodą, kuris žodžių pirmas raides paverstų didžiosionis. Atsakymas turi būti toks:\n",
        "\n",
        "`\"Jonas Jonaitas\"`"
      ],
      "metadata": {
        "id": "OKzsbatkHVk3"
      }
    },
    {
      "cell_type": "code",
      "source": [
        "txt = \"JONAS jonaitis\"\n",
        "# vieta Jūsų kodui"
      ],
      "metadata": {
        "id": "8Zz_XMLpc_Om"
      },
      "execution_count": 40,
      "outputs": []
    },
    {
      "cell_type": "markdown",
      "source": [
        "# III. Skaičiai\n",
        "\n",
        "Yra dviejų tipų skaičiai:\n",
        "\n",
        "* sveikieji (int) - sukūriant juos nenaudoti taško,\n",
        "* racionalūs (float) - sukūriant skaičių naudojam tašką."
      ],
      "metadata": {
        "id": "wssdFESiOytm"
      }
    },
    {
      "cell_type": "code",
      "source": [
        "# pvz. dviejų skirtingų tipų skaičių\n",
        "\n",
        "var_1 = 1\n",
        "var_2 = 1.0\n",
        "\n",
        "print(f\"Sveikas skaičius:\", var_1)\n",
        "print(f\"Racionalus skaičius:\", var_2)"
      ],
      "metadata": {
        "id": "_eijoDxCglVs",
        "colab": {
          "base_uri": "https://localhost:8080/"
        },
        "outputId": "b90cd3d9-5166-498e-e679-02142122b68f"
      },
      "execution_count": 41,
      "outputs": [
        {
          "output_type": "stream",
          "name": "stdout",
          "text": [
            "Sveikas skaičius: 1\n",
            "Racionalus skaičius: 1.0\n"
          ]
        }
      ]
    },
    {
      "cell_type": "markdown",
      "source": [
        "## Sveikieji (`integers`)"
      ],
      "metadata": {
        "id": "vO_VsweTPZtP"
      }
    },
    {
      "cell_type": "code",
      "source": [
        "# aritmetinės operacijos\n",
        "var_1 = 1\n",
        "var_2 = 7\n",
        "\n",
        "# suma\n",
        "var_1 + var_2"
      ],
      "metadata": {
        "id": "qJX-3iu5GvXA",
        "colab": {
          "base_uri": "https://localhost:8080/"
        },
        "outputId": "11f5c241-0f24-46e7-ea70-acd2354f8c02"
      },
      "execution_count": 42,
      "outputs": [
        {
          "output_type": "execute_result",
          "data": {
            "text/plain": [
              "8"
            ]
          },
          "metadata": {},
          "execution_count": 42
        }
      ]
    },
    {
      "cell_type": "code",
      "source": [
        "# aritmetinės operacijos\n",
        "var_1 = 1\n",
        "var_2 = 7\n",
        "\n",
        "# atimtis\n",
        "var_1 - var_2"
      ],
      "metadata": {
        "colab": {
          "base_uri": "https://localhost:8080/"
        },
        "id": "IvGaOaswrjm1",
        "outputId": "e8601932-e161-48ce-fec1-ac4775e82b38"
      },
      "execution_count": 43,
      "outputs": [
        {
          "output_type": "execute_result",
          "data": {
            "text/plain": [
              "-6"
            ]
          },
          "metadata": {},
          "execution_count": 43
        }
      ]
    },
    {
      "cell_type": "code",
      "source": [
        "# aritmetinės operacijos\n",
        "var_1 = 1\n",
        "var_2 = 7\n",
        "\n",
        "# daugyba\n",
        "ans = var_1 * var_2\n",
        "print(ans, type(ans))"
      ],
      "metadata": {
        "colab": {
          "base_uri": "https://localhost:8080/"
        },
        "id": "zsCR230ZrnLf",
        "outputId": "e4d75633-e450-4e7f-cf4f-8beeb0ada80e"
      },
      "execution_count": 44,
      "outputs": [
        {
          "output_type": "stream",
          "name": "stdout",
          "text": [
            "7 <class 'int'>\n"
          ]
        }
      ]
    },
    {
      "cell_type": "code",
      "source": [
        "# aritmetinės operacijos\n",
        "var_1 = 10\n",
        "var_2 = 2\n",
        "\n",
        "# dalyba\n",
        "ans = var_1 / var_2\n",
        "print(ans, type(ans))"
      ],
      "metadata": {
        "colab": {
          "base_uri": "https://localhost:8080/"
        },
        "id": "-6S6iTpSrrMc",
        "outputId": "d0190399-3e1a-4fd9-b46a-2f765be19a4c"
      },
      "execution_count": 45,
      "outputs": [
        {
          "output_type": "stream",
          "name": "stdout",
          "text": [
            "5.0 <class 'float'>\n"
          ]
        }
      ]
    },
    {
      "cell_type": "code",
      "source": [
        "# aritmetinės operacijos\n",
        "var_1 = 10\n",
        "var_2 = 6\n",
        "\n",
        "# liekana dalis\n",
        "ans = var_1 % var_2\n",
        "print(ans, type(ans))"
      ],
      "metadata": {
        "colab": {
          "base_uri": "https://localhost:8080/"
        },
        "id": "SIhZk_mkrrOc",
        "outputId": "261d80bb-3c3d-4d98-8350-a5063f6da4da"
      },
      "execution_count": 46,
      "outputs": [
        {
          "output_type": "stream",
          "name": "stdout",
          "text": [
            "4 <class 'int'>\n"
          ]
        }
      ]
    },
    {
      "cell_type": "code",
      "source": [
        "# aritmetinės operacijos\n",
        "var_1 = 10\n",
        "var_2 = 6\n",
        "\n",
        "# sveikoji dalis\n",
        "ans = var_1 // var_2\n",
        "print(ans, type(ans))"
      ],
      "metadata": {
        "colab": {
          "base_uri": "https://localhost:8080/"
        },
        "id": "2PRA5ZKErrQr",
        "outputId": "ba8d0c49-aec9-4ab5-b5ee-d57891b8b83c"
      },
      "execution_count": 47,
      "outputs": [
        {
          "output_type": "stream",
          "name": "stdout",
          "text": [
            "1 <class 'int'>\n"
          ]
        }
      ]
    },
    {
      "cell_type": "code",
      "source": [
        "# aritmetinės operacijos\n",
        "var_1 = 4\n",
        "var_2 = 2\n",
        "\n",
        "# kelimas laipsniu\n",
        "ans = var_1 ** var_2\n",
        "print(ans, type(ans))"
      ],
      "metadata": {
        "colab": {
          "base_uri": "https://localhost:8080/"
        },
        "id": "qebsvjXVsEzh",
        "outputId": "989fe915-3185-4a8c-c0c3-232585d11291"
      },
      "execution_count": 48,
      "outputs": [
        {
          "output_type": "stream",
          "name": "stdout",
          "text": [
            "16 <class 'int'>\n"
          ]
        }
      ]
    },
    {
      "cell_type": "code",
      "source": [
        "# aritmetinės operacijos\n",
        "var_1 = 4\n",
        "var_2 = 1/2\n",
        "\n",
        "# ištraukti šaknį\n",
        "ans = var_1 ** var_2\n",
        "print(ans, type)"
      ],
      "metadata": {
        "colab": {
          "base_uri": "https://localhost:8080/"
        },
        "id": "OiwxUHtrsHL0",
        "outputId": "82d84cfb-0468-431e-91b3-f82fe2b0880d"
      },
      "execution_count": 49,
      "outputs": [
        {
          "output_type": "stream",
          "name": "stdout",
          "text": [
            "2.0 <class 'type'>\n"
          ]
        }
      ]
    },
    {
      "cell_type": "markdown",
      "source": [
        "## Racionalieji (`floats`)\n"
      ],
      "metadata": {
        "id": "iBO205G4PDUc"
      }
    },
    {
      "cell_type": "code",
      "source": [
        "# aritmetinės operacijos\n",
        "var_1 = 1.5\n",
        "var_2 = 5.37\n",
        "\n",
        "# suma\n",
        "var_1 + var_2"
      ],
      "metadata": {
        "id": "huUljl9bPCyZ",
        "colab": {
          "base_uri": "https://localhost:8080/"
        },
        "outputId": "83675dcb-d562-4e19-d00c-e1c4570b7bbb"
      },
      "execution_count": 50,
      "outputs": [
        {
          "output_type": "execute_result",
          "data": {
            "text/plain": [
              "6.87"
            ]
          },
          "metadata": {},
          "execution_count": 50
        }
      ]
    },
    {
      "cell_type": "code",
      "source": [
        "# aritmetinės operacijos\n",
        "var_1 = 14.1\n",
        "var_2 = 2.77\n",
        "\n",
        "# atimtis\n",
        "var_1 - var_2"
      ],
      "metadata": {
        "colab": {
          "base_uri": "https://localhost:8080/"
        },
        "id": "8h2ugxyTNkOq",
        "outputId": "ae935d38-7cea-41ff-f45c-81d10fbbec8e"
      },
      "execution_count": 51,
      "outputs": [
        {
          "output_type": "execute_result",
          "data": {
            "text/plain": [
              "11.33"
            ]
          },
          "metadata": {},
          "execution_count": 51
        }
      ]
    },
    {
      "cell_type": "code",
      "source": [
        "# aritmetinės operacijos\n",
        "var_1 = 11.1\n",
        "var_2 = 0.5\n",
        "\n",
        "# daugyba\n",
        "ans = var_1 * var_2\n",
        "print(ans, type(ans))"
      ],
      "metadata": {
        "colab": {
          "base_uri": "https://localhost:8080/"
        },
        "id": "imdMvbLnNkRl",
        "outputId": "ed96226e-b11b-4b11-d7a0-abe33211e1a0"
      },
      "execution_count": 52,
      "outputs": [
        {
          "output_type": "stream",
          "name": "stdout",
          "text": [
            "5.55 <class 'float'>\n"
          ]
        }
      ]
    },
    {
      "cell_type": "code",
      "source": [
        "# aritmetinės operacijos\n",
        "var_1 = 7.5\n",
        "var_2 = 1.5\n",
        "\n",
        "# dalyba\n",
        "ans = var_1 / var_2\n",
        "print(ans, type(ans))"
      ],
      "metadata": {
        "colab": {
          "base_uri": "https://localhost:8080/"
        },
        "id": "veUPMa10M8T7",
        "outputId": "eec48436-cba8-43ae-fc3f-255f3e3cd42c"
      },
      "execution_count": 53,
      "outputs": [
        {
          "output_type": "stream",
          "name": "stdout",
          "text": [
            "5.0 <class 'float'>\n"
          ]
        }
      ]
    },
    {
      "cell_type": "code",
      "source": [
        "# aritmetinės operacijos\n",
        "var_1 = 2\n",
        "var_2 = 2.5\n",
        "\n",
        "# kelimas laipsniu\n",
        "ans = var_1 ** var_2\n",
        "print(ans, type(ans))"
      ],
      "metadata": {
        "colab": {
          "base_uri": "https://localhost:8080/"
        },
        "id": "kJW4cpoDNn9M",
        "outputId": "b09bf079-26de-4c56-c44b-b863d0c6d75a"
      },
      "execution_count": 54,
      "outputs": [
        {
          "output_type": "stream",
          "name": "stdout",
          "text": [
            "5.656854249492381 <class 'float'>\n"
          ]
        }
      ]
    },
    {
      "cell_type": "code",
      "source": [
        "# apvalinti skaičių iki šimtųjų\n",
        "round(123.123, 2)"
      ],
      "metadata": {
        "colab": {
          "base_uri": "https://localhost:8080/"
        },
        "id": "5TVjtXuZN0Kx",
        "outputId": "7c7dec78-bdb5-41df-df65-2f96c7119203"
      },
      "execution_count": 55,
      "outputs": [
        {
          "output_type": "execute_result",
          "data": {
            "text/plain": [
              "123.12"
            ]
          },
          "metadata": {},
          "execution_count": 55
        }
      ]
    },
    {
      "cell_type": "code",
      "source": [
        "# apvalinti skaičių iki dešimtųjų\n",
        "round(123.123, 1)"
      ],
      "metadata": {
        "colab": {
          "base_uri": "https://localhost:8080/"
        },
        "id": "OC35CJ4iN4hu",
        "outputId": "3bda3eb9-39c6-45e3-dba1-d70738255d0e"
      },
      "execution_count": 56,
      "outputs": [
        {
          "output_type": "execute_result",
          "data": {
            "text/plain": [
              "123.1"
            ]
          },
          "metadata": {},
          "execution_count": 56
        }
      ]
    },
    {
      "cell_type": "markdown",
      "source": [
        "## Užduotys"
      ],
      "metadata": {
        "id": "I8i05GRwG-GH"
      }
    },
    {
      "cell_type": "markdown",
      "source": [
        "### Užduotis 3.1\n",
        "\n",
        "Lietuvoje 2021 buvo suskaičiuoti 2784279 gyventojai. Lietuvos plotas 65300 km^2.\n",
        "\n",
        "Kiek gyventojų yra vienam kvadratiniame kilometre?"
      ],
      "metadata": {
        "id": "6XrhCYwaOWNt"
      }
    },
    {
      "cell_type": "code",
      "source": [
        "# duomenys (nekeisti)\n",
        "gyv_skaicius = 2784279\n",
        "plotas = 65300\n",
        "\n",
        "# įvesti savo formulę, vieta Jūsų kodui\n",
        "tankis = 0\n",
        "\n",
        "# suapvalinkite savo rezutaltą iki šimtųjų\n",
        "\n",
        "# atspausdina atsakymą (šitos eilutės nekeisti)\n",
        "print(f'Lietuvoje yra {tankis} žm./km^2')"
      ],
      "metadata": {
        "id": "sggl0zvSG9jZ",
        "colab": {
          "base_uri": "https://localhost:8080/"
        },
        "outputId": "3242afeb-0648-4d16-8c30-b28644c9462b"
      },
      "execution_count": 57,
      "outputs": [
        {
          "output_type": "stream",
          "name": "stdout",
          "text": [
            "Lietuvoje yra 0 žm./km^2\n"
          ]
        }
      ]
    },
    {
      "cell_type": "markdown",
      "source": [
        "### Užduotis 3.2\n",
        "\n",
        "Autobuse telpa 87 žmonės. Tačiau važiuoti norinčių yra 93. Naudodami liekana, apskaičiuokite, kiek žmonių netilps?"
      ],
      "metadata": {
        "id": "z8SxmQJIOf5P"
      }
    },
    {
      "cell_type": "code",
      "source": [
        "# pvz. ieškoti aukščiau\n",
        "# vieta Jūsų kodui, su ALT + ENTER galite daugiau eilučių susikurti\n"
      ],
      "metadata": {
        "id": "CIhCa-B4OS86"
      },
      "execution_count": 58,
      "outputs": []
    },
    {
      "cell_type": "markdown",
      "source": [
        "### Užduotis 3.3\n",
        "\n",
        "Bėgimas truko 12345 sec. Kiek šis bėgimas truko minutėmis, valandomis ir dienomis? Atsakymus suapvalinkite iki dešimčių."
      ],
      "metadata": {
        "id": "gs8W-aHjOrva"
      }
    },
    {
      "cell_type": "code",
      "source": [
        "begimo_trukme_sec = 12345\n",
        "\n",
        "# vieta Jūsų kodui\n",
        "begimo_trukme_minutemis = 0\n",
        "begimo_trukme_valandomis = 0\n",
        "begimo_trukme_dienomis = 0\n",
        "\n",
        "# suapvalinkite atsakimus iki 10-tųjų\n",
        "\n",
        "# nekeisti žemiau esančio kodo\n",
        "print('Bėgimas truko:')\n",
        "print(f\"{begimo_trukme_minutemis} minutes.\")\n",
        "print(f\"{begimo_trukme_valandomis} valandos\")\n",
        "print(f\"{begimo_trukme_dienomis} dienos\")"
      ],
      "metadata": {
        "colab": {
          "base_uri": "https://localhost:8080/"
        },
        "id": "2O0HnPuGOTAG",
        "outputId": "e500cc31-d8a3-4c0f-e2ac-0f7c7701bdfc"
      },
      "execution_count": 59,
      "outputs": [
        {
          "output_type": "stream",
          "name": "stdout",
          "text": [
            "Bėgimas truko:\n",
            "0 minutes.\n",
            "0 valandos\n",
            "0 dienos\n"
          ]
        }
      ]
    },
    {
      "cell_type": "markdown",
      "source": [
        "# IV. Loginiai (`booleans`)\n",
        "\n",
        "`Boolean` loginės sąlygos:\n",
        "\n",
        "* `==` patikrinti ar lygu (vienodi),\n",
        "* `!=` patikrinti ar nelygu (pvz. skirtingi kintamieji),\n",
        "* `>` daugiau,\n",
        "* `>=` daugiau arba lygu,\n",
        "* `<` mažiau,\n",
        "* `<=` mažiau arba lygu,\n",
        "* `in` yra sąraše/masyve,\n",
        "* `not in` nėra sąraše/masyve."
      ],
      "metadata": {
        "id": "dPAw95VhPIp2"
      }
    },
    {
      "cell_type": "code",
      "source": [
        "# ar 30 daugiau už 5\n",
        "a = 30 > 5\n",
        "print(a)"
      ],
      "metadata": {
        "id": "cEohfBJ_gqm3",
        "colab": {
          "base_uri": "https://localhost:8080/"
        },
        "outputId": "2bd95114-9def-47cf-d996-e1e066c450a8"
      },
      "execution_count": 60,
      "outputs": [
        {
          "output_type": "stream",
          "name": "stdout",
          "text": [
            "True\n"
          ]
        }
      ]
    },
    {
      "cell_type": "code",
      "source": [
        "# ar žodis \"Hello\" yra sakinyje \"Hello World!\"\n",
        "b = \"Hello World!\"\n",
        "c = 'Hello' in b\n",
        "print(c)"
      ],
      "metadata": {
        "id": "aPPPwVqDPHWr",
        "outputId": "d1227583-ee70-418e-f722-32456701875d",
        "colab": {
          "base_uri": "https://localhost:8080/"
        }
      },
      "execution_count": 61,
      "outputs": [
        {
          "output_type": "stream",
          "name": "stdout",
          "text": [
            "True\n"
          ]
        }
      ]
    },
    {
      "cell_type": "code",
      "source": [
        "# lygybės pvz.\n",
        "a = 2\n",
        "b = 5\n",
        "c = 2\n",
        "\n",
        "print(\"a = b\", a == b)\n",
        "print(\"a = c\", a == c)"
      ],
      "metadata": {
        "id": "pb2VUA_aPRUj",
        "outputId": "ada16c4a-0ef5-4c68-ec10-63832d70a240",
        "colab": {
          "base_uri": "https://localhost:8080/"
        }
      },
      "execution_count": 62,
      "outputs": [
        {
          "output_type": "stream",
          "name": "stdout",
          "text": [
            "a = b False\n",
            "a = c True\n"
          ]
        }
      ]
    },
    {
      "cell_type": "code",
      "source": [
        "# nelygybės pvz.\n",
        "print(a != b)\n",
        "print(a != c)"
      ],
      "metadata": {
        "id": "O5yBKSBoP79N",
        "outputId": "02a1701f-0456-4f93-80ba-13390415ca04",
        "colab": {
          "base_uri": "https://localhost:8080/"
        }
      },
      "execution_count": 63,
      "outputs": [
        {
          "output_type": "stream",
          "name": "stdout",
          "text": [
            "True\n",
            "False\n"
          ]
        }
      ]
    },
    {
      "cell_type": "code",
      "source": [
        "# daugiau/mažiau arba lygu\n",
        "print(a >= b)\n",
        "print(a <= c)"
      ],
      "metadata": {
        "id": "Kiy9atfjQEhL",
        "outputId": "5b7a2cde-b16d-4567-b8d1-ddf0373f8cc0",
        "colab": {
          "base_uri": "https://localhost:8080/"
        }
      },
      "execution_count": 64,
      "outputs": [
        {
          "output_type": "stream",
          "name": "stdout",
          "text": [
            "False\n",
            "True\n"
          ]
        }
      ]
    },
    {
      "cell_type": "code",
      "source": [
        "# daugiau/mažiau\n",
        "print(a > b)\n",
        "print(a < c)"
      ],
      "metadata": {
        "id": "21c-0dN9QGNX",
        "outputId": "fea4b61f-57e2-4ef4-fbdb-86a8257ddca3",
        "colab": {
          "base_uri": "https://localhost:8080/"
        }
      },
      "execution_count": 65,
      "outputs": [
        {
          "output_type": "stream",
          "name": "stdout",
          "text": [
            "False\n",
            "False\n"
          ]
        }
      ]
    },
    {
      "cell_type": "markdown",
      "source": [
        "### Užduotis 4.1\n",
        "\n",
        "Atsakykite su boolean operatoriumi į klausimą, ar sakinyje 'Meška paslydo' yra žmodis 'meška'?"
      ],
      "metadata": {
        "id": "xR7jVe-MHAPu"
      }
    },
    {
      "cell_type": "code",
      "source": [
        "# nekeist kintamojo vertės\n",
        "sakinys = \"Meška paslydo\"\n",
        "\n",
        "# vieta Jūsų kodui\n",
        "atsakymas = 0\n",
        "\n",
        "# atspausdina atsakymą\n",
        "print(atsakymas)"
      ],
      "metadata": {
        "id": "DuFuPnhoPUs0",
        "outputId": "a6d4bdf1-ed19-4c8a-a95f-2db2f9bcc448",
        "colab": {
          "base_uri": "https://localhost:8080/"
        }
      },
      "execution_count": 66,
      "outputs": [
        {
          "output_type": "stream",
          "name": "stdout",
          "text": [
            "0\n"
          ]
        }
      ]
    },
    {
      "cell_type": "markdown",
      "source": [
        "### Užduotis 4.2\n",
        "\n",
        "Ar `Onutės` vardas yra `onutė`?"
      ],
      "metadata": {
        "id": "cZAE4OGjPWno"
      }
    },
    {
      "cell_type": "code",
      "source": [
        "# nekeist kintamųjų verčių\n",
        "vardas_1 = 'Onutė'\n",
        "vardas_2 = 'onuTė'\n",
        "\n",
        "# Jūsų atsakymas su boolean operatoriumi\n"
      ],
      "metadata": {
        "id": "342cyjcxG_9i"
      },
      "execution_count": 67,
      "outputs": []
    },
    {
      "cell_type": "markdown",
      "source": [
        "# V. Kintamųjų atvaizdavimas"
      ],
      "metadata": {
        "id": "R0NU-DPigt1v"
      }
    },
    {
      "cell_type": "markdown",
      "source": [
        "## Senovinis būdas"
      ],
      "metadata": {
        "id": "jEeXV7OV-rVU"
      }
    },
    {
      "cell_type": "code",
      "source": [
        "# deklaruoti du kintamuosius\n",
        "skaicius = 861\n",
        "tekstas = 'Vardas'\n",
        "\n",
        "# senovinis atvaizdavimas\n",
        "'Labas, %s' % tekstas"
      ],
      "metadata": {
        "id": "dlBB8s6ZgwiE",
        "outputId": "98737d5e-f8a3-42ea-9c6d-f9aae8c478f4",
        "colab": {
          "base_uri": "https://localhost:8080/",
          "height": 0
        }
      },
      "execution_count": 68,
      "outputs": [
        {
          "output_type": "execute_result",
          "data": {
            "text/plain": [
              "'Labas, Vardas'"
            ],
            "application/vnd.google.colaboratory.intrinsic+json": {
              "type": "string"
            }
          },
          "metadata": {},
          "execution_count": 68
        }
      ]
    },
    {
      "cell_type": "code",
      "source": [
        "# senovinis atvaizdavimas\n",
        "print('Namo numeris: %s' % skaicius)"
      ],
      "metadata": {
        "id": "AYQZRqE-8f60",
        "outputId": "3605bff8-8555-4008-f95a-a112ff3e5ef6",
        "colab": {
          "base_uri": "https://localhost:8080/"
        }
      },
      "execution_count": 69,
      "outputs": [
        {
          "output_type": "stream",
          "name": "stdout",
          "text": [
            "Namo numeris: 861\n"
          ]
        }
      ]
    },
    {
      "cell_type": "code",
      "source": [
        "# senovinis atvaizdavimas (kaip skaičius)\n",
        "print('Namo numeris: %f' % skaicius)"
      ],
      "metadata": {
        "id": "Zws3lZca8tV0",
        "outputId": "3fb5465e-eb96-41aa-dd20-38f2b4f3f18c",
        "colab": {
          "base_uri": "https://localhost:8080/"
        }
      },
      "execution_count": 70,
      "outputs": [
        {
          "output_type": "stream",
          "name": "stdout",
          "text": [
            "Namo numeris: 861.000000\n"
          ]
        }
      ]
    },
    {
      "cell_type": "code",
      "source": [
        "# atvaizduoti abu kintamuosius\n",
        "'Labas %s, tau skolingas %.2f eurus!' % (tekstas, skaicius)"
      ],
      "metadata": {
        "id": "8IvvdO1b9iEM",
        "outputId": "aa8bc222-3541-4830-f4d1-f5808b0ead74",
        "colab": {
          "base_uri": "https://localhost:8080/",
          "height": 0
        }
      },
      "execution_count": 71,
      "outputs": [
        {
          "output_type": "execute_result",
          "data": {
            "text/plain": [
              "'Labas Vardas, tau skolingas 861.00 eurus!'"
            ],
            "application/vnd.google.colaboratory.intrinsic+json": {
              "type": "string"
            }
          },
          "metadata": {},
          "execution_count": 71
        }
      ]
    },
    {
      "cell_type": "code",
      "source": [
        "# kaip auksčiau tik naudojant žodyną\n",
        "'Labas %(tekstas)s, tau skolingas %(skaicius)f eurus!' % {\"tekstas\": tekstas, \"skaicius\": skaicius}"
      ],
      "metadata": {
        "id": "F_gdVUdK937d",
        "outputId": "84f95550-8f38-4f0d-8aa4-5eedf22ab58d",
        "colab": {
          "base_uri": "https://localhost:8080/",
          "height": 0
        }
      },
      "execution_count": 72,
      "outputs": [
        {
          "output_type": "execute_result",
          "data": {
            "text/plain": [
              "'Labas Vardas, tau skolingas 861.000000 eurus!'"
            ],
            "application/vnd.google.colaboratory.intrinsic+json": {
              "type": "string"
            }
          },
          "metadata": {},
          "execution_count": 72
        }
      ]
    },
    {
      "cell_type": "markdown",
      "source": [
        "## Dabartinis"
      ],
      "metadata": {
        "id": "Y94N92ncDbJ-"
      }
    },
    {
      "cell_type": "code",
      "source": [
        "# .format() metodas\n",
        "vardas = \"Jonai\"\n",
        "'Labas, {}!'.format(vardas)"
      ],
      "metadata": {
        "id": "7JkEtN-h-Ors",
        "outputId": "bfe87423-f4f8-497b-dc7b-e229847e496a",
        "colab": {
          "base_uri": "https://localhost:8080/",
          "height": 0
        }
      },
      "execution_count": 73,
      "outputs": [
        {
          "output_type": "execute_result",
          "data": {
            "text/plain": [
              "'Labas, Jonai!'"
            ],
            "application/vnd.google.colaboratory.intrinsic+json": {
              "type": "string"
            }
          },
          "metadata": {},
          "execution_count": 73
        }
      ]
    },
    {
      "cell_type": "code",
      "source": [
        "# šiek tiek kitaip\n",
        "vardas = \"Jonai\"\n",
        "pasisveikinimas = 'Labas, {}!'.format(vardas)\n",
        "print(pasisveikinimas)"
      ],
      "metadata": {
        "id": "pcXuL1rFDov1",
        "outputId": "3acc6053-f497-405c-ae73-ec51a52a44ed",
        "colab": {
          "base_uri": "https://localhost:8080/"
        }
      },
      "execution_count": 74,
      "outputs": [
        {
          "output_type": "stream",
          "name": "stdout",
          "text": [
            "Labas, Jonai!\n"
          ]
        }
      ]
    },
    {
      "cell_type": "code",
      "source": [
        "# deklaruoti du kintamuosius\n",
        "skaicius = 861\n",
        "tekstas = 'Vardas'\n",
        "# kaip auksčiau tik naudojant žodyną\n",
        "'Labas {tekstas}, tau skolingas {skaicius} eurus!'.format(tekstas= tekstas, skaicius= skaicius)"
      ],
      "metadata": {
        "id": "ZiRprJjQDwl8",
        "outputId": "8469a8ac-f95d-440f-a385-e565585b3d06",
        "colab": {
          "base_uri": "https://localhost:8080/",
          "height": 0
        }
      },
      "execution_count": 75,
      "outputs": [
        {
          "output_type": "execute_result",
          "data": {
            "text/plain": [
              "'Labas Vardas, tau skolingas 861 eurus!'"
            ],
            "application/vnd.google.colaboratory.intrinsic+json": {
              "type": "string"
            }
          },
          "metadata": {},
          "execution_count": 75
        }
      ]
    },
    {
      "cell_type": "code",
      "source": [
        "# nenaudojant .format\n",
        "vardas = \"Jonai\"\n",
        "f'Sveikas, {vardas}!'"
      ],
      "metadata": {
        "id": "olF3-43b93_L",
        "outputId": "c27cef02-425b-4d4d-83f1-913eac6a8c86",
        "colab": {
          "base_uri": "https://localhost:8080/",
          "height": 0
        }
      },
      "execution_count": 76,
      "outputs": [
        {
          "output_type": "execute_result",
          "data": {
            "text/plain": [
              "'Sveikas, Jonai!'"
            ],
            "application/vnd.google.colaboratory.intrinsic+json": {
              "type": "string"
            }
          },
          "metadata": {},
          "execution_count": 76
        }
      ]
    },
    {
      "cell_type": "code",
      "source": [
        "# matematinės operacijos\n",
        "a = 5\n",
        "b = 10\n",
        "f'Penki plius dešimti yra {a + b}.'"
      ],
      "metadata": {
        "id": "hWOl3a6KET50",
        "outputId": "a70ce796-8249-45f1-888b-6c5b3462861e",
        "colab": {
          "base_uri": "https://localhost:8080/",
          "height": 0
        }
      },
      "execution_count": 77,
      "outputs": [
        {
          "output_type": "execute_result",
          "data": {
            "text/plain": [
              "'Penki plius dešimti yra 15.'"
            ],
            "application/vnd.google.colaboratory.intrinsic+json": {
              "type": "string"
            }
          },
          "metadata": {},
          "execution_count": 77
        }
      ]
    },
    {
      "cell_type": "code",
      "source": [
        "# tas pats tik kitaip\n",
        "f\"{a} - {b} = {a-b}\""
      ],
      "metadata": {
        "id": "H3bVt7JEEd-M",
        "outputId": "9ced2d93-1f0c-44f7-e3c6-377f5e264702",
        "colab": {
          "base_uri": "https://localhost:8080/",
          "height": 0
        }
      },
      "execution_count": 78,
      "outputs": [
        {
          "output_type": "execute_result",
          "data": {
            "text/plain": [
              "'5 - 10 = -5'"
            ],
            "application/vnd.google.colaboratory.intrinsic+json": {
              "type": "string"
            }
          },
          "metadata": {},
          "execution_count": 78
        }
      ]
    },
    {
      "cell_type": "code",
      "source": [
        "# galima \"sumuoti\" tekstus\n",
        "vardas = \"Vardenis\"\n",
        "pavarde = \"Pavardenis\"\n",
        "zinute = vardas + \" \" + pavarde"
      ],
      "metadata": {
        "id": "2AKwuESZEmHy"
      },
      "execution_count": 79,
      "outputs": []
    },
    {
      "cell_type": "code",
      "source": [
        "# skaičių apvalinimas po kablelio\n",
        "skaicius = 1.2345\n",
        "\n",
        "# suapvalinti iki 2 skaičių po kablelio\n",
        "f\"{skaicius:.2f}\""
      ],
      "metadata": {
        "id": "wMnTWSANHO-s",
        "outputId": "6eee5a38-4e97-4725-891c-5668bb42bd87",
        "colab": {
          "base_uri": "https://localhost:8080/",
          "height": 0
        }
      },
      "execution_count": 80,
      "outputs": [
        {
          "output_type": "execute_result",
          "data": {
            "text/plain": [
              "'1.23'"
            ],
            "application/vnd.google.colaboratory.intrinsic+json": {
              "type": "string"
            }
          },
          "metadata": {},
          "execution_count": 80
        }
      ]
    },
    {
      "cell_type": "code",
      "source": [
        "# riboti maksimalų simbolių skaičių\n",
        "vardas = \"Antanas\"\n",
        "\n",
        "print(f\"Daugiausiai atvaizduojame 3 simbolius todėl {vardas} patampa {vardas:.3s}\")"
      ],
      "metadata": {
        "id": "tgQqMC8-Ha6z",
        "outputId": "68262af5-af8b-4963-84f3-0209b7cb3fb0",
        "colab": {
          "base_uri": "https://localhost:8080/"
        }
      },
      "execution_count": 81,
      "outputs": [
        {
          "output_type": "stream",
          "name": "stdout",
          "text": [
            "Daugiausiai atvaizduojame 3 simbolius todėl Antanas patampa Ant\n"
          ]
        }
      ]
    },
    {
      "cell_type": "markdown",
      "source": [
        "## Užduotys"
      ],
      "metadata": {
        "id": "u-dokx38HF0i"
      }
    },
    {
      "cell_type": "markdown",
      "source": [
        "### Užduotis 5.1\n",
        "\n",
        "Sukurkite 3 kintauosius:\n",
        "\n",
        "* `vardas`\n",
        "* `pavarde`\n",
        "* `sakinys`, šis kintamasis turi panaudoti auksčiau esančius kintamuosius.\n",
        "\n",
        "Atspausdinkite `sakinys` kintamąjį tokio tipo:\n",
        "\n",
        "`\"Mano vardas X, o pavardė Y. Manolu susipažinti!\"`, kur `X` ir `Y` turi būti panaudoti kintamieji `vardas` ir `pavarde`."
      ],
      "metadata": {
        "id": "4cVni8FoE__R"
      }
    },
    {
      "cell_type": "code",
      "source": [
        "# vieta Jūsų kodui\n"
      ],
      "metadata": {
        "id": "8VnYwxh5FCuL"
      },
      "execution_count": 82,
      "outputs": []
    },
    {
      "cell_type": "markdown",
      "source": [
        "### Užduotis 5.2\n",
        "\n",
        "Sufomatuokite daugybos ir dalybos operacijas."
      ],
      "metadata": {
        "id": "ZfPF--xZFDZb"
      }
    },
    {
      "cell_type": "code",
      "source": [
        "# kintamieji (galite keisti)\n",
        "a = 15\n",
        "b = -3.5\n",
        "\n",
        "# pakeisti, kad atsapusdintų atsakymą a x b = atsakymas\n",
        "sandauga = \"\"\n",
        "# pakeisti, kad atsapusdintų atsakymą a / b = atsakymas\n",
        "dalyba = ''\n",
        "\n",
        "# atspaudinti atsakymus\n",
        "print(sandauga)\n",
        "print(dalyba)"
      ],
      "metadata": {
        "id": "3aL6-_xJH2B1",
        "outputId": "cebc4d19-2903-40f9-b7d9-f682fb12e779",
        "colab": {
          "base_uri": "https://localhost:8080/"
        }
      },
      "execution_count": 83,
      "outputs": [
        {
          "output_type": "stream",
          "name": "stdout",
          "text": [
            "\n",
            "\n"
          ]
        }
      ]
    },
    {
      "cell_type": "code",
      "source": [],
      "metadata": {
        "id": "9rD4b6ltFCyk"
      },
      "execution_count": 83,
      "outputs": []
    },
    {
      "cell_type": "code",
      "source": [],
      "metadata": {
        "id": "lRN7MZPIHFV0"
      },
      "execution_count": 83,
      "outputs": []
    }
  ]
}