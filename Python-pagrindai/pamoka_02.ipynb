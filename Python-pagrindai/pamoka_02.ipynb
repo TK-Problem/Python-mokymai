{
  "nbformat": 4,
  "nbformat_minor": 0,
  "metadata": {
    "colab": {
      "provenance": [],
      "authorship_tag": "ABX9TyNlKW5vsfXS9xQr5QwdgCp+",
      "include_colab_link": true
    },
    "kernelspec": {
      "name": "python3",
      "display_name": "Python 3"
    },
    "language_info": {
      "name": "python"
    }
  },
  "cells": [
    {
      "cell_type": "markdown",
      "metadata": {
        "id": "view-in-github",
        "colab_type": "text"
      },
      "source": [
        "<a href=\"https://colab.research.google.com/github/TK-Problem/Python-mokymai/blob/master/Python-pagrindai/pamoka_02.ipynb\" target=\"_parent\"><img src=\"https://colab.research.google.com/assets/colab-badge.svg\" alt=\"Open In Colab\"/></a>"
      ]
    },
    {
      "cell_type": "markdown",
      "source": [
        "# **Pamoka 2**\n",
        "\n",
        "Šioje pamokoje susipažinsime su neprimityviaisiais kintamaisiais.\n"
      ],
      "metadata": {
        "id": "2H-TCj5rgavO"
      }
    },
    {
      "cell_type": "code",
      "source": [],
      "metadata": {
        "id": "hJmjkhhXgrpd"
      },
      "execution_count": null,
      "outputs": []
    },
    {
      "cell_type": "markdown",
      "source": [
        "## Užduotys"
      ],
      "metadata": {
        "id": "q_yD9cPWhpsl"
      }
    },
    {
      "cell_type": "code",
      "source": [],
      "metadata": {
        "id": "qxUud6jdgrte"
      },
      "execution_count": null,
      "outputs": []
    },
    {
      "cell_type": "markdown",
      "source": [
        "# I. Sąrašai [list]"
      ],
      "metadata": {
        "id": "wFB5WEkogujh"
      }
    },
    {
      "cell_type": "code",
      "source": [],
      "metadata": {
        "id": "hZfe37MFgwqF"
      },
      "execution_count": null,
      "outputs": []
    },
    {
      "cell_type": "markdown",
      "source": [
        "## Užduotys"
      ],
      "metadata": {
        "id": "06BAHGGuhrJQ"
      }
    },
    {
      "cell_type": "code",
      "source": [],
      "metadata": {
        "id": "W_XvQypThq8X"
      },
      "execution_count": null,
      "outputs": []
    },
    {
      "cell_type": "markdown",
      "source": [
        "# II. Kortežai (tuples)"
      ],
      "metadata": {
        "id": "_gZ8dN_7gxOY"
      }
    },
    {
      "cell_type": "code",
      "source": [],
      "metadata": {
        "id": "3HhLrp81g7h8"
      },
      "execution_count": null,
      "outputs": []
    },
    {
      "cell_type": "markdown",
      "source": [
        "## Užduotys"
      ],
      "metadata": {
        "id": "ldRsKRVZhtnm"
      }
    },
    {
      "cell_type": "code",
      "source": [],
      "metadata": {
        "id": "-1H3miClhtXr"
      },
      "execution_count": null,
      "outputs": []
    },
    {
      "cell_type": "markdown",
      "source": [
        "# III. Rinkiniai {set}"
      ],
      "metadata": {
        "id": "SRQgNIzdg8Gt"
      }
    },
    {
      "cell_type": "code",
      "source": [],
      "metadata": {
        "id": "JHNQe1TKg_wE"
      },
      "execution_count": null,
      "outputs": []
    },
    {
      "cell_type": "markdown",
      "source": [
        "## Užduotys"
      ],
      "metadata": {
        "id": "pLzPLt6-huyK"
      }
    },
    {
      "cell_type": "code",
      "source": [],
      "metadata": {
        "id": "joIRK8Y0hule"
      },
      "execution_count": null,
      "outputs": []
    },
    {
      "cell_type": "markdown",
      "source": [
        "# IV. Žodynai {dictonary: dictonary}"
      ],
      "metadata": {
        "id": "F3TIWlbmhARN"
      }
    },
    {
      "cell_type": "code",
      "source": [],
      "metadata": {
        "id": "d1dDbJGwg_1W"
      },
      "execution_count": null,
      "outputs": []
    },
    {
      "cell_type": "markdown",
      "source": [
        "## Užduotys"
      ],
      "metadata": {
        "id": "gOZzPcH2hwJF"
      }
    },
    {
      "cell_type": "code",
      "source": [],
      "metadata": {
        "id": "3G06HIzsg7lt"
      },
      "execution_count": null,
      "outputs": []
    },
    {
      "cell_type": "code",
      "source": [],
      "metadata": {
        "id": "c-ZkqA3lgwso"
      },
      "execution_count": null,
      "outputs": []
    }
  ]
}