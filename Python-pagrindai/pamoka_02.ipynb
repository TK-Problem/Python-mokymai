{
  "nbformat": 4,
  "nbformat_minor": 0,
  "metadata": {
    "colab": {
      "provenance": [],
      "include_colab_link": true
    },
    "kernelspec": {
      "name": "python3",
      "display_name": "Python 3"
    },
    "language_info": {
      "name": "python"
    }
  },
  "cells": [
    {
      "cell_type": "markdown",
      "metadata": {
        "id": "view-in-github",
        "colab_type": "text"
      },
      "source": [
        "<a href=\"https://colab.research.google.com/github/TK-Problem/Python-mokymai/blob/master/Python-pagrindai/pamoka_02.ipynb\" target=\"_parent\"><img src=\"https://colab.research.google.com/assets/colab-badge.svg\" alt=\"Open In Colab\"/></a>"
      ]
    },
    {
      "cell_type": "markdown",
      "source": [
        "# **Pamoka 2**\n",
        "\n",
        "Šioje pamokoje susipažinsime su neprimityviaisiais kintamaisiais.\n"
      ],
      "metadata": {
        "id": "2H-TCj5rgavO"
      }
    },
    {
      "cell_type": "code",
      "source": [],
      "metadata": {
        "id": "hJmjkhhXgrpd"
      },
      "execution_count": null,
      "outputs": []
    },
    {
      "cell_type": "markdown",
      "source": [
        "## Užduotys"
      ],
      "metadata": {
        "id": "q_yD9cPWhpsl"
      }
    },
    {
      "cell_type": "code",
      "source": [],
      "metadata": {
        "id": "qxUud6jdgrte"
      },
      "execution_count": null,
      "outputs": []
    },
    {
      "cell_type": "markdown",
      "source": [
        "# I. Sąrašai [list]"
      ],
      "metadata": {
        "id": "wFB5WEkogujh"
      }
    },
    {
      "cell_type": "code",
      "source": [
        "# sukurti sąrašą (list)\n",
        "sarasas = [1, 2, 3, 4, 5, 6]\n",
        "print(sarasas, type(sarasas))"
      ],
      "metadata": {
        "id": "hZfe37MFgwqF",
        "outputId": "94830fac-091d-4de2-871a-6a3e40c15451",
        "colab": {
          "base_uri": "https://localhost:8080/"
        }
      },
      "execution_count": 1,
      "outputs": [
        {
          "output_type": "stream",
          "name": "stdout",
          "text": [
            "[1, 2, 3, 4, 5, 6] <class 'list'>\n"
          ]
        }
      ]
    },
    {
      "cell_type": "code",
      "source": [
        "# sukurti kitokį sąrašą (su skirtingo tipo elementais)\n",
        "sarasas = [1, \"2\", 3, '4', 5, True, 7.0]\n",
        "print(sarasas, type(sarasas))"
      ],
      "metadata": {
        "id": "5IJj5GYnzgsQ",
        "outputId": "d7fc7b55-905b-4c23-c4ed-6657eb1380d3",
        "colab": {
          "base_uri": "https://localhost:8080/"
        }
      },
      "execution_count": 2,
      "outputs": [
        {
          "output_type": "stream",
          "name": "stdout",
          "text": [
            "[1, '2', 3, '4', 5, True, 7.0] <class 'list'>\n"
          ]
        }
      ]
    },
    {
      "cell_type": "code",
      "source": [
        "# sukurti sąrašą, kuriame būtų kitas sąrašas, kaip elementas\n",
        "sarasas = [1, \"2\", [3, '4'], 5, True, 7.0]\n",
        "print(sarasas, type(sarasas))"
      ],
      "metadata": {
        "id": "zMhVUcWKzmt4",
        "outputId": "f5bc5f48-0f74-4af7-d992-9cd46609bd1a",
        "colab": {
          "base_uri": "https://localhost:8080/"
        }
      },
      "execution_count": 3,
      "outputs": [
        {
          "output_type": "stream",
          "name": "stdout",
          "text": [
            "[1, '2', [3, '4'], 5, True, 7.0] <class 'list'>\n"
          ]
        }
      ]
    },
    {
      "cell_type": "markdown",
      "source": [
        "### I.a Sąrašo pjaustymas (angl. slicing)"
      ],
      "metadata": {
        "id": "CUVnbZqmzwzW"
      }
    },
    {
      "cell_type": "code",
      "source": [
        "# sukurti sąrašą pjaustymo pavyzdžiams\n",
        "sarasas = [1, 2, 3, 4, 5, 6]\n",
        "sarasas"
      ],
      "metadata": {
        "id": "xxqTV7M_zsWv",
        "outputId": "2c9745b5-ba2b-4009-dada-322e87e5d7c1",
        "colab": {
          "base_uri": "https://localhost:8080/"
        }
      },
      "execution_count": 4,
      "outputs": [
        {
          "output_type": "execute_result",
          "data": {
            "text/plain": [
              "[1, 2, 3, 4, 5, 6]"
            ]
          },
          "metadata": {},
          "execution_count": 4
        }
      ]
    },
    {
      "cell_type": "code",
      "source": [
        "# pirmas elementas\n",
        "sarasas[0]"
      ],
      "metadata": {
        "id": "o1fiIU1Sz4Fn",
        "outputId": "256a6ba7-e2ed-482a-fa2a-ddba30507832",
        "colab": {
          "base_uri": "https://localhost:8080/"
        }
      },
      "execution_count": 5,
      "outputs": [
        {
          "output_type": "execute_result",
          "data": {
            "text/plain": [
              "1"
            ]
          },
          "metadata": {},
          "execution_count": 5
        }
      ]
    },
    {
      "cell_type": "code",
      "source": [
        "# paskutinis elementas\n",
        "sarasas[-1]"
      ],
      "metadata": {
        "id": "6MGKmKPjz7xf",
        "outputId": "c2a6e8a5-5804-4e6c-9234-0b03eb94f53f",
        "colab": {
          "base_uri": "https://localhost:8080/"
        }
      },
      "execution_count": 6,
      "outputs": [
        {
          "output_type": "execute_result",
          "data": {
            "text/plain": [
              "6"
            ]
          },
          "metadata": {},
          "execution_count": 6
        }
      ]
    },
    {
      "cell_type": "code",
      "source": [
        "# trečias elementas\n",
        "sarasas[2]"
      ],
      "metadata": {
        "id": "_hQwX4knz94u",
        "outputId": "d8f2d8f6-d1b5-471b-cb8f-9ae6d8f2586e",
        "colab": {
          "base_uri": "https://localhost:8080/"
        }
      },
      "execution_count": 7,
      "outputs": [
        {
          "output_type": "execute_result",
          "data": {
            "text/plain": [
              "3"
            ]
          },
          "metadata": {},
          "execution_count": 7
        }
      ]
    },
    {
      "cell_type": "code",
      "source": [
        "# kas antras narys skaičiuojant nuo pirmo elemento\n",
        "sarasas[0::2]"
      ],
      "metadata": {
        "id": "-JEbD_n70B5w",
        "outputId": "95e038e9-e0ab-42bc-e4b4-9c05e16b3f27",
        "colab": {
          "base_uri": "https://localhost:8080/"
        }
      },
      "execution_count": 8,
      "outputs": [
        {
          "output_type": "execute_result",
          "data": {
            "text/plain": [
              "[1, 3, 5]"
            ]
          },
          "metadata": {},
          "execution_count": 8
        }
      ]
    },
    {
      "cell_type": "code",
      "source": [
        "# kas antras narys skaičiuojant nuo antro\n",
        "sarasas[1::2]"
      ],
      "metadata": {
        "id": "vzY0X8oI0I7X",
        "outputId": "7f238f42-82e4-4500-91b6-1b2035593575",
        "colab": {
          "base_uri": "https://localhost:8080/"
        }
      },
      "execution_count": 9,
      "outputs": [
        {
          "output_type": "execute_result",
          "data": {
            "text/plain": [
              "[2, 4, 6]"
            ]
          },
          "metadata": {},
          "execution_count": 9
        }
      ]
    },
    {
      "cell_type": "code",
      "source": [
        "# pirmi trys elementai\n",
        "sarasas[:3]"
      ],
      "metadata": {
        "id": "9bYm4e430MKQ",
        "outputId": "03c27a94-ca56-4367-f8a4-e0994d1ddee0",
        "colab": {
          "base_uri": "https://localhost:8080/"
        }
      },
      "execution_count": 10,
      "outputs": [
        {
          "output_type": "execute_result",
          "data": {
            "text/plain": [
              "[1, 2, 3]"
            ]
          },
          "metadata": {},
          "execution_count": 10
        }
      ]
    },
    {
      "cell_type": "markdown",
      "source": [
        "### I.b Pagrindiniai metodai\n",
        "\n",
        "* `.append()` pridėti elementą į list'ą,\n",
        "* `.remove()` išimti elementą iš list'o,\n",
        "* `.pop(x)` grąžinti **x** vietoje esanti elementą,\n",
        "* `.sort()` išrykiuoti list'ą,\n",
        "* `.count()` kiek kartų vertė pasirodė list'e."
      ],
      "metadata": {
        "id": "5zjTptax0P5o"
      }
    },
    {
      "cell_type": "code",
      "source": [
        "# sukurti sąrašą metodų pavyzdžiams\n",
        "sarasas = [7, 5, 1, 3, 4, 5, 6]\n",
        "sarasas"
      ],
      "metadata": {
        "id": "7ZStuukn0Y-v",
        "outputId": "b2e8da8e-fd46-4112-ba9b-121ea7fa84ba",
        "colab": {
          "base_uri": "https://localhost:8080/"
        }
      },
      "execution_count": 11,
      "outputs": [
        {
          "output_type": "execute_result",
          "data": {
            "text/plain": [
              "[7, 5, 1, 3, 4, 5, 6]"
            ]
          },
          "metadata": {},
          "execution_count": 11
        }
      ]
    },
    {
      "cell_type": "code",
      "source": [
        "# pridedame naują elementą\n",
        "sarasas.append(10)\n",
        "# atvaizduoti sąrašą\n",
        "sarasas"
      ],
      "metadata": {
        "id": "-0BciK7O0dKn",
        "outputId": "4f463a40-6371-44d3-b635-f26e942866fc",
        "colab": {
          "base_uri": "https://localhost:8080/"
        }
      },
      "execution_count": 12,
      "outputs": [
        {
          "output_type": "execute_result",
          "data": {
            "text/plain": [
              "[7, 5, 1, 3, 4, 5, 6, 10]"
            ]
          },
          "metadata": {},
          "execution_count": 12
        }
      ]
    },
    {
      "cell_type": "code",
      "source": [
        "# išimti elementą\n",
        "sarasas.remove(10)\n",
        "# naujas sąrašas\n",
        "sarasas"
      ],
      "metadata": {
        "id": "M4_k-grJ1zXI",
        "outputId": "2bf95eba-006c-4e14-82db-f07bd0b70b55",
        "colab": {
          "base_uri": "https://localhost:8080/"
        }
      },
      "execution_count": 13,
      "outputs": [
        {
          "output_type": "execute_result",
          "data": {
            "text/plain": [
              "[7, 5, 1, 3, 4, 5, 6]"
            ]
          },
          "metadata": {},
          "execution_count": 13
        }
      ]
    },
    {
      "cell_type": "code",
      "source": [
        "# išimti elementą (išima tik vieną, patį pirmą nuo kairės)\n",
        "sarasas.remove(5)\n",
        "# naujas sąrašas\n",
        "sarasas"
      ],
      "metadata": {
        "id": "krt47IhX13wv",
        "outputId": "861dd75b-cabf-4968-a09b-9e0b5d0269af",
        "colab": {
          "base_uri": "https://localhost:8080/"
        }
      },
      "execution_count": 14,
      "outputs": [
        {
          "output_type": "execute_result",
          "data": {
            "text/plain": [
              "[7, 1, 3, 4, 5, 6]"
            ]
          },
          "metadata": {},
          "execution_count": 14
        }
      ]
    },
    {
      "cell_type": "code",
      "source": [
        "print(f\"Sąrašas: {sarasas}\")\n",
        "\n",
        "# grąžinti pirmą elementą\n",
        "pirmas_elementas = sarasas.pop(0)\n",
        "\n",
        "print(f'Pirmas elementas {pirmas_elementas}')\n",
        "print(f\"Sąrašas: {sarasas}\")"
      ],
      "metadata": {
        "id": "ZQkwNoRE19Z3",
        "outputId": "8642067c-7490-4dde-9076-e7bc7de05fc1",
        "colab": {
          "base_uri": "https://localhost:8080/"
        }
      },
      "execution_count": 15,
      "outputs": [
        {
          "output_type": "stream",
          "name": "stdout",
          "text": [
            "Sąrašas: [7, 1, 3, 4, 5, 6]\n",
            "Pirmas elementas 7\n",
            "Sąrašas: [1, 3, 4, 5, 6]\n"
          ]
        }
      ]
    },
    {
      "cell_type": "code",
      "source": [
        "print(f\"Sąrašas: {sarasas}\")\n",
        "\n",
        "# grąžinti paskutinį elementą\n",
        "paskutinis_elementas = sarasas.pop(-1)\n",
        "\n",
        "print(f'Paskutinis elementas {paskutinis_elementas}')\n",
        "print(f\"Sąrašas: {sarasas}\")"
      ],
      "metadata": {
        "id": "VwPGU01-2Aqn",
        "outputId": "c5f1d5d4-c475-4390-c601-b1fdd0a2a4c5",
        "colab": {
          "base_uri": "https://localhost:8080/"
        }
      },
      "execution_count": 16,
      "outputs": [
        {
          "output_type": "stream",
          "name": "stdout",
          "text": [
            "Sąrašas: [1, 3, 4, 5, 6]\n",
            "Paskutinis elementas 6\n",
            "Sąrašas: [1, 3, 4, 5]\n"
          ]
        }
      ]
    },
    {
      "cell_type": "code",
      "source": [
        "# išrykiuoti sąrašą\n",
        "sarasas.sort()\n",
        "sarasas"
      ],
      "metadata": {
        "id": "o70nAbXg2EJ_",
        "outputId": "93b3e4f1-baee-4043-9d46-9937e5568132",
        "colab": {
          "base_uri": "https://localhost:8080/"
        }
      },
      "execution_count": 17,
      "outputs": [
        {
          "output_type": "execute_result",
          "data": {
            "text/plain": [
              "[1, 3, 4, 5]"
            ]
          },
          "metadata": {},
          "execution_count": 17
        }
      ]
    },
    {
      "cell_type": "code",
      "source": [
        "# kiek kartų sąraše pasirodė 5-tukas\n",
        "sarasas.count(5)"
      ],
      "metadata": {
        "id": "2fdv5TwZ2GT3",
        "outputId": "40e2728c-1a10-4c14-fc2b-ca60b847f96b",
        "colab": {
          "base_uri": "https://localhost:8080/"
        }
      },
      "execution_count": 18,
      "outputs": [
        {
          "output_type": "execute_result",
          "data": {
            "text/plain": [
              "1"
            ]
          },
          "metadata": {},
          "execution_count": 18
        }
      ]
    },
    {
      "cell_type": "code",
      "source": [
        "# paskaičiuoti sąrašo ilgį\n",
        "len(sarasas)"
      ],
      "metadata": {
        "id": "lnD6TctF2Hfm",
        "outputId": "7af69665-6cb4-43dc-c2dc-59ddab16afd0",
        "colab": {
          "base_uri": "https://localhost:8080/"
        }
      },
      "execution_count": 19,
      "outputs": [
        {
          "output_type": "execute_result",
          "data": {
            "text/plain": [
              "4"
            ]
          },
          "metadata": {},
          "execution_count": 19
        }
      ]
    },
    {
      "cell_type": "code",
      "source": [
        "# sąraše gali būti ir tekstinė (string) informaciją\n",
        "sarasas = [\"Vardas\", 'Pavardė', 'Adresas']\n",
        "sarasas"
      ],
      "metadata": {
        "id": "Q-fuFnXy2MNA",
        "outputId": "482a6a49-a8a1-46b4-ee28-44c7c7cb869a",
        "colab": {
          "base_uri": "https://localhost:8080/"
        }
      },
      "execution_count": 20,
      "outputs": [
        {
          "output_type": "execute_result",
          "data": {
            "text/plain": [
              "['Vardas', 'Pavardė', 'Adresas']"
            ]
          },
          "metadata": {},
          "execution_count": 20
        }
      ]
    },
    {
      "cell_type": "code",
      "source": [
        "# patikrinti ar elementas yra sąraše\n",
        "'Vardas' in [\"Vardas\", 'Pavardė', 'Adresas']"
      ],
      "metadata": {
        "id": "kr52YmpC2Pjv",
        "outputId": "451d11e3-43cd-4aaa-dd0e-77ff4dbe75b1",
        "colab": {
          "base_uri": "https://localhost:8080/"
        }
      },
      "execution_count": 21,
      "outputs": [
        {
          "output_type": "execute_result",
          "data": {
            "text/plain": [
              "True"
            ]
          },
          "metadata": {},
          "execution_count": 21
        }
      ]
    },
    {
      "cell_type": "code",
      "source": [
        "# patikrinti ar elemento nėra sąraše\n",
        "'Vardas' not in [\"Vardas\", 'Pavardė', 'Adresas']"
      ],
      "metadata": {
        "id": "p8qwJ0Qf2QwP",
        "outputId": "d8373cba-c3b3-4a19-db35-638594619fcf",
        "colab": {
          "base_uri": "https://localhost:8080/"
        }
      },
      "execution_count": 22,
      "outputs": [
        {
          "output_type": "execute_result",
          "data": {
            "text/plain": [
              "False"
            ]
          },
          "metadata": {},
          "execution_count": 22
        }
      ]
    },
    {
      "cell_type": "code",
      "source": [
        "# patikrinti ar elementas yra sąraše\n",
        "'Zodis' in [\"Vardas\", 'Pavardė', 'Adresas']"
      ],
      "metadata": {
        "id": "Nzy1X-tG2R-2",
        "outputId": "7c20b9bb-d5cf-424d-9adb-fabaf4bed686",
        "colab": {
          "base_uri": "https://localhost:8080/"
        }
      },
      "execution_count": 23,
      "outputs": [
        {
          "output_type": "execute_result",
          "data": {
            "text/plain": [
              "False"
            ]
          },
          "metadata": {},
          "execution_count": 23
        }
      ]
    },
    {
      "cell_type": "code",
      "source": [
        "# sujungti sąrašus\n",
        "lst_1 = ['a', 'b', 'c']\n",
        "lst_2 = [1, 2, 3]\n",
        "\n",
        "print(f'lst_1 {lst_1}')\n",
        "print(f'lst_2 {lst_2}')\n",
        "\n",
        "lst_sujungtas = lst_1 + lst_2\n",
        "print(lst_sujungtas)"
      ],
      "metadata": {
        "id": "hg51d76m2VWf",
        "outputId": "41db98a6-a93f-4783-8bec-3af63569bc27",
        "colab": {
          "base_uri": "https://localhost:8080/"
        }
      },
      "execution_count": 24,
      "outputs": [
        {
          "output_type": "stream",
          "name": "stdout",
          "text": [
            "lst_1 ['a', 'b', 'c']\n",
            "lst_2 [1, 2, 3]\n",
            "['a', 'b', 'c', 1, 2, 3]\n"
          ]
        }
      ]
    },
    {
      "cell_type": "markdown",
      "source": [
        "## Užduotys"
      ],
      "metadata": {
        "id": "06BAHGGuhrJQ"
      }
    },
    {
      "cell_type": "code",
      "source": [],
      "metadata": {
        "id": "W_XvQypThq8X"
      },
      "execution_count": 24,
      "outputs": []
    },
    {
      "cell_type": "markdown",
      "source": [
        "# II. Kortežai (tuples)"
      ],
      "metadata": {
        "id": "_gZ8dN_7gxOY"
      }
    },
    {
      "cell_type": "code",
      "source": [],
      "metadata": {
        "id": "3HhLrp81g7h8"
      },
      "execution_count": 24,
      "outputs": []
    },
    {
      "cell_type": "markdown",
      "source": [
        "## Užduotys"
      ],
      "metadata": {
        "id": "ldRsKRVZhtnm"
      }
    },
    {
      "cell_type": "code",
      "source": [],
      "metadata": {
        "id": "-1H3miClhtXr"
      },
      "execution_count": 24,
      "outputs": []
    },
    {
      "cell_type": "markdown",
      "source": [
        "# III. Rinkiniai {set}"
      ],
      "metadata": {
        "id": "SRQgNIzdg8Gt"
      }
    },
    {
      "cell_type": "code",
      "source": [],
      "metadata": {
        "id": "JHNQe1TKg_wE"
      },
      "execution_count": 24,
      "outputs": []
    },
    {
      "cell_type": "markdown",
      "source": [
        "## Užduotys"
      ],
      "metadata": {
        "id": "pLzPLt6-huyK"
      }
    },
    {
      "cell_type": "code",
      "source": [],
      "metadata": {
        "id": "joIRK8Y0hule"
      },
      "execution_count": 24,
      "outputs": []
    },
    {
      "cell_type": "markdown",
      "source": [
        "# IV. Žodynai {dictonary: dictonary}"
      ],
      "metadata": {
        "id": "F3TIWlbmhARN"
      }
    },
    {
      "cell_type": "code",
      "source": [],
      "metadata": {
        "id": "d1dDbJGwg_1W"
      },
      "execution_count": 24,
      "outputs": []
    },
    {
      "cell_type": "markdown",
      "source": [
        "## Užduotys"
      ],
      "metadata": {
        "id": "gOZzPcH2hwJF"
      }
    },
    {
      "cell_type": "code",
      "source": [],
      "metadata": {
        "id": "3G06HIzsg7lt"
      },
      "execution_count": 24,
      "outputs": []
    },
    {
      "cell_type": "code",
      "source": [],
      "metadata": {
        "id": "c-ZkqA3lgwso"
      },
      "execution_count": 24,
      "outputs": []
    }
  ]
}