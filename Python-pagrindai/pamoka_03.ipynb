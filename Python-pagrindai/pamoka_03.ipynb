{
  "nbformat": 4,
  "nbformat_minor": 0,
  "metadata": {
    "colab": {
      "provenance": [],
      "include_colab_link": true
    },
    "kernelspec": {
      "name": "python3",
      "display_name": "Python 3"
    },
    "language_info": {
      "name": "python"
    }
  },
  "cells": [
    {
      "cell_type": "markdown",
      "metadata": {
        "id": "view-in-github",
        "colab_type": "text"
      },
      "source": [
        "<a href=\"https://colab.research.google.com/github/TK-Problem/Python-mokymai/blob/master/Python-pagrindai/pamoka_03.ipynb\" target=\"_parent\"><img src=\"https://colab.research.google.com/assets/colab-badge.svg\" alt=\"Open In Colab\"/></a>"
      ]
    },
    {
      "cell_type": "markdown",
      "source": [
        "# **Pamoka 3**\n",
        "\n",
        "Šioje pamokoje susipažinsime su ciklais ir loginėmis operacijosmis.\n",
        "\n",
        "Loginį testą sudaro:\n",
        "\n",
        "* `if` (būtinas),\n",
        "* `elif` (neprivalomas),\n",
        "* `else` (neprivalomas).\n",
        "\n",
        "Yra 2 rūšių ciklai:\n",
        "\n",
        "1. `for in`,\n",
        "2. `while`."
      ],
      "metadata": {
        "id": "qPdBT_GXVBpN"
      }
    },
    {
      "cell_type": "markdown",
      "source": [
        "# I. Loginiai testai"
      ],
      "metadata": {
        "id": "cQhK6XtncI3T"
      }
    },
    {
      "cell_type": "code",
      "execution_count": null,
      "metadata": {
        "id": "MRxe3x-QTQQc"
      },
      "outputs": [],
      "source": [
        "# sukurti kintamąjį loginei sąlygai\n",
        "x = 1\n",
        "\n",
        "# paprasta loginė sąlyga\n",
        "if x > 1:\n",
        "  print(f\"{x} daugiau už vieną.\")\n",
        "# jei mažiau, nieko neatspausdina"
      ]
    },
    {
      "cell_type": "code",
      "source": [
        "# sukurti kintamąjį loginei sąlygai\n",
        "x = 1\n",
        "\n",
        "# paprasta loginė sąlyga su else\n",
        "if x > 1:\n",
        "  print(f\"{x} daugiau už vieną.\")\n",
        "else:\n",
        "  print(f\"{x} mažiau arba lygu už vieną.\")"
      ],
      "metadata": {
        "colab": {
          "base_uri": "https://localhost:8080/"
        },
        "id": "rnuacpoAc-h0",
        "outputId": "7630536a-bedd-42f9-f7f4-7923bcb09a03"
      },
      "execution_count": null,
      "outputs": [
        {
          "output_type": "stream",
          "name": "stdout",
          "text": [
            "1 mažiau arba lygu už vieną.\n"
          ]
        }
      ]
    },
    {
      "cell_type": "code",
      "source": [
        "# sukurti kintamąjį loginei sąlygai\n",
        "x = 1\n",
        "\n",
        "# paprasta loginė sąlyga su elif ir else\n",
        "if x > 1:\n",
        "  print(f\"{x} daugiau už vieną.\")\n",
        "elif x == 1:\n",
        "  print(f\"{x} lygu vienam.\")\n",
        "else:\n",
        "  print(f\"{x} mažiau už vieną.\")"
      ],
      "metadata": {
        "colab": {
          "base_uri": "https://localhost:8080/"
        },
        "id": "NVKbLo_zdFY1",
        "outputId": "19755554-7233-4857-93ee-3dcc713a2d39"
      },
      "execution_count": null,
      "outputs": [
        {
          "output_type": "stream",
          "name": "stdout",
          "text": [
            "1 lygu vienam.\n"
          ]
        }
      ]
    },
    {
      "cell_type": "code",
      "source": [
        "# tik su google colab, galimybė rašyti savo kinamąjį\n",
        "x = \"-2\" #@param {type:\"string\"}\n",
        "\n",
        "# paversti į integer\n",
        "x = int(x)\n",
        "\n",
        "# paprasta loginė sąlyga su else\n",
        "if x > 1:\n",
        "  print(f\"{x} daugiau už vieną.\")\n",
        "elif x == 1:\n",
        "  print(f\"{x} lygu vienam.\")\n",
        "else:\n",
        "  print(f\"{x} mažiau už vieną.\")"
      ],
      "metadata": {
        "colab": {
          "base_uri": "https://localhost:8080/"
        },
        "id": "TRh0cLbWdKTc",
        "outputId": "c116326d-f492-43c6-8bc9-b668c9870f95"
      },
      "execution_count": null,
      "outputs": [
        {
          "output_type": "stream",
          "name": "stdout",
          "text": [
            "-2 mažiau už vieną.\n"
          ]
        }
      ]
    },
    {
      "cell_type": "code",
      "source": [
        "# patikrinti ar elementas sąraše\n",
        "e = \"Tomas\"\n",
        "\n",
        "if e in [\"Jonas\", \"Petras\"]:\n",
        "  print(f\"{e} rastas sąraše.\")\n",
        "else:\n",
        "  print(f\"{e} nerastas sąraše.\")"
      ],
      "metadata": {
        "colab": {
          "base_uri": "https://localhost:8080/"
        },
        "id": "65Ae7px6pgy3",
        "outputId": "207ab931-fda9-4256-9a1c-2a55abdd3210"
      },
      "execution_count": null,
      "outputs": [
        {
          "output_type": "stream",
          "name": "stdout",
          "text": [
            "Tomas nerastas sąraše.\n"
          ]
        }
      ]
    },
    {
      "cell_type": "code",
      "source": [
        "# galima sąlygas dėti po sąlygomis\n",
        "x = 41\n",
        "\n",
        "if x > 10:\n",
        "  print(\"Daugiau už 10,\")\n",
        "  if x > 20:\n",
        "    print(\"taip pat daugiau už 20!\")\n",
        "  else:\n",
        "    print(\"bet mažiau už 20.\") "
      ],
      "metadata": {
        "colab": {
          "base_uri": "https://localhost:8080/"
        },
        "id": "OabVkMWypy-k",
        "outputId": "3204cf2d-04d5-463c-c6fa-dc2e6aa62f64"
      },
      "execution_count": null,
      "outputs": [
        {
          "output_type": "stream",
          "name": "stdout",
          "text": [
            "Daugiau už 10,\n",
            "taip pat daugiau už 20!\n"
          ]
        }
      ]
    },
    {
      "cell_type": "markdown",
      "source": [
        "## Užduotys"
      ],
      "metadata": {
        "id": "lumTQ07fia8S"
      }
    },
    {
      "cell_type": "markdown",
      "source": [
        "## Užduotis 1.1\n",
        "\n",
        "Sukurti loginį testą, kuris atspausdintų atsakymą:\n",
        "\n",
        "* `žaidėjas 1 rastas sąraše`\n",
        "* `žaidėjas 2 nerastas sąraše`"
      ],
      "metadata": {
        "id": "ABtlaUzNifAy"
      }
    },
    {
      "cell_type": "code",
      "source": [
        "# sąrašas žaidėjų, nekeisti\n",
        "zaidejai = [\"žaidėjas 1\", \"žaidėjas 3\", \"žaidėjas 5\", \"žaidėjas 1\"]\n",
        "\n",
        "# vieta Jūsų kodui"
      ],
      "metadata": {
        "id": "mkLUa8Q3gsBL"
      },
      "execution_count": null,
      "outputs": []
    },
    {
      "cell_type": "markdown",
      "source": [
        "## Užduotis 1.2\n",
        "\n",
        "Pridėti logines sąlygas, kurios leistų atsakyti atsakytų gavusios:\n",
        "\n",
        "`a = 1`, tuomet atspausdins:\n",
        "\n",
        "* `Daugiau už -5`\n",
        "* `Bet mažiau už 10`\n",
        "\n",
        "`a = 15`, tuomet atspausdins:\n",
        "\n",
        "* `Daugiau už -5`\n",
        "* `Ir daugiau už 10`\n",
        "\n",
        "`a = 10`, tuomet atspausdins:\n",
        "\n",
        "* `Daugiau už -5`\n",
        "* `Ir lygu 10`\n",
        "\n",
        "`a = -2`, tuomet atspausdins:\n",
        "\n",
        "* `Mažiau arba lygu už -5 ir daugiau arba lygu už -20`\n",
        "\n",
        "`a = -25`, tuomet atspausdins:\n",
        "\n",
        "* `Mažiau arba lygu -20`"
      ],
      "metadata": {
        "id": "h98MRZQ-mXoK"
      }
    },
    {
      "cell_type": "code",
      "source": [
        "# galima pakeisti kintamojo vertę\n",
        "a = 1\n",
        "\n",
        "# tarp print funcijų pridėti if else sąlygas\n",
        "print(\"Daugiau už -5\")\n",
        "print(\"Bet mažiau už 10\")\n",
        "print(\"Ir daugiau už 10\")\n",
        "print(\"Ir lygu 10\")\n",
        "print(\"Mažiau arba lygu už -5 ir daugiau arba lygu už -20\")\n",
        "print(\"Mažiau arba lygu -20\")"
      ],
      "metadata": {
        "colab": {
          "base_uri": "https://localhost:8080/"
        },
        "id": "b8sR_bk5c6B9",
        "outputId": "913cf343-3d68-4351-eb92-fe1e12e03015"
      },
      "execution_count": null,
      "outputs": [
        {
          "output_type": "stream",
          "name": "stdout",
          "text": [
            "Daugiau už -5\n",
            "Bet mažiau už 10\n",
            "Ir daugiau už 10\n",
            "Ir lygu 10\n",
            "Mažiau arba lygu už -5 ir daugiau arba lygu už -20\n",
            "Mažiau arba lygu -20\n"
          ]
        }
      ]
    },
    {
      "cell_type": "markdown",
      "source": [
        "# II. `for in` ciklas\n",
        "\n",
        "![alt text](https://www.edureka.co/blog/wp-content/uploads/2020/01/Blank-Diagram-10.png \"Title\")\n",
        "\n"
      ],
      "metadata": {
        "id": "z-qES5imcL-R"
      }
    },
    {
      "cell_type": "code",
      "source": [
        "# sukurti sąrašą\n",
        "vardai = [\"Tomas\", \"Jonas\", \"Petras\"]\n",
        "\n",
        "# iteruoti per sąrašą\n",
        "for vardas in vardai:\n",
        "  print(vardas)"
      ],
      "metadata": {
        "colab": {
          "base_uri": "https://localhost:8080/"
        },
        "id": "Pu1zpc7ucPj8",
        "outputId": "b35332c4-896e-48b0-acd3-4232ffb0b5ab"
      },
      "execution_count": null,
      "outputs": [
        {
          "output_type": "stream",
          "name": "stdout",
          "text": [
            "Tomas\n",
            "Jonas\n",
            "Petras\n"
          ]
        }
      ]
    },
    {
      "cell_type": "code",
      "source": [
        "# sukurti sąrašą\n",
        "lst = [\"vienas\", \"du\", 3, True, (1, 2)]\n",
        "\n",
        "# pasirenki laikiną kintamąjį išpakuoti elementams\n",
        "for elementas in lst:\n",
        "  print(elementas)"
      ],
      "metadata": {
        "colab": {
          "base_uri": "https://localhost:8080/"
        },
        "id": "4TTUL1UNzLr1",
        "outputId": "64db1ffc-3399-4627-c50b-f1c8419a1f1f"
      },
      "execution_count": null,
      "outputs": [
        {
          "output_type": "stream",
          "name": "stdout",
          "text": [
            "vienas\n",
            "du\n",
            "3\n",
            "True\n",
            "(1, 2)\n"
          ]
        }
      ]
    },
    {
      "cell_type": "code",
      "source": [
        "# sukurti string\n",
        "zodis = \"Jonaitis\"\n",
        "\n",
        "# iteruoti per string\n",
        "for raide in zodis:\n",
        "  print(raide)"
      ],
      "metadata": {
        "colab": {
          "base_uri": "https://localhost:8080/"
        },
        "id": "st21qxI3zUVj",
        "outputId": "c2963bbb-691f-467d-c980-9f68244dd31d"
      },
      "execution_count": null,
      "outputs": [
        {
          "output_type": "stream",
          "name": "stdout",
          "text": [
            "J\n",
            "o\n",
            "n\n",
            "a\n",
            "i\n",
            "t\n",
            "i\n",
            "s\n"
          ]
        }
      ]
    },
    {
      "cell_type": "code",
      "source": [
        "# sukurti sąrašą\n",
        "vardai = [\"Tomas\", \"Jonas\", \"Petras\"]\n",
        "\n",
        "# iteruoti per sąrašą\n",
        "for vardas in vardai:\n",
        "  # loginis testas\n",
        "  if vardas[0] == 'J':\n",
        "    print(f'Vardo {vardas} pirma raidė J.')\n",
        "  else:\n",
        "    print(f\"Vardo {vardas} pirma raidė ne J.\")"
      ],
      "metadata": {
        "colab": {
          "base_uri": "https://localhost:8080/"
        },
        "id": "irvhb3dPzQnD",
        "outputId": "c18abe14-399f-4585-ea14-00379bc210b3"
      },
      "execution_count": null,
      "outputs": [
        {
          "output_type": "stream",
          "name": "stdout",
          "text": [
            "Vardo Tomas pirma raidė ne J.\n",
            "Vardo Jonas pirma raidė J.\n",
            "Vardo Petras pirma raidė ne J.\n"
          ]
        }
      ]
    },
    {
      "cell_type": "code",
      "source": [
        "# sukurti sąrašą\n",
        "skaiciai = [1, 2, 3, 4, 5, 6]\n",
        "\n",
        "# iteruoti per sąrašą\n",
        "for skaicius in skaiciai:\n",
        "  # logine seka\n",
        "  if skaicius % 2 == 0:\n",
        "    print(f'{skaicius} dalinasi iš 2')"
      ],
      "metadata": {
        "colab": {
          "base_uri": "https://localhost:8080/"
        },
        "id": "sjAgsrq804np",
        "outputId": "100cf221-142a-4892-a815-566b153123bd"
      },
      "execution_count": null,
      "outputs": [
        {
          "output_type": "stream",
          "name": "stdout",
          "text": [
            "2 dalinasi iš 2\n",
            "4 dalinasi iš 2\n",
            "6 dalinasi iš 2\n"
          ]
        }
      ]
    },
    {
      "cell_type": "code",
      "source": [
        "# sukurti sąrašą\n",
        "vardai = [\"Jonė\", \"Jonas\", \"Juozas\", 'Tomas', 'Petras']\n",
        "pirma_raide = 'J'\n",
        "\n",
        "# logine sąlyga\n",
        "# dėl .isalpha() žiūrėti dokumentaciją\n",
        "# https://docs.python.org/3/library/stdtypes.html\n",
        "if pirma_raide.isalpha() and len(pirma_raide) == 1:\n",
        "  print(f'Grąžinti vardus, kurie prasideda iš {pirma_raide} raidės.')\n",
        "  # iteruoti per sąrašą\n",
        "  for vardas in vardai:\n",
        "    if vardas[0] == pirma_raide:\n",
        "      print(f'{vardas}')      \n",
        "else:\n",
        "    print('Neteisinga užklausa')"
      ],
      "metadata": {
        "colab": {
          "base_uri": "https://localhost:8080/"
        },
        "id": "XPjlrgML2eOK",
        "outputId": "0a4bf77b-bef5-4b2f-ac84-580d06d0b75e"
      },
      "execution_count": null,
      "outputs": [
        {
          "output_type": "stream",
          "name": "stdout",
          "text": [
            "Grąžinti vardus, kurie prasideda iš J raidės.\n",
            "Jonė\n",
            "Jonas\n",
            "Juozas\n"
          ]
        }
      ]
    },
    {
      "cell_type": "code",
      "source": [
        "# sukurti sąrašą\n",
        "lst = [0, 1, 2, 3, 4, 5]\n",
        "\n",
        "# pereiti per sąrašą\n",
        "for e in lst:\n",
        "  print(e)"
      ],
      "metadata": {
        "colab": {
          "base_uri": "https://localhost:8080/"
        },
        "id": "vqUahK3tzKry",
        "outputId": "1cda67df-6aaf-4c78-93a7-f9cdd5c20b4c"
      },
      "execution_count": null,
      "outputs": [
        {
          "output_type": "stream",
          "name": "stdout",
          "text": [
            "0\n",
            "1\n",
            "2\n",
            "3\n",
            "4\n",
            "5\n"
          ]
        }
      ]
    },
    {
      "cell_type": "markdown",
      "source": [
        "## `range` metodas"
      ],
      "metadata": {
        "id": "6X0eY3rG5mmy"
      }
    },
    {
      "cell_type": "code",
      "source": [
        "# eiti per range() generatorių\n",
        "for e in range(6):\n",
        "  print(e)"
      ],
      "metadata": {
        "colab": {
          "base_uri": "https://localhost:8080/"
        },
        "id": "KpRQXBTv2vPp",
        "outputId": "3e2d8767-a8b1-4987-8dc9-697ec761ae28"
      },
      "execution_count": null,
      "outputs": [
        {
          "output_type": "stream",
          "name": "stdout",
          "text": [
            "0\n",
            "1\n",
            "2\n",
            "3\n",
            "4\n",
            "5\n"
          ]
        }
      ]
    },
    {
      "cell_type": "code",
      "source": [
        "# sukurti sąrašą\n",
        "lst = [0, 1, 2, 3, 4, 5]\n",
        "\n",
        "# supjaustyti atsakymą\n",
        "print(lst[2:6])\n",
        "\n",
        "# eiti per range() generatorių\n",
        "for e in range(2, 6):\n",
        "  print(e)"
      ],
      "metadata": {
        "colab": {
          "base_uri": "https://localhost:8080/"
        },
        "id": "iFd9t28v2_bA",
        "outputId": "e056578a-995d-4a19-ed93-249e4f6d1415"
      },
      "execution_count": null,
      "outputs": [
        {
          "output_type": "stream",
          "name": "stdout",
          "text": [
            "[2, 3, 4, 5]\n",
            "2\n",
            "3\n",
            "4\n",
            "5\n"
          ]
        }
      ]
    },
    {
      "cell_type": "markdown",
      "source": [
        "## `continue` ir `break`"
      ],
      "metadata": {
        "id": "bLCvCyKD5rD5"
      }
    },
    {
      "cell_type": "code",
      "source": [
        "# rasti skaičius, kurie dalinasi iš 3\n",
        "for x in range(2, 10):\n",
        "  if x % 3 == 0:\n",
        "    print(f'{x} dalinasi iš 3')"
      ],
      "metadata": {
        "colab": {
          "base_uri": "https://localhost:8080/"
        },
        "id": "uR8u8LjK3Qho",
        "outputId": "5752d853-3774-4b5d-c2d9-45b6f1f17e0d"
      },
      "execution_count": null,
      "outputs": [
        {
          "output_type": "stream",
          "name": "stdout",
          "text": [
            "3 dalinasi iš 3\n",
            "6 dalinasi iš 3\n",
            "9 dalinasi iš 3\n"
          ]
        }
      ]
    },
    {
      "cell_type": "code",
      "source": [
        "for x in range(2, 10):\n",
        "  if x % 3 == 0:\n",
        "    print(f'{x} dalinasi iš 3, nutraukti ciklą')\n",
        "    break"
      ],
      "metadata": {
        "colab": {
          "base_uri": "https://localhost:8080/"
        },
        "id": "nryKZ1SG3Vd3",
        "outputId": "5ec155ed-9dee-424d-9c80-22c5823003d4"
      },
      "execution_count": null,
      "outputs": [
        {
          "output_type": "stream",
          "name": "stdout",
          "text": [
            "3 dalinasi iš 3, nutraukti ciklą\n"
          ]
        }
      ]
    },
    {
      "cell_type": "code",
      "source": [
        "# continue ir break kartu\n",
        "for x in range(2, 10):\n",
        "  if x % 3 == 0:\n",
        "    print(f'{x} dalinasi iš 3, tęsti ciklą')\n",
        "    continue\n",
        "        \n",
        "  if x % 6 == 0:\n",
        "    print(f'{x} dalinasi iš 3, nutraukti ciklą')\n",
        "    break"
      ],
      "metadata": {
        "colab": {
          "base_uri": "https://localhost:8080/"
        },
        "id": "IqD5LyG-3atb",
        "outputId": "db957c4a-4510-4437-fbeb-14ce1921bd35"
      },
      "execution_count": null,
      "outputs": [
        {
          "output_type": "stream",
          "name": "stdout",
          "text": [
            "3 dalinasi iš 3, tęsti ciklą\n",
            "6 dalinasi iš 3, tęsti ciklą\n",
            "9 dalinasi iš 3, tęsti ciklą\n"
          ]
        }
      ]
    },
    {
      "cell_type": "code",
      "source": [
        "# trys list pavyzdžiai\n",
        "dienos = ['Pirmadienis', 'Antradienis', 'Trečiadienis']\n",
        "laikai = ['Rytas', \"Pietūs\", 'Vakarienė']\n",
        "vardai = ['Tomas', 'Jonas', 'Petras']\n",
        "\n",
        "# pereiti per visus elementus\n",
        "for diena in dienos:\n",
        "    for laikas in laikai:\n",
        "        for vardas in vardai:\n",
        "            print([diena, laikas, vardas, 'Turi atlikti užduotį: '])"
      ],
      "metadata": {
        "colab": {
          "base_uri": "https://localhost:8080/"
        },
        "id": "Pr4HmDqU54rl",
        "outputId": "bcbdf23f-3ac1-4acb-b215-7b3d1237c67d"
      },
      "execution_count": null,
      "outputs": [
        {
          "output_type": "stream",
          "name": "stdout",
          "text": [
            "['Pirmadienis', 'Rytas', 'Tomas', 'Turi atlikti užduotį: ']\n",
            "['Pirmadienis', 'Rytas', 'Jonas', 'Turi atlikti užduotį: ']\n",
            "['Pirmadienis', 'Rytas', 'Petras', 'Turi atlikti užduotį: ']\n",
            "['Pirmadienis', 'Pietūs', 'Tomas', 'Turi atlikti užduotį: ']\n",
            "['Pirmadienis', 'Pietūs', 'Jonas', 'Turi atlikti užduotį: ']\n",
            "['Pirmadienis', 'Pietūs', 'Petras', 'Turi atlikti užduotį: ']\n",
            "['Pirmadienis', 'Vakarienė', 'Tomas', 'Turi atlikti užduotį: ']\n",
            "['Pirmadienis', 'Vakarienė', 'Jonas', 'Turi atlikti užduotį: ']\n",
            "['Pirmadienis', 'Vakarienė', 'Petras', 'Turi atlikti užduotį: ']\n",
            "['Antradienis', 'Rytas', 'Tomas', 'Turi atlikti užduotį: ']\n",
            "['Antradienis', 'Rytas', 'Jonas', 'Turi atlikti užduotį: ']\n",
            "['Antradienis', 'Rytas', 'Petras', 'Turi atlikti užduotį: ']\n",
            "['Antradienis', 'Pietūs', 'Tomas', 'Turi atlikti užduotį: ']\n",
            "['Antradienis', 'Pietūs', 'Jonas', 'Turi atlikti užduotį: ']\n",
            "['Antradienis', 'Pietūs', 'Petras', 'Turi atlikti užduotį: ']\n",
            "['Antradienis', 'Vakarienė', 'Tomas', 'Turi atlikti užduotį: ']\n",
            "['Antradienis', 'Vakarienė', 'Jonas', 'Turi atlikti užduotį: ']\n",
            "['Antradienis', 'Vakarienė', 'Petras', 'Turi atlikti užduotį: ']\n",
            "['Trečiadienis', 'Rytas', 'Tomas', 'Turi atlikti užduotį: ']\n",
            "['Trečiadienis', 'Rytas', 'Jonas', 'Turi atlikti užduotį: ']\n",
            "['Trečiadienis', 'Rytas', 'Petras', 'Turi atlikti užduotį: ']\n",
            "['Trečiadienis', 'Pietūs', 'Tomas', 'Turi atlikti užduotį: ']\n",
            "['Trečiadienis', 'Pietūs', 'Jonas', 'Turi atlikti užduotį: ']\n",
            "['Trečiadienis', 'Pietūs', 'Petras', 'Turi atlikti užduotį: ']\n",
            "['Trečiadienis', 'Vakarienė', 'Tomas', 'Turi atlikti užduotį: ']\n",
            "['Trečiadienis', 'Vakarienė', 'Jonas', 'Turi atlikti užduotį: ']\n",
            "['Trečiadienis', 'Vakarienė', 'Petras', 'Turi atlikti užduotį: ']\n"
          ]
        }
      ]
    },
    {
      "cell_type": "code",
      "source": [
        "# sukurti naują tuščią sąrašą\n",
        "lst = []\n",
        "\n",
        "# iteruoti per skaičius\n",
        "for i in [1, 2, 3, 4]:\n",
        "  lst.append(i)\n",
        "\n",
        "# atspausdinti atsakymą\n",
        "print(lst)"
      ],
      "metadata": {
        "colab": {
          "base_uri": "https://localhost:8080/"
        },
        "id": "lf06uirU8zVd",
        "outputId": "1d561c81-77aa-4a4b-dc9a-793daf279702"
      },
      "execution_count": null,
      "outputs": [
        {
          "output_type": "stream",
          "name": "stdout",
          "text": [
            "[1, 2, 3, 4]\n"
          ]
        }
      ]
    },
    {
      "cell_type": "code",
      "source": [
        "# sukurti naują tuščią sąrašą\n",
        "lst = []\n",
        "\n",
        "# iteruoti per skaičius\n",
        "for i in [1, 2, 3, 4]:\n",
        "  # pridėti loginę sąlygą\n",
        "  if i % 2 == 0:\n",
        "    lst.append(i)\n",
        "    \n",
        "# atspausdinti atsakymą\n",
        "print(lst)"
      ],
      "metadata": {
        "colab": {
          "base_uri": "https://localhost:8080/"
        },
        "id": "M1ONGrkW89ND",
        "outputId": "338a0827-f720-4bc2-b53c-50cf6874a66d"
      },
      "execution_count": null,
      "outputs": [
        {
          "output_type": "stream",
          "name": "stdout",
          "text": [
            "[2, 4]\n"
          ]
        }
      ]
    },
    {
      "cell_type": "markdown",
      "source": [
        "## Užduotys"
      ],
      "metadata": {
        "id": "CnEc8MLH5z0y"
      }
    },
    {
      "cell_type": "markdown",
      "source": [
        "### Užduotis 2.1\n",
        "\n",
        "Sukurkite naują sąrašą (`list`), kuriame būtų visos Jūsų vardo raidės."
      ],
      "metadata": {
        "id": "b_BoDFU_8fbW"
      }
    },
    {
      "cell_type": "code",
      "source": [
        "# atsakymo pvz.\n",
        "print('Atsakymo pvz. lst = [\"T\", \"o\", \"m\", \"a\", \"s\"]')\n",
        "\n",
        "# vieta Jūsų kodui"
      ],
      "metadata": {
        "colab": {
          "base_uri": "https://localhost:8080/"
        },
        "id": "JjkvRa6850It",
        "outputId": "3205923a-59f9-4af4-9e07-8ed5a208f138"
      },
      "execution_count": null,
      "outputs": [
        {
          "output_type": "stream",
          "name": "stdout",
          "text": [
            "Atsakymo pvz. lst = [\"T\", \"o\", \"m\", \"a\", \"s\"]\n"
          ]
        }
      ]
    },
    {
      "cell_type": "markdown",
      "source": [
        "### Užduotis 2.2\n",
        "\n",
        "**(sunkesnė)** Sugeneruoti sąrašą `[\"žaidėjas 1\", \"žaidėjas 2\", \"žaidėjas 3\", ..., \"žaidėjas 12\"]`"
      ],
      "metadata": {
        "id": "cfrCgIgh8gzg"
      }
    },
    {
      "cell_type": "code",
      "source": [
        "# pradėti nuo tusčio sąrašo\n",
        "ans = []\n",
        "\n",
        "# vieta Jūsų kodui\n"
      ],
      "metadata": {
        "id": "F0GXgcQp51c-"
      },
      "execution_count": null,
      "outputs": []
    },
    {
      "cell_type": "markdown",
      "source": [
        "# III. `while` ciklas\n",
        "\n",
        "![alt text](https://www.tutorialspoint.com/python/images/loop_architecture.jpg \"Title\")"
      ],
      "metadata": {
        "id": "h--Vq5kXcQL4"
      }
    },
    {
      "cell_type": "code",
      "source": [
        "i = 1\n",
        "while i < 3:\n",
        "    print(i)\n",
        "    # tas pats, kas i = i + 1\n",
        "    i += 1"
      ],
      "metadata": {
        "colab": {
          "base_uri": "https://localhost:8080/"
        },
        "id": "5tBa_Z8UcS2d",
        "outputId": "2420419f-e35f-4ee6-c19d-aa1efd900faa"
      },
      "execution_count": null,
      "outputs": [
        {
          "output_type": "stream",
          "name": "stdout",
          "text": [
            "1\n",
            "2\n"
          ]
        }
      ]
    },
    {
      "cell_type": "code",
      "source": [
        "i = 1\n",
        "while i <= 3:\n",
        "    print(i)\n",
        "    # tas pats, kas i = i + 1\n",
        "    i += 1"
      ],
      "metadata": {
        "colab": {
          "base_uri": "https://localhost:8080/"
        },
        "id": "LMAFzLEw3VZ0",
        "outputId": "96e32f84-456f-41f0-89fe-6379e1409c99"
      },
      "execution_count": null,
      "outputs": [
        {
          "output_type": "stream",
          "name": "stdout",
          "text": [
            "1\n",
            "2\n",
            "3\n"
          ]
        }
      ]
    },
    {
      "cell_type": "code",
      "source": [
        "%%time\n",
        "i = 1\n",
        "while i < 100000000:\n",
        "    i += 1 "
      ],
      "metadata": {
        "colab": {
          "base_uri": "https://localhost:8080/"
        },
        "id": "rKBtp0Oi3XLy",
        "outputId": "51897232-7ea4-42e5-e860-533f03996542"
      },
      "execution_count": null,
      "outputs": [
        {
          "output_type": "stream",
          "name": "stdout",
          "text": [
            "CPU times: user 11.8 s, sys: 31.6 ms, total: 11.8 s\n",
            "Wall time: 12.3 s\n"
          ]
        }
      ]
    },
    {
      "cell_type": "code",
      "source": [
        "%%time\n",
        "i = 1\n",
        "while i < 100000000:\n",
        "    print(i)\n",
        "    if i == 5:\n",
        "        print('nutrauk ciklą')\n",
        "        break\n",
        "    i += 1 "
      ],
      "metadata": {
        "colab": {
          "base_uri": "https://localhost:8080/"
        },
        "id": "u2JaDDLU3YxR",
        "outputId": "addaafef-c8f1-4d46-fab6-271b6531285e"
      },
      "execution_count": null,
      "outputs": [
        {
          "output_type": "stream",
          "name": "stdout",
          "text": [
            "1\n",
            "2\n",
            "3\n",
            "4\n",
            "5\n",
            "nutrauk ciklą\n",
            "CPU times: user 291 µs, sys: 6 µs, total: 297 µs\n",
            "Wall time: 192 µs\n"
          ]
        }
      ]
    },
    {
      "cell_type": "code",
      "source": [
        "i = 0\n",
        "while i < 10:\n",
        "    i += 1\n",
        "    if i%3 == 0:\n",
        "        print('viskas gerai, tęsk')\n",
        "        continue\n",
        "    print(i)"
      ],
      "metadata": {
        "colab": {
          "base_uri": "https://localhost:8080/"
        },
        "id": "SODOHQhS3aLt",
        "outputId": "8f289838-0c55-49f4-ea08-946ca2f07926"
      },
      "execution_count": null,
      "outputs": [
        {
          "output_type": "stream",
          "name": "stdout",
          "text": [
            "1\n",
            "2\n",
            "viskas gerai, tęsk\n",
            "4\n",
            "5\n",
            "viskas gerai, tęsk\n",
            "7\n",
            "8\n",
            "viskas gerai, tęsk\n",
            "10\n"
          ]
        }
      ]
    },
    {
      "cell_type": "code",
      "source": [],
      "metadata": {
        "id": "b_nVOBRp3bel"
      },
      "execution_count": null,
      "outputs": []
    }
  ]
}