{
  "nbformat": 4,
  "nbformat_minor": 0,
  "metadata": {
    "colab": {
      "provenance": [],
      "authorship_tag": "ABX9TyOpOruzySBsc40JfnLJfrGK",
      "include_colab_link": true
    },
    "kernelspec": {
      "name": "python3",
      "display_name": "Python 3"
    },
    "language_info": {
      "name": "python"
    }
  },
  "cells": [
    {
      "cell_type": "markdown",
      "metadata": {
        "id": "view-in-github",
        "colab_type": "text"
      },
      "source": [
        "<a href=\"https://colab.research.google.com/github/TK-Problem/Python-mokymai/blob/master/Python-pagrindai/pamoka_03.ipynb\" target=\"_parent\"><img src=\"https://colab.research.google.com/assets/colab-badge.svg\" alt=\"Open In Colab\"/></a>"
      ]
    },
    {
      "cell_type": "markdown",
      "source": [
        "# **Pamoka 3**\n",
        "\n",
        "Šioje pamokoje susipažinsime su ciklais ir loginėmis operacijosmis.\n",
        "\n",
        "Loginį testą sudaro:\n",
        "\n",
        "* `if` (būtinas),\n",
        "* `elif` (neprivalomas),\n",
        "* `else` (neprivalomas).\n",
        "\n",
        "Yra 2 rūšių ciklai:\n",
        "\n",
        "1. `for in`,\n",
        "2. `while`."
      ],
      "metadata": {
        "id": "qPdBT_GXVBpN"
      }
    },
    {
      "cell_type": "markdown",
      "source": [
        "# I. Loginiai testai"
      ],
      "metadata": {
        "id": "cQhK6XtncI3T"
      }
    },
    {
      "cell_type": "code",
      "execution_count": null,
      "metadata": {
        "id": "MRxe3x-QTQQc"
      },
      "outputs": [],
      "source": [
        "# sukurti kintamąjį loginiai sąlygai\n",
        "x = 1\n",
        "\n",
        "# paprasta loginė sąlyga\n",
        "if x > 1:\n",
        "  print(f\"{x} daugiau už vieną.\")\n",
        "# jei mažiau, nieko neatspausdina"
      ]
    },
    {
      "cell_type": "code",
      "source": [
        "# sukurti kintamąjį loginiai sąlygai\n",
        "x = 1\n",
        "\n",
        "# paprasta loginė sąlyga su else\n",
        "if x > 1:\n",
        "  print(f\"{x} daugiau už vieną.\")\n",
        "else:\n",
        "  print(f\"{x} mažiau arba lygu už vieną.\")"
      ],
      "metadata": {
        "colab": {
          "base_uri": "https://localhost:8080/"
        },
        "id": "rnuacpoAc-h0",
        "outputId": "a2ddc4c0-dcb2-4200-a445-83129a970c64"
      },
      "execution_count": null,
      "outputs": [
        {
          "output_type": "stream",
          "name": "stdout",
          "text": [
            "1 mažiau arba lygu už vieną.\n"
          ]
        }
      ]
    },
    {
      "cell_type": "code",
      "source": [
        "# sukurti kintamąjį loginiai sąlygai\n",
        "x = 1\n",
        "\n",
        "# paprasta loginė sąlyga su elif ir else\n",
        "if x > 1:\n",
        "  print(f\"{x} daugiau už vieną.\")\n",
        "elif x == 1:\n",
        "  print(f\"{x} lygu vienam.\")\n",
        "else:\n",
        "  print(f\"{x} mažiau už vieną.\")"
      ],
      "metadata": {
        "colab": {
          "base_uri": "https://localhost:8080/"
        },
        "id": "NVKbLo_zdFY1",
        "outputId": "2c33bd9f-1913-4337-dc6c-cf80bb7e292d"
      },
      "execution_count": null,
      "outputs": [
        {
          "output_type": "stream",
          "name": "stdout",
          "text": [
            "1 lygu vienam.\n"
          ]
        }
      ]
    },
    {
      "cell_type": "code",
      "source": [
        "# tik su google colab, galimybė rašyti savo kinamąjį\n",
        "x = \"-2\" #@param {type:\"string\"}\n",
        "\n",
        "# paversti į integer\n",
        "x = int(x)\n",
        "\n",
        "# paprasta loginė sąlyga su else\n",
        "if x > 1:\n",
        "  print(f\"{x} daugiau už vieną.\")\n",
        "elif x == 1:\n",
        "  print(f\"{x} lygu vienam.\")\n",
        "else:\n",
        "  print(f\"{x} mažiau už vieną.\")"
      ],
      "metadata": {
        "colab": {
          "base_uri": "https://localhost:8080/"
        },
        "id": "TRh0cLbWdKTc",
        "outputId": "548382cf-6900-4d88-a26d-e7bd39e5d465"
      },
      "execution_count": null,
      "outputs": [
        {
          "output_type": "stream",
          "name": "stdout",
          "text": [
            "-2 mažiau už vieną.\n"
          ]
        }
      ]
    },
    {
      "cell_type": "code",
      "source": [
        "# patikrinti ar elementas sąraše\n",
        "e = \"Tomas\"\n",
        "\n",
        "if e in [\"Jonas\", \"Petras\"]:\n",
        "  print(f\"{e} rastas sąraše.\")\n",
        "else:\n",
        "  print(f\"{e} nerastas sąraše.\")"
      ],
      "metadata": {
        "colab": {
          "base_uri": "https://localhost:8080/"
        },
        "id": "65Ae7px6pgy3",
        "outputId": "d9f194a4-4f80-42e2-87ba-ea402332080b"
      },
      "execution_count": null,
      "outputs": [
        {
          "output_type": "stream",
          "name": "stdout",
          "text": [
            "Tomas nerastas sąraše.\n"
          ]
        }
      ]
    },
    {
      "cell_type": "code",
      "source": [
        "# galima sąlygas dėti po sąlygomis\n",
        "x = 41\n",
        "\n",
        "if x > 10:\n",
        "  print(\"Daugiau už 10,\")\n",
        "  if x > 20:\n",
        "    print(\"taip pat daugiau už 20!\")\n",
        "  else:\n",
        "    print(\"bet mažiau už 20.\") "
      ],
      "metadata": {
        "colab": {
          "base_uri": "https://localhost:8080/"
        },
        "id": "OabVkMWypy-k",
        "outputId": "b85ab51b-a35b-4669-82c6-a357c39e2f6e"
      },
      "execution_count": null,
      "outputs": [
        {
          "output_type": "stream",
          "name": "stdout",
          "text": [
            "Daugiau už 10,\n",
            "taip pat daugiau už 20!\n"
          ]
        }
      ]
    },
    {
      "cell_type": "markdown",
      "source": [
        "## Užduotys"
      ],
      "metadata": {
        "id": "lumTQ07fia8S"
      }
    },
    {
      "cell_type": "markdown",
      "source": [
        "### Užduotis 1.1\n",
        "\n",
        "Sukurti loginį testą, kuris atspausdintų atsakymą:\n",
        "\n",
        "* `Žaidėjas 1 rastas sąraše`\n",
        "* `Žaidėjas 2 nerastas sąraše`\n"
      ],
      "metadata": {
        "id": "ABtlaUzNifAy"
      }
    },
    {
      "cell_type": "code",
      "source": [
        "# sąrašas žaidėjų, nekeisti\n",
        "zaidejai = [\"žaidėjas 1\", \"žaidėjas 3\", \"žaidėjas 5\", \"žaidėjas 1\"]\n",
        "\n",
        "# vieta Jūsų kodui"
      ],
      "metadata": {
        "id": "mkLUa8Q3gsBL"
      },
      "execution_count": null,
      "outputs": []
    },
    {
      "cell_type": "markdown",
      "source": [
        "### Užduotis 1.2\n",
        "\n",
        "Pridėti logines sąlygas, kurios leistų atsakyti atsakytų gavusios `a = 1`:\n",
        "\n",
        "* `Daugiau už -5`\n",
        "* `Bet mažiau už 10`\n",
        "\n",
        "`a = -30`, tuomet atspausdins:\n",
        "\n",
        "* `Mažiau arba lygu už -5 ir daugiau arba lygu už -20`\n",
        "\n",
        "`a = -5`, tuomet atspausdins:\n",
        "\n",
        "* `Mažiau už -20`"
      ],
      "metadata": {
        "id": "h98MRZQ-mXoK"
      }
    },
    {
      "cell_type": "code",
      "source": [
        "# galima pakeisti kinamojo vertę\n",
        "a = 1\n",
        "\n",
        "# tarp print funcijų pridėti if else sąlygas\n",
        "print(\"Daugiau už -5\")\n",
        "print(\"Bet mažiau už 10\")\n",
        "print(\"Mažiau arba lygu už -5 ir daugiau arba lygu už -20\")\n",
        "print(\"Mažiau už -20\")"
      ],
      "metadata": {
        "colab": {
          "base_uri": "https://localhost:8080/"
        },
        "id": "b8sR_bk5c6B9",
        "outputId": "1055abf6-8a5f-4d95-f859-dd8c848ba850"
      },
      "execution_count": null,
      "outputs": [
        {
          "output_type": "stream",
          "name": "stdout",
          "text": [
            "Daugiau už -5\n",
            "Bet mažiau už 10\n",
            "Mažiau arba lygu už -5 ir daugiau arba lygu už -20\n",
            "Mažiau už -20\n"
          ]
        }
      ]
    },
    {
      "cell_type": "markdown",
      "source": [
        "# II. `for in` ciklas\n",
        "\n",
        "![alt text](https://www.edureka.co/blog/wp-content/uploads/2020/01/Blank-Diagram-10.png \"Title\")\n",
        "\n"
      ],
      "metadata": {
        "id": "z-qES5imcL-R"
      }
    },
    {
      "cell_type": "code",
      "source": [
        "# sukurti sąrašą\n",
        "vardai = [\"Tomas\", \"Jonas\", \"Petras\"]\n",
        "\n",
        "# iteruoti per sąrašą\n",
        "for vardas in vardai:\n",
        "  print(vardas)"
      ],
      "metadata": {
        "colab": {
          "base_uri": "https://localhost:8080/"
        },
        "id": "Pu1zpc7ucPj8",
        "outputId": "2b041111-e75b-4c51-c737-3108cccf2f8c"
      },
      "execution_count": null,
      "outputs": [
        {
          "output_type": "stream",
          "name": "stdout",
          "text": [
            "Tomas\n",
            "Jonas\n",
            "Petras\n"
          ]
        }
      ]
    },
    {
      "cell_type": "code",
      "source": [
        "# sukurti sąrašą\n",
        "lst = [\"vienas\", \"du\", 3, True, (1, 2)]\n",
        "\n",
        "# pasirenki laikiną kintamąjį išpauokuoti elementams\n",
        "for elementas in lst:\n",
        "  print(elementas)"
      ],
      "metadata": {
        "colab": {
          "base_uri": "https://localhost:8080/"
        },
        "id": "4TTUL1UNzLr1",
        "outputId": "6197e392-e2e0-4385-a9a6-9e8aac9cbc75"
      },
      "execution_count": null,
      "outputs": [
        {
          "output_type": "stream",
          "name": "stdout",
          "text": [
            "vienas\n",
            "du\n",
            "3\n",
            "True\n",
            "(1, 2)\n"
          ]
        }
      ]
    },
    {
      "cell_type": "code",
      "source": [
        "# sukurti string\n",
        "zodis = \"Jonaitis\"\n",
        "\n",
        "# iteruoti per string\n",
        "for raide in zodis:\n",
        "  print(raide)"
      ],
      "metadata": {
        "colab": {
          "base_uri": "https://localhost:8080/"
        },
        "id": "st21qxI3zUVj",
        "outputId": "9e5b9098-b2f5-4a53-90d3-1b6797f1e46f"
      },
      "execution_count": null,
      "outputs": [
        {
          "output_type": "stream",
          "name": "stdout",
          "text": [
            "J\n",
            "o\n",
            "n\n",
            "a\n",
            "i\n",
            "t\n",
            "i\n",
            "s\n"
          ]
        }
      ]
    },
    {
      "cell_type": "code",
      "source": [
        "# sukurti sąrašą\n",
        "vardai = [\"Tomas\", \"Jonas\", \"Petras\"]\n",
        "\n",
        "# iteruoti per sąrašą\n",
        "for vardas in vardai:\n",
        "  # loginis testas\n",
        "  if vardas[0] == 'J':\n",
        "    print(f'Vardo {vardas} pirma raidė J.')\n",
        "  else:\n",
        "    print(f\"Vardo {vardas} pirma raidė ne J.\")"
      ],
      "metadata": {
        "colab": {
          "base_uri": "https://localhost:8080/"
        },
        "id": "irvhb3dPzQnD",
        "outputId": "ffe05598-1867-47c7-dab6-d1e58052a805"
      },
      "execution_count": null,
      "outputs": [
        {
          "output_type": "stream",
          "name": "stdout",
          "text": [
            "Vardo Tomas pirma raidė ne J.\n",
            "Vardo Jonas pirma raidė J.\n",
            "Vardo Petras pirma raidė ne J.\n"
          ]
        }
      ]
    },
    {
      "cell_type": "code",
      "source": [
        "# sukurti sąrašą\n",
        "skaiciai = [1, 2, 3, 4, 5, 6]\n",
        "\n",
        "# iteruoti per sąrašą\n",
        "for skaicius in skaiciai:\n",
        "  # logine seka\n",
        "  if skaicius % 2 == 0:\n",
        "    print(f'{skaicius} dalinasi iš 2')"
      ],
      "metadata": {
        "colab": {
          "base_uri": "https://localhost:8080/"
        },
        "id": "sjAgsrq804np",
        "outputId": "50907c62-1934-460d-a0ca-877ad4afeecf"
      },
      "execution_count": null,
      "outputs": [
        {
          "output_type": "stream",
          "name": "stdout",
          "text": [
            "2 dalinasi iš 2\n",
            "4 dalinasi iš 2\n",
            "6 dalinasi iš 2\n"
          ]
        }
      ]
    },
    {
      "cell_type": "code",
      "source": [
        "# sukurti sąrašą\n",
        "vardai = [\"Jonė\", \"Jonas\", \"Juozas\", 'Tomas', 'Petras']\n",
        "pirma_raide = 'J'\n",
        "\n",
        "# logine sąlyga\n",
        "# dėl .isalpha() žiūrėti dokumentaciją\n",
        "# https://docs.python.org/3/library/stdtypes.html\n",
        "if pirma_raide.isalpha() and len(pirma_raide) == 1:\n",
        "  print(f'Grąžinti vardus, kurie prasideda iš {pirma_raide} raidės.')\n",
        "  # iteruoti per sąrašą\n",
        "  for vardas in vardai:\n",
        "    if vardas[0] == pirma_raide:\n",
        "      print(f'{vardas}')      \n",
        "else:\n",
        "    print('Neteisinga užklausa')"
      ],
      "metadata": {
        "colab": {
          "base_uri": "https://localhost:8080/"
        },
        "id": "XPjlrgML2eOK",
        "outputId": "c6bb3dee-89be-42e7-ac62-d9ed650d4e04"
      },
      "execution_count": null,
      "outputs": [
        {
          "output_type": "stream",
          "name": "stdout",
          "text": [
            "Grąžinti vardus, kurie prasideda iš J raidės.\n",
            "Jonė\n",
            "Jonas\n",
            "Juozas\n"
          ]
        }
      ]
    },
    {
      "cell_type": "code",
      "source": [
        "# sukurti sąrašą\n",
        "lst = [0, 1, 2, 3, 4, 5]\n",
        "\n",
        "# pereiti per sąrašą\n",
        "for e in lst:\n",
        "  print(e)"
      ],
      "metadata": {
        "colab": {
          "base_uri": "https://localhost:8080/"
        },
        "id": "vqUahK3tzKry",
        "outputId": "8396c0e9-46a4-4fe9-b590-9da0b1587a34"
      },
      "execution_count": null,
      "outputs": [
        {
          "output_type": "stream",
          "name": "stdout",
          "text": [
            "0\n",
            "1\n",
            "2\n",
            "3\n",
            "4\n",
            "5\n"
          ]
        }
      ]
    },
    {
      "cell_type": "markdown",
      "source": [
        "## `range` metodas"
      ],
      "metadata": {
        "id": "6X0eY3rG5mmy"
      }
    },
    {
      "cell_type": "code",
      "source": [
        "# eiti per range() generatorių\n",
        "for e in range(6):\n",
        "  print(e)"
      ],
      "metadata": {
        "colab": {
          "base_uri": "https://localhost:8080/"
        },
        "id": "KpRQXBTv2vPp",
        "outputId": "27771030-72f3-4dc2-e206-824ebbda1690"
      },
      "execution_count": null,
      "outputs": [
        {
          "output_type": "stream",
          "name": "stdout",
          "text": [
            "0\n",
            "1\n",
            "2\n",
            "3\n",
            "4\n",
            "5\n"
          ]
        }
      ]
    },
    {
      "cell_type": "code",
      "source": [
        "# sukurti sąrašą\n",
        "lst = [0, 1, 2, 3, 4, 5]\n",
        "\n",
        "# supjaustyti atsakymą\n",
        "print(lst[2:6])\n",
        "\n",
        "# eiti per range() generatorių\n",
        "for e in range(2, 6):\n",
        "  print(e)"
      ],
      "metadata": {
        "colab": {
          "base_uri": "https://localhost:8080/"
        },
        "id": "iFd9t28v2_bA",
        "outputId": "a06f756a-0874-4329-deb3-ade1b810e298"
      },
      "execution_count": null,
      "outputs": [
        {
          "output_type": "stream",
          "name": "stdout",
          "text": [
            "[2, 3, 4, 5]\n",
            "2\n",
            "3\n",
            "4\n",
            "5\n"
          ]
        }
      ]
    },
    {
      "cell_type": "markdown",
      "source": [
        "## `continue` ir `break`"
      ],
      "metadata": {
        "id": "bLCvCyKD5rD5"
      }
    },
    {
      "cell_type": "code",
      "source": [
        "# rasti skaičius, kurie dalinasi iš 3\n",
        "for x in range(2, 10):\n",
        "  if x % 3 == 0:\n",
        "    print(f'{x} dalinasi iš 3')"
      ],
      "metadata": {
        "colab": {
          "base_uri": "https://localhost:8080/"
        },
        "id": "uR8u8LjK3Qho",
        "outputId": "bb562186-97c4-4a1a-d3dd-2ae5d0e06b8c"
      },
      "execution_count": null,
      "outputs": [
        {
          "output_type": "stream",
          "name": "stdout",
          "text": [
            "3 dalinasi iš 3\n",
            "6 dalinasi iš 3\n",
            "9 dalinasi iš 3\n"
          ]
        }
      ]
    },
    {
      "cell_type": "code",
      "source": [
        "for x in range(2, 10):\n",
        "  if x % 3 == 0:\n",
        "    print(f'{x} dalinasi iš 3, nutraukti ciklą')\n",
        "    break"
      ],
      "metadata": {
        "colab": {
          "base_uri": "https://localhost:8080/"
        },
        "id": "nryKZ1SG3Vd3",
        "outputId": "fee4073b-dc8e-4bd2-f0f2-e2ec080de2b0"
      },
      "execution_count": null,
      "outputs": [
        {
          "output_type": "stream",
          "name": "stdout",
          "text": [
            "3 dalinasi iš 3, nutraukti ciklą\n"
          ]
        }
      ]
    },
    {
      "cell_type": "code",
      "source": [
        "# continue ir break kartu\n",
        "for x in range(2, 10):\n",
        "  if x % 3 == 0:\n",
        "    print(f'{x} dalinasi iš 3, tęsti ciklą')\n",
        "    continue\n",
        "        \n",
        "  if x % 6 == 0:\n",
        "    print(f'{x} dalinasi iš 3, nutraukti ciklą')\n",
        "    break"
      ],
      "metadata": {
        "colab": {
          "base_uri": "https://localhost:8080/"
        },
        "id": "IqD5LyG-3atb",
        "outputId": "15cffc77-8df1-4a92-e5c8-196c315272fa"
      },
      "execution_count": null,
      "outputs": [
        {
          "output_type": "stream",
          "name": "stdout",
          "text": [
            "3 dalinasi iš 3, tęsti ciklą\n",
            "6 dalinasi iš 3, tęsti ciklą\n",
            "9 dalinasi iš 3, tęsti ciklą\n"
          ]
        }
      ]
    },
    {
      "cell_type": "code",
      "source": [
        "# trys list pavyzdžiai\n",
        "dienos = ['Pirmadienis', 'Antradienis', 'Trečiadienis']\n",
        "laikai = ['Rytas', \"Pietūs\", 'Vakarienė']\n",
        "vardai = ['Tomas', 'Jonas', 'Petras']\n",
        "\n",
        "# pereiti per visus elementus\n",
        "for diena in dienos:\n",
        "    for laikas in laikai:\n",
        "        for vardas in vardai:\n",
        "            print([diena, laikas, vardas, 'Turi atlikti užduotį: '])"
      ],
      "metadata": {
        "colab": {
          "base_uri": "https://localhost:8080/"
        },
        "id": "Pr4HmDqU54rl",
        "outputId": "afcc19eb-b99d-43f1-c9e5-c4c5a2fc2ac4"
      },
      "execution_count": null,
      "outputs": [
        {
          "output_type": "stream",
          "name": "stdout",
          "text": [
            "['Pirmadienis', 'Rytas', 'Tomas', 'Turi atlikti užduotį: ']\n",
            "['Pirmadienis', 'Rytas', 'Jonas', 'Turi atlikti užduotį: ']\n",
            "['Pirmadienis', 'Rytas', 'Petras', 'Turi atlikti užduotį: ']\n",
            "['Pirmadienis', 'Pietūs', 'Tomas', 'Turi atlikti užduotį: ']\n",
            "['Pirmadienis', 'Pietūs', 'Jonas', 'Turi atlikti užduotį: ']\n",
            "['Pirmadienis', 'Pietūs', 'Petras', 'Turi atlikti užduotį: ']\n",
            "['Pirmadienis', 'Vakarienė', 'Tomas', 'Turi atlikti užduotį: ']\n",
            "['Pirmadienis', 'Vakarienė', 'Jonas', 'Turi atlikti užduotį: ']\n",
            "['Pirmadienis', 'Vakarienė', 'Petras', 'Turi atlikti užduotį: ']\n",
            "['Antradienis', 'Rytas', 'Tomas', 'Turi atlikti užduotį: ']\n",
            "['Antradienis', 'Rytas', 'Jonas', 'Turi atlikti užduotį: ']\n",
            "['Antradienis', 'Rytas', 'Petras', 'Turi atlikti užduotį: ']\n",
            "['Antradienis', 'Pietūs', 'Tomas', 'Turi atlikti užduotį: ']\n",
            "['Antradienis', 'Pietūs', 'Jonas', 'Turi atlikti užduotį: ']\n",
            "['Antradienis', 'Pietūs', 'Petras', 'Turi atlikti užduotį: ']\n",
            "['Antradienis', 'Vakarienė', 'Tomas', 'Turi atlikti užduotį: ']\n",
            "['Antradienis', 'Vakarienė', 'Jonas', 'Turi atlikti užduotį: ']\n",
            "['Antradienis', 'Vakarienė', 'Petras', 'Turi atlikti užduotį: ']\n",
            "['Trečiadienis', 'Rytas', 'Tomas', 'Turi atlikti užduotį: ']\n",
            "['Trečiadienis', 'Rytas', 'Jonas', 'Turi atlikti užduotį: ']\n",
            "['Trečiadienis', 'Rytas', 'Petras', 'Turi atlikti užduotį: ']\n",
            "['Trečiadienis', 'Pietūs', 'Tomas', 'Turi atlikti užduotį: ']\n",
            "['Trečiadienis', 'Pietūs', 'Jonas', 'Turi atlikti užduotį: ']\n",
            "['Trečiadienis', 'Pietūs', 'Petras', 'Turi atlikti užduotį: ']\n",
            "['Trečiadienis', 'Vakarienė', 'Tomas', 'Turi atlikti užduotį: ']\n",
            "['Trečiadienis', 'Vakarienė', 'Jonas', 'Turi atlikti užduotį: ']\n",
            "['Trečiadienis', 'Vakarienė', 'Petras', 'Turi atlikti užduotį: ']\n"
          ]
        }
      ]
    },
    {
      "cell_type": "code",
      "source": [
        "# sukurti naują tusčią sąrašą\n",
        "lst = []\n",
        "\n",
        "# iteruoti per skaičius\n",
        "for i in [1, 2, 3, 4]:\n",
        "  lst.append(i)\n",
        "\n",
        "# atspausdinti atsakymą\n",
        "print(lst)"
      ],
      "metadata": {
        "colab": {
          "base_uri": "https://localhost:8080/"
        },
        "id": "lf06uirU8zVd",
        "outputId": "d3632710-7225-4052-9d04-0503b81a3f14"
      },
      "execution_count": null,
      "outputs": [
        {
          "output_type": "stream",
          "name": "stdout",
          "text": [
            "[1, 2, 3, 4]\n"
          ]
        }
      ]
    },
    {
      "cell_type": "code",
      "source": [
        "# sukurti naują tusčią sąrašą\n",
        "lst = []\n",
        "\n",
        "# iteruoti per skaičius\n",
        "for i in [1, 2, 3, 4]:\n",
        "  # pridėti loginę sąlygą\n",
        "  if i % 2 == 0:\n",
        "    lst.append(i)\n",
        "    \n",
        "# atspausdinti atsakymą\n",
        "print(lst)"
      ],
      "metadata": {
        "colab": {
          "base_uri": "https://localhost:8080/"
        },
        "id": "M1ONGrkW89ND",
        "outputId": "ef326d0f-b1f9-4dfd-e3a7-291383143eb9"
      },
      "execution_count": null,
      "outputs": [
        {
          "output_type": "stream",
          "name": "stdout",
          "text": [
            "[2, 4]\n"
          ]
        }
      ]
    },
    {
      "cell_type": "markdown",
      "source": [
        "## Užduotys"
      ],
      "metadata": {
        "id": "CnEc8MLH5z0y"
      }
    },
    {
      "cell_type": "markdown",
      "source": [
        "### Užduotis 2.1\n",
        "\n",
        "Sukurkite naują sąrašą (`list`), kuriame būtų visos Jūsų vardo raidės."
      ],
      "metadata": {
        "id": "b_BoDFU_8fbW"
      }
    },
    {
      "cell_type": "code",
      "source": [
        "# atsakymo pvz.\n",
        "print('Atsakymo pvz. lst = [\"T\", \"o\", \"m\", \"a\", \"s\"]')\n",
        "\n",
        "# vieta Jūsų kodui"
      ],
      "metadata": {
        "colab": {
          "base_uri": "https://localhost:8080/"
        },
        "id": "JjkvRa6850It",
        "outputId": "da829f34-94a0-4fff-a0af-50742c66f552"
      },
      "execution_count": null,
      "outputs": [
        {
          "output_type": "stream",
          "name": "stdout",
          "text": [
            "Atsakymo pvz. lst = [\"T\", \"o\", \"m\", \"a\", \"s\"]\n"
          ]
        }
      ]
    },
    {
      "cell_type": "markdown",
      "source": [
        "### Užduotis 2.2\n",
        "\n",
        "**(sunkesnė)** Sugenruoti sąrašą `[\"žaidėjas 1\", \"žaidėjas 2\", \"žaidėjas 3\", ..., \"žaidėjas 12\"]`"
      ],
      "metadata": {
        "id": "cfrCgIgh8gzg"
      }
    },
    {
      "cell_type": "code",
      "source": [
        "# pradėti nuo tusčio sąrašo\n",
        "ans = []\n",
        "\n",
        "# vieta Jūsų kodui\n"
      ],
      "metadata": {
        "id": "F0GXgcQp51c-"
      },
      "execution_count": null,
      "outputs": []
    },
    {
      "cell_type": "markdown",
      "source": [
        "# III. `while` ciklas\n",
        "\n",
        "![alt text](https://www.tutorialspoint.com/python/images/loop_architecture.jpg \"Title\")"
      ],
      "metadata": {
        "id": "h--Vq5kXcQL4"
      }
    },
    {
      "cell_type": "code",
      "source": [
        "i = 1\n",
        "while i < 3:\n",
        "    print(i)\n",
        "    # tas pats, kas i = i + 1\n",
        "    i += 1"
      ],
      "metadata": {
        "colab": {
          "base_uri": "https://localhost:8080/"
        },
        "id": "5tBa_Z8UcS2d",
        "outputId": "7b7f58e0-79ab-4002-b0f6-6c27cfee83b3"
      },
      "execution_count": null,
      "outputs": [
        {
          "output_type": "stream",
          "name": "stdout",
          "text": [
            "1\n",
            "2\n"
          ]
        }
      ]
    },
    {
      "cell_type": "code",
      "source": [
        "i = 1\n",
        "while i <= 3:\n",
        "    print(i)\n",
        "    # tas pats, kas i = i + 1\n",
        "    i += 1"
      ],
      "metadata": {
        "colab": {
          "base_uri": "https://localhost:8080/"
        },
        "id": "LMAFzLEw3VZ0",
        "outputId": "80f0568e-b081-4071-d6ca-31d0e6d7b03d"
      },
      "execution_count": null,
      "outputs": [
        {
          "output_type": "stream",
          "name": "stdout",
          "text": [
            "1\n",
            "2\n",
            "3\n"
          ]
        }
      ]
    },
    {
      "cell_type": "code",
      "source": [
        "%%time\n",
        "i = 1\n",
        "while i < 100000000:\n",
        "    i += 1 "
      ],
      "metadata": {
        "colab": {
          "base_uri": "https://localhost:8080/"
        },
        "id": "rKBtp0Oi3XLy",
        "outputId": "141d4b3f-4c2a-4b8f-e0af-d1edc0ddb310"
      },
      "execution_count": null,
      "outputs": [
        {
          "output_type": "stream",
          "name": "stdout",
          "text": [
            "CPU times: user 12.8 s, sys: 49 ms, total: 12.9 s\n",
            "Wall time: 13.5 s\n"
          ]
        }
      ]
    },
    {
      "cell_type": "code",
      "source": [
        "%%time\n",
        "i = 1\n",
        "while i < 100000000:\n",
        "    print(i)\n",
        "    if i == 5:\n",
        "        print('nutrauk ciklą')\n",
        "        break\n",
        "    i += 1 "
      ],
      "metadata": {
        "colab": {
          "base_uri": "https://localhost:8080/"
        },
        "id": "u2JaDDLU3YxR",
        "outputId": "8a60198a-0d54-48e2-c361-47a9c315ae0f"
      },
      "execution_count": null,
      "outputs": [
        {
          "output_type": "stream",
          "name": "stdout",
          "text": [
            "1\n",
            "2\n",
            "3\n",
            "4\n",
            "5\n",
            "nutrauk ciklą\n",
            "CPU times: user 3.16 ms, sys: 4 µs, total: 3.16 ms\n",
            "Wall time: 4.19 ms\n"
          ]
        }
      ]
    },
    {
      "cell_type": "code",
      "source": [
        "i = 0\n",
        "while i < 10:\n",
        "    i += 1\n",
        "    if i%3 == 0:\n",
        "        print('viskas gerai, tęsk')\n",
        "        continue\n",
        "    print(i)"
      ],
      "metadata": {
        "colab": {
          "base_uri": "https://localhost:8080/"
        },
        "id": "SODOHQhS3aLt",
        "outputId": "72cee676-4911-4c22-e844-2d389a40c094"
      },
      "execution_count": null,
      "outputs": [
        {
          "output_type": "stream",
          "name": "stdout",
          "text": [
            "1\n",
            "2\n",
            "viskas gerai, tęsk\n",
            "4\n",
            "5\n",
            "viskas gerai, tęsk\n",
            "7\n",
            "8\n",
            "viskas gerai, tęsk\n",
            "10\n"
          ]
        }
      ]
    },
    {
      "cell_type": "code",
      "source": [],
      "metadata": {
        "id": "b_nVOBRp3bel"
      },
      "execution_count": null,
      "outputs": []
    }
  ]
}